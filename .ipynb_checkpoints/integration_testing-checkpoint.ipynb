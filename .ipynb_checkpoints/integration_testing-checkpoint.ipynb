{
 "cells": [
  {
   "cell_type": "code",
   "execution_count": 74,
   "metadata": {},
   "outputs": [],
   "source": [
    "from predictNew import PreprocessData, Predict, ScrapeGlass, LinkedinScraper\n",
    "import pandas as pd\n",
    "import numpy as np\n",
    "from sklearn.feature_extraction.text import TfidfVectorizer"
   ]
  },
  {
   "cell_type": "code",
   "execution_count": 148,
   "metadata": {},
   "outputs": [],
   "source": [
    "from selenium.webdriver import Firefox"
   ]
  },
  {
   "cell_type": "code",
   "execution_count": 149,
   "metadata": {},
   "outputs": [],
   "source": [
    "browser = Firefox()"
   ]
  },
  {
   "cell_type": "code",
   "execution_count": 150,
   "metadata": {},
   "outputs": [],
   "source": [
    "browser.get('https://www.glassdoor.com')"
   ]
  },
  {
   "cell_type": "code",
   "execution_count": 151,
   "metadata": {},
   "outputs": [],
   "source": [
    "hot_listings = browser.find_elements_by_class_name('hotListing')"
   ]
  },
  {
   "cell_type": "code",
   "execution_count": 152,
   "metadata": {},
   "outputs": [
    {
     "data": {
      "text/plain": [
       "11"
      ]
     },
     "execution_count": 152,
     "metadata": {},
     "output_type": "execute_result"
    }
   ],
   "source": [
    "len(hot_listings)"
   ]
  },
  {
   "cell_type": "code",
   "execution_count": 153,
   "metadata": {},
   "outputs": [],
   "source": [
    "hot_listings[0].click()"
   ]
  },
  {
   "cell_type": "code",
   "execution_count": null,
   "metadata": {},
   "outputs": [],
   "source": [
    "class ScrapeGlass():\n",
    "    \"\"\" ScrapeGlass is used to scrape job postings from Glassdoor.\n",
    "\n",
    "    Basic Process:\n",
    "\n",
    "    • The search method will go to the url and search for the query.\n",
    "\n",
    "    • The click_wait method will click the second job posting to\n",
    "      trigger the automatic pop-up window, then it will find the\n",
    "      x-button in the corner and click it.\n",
    "\n",
    "    • The loop_pages method will find the number of pages at the\n",
    "      bottom of the screen use that number in a for loop to iterate\n",
    "      through all of the pages for the given query.\n",
    "\n",
    "    • The get_job_postings method is called in the loop_pages function\n",
    "      in order to iterate through every job listing on the page and scrape\n",
    "      the descriptions. The descriptions are then appended to a class variable.\n",
    "\n",
    "    • Finally the return_job_descriptions method is called to prompt the user\n",
    "      to decide whether or not to save the scraped results to a csv file.\n",
    "\n",
    "    All of this is being done through the transform method.\n",
    "\n",
    "    example:\n",
    "\n",
    "        url = 'www.glassdoor.com'\n",
    "        query = 'Data Scientist'\n",
    "\n",
    "        test = ScrapeGlass()\n",
    "        jobs = test.transform(url, query)\n",
    "\n",
    "    Final Notes:\n",
    "\n",
    "        If the program is interupted for any reason the user will still be prompted\n",
    "        on whether or not to proceed with exporting to csv.\n",
    "\n",
    "    \"\"\"\n",
    "\n",
    "    def __init__(self, param=None):\n",
    "        self.browser = Firefox()\n",
    "        self.titles = []\n",
    "        self.companies = []\n",
    "        self.job_descriptions = []\n",
    "\n",
    "    def click_wait(self):\n",
    "        \"\"\" This method triggers the automatic pop-up window and exits out of it.\"\"\"\n",
    "\n",
    "        listings = self.browser.find_elements_by_class_name('jl')\n",
    "        listings[1].click()\n",
    "        x_button = self.browser.find_element_by_class_name('xBtn')\n",
    "        x_button.click()\n",
    "\n",
    "    def return_job_descriptions(self):\n",
    "        \"\"\" This method prompts the user whether or not to convert to csv\"\"\"\n",
    "\n",
    "        print(len(self.titles), len(self.companies), len(self.job_descriptions))\n",
    "        check_variable = input('\\nProceed? (yes / no) ')\n",
    "        if check_variable == 'yes':\n",
    "            name = input('Enter name of data')\n",
    "            self.convert_to_csv(self.titles,\n",
    "                                self.companies,\n",
    "                                self.job_descriptions,\n",
    "                                ('~/galvanize/capstone/Ember-Job-Recommender/data/%s.csv' % name))\n",
    "        else:\n",
    "            return self.job_descriptions\n",
    "\n",
    "    def sleep(self, start=5, end=15):\n",
    "        return time.sleep(random.randint(5, 15))\n",
    "\n",
    "    def search(self, query):\n",
    "        \"\"\" This method goes to the url, and searchs for the query\"\"\"\n",
    "\n",
    "        self.browser.get('https://www.glassdoor.com')\n",
    "        self.sleep()\n",
    "        keyword_search = self.browser.find_element_by_css_selector('#KeywordSearch')\n",
    "        keyword_search.click()\n",
    "        keyword_search.send_keys(query)\n",
    "        start_search = self.browser.find_element_by_css_selector('#HeroSearchButton')\n",
    "        start_search.click()\n",
    "\n",
    "    def loop_pages(self):\n",
    "        \"\"\" This method iterates through all available pages\"\"\"\n",
    "\n",
    "        pages = self.browser.find_elements_by_class_name('page')\n",
    "        while len(pages) == 5:\n",
    "            self.get_job_postings()\n",
    "            next_button = self.browser.find_element_by_class_name('next')\n",
    "            next_button.click()\n",
    "            self.sleep()\n",
    "        return self.return_job_descriptions()\n",
    "\n",
    "    def get_job_postings(self):\n",
    "        \"\"\" This method iterates through all of the listings and appends\n",
    "        them to the class variable self.job_descriptions\"\"\"\n",
    "\n",
    "        job_listings = self.browser.find_elements_by_class_name('jl')\n",
    "        self.sleep()\n",
    "        for job in job_listings:\n",
    "            job.location_once_scrolled_into_view\n",
    "            job.click()\n",
    "            self.sleep()\n",
    "            title = self.browser.find_element_by_class_name('header')\n",
    "            self.titles.append(title.text)\n",
    "            company = self.browser.find_element_by_class_name('compInfo')\n",
    "            self.companies.append(company.text)\n",
    "            content = self.browser.find_element_by_class_name('jobDescriptionContent')\n",
    "            self.job_descriptions.append(content.text)\n",
    "            choice = random.randint(1,3)\n",
    "            if choice == 2:\n",
    "                tabs = self.browser.find_elements_by_class_name('tabLabel')\n",
    "                try:\n",
    "                    tabs[random.randint(1,2)].click()\n",
    "                except IndexError:\n",
    "                    pass\n",
    "            self.sleep()\n",
    "        return self.job_descriptions\n",
    "\n",
    "    def convert_to_csv(self, titles, companies, final_content, name):\n",
    "        \"\"\" This method converts the list final_content into a pandas\n",
    "        dataframe and adds a 'lables' column of zeros\"\"\"\n",
    "\n",
    "        final_txdf = pd.DataFrame({'titles': titles,\n",
    "                                    'companies': companies,\n",
    "                                    'jobs': final_content})\n",
    "        final_txdf.to_csv(name)\n",
    "\n",
    "    def transform(self, query):\n",
    "        \"\"\" This method takes the url, and query as inputs and outputs either\n",
    "        an exported csv file or a list of jobs\"\"\"\n",
    "        self.search(query)\n",
    "        self.click_wait()\n",
    "        try:\n",
    "            self.loop_pages()\n",
    "        except:\n",
    "            return self.return_job_descriptions()\n",
    "        self.return_job_descriptions()"
   ]
  }
 ],
 "metadata": {
  "kernelspec": {
   "display_name": "Python 3",
   "language": "python",
   "name": "python3"
  },
  "language_info": {
   "codemirror_mode": {
    "name": "ipython",
    "version": 3
   },
   "file_extension": ".py",
   "mimetype": "text/x-python",
   "name": "python",
   "nbconvert_exporter": "python",
   "pygments_lexer": "ipython3",
   "version": "3.6.6"
  }
 },
 "nbformat": 4,
 "nbformat_minor": 2
}
