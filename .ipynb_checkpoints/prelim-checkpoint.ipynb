{
 "cells": [
  {
   "cell_type": "code",
   "execution_count": 293,
   "metadata": {},
   "outputs": [],
   "source": [
    "from selenium.webdriver import Firefox\n",
    "from bs4 import BeautifulSoup\n",
    "import random\n",
    "import time\n",
    "import pandas as pd\n",
    "from sklearn.feature_extraction.text import TfidfVectorizer\n",
    "from sklearn.ensemble import RandomForestClassifier"
   ]
  },
  {
   "cell_type": "code",
   "execution_count": 131,
   "metadata": {},
   "outputs": [],
   "source": [
    "browser = Firefox()"
   ]
  },
  {
   "cell_type": "code",
   "execution_count": 132,
   "metadata": {},
   "outputs": [],
   "source": [
    "browser.get('https://www.glassdoor.com/index.htm')\n",
    "css_selector = '#KeywordSearch'\n",
    "sleep()\n",
    "keyword_search = browser.find_element_by_css_selector(css_selector)\n",
    "sleep()\n",
    "keyword_search.click()\n",
    "keyword_search.send_keys('Data Scientist')\n",
    "search_css = '#HeroSearchButton'\n",
    "start_search = browser.find_element_by_css_selector(search_css)\n",
    "start_search.click()\n"
   ]
  },
  {
   "cell_type": "code",
   "execution_count": 133,
   "metadata": {},
   "outputs": [],
   "source": [
    "def sleep(start=5, end=15):\n",
    "    return time.sleep(random.randint(5, 15))"
   ]
  },
  {
   "cell_type": "code",
   "execution_count": 10,
   "metadata": {},
   "outputs": [],
   "source": [
    "# html = browser.page_source\n",
    "# job_listing_css = 'li.jl'\n",
    "# soup = BeautifulSoup(html, 'html.parser')"
   ]
  },
  {
   "cell_type": "code",
   "execution_count": 11,
   "metadata": {},
   "outputs": [],
   "source": [
    "# job_listings = soup.select(job_listing_css)"
   ]
  },
  {
   "cell_type": "code",
   "execution_count": 130,
   "metadata": {},
   "outputs": [
    {
     "data": {
      "text/plain": [
       "30"
      ]
     },
     "execution_count": 130,
     "metadata": {},
     "output_type": "execute_result"
    }
   ],
   "source": [
    "len(job_listings)"
   ]
  },
  {
   "cell_type": "code",
   "execution_count": 134,
   "metadata": {},
   "outputs": [],
   "source": [
    "#job_listings[0]"
   ]
  },
  {
   "cell_type": "code",
   "execution_count": 140,
   "metadata": {},
   "outputs": [],
   "source": [
    "job_description_css = '.jobDescriptionContent'"
   ]
  },
  {
   "cell_type": "code",
   "execution_count": 294,
   "metadata": {},
   "outputs": [],
   "source": [
    "# soup.select(job_description_css)"
   ]
  },
  {
   "cell_type": "code",
   "execution_count": 54,
   "metadata": {},
   "outputs": [],
   "source": [
    "# first_posting = browser.find_element_by_css_selector('li.jl:nth-child(1)')\n",
    "\n",
    "# first_posting.click()\n",
    "\n",
    "# first_description = browser.find_element_by_css_selector(content)\n",
    "\n",
    "# #first_description.text\n",
    "\n",
    "# second_posting = browser.find_element_by_css_selector('li.jl:nth-child(2)')\n",
    "\n",
    "# second_posting.click()\n",
    "\n",
    "# content = '.jobDescriptionContent'\n",
    "\n",
    "# second_description = browser.find_element_by_css_selector(content)\n",
    "\n",
    "# #second_description.text\n",
    "\n",
    "# posting_list = ['li.jl:nth-child(1)', 'li.jl:nth-child(2)']\n",
    "# content_list = []"
   ]
  },
  {
   "cell_type": "code",
   "execution_count": 58,
   "metadata": {},
   "outputs": [],
   "source": [
    "# for i in range(2):\n",
    "#     posting = browser.find_element_by_css_selector(posting_list[i])\n",
    "#     posting.click()\n",
    "#     content = '.jobDescriptionContent'\n",
    "#     description = browser.find_element_by_css_selector(content)\n",
    "#     content_list.append(description.text)\n",
    "#     sleep()"
   ]
  },
  {
   "cell_type": "code",
   "execution_count": 63,
   "metadata": {},
   "outputs": [],
   "source": [
    "#content_list[2]"
   ]
  },
  {
   "cell_type": "code",
   "execution_count": 78,
   "metadata": {},
   "outputs": [],
   "source": [
    "# posting_css_list = []\n",
    "# for i in range(1, 31):\n",
    "#     posting_css_list.append('li.jl:nth-child(%d)' % i)"
   ]
  },
  {
   "cell_type": "code",
   "execution_count": 81,
   "metadata": {},
   "outputs": [],
   "source": [
    "url = 'https://www.glassdoor.com/index.htm'"
   ]
  },
  {
   "cell_type": "code",
   "execution_count": 105,
   "metadata": {},
   "outputs": [],
   "source": [
    "class get_job_descriptions():\n",
    "    def __init__(self, param=None):\n",
    "        self.param = param\n",
    "    \n",
    "    def fit(self, X, y):\n",
    "        return self\n",
    "    \n",
    "    def transform(self, X):\n",
    "        pass\n",
    "    \n",
    "    def sleep(self, start=5, end=15):\n",
    "        return time.sleep(random.randint(5, 15))\n",
    "    \n",
    "    def get_posting_css(self, n_postings=1):\n",
    "        posting_css_list = []\n",
    "        for i in range(1, n_postings):\n",
    "            posting_css_list.append('li.jl:nth-child(%d)' % i)\n",
    "        return posting_css_list\n",
    "    "
   ]
  },
  {
   "cell_type": "code",
   "execution_count": 118,
   "metadata": {},
   "outputs": [],
   "source": [
    "test_description = get_job_descriptions()"
   ]
  },
  {
   "cell_type": "code",
   "execution_count": 223,
   "metadata": {},
   "outputs": [],
   "source": [
    "list_of_pcss = test_description.get_posting_css(len(job_listings)+1)"
   ]
  },
  {
   "cell_type": "code",
   "execution_count": 255,
   "metadata": {},
   "outputs": [],
   "source": [
    "browser = Firefox()\n",
    "browser.get(url)\n",
    "test_description.sleep()\n",
    "keyword_css = '#KeywordSearch'\n",
    "keyword_search = browser.find_element_by_css_selector(keyword_css)\n",
    "keyword_search.click()\n",
    "test_description.sleep()\n",
    "keyword_search.send_keys('Data Scientist')\n",
    "search_css = '#HeroSearchButton'\n",
    "start_search = browser.find_element_by_css_selector(search_css)\n",
    "start_search.click()"
   ]
  },
  {
   "cell_type": "code",
   "execution_count": 295,
   "metadata": {},
   "outputs": [],
   "source": [
    "# list_of_pcss"
   ]
  },
  {
   "cell_type": "code",
   "execution_count": 199,
   "metadata": {},
   "outputs": [
    {
     "data": {
      "text/plain": [
       "'li.jl:nth-child(6)'"
      ]
     },
     "execution_count": 199,
     "metadata": {},
     "output_type": "execute_result"
    }
   ],
   "source": [
    "list_of_pcss[5]"
   ]
  },
  {
   "cell_type": "code",
   "execution_count": 178,
   "metadata": {},
   "outputs": [],
   "source": [
    "# description.text"
   ]
  },
  {
   "cell_type": "code",
   "execution_count": 190,
   "metadata": {},
   "outputs": [],
   "source": [
    "list_of_descriptions = []"
   ]
  },
  {
   "cell_type": "code",
   "execution_count": 186,
   "metadata": {},
   "outputs": [],
   "source": [
    "posting = browser.find_element_by_css_selector(list_of_pcss[0])\n",
    "posting.click()\n",
    "description = browser.find_element_by_css_selector('.jobDescriptionContent')"
   ]
  },
  {
   "cell_type": "code",
   "execution_count": 257,
   "metadata": {},
   "outputs": [],
   "source": [
    "for i in range(10, len(list_of_pcss)):\n",
    "    posting = browser.find_element_by_css_selector(list_of_pcss[i])\n",
    "    posting.click()\n",
    "    sleep()\n",
    "    content_css = '.jobDescriptionContent'\n",
    "    description = browser.find_element_by_css_selector(content_css)\n",
    "    list_of_descriptions.append(description.text)\n",
    "    sleep()"
   ]
  },
  {
   "cell_type": "code",
   "execution_count": 282,
   "metadata": {},
   "outputs": [
    {
     "data": {
      "text/plain": [
       "'li.jl:nth-child(5)'"
      ]
     },
     "execution_count": 282,
     "metadata": {},
     "output_type": "execute_result"
    }
   ],
   "source": [
    "list_of_pcss[4]"
   ]
  },
  {
   "cell_type": "code",
   "execution_count": 283,
   "metadata": {},
   "outputs": [],
   "source": [
    "sleep()"
   ]
  },
  {
   "cell_type": "code",
   "execution_count": 284,
   "metadata": {},
   "outputs": [],
   "source": [
    "posting = browser.find_element_by_css_selector(list_of_pcss[4])\n",
    "posting.click()\n",
    "sleep()\n",
    "content_css = '.jobDescriptionContent'\n",
    "description = browser.find_element_by_css_selector(content_css)\n",
    "list_of_descriptions.append(description.text)\n",
    "sleep()"
   ]
  },
  {
   "cell_type": "code",
   "execution_count": 285,
   "metadata": {},
   "outputs": [
    {
     "data": {
      "text/plain": [
       "30"
      ]
     },
     "execution_count": 285,
     "metadata": {},
     "output_type": "execute_result"
    }
   ],
   "source": [
    "len(list_of_descriptions)"
   ]
  },
  {
   "cell_type": "code",
   "execution_count": 286,
   "metadata": {},
   "outputs": [
    {
     "data": {
      "text/plain": [
       "'We are looking for talented Data Scientists to join the Machine Learning & Artificial Intelligence (ML/AI) team. You are a talented data scientist that is tired of applying basic statistical tools to yet another set of KPI’s. You are passionate about deriving creative solutions from imagery using cutting edge computer vision techniques and big data pipelines. You are excited about the analytical potential and challenges associated with processing petabytes of time-series imagery. You are intrigued by being a part of a collaborative team, spearheading ML/AI applications for realizing unprecedented, scalable products.\\n\\nPRIMARY RESPONSIBLITIES\\nHelp to aggregate, clean, and organize data for machine learning applications\\nCollaborate with scientists and engineers to develop/scale Python and similar algorithms to cloud environments\\nProcess raster and vector data using Python and OpenCV-like libraries for ingestion into neural nets\\nWork with the team to develop new techniques and capabilities using machine learning and neural networks\\nResearch and experiment new technologies that can improve algorithm applications\\nPython, R or similar language\\nExperience with Amazon AWS or comparable cloud processing\\nExperience with Linux-based command line environments\\nSQL knowledge\\nExperience with Neural Networks & predictive analytics (class projects are fine)\\nAbility to work independently & excellent communication skills\\nMinimum BA or BS in computer science, engineering or related field or equivalent work experience\\nWHAT DOESN’T DESCRIBE YOU:\\nA desire to only work on things you are most familiar with\\nFear of dynamically changing, uncertain, or unestablished requirements\\nA desire for explicit tasking on a daily basis\\nEagleView® Technologies offers competitive pay and robust benefit plans along with the opportunity to grow your career in a fast-paced, fun and casual environment.\\n\\nEagleView and its subsidiaries are committed to leveraging the talent of a diverse workforce to create great opportunities for our business and our people. EOE/AA. Minority/Female/Disability/Veteran.'"
      ]
     },
     "execution_count": 286,
     "metadata": {},
     "output_type": "execute_result"
    }
   ],
   "source": [
    "list_of_descriptions[29]"
   ]
  },
  {
   "cell_type": "code",
   "execution_count": 296,
   "metadata": {},
   "outputs": [],
   "source": [
    "vectorizer = TfidfVectorizer(stop_words='english')"
   ]
  },
  {
   "cell_type": "code",
   "execution_count": 302,
   "metadata": {},
   "outputs": [],
   "source": [
    "model = vectorizer.fit_transform(list_of_descriptions)"
   ]
  },
  {
   "cell_type": "code",
   "execution_count": 304,
   "metadata": {},
   "outputs": [],
   "source": [
    "tfidf_df = pd.DataFrame(model.toarray())"
   ]
  },
  {
   "cell_type": "code",
   "execution_count": 307,
   "metadata": {},
   "outputs": [
    {
     "data": {
      "text/plain": [
       "(30, 2705)"
      ]
     },
     "execution_count": 307,
     "metadata": {},
     "output_type": "execute_result"
    }
   ],
   "source": [
    "tfidf_df.shape"
   ]
  },
  {
   "cell_type": "code",
   "execution_count": 291,
   "metadata": {},
   "outputs": [],
   "source": [
    "# page_switcher = browser.find_element_by_css_selector('li.page:nth-child(3)')"
   ]
  },
  {
   "cell_type": "code",
   "execution_count": 292,
   "metadata": {},
   "outputs": [],
   "source": [
    "# page_switcher.click()"
   ]
  },
  {
   "cell_type": "code",
   "execution_count": 376,
   "metadata": {},
   "outputs": [],
   "source": [
    "browser = Firefox()"
   ]
  },
  {
   "cell_type": "code",
   "execution_count": 377,
   "metadata": {},
   "outputs": [],
   "source": [
    "browser.get('https://www.linkedin.com')"
   ]
  },
  {
   "cell_type": "code",
   "execution_count": 386,
   "metadata": {},
   "outputs": [],
   "source": [
    "search_field_css = '#ember41 > input:nth-child(1)'"
   ]
  },
  {
   "cell_type": "code",
   "execution_count": 387,
   "metadata": {},
   "outputs": [],
   "source": [
    "search_field = browser.find_element_by_css_selector(search_field_css)"
   ]
  },
  {
   "cell_type": "code",
   "execution_count": 388,
   "metadata": {},
   "outputs": [],
   "source": [
    "search_field.click()"
   ]
  },
  {
   "cell_type": "code",
   "execution_count": 389,
   "metadata": {},
   "outputs": [],
   "source": [
    "search_field.send_keys('chris doyle')"
   ]
  },
  {
   "cell_type": "code",
   "execution_count": 390,
   "metadata": {},
   "outputs": [],
   "source": [
    "search_button_css = '.search-typeahead-v2__button'"
   ]
  },
  {
   "cell_type": "code",
   "execution_count": 391,
   "metadata": {},
   "outputs": [],
   "source": [
    "search_button = browser.find_element_by_css_selector(search_button_css)"
   ]
  },
  {
   "cell_type": "code",
   "execution_count": 392,
   "metadata": {},
   "outputs": [],
   "source": [
    "search_button.click()"
   ]
  },
  {
   "cell_type": "code",
   "execution_count": 382,
   "metadata": {},
   "outputs": [],
   "source": [
    "# li_html = browser.page_source"
   ]
  },
  {
   "cell_type": "code",
   "execution_count": 374,
   "metadata": {},
   "outputs": [],
   "source": [
    "# soup = BeautifulSoup(li_html, 'html.parser')"
   ]
  },
  {
   "cell_type": "code",
   "execution_count": 393,
   "metadata": {},
   "outputs": [],
   "source": [
    "summary_showmore_css = '.pv-top-card-section__summary-toggle-button'\n",
    "experience_showmore_css = '#ember1599 > button:nth-child(1)'\n",
    "skills_showmore_css = 'button.pv-profile-section__card-action-bar:nth-child(1)'\n",
    "recommendations_css = '#ember1714'"
   ]
  },
  {
   "cell_type": "code",
   "execution_count": 396,
   "metadata": {},
   "outputs": [],
   "source": [
    "def click(css):\n",
    "    element = browser.find_element_by_css_selector(css)\n",
    "    element.click()"
   ]
  },
  {
   "cell_type": "code",
   "execution_count": 397,
   "metadata": {},
   "outputs": [],
   "source": [
    "click(summary_showmore_css)"
   ]
  },
  {
   "cell_type": "code",
   "execution_count": 405,
   "metadata": {},
   "outputs": [],
   "source": [
    "click(experience_showmore_css)"
   ]
  },
  {
   "cell_type": "code",
   "execution_count": 406,
   "metadata": {},
   "outputs": [],
   "source": [
    "click(skills_showmore_css)"
   ]
  },
  {
   "cell_type": "code",
   "execution_count": 407,
   "metadata": {},
   "outputs": [],
   "source": [
    "click(recommendations_css)"
   ]
  },
  {
   "cell_type": "code",
   "execution_count": null,
   "metadata": {},
   "outputs": [],
   "source": [
    "class scrape_profile():\n",
    "    def __init__(self, param=None):\n",
    "        self.param = param\n",
    "    \n",
    "    def expand():\n",
    "        "
   ]
  },
  {
   "cell_type": "code",
   "execution_count": 398,
   "metadata": {},
   "outputs": [],
   "source": [
    "summary_css = '#ember1447'"
   ]
  },
  {
   "cell_type": "code",
   "execution_count": 408,
   "metadata": {},
   "outputs": [],
   "source": [
    "experience_css = '.pv-profile-section__section-info--has-more'"
   ]
  },
  {
   "cell_type": "code",
   "execution_count": 411,
   "metadata": {},
   "outputs": [],
   "source": [
    "def scrape_element(css):\n",
    "    content = []\n",
    "    find_content = browser.find_element_by_css_selector(css)\n",
    "    content.append(find_content.text)\n",
    "    return content"
   ]
  },
  {
   "cell_type": "code",
   "execution_count": 403,
   "metadata": {},
   "outputs": [],
   "source": [
    "summary = scrape_element(summary_css)"
   ]
  },
  {
   "cell_type": "code",
   "execution_count": 404,
   "metadata": {},
   "outputs": [
    {
     "data": {
      "text/plain": [
       "['At any level, in any company, my motivation is always the same.\\n\\nMelville said it best: \"I am tormented by an everlasting itch for things remote.\" In business I translate this as a never ending drive for change. I see disruption of the normal as the best way forward, always.\\n\\nMy teams are encouraged, cajoled, and ultimately driven to different ways of thinking. Average, standard, and usual are never words used to describe the work I participate in.\\n\\nPassionate about collaboration and agile methodologies, I refuse to believe a thing cannot be improved. I strive to keep myself surrounded by people smarter than me who are not afraid to express opinions and call me out on mine.\\n\\nI have a diverse background in leadership, software development, business technology, and project management. In all these areas I have experimented constantly. My least successful endeavors have been those where I did not question the process, but merely played along.\\n\\nI have a proven track record overseeing complex operations. I thrive on managing multiple, overlapping projects with shared resources and constrained budgets. Motivating disparate teams across both geographical and disciplinary distances pushes me to always find better, faster, more efficient ways to succeed.\\n\\nI\\'m highly motivated, immensely ethical, and never willing to give up.\\n\\nThis is me today, but change is always in the air and tomorrow I might be something different. Change is hard, but it keeps us alive and young. I can\\'t think of anything more enticing.']"
      ]
     },
     "execution_count": 404,
     "metadata": {},
     "output_type": "execute_result"
    }
   ],
   "source": [
    "summary"
   ]
  },
  {
   "cell_type": "code",
   "execution_count": 426,
   "metadata": {},
   "outputs": [],
   "source": [
    "li_page_source = browser.page_source"
   ]
  },
  {
   "cell_type": "code",
   "execution_count": 427,
   "metadata": {},
   "outputs": [],
   "source": [
    "soup = BeautifulSoup(li_page_source, 'html.parser')"
   ]
  },
  {
   "cell_type": "code",
   "execution_count": 455,
   "metadata": {},
   "outputs": [],
   "source": [
    "seemores = browser.find_elements_by_link_text('See more')"
   ]
  },
  {
   "cell_type": "code",
   "execution_count": 458,
   "metadata": {},
   "outputs": [],
   "source": [
    "seemores[1].click()"
   ]
  },
  {
   "cell_type": "code",
   "execution_count": 460,
   "metadata": {},
   "outputs": [
    {
     "data": {
      "text/plain": [
       "9"
      ]
     },
     "execution_count": 460,
     "metadata": {},
     "output_type": "execute_result"
    }
   ],
   "source": [
    "len(seemores)"
   ]
  },
  {
   "cell_type": "code",
   "execution_count": 459,
   "metadata": {},
   "outputs": [],
   "source": [
    "sleep()"
   ]
  },
  {
   "cell_type": "code",
   "execution_count": 462,
   "metadata": {},
   "outputs": [
    {
     "ename": "StaleElementReferenceException",
     "evalue": "Message: The element reference of [object String] \"1825a7b6-3bb0-2c4e-945a-5b2870eaa01e\" is stale; either the element is no longer attached to the DOM, it is not in the current frame context, or the document has been refreshed\n",
     "output_type": "error",
     "traceback": [
      "\u001b[0;31m---------------------------------------------------------------------------\u001b[0m",
      "\u001b[0;31mStaleElementReferenceException\u001b[0m            Traceback (most recent call last)",
      "\u001b[0;32m<ipython-input-462-857e93892a43>\u001b[0m in \u001b[0;36m<module>\u001b[0;34m()\u001b[0m\n\u001b[1;32m      1\u001b[0m \u001b[0;32mfor\u001b[0m \u001b[0mlink\u001b[0m \u001b[0;32min\u001b[0m \u001b[0mseemores\u001b[0m\u001b[0;34m:\u001b[0m\u001b[0;34m\u001b[0m\u001b[0m\n\u001b[1;32m      2\u001b[0m     \u001b[0msleep\u001b[0m\u001b[0;34m(\u001b[0m\u001b[0;34m)\u001b[0m\u001b[0;34m\u001b[0m\u001b[0m\n\u001b[0;32m----> 3\u001b[0;31m     \u001b[0mlink\u001b[0m\u001b[0;34m.\u001b[0m\u001b[0mclick\u001b[0m\u001b[0;34m(\u001b[0m\u001b[0;34m)\u001b[0m\u001b[0;34m\u001b[0m\u001b[0m\n\u001b[0m\u001b[1;32m      4\u001b[0m     \u001b[0msleep\u001b[0m\u001b[0;34m(\u001b[0m\u001b[0;34m)\u001b[0m\u001b[0;34m\u001b[0m\u001b[0m\n",
      "\u001b[0;32m~/anaconda3/lib/python3.6/site-packages/selenium/webdriver/remote/webelement.py\u001b[0m in \u001b[0;36mclick\u001b[0;34m(self)\u001b[0m\n\u001b[1;32m     78\u001b[0m     \u001b[0;32mdef\u001b[0m \u001b[0mclick\u001b[0m\u001b[0;34m(\u001b[0m\u001b[0mself\u001b[0m\u001b[0;34m)\u001b[0m\u001b[0;34m:\u001b[0m\u001b[0;34m\u001b[0m\u001b[0m\n\u001b[1;32m     79\u001b[0m         \u001b[0;34m\"\"\"Clicks the element.\"\"\"\u001b[0m\u001b[0;34m\u001b[0m\u001b[0m\n\u001b[0;32m---> 80\u001b[0;31m         \u001b[0mself\u001b[0m\u001b[0;34m.\u001b[0m\u001b[0m_execute\u001b[0m\u001b[0;34m(\u001b[0m\u001b[0mCommand\u001b[0m\u001b[0;34m.\u001b[0m\u001b[0mCLICK_ELEMENT\u001b[0m\u001b[0;34m)\u001b[0m\u001b[0;34m\u001b[0m\u001b[0m\n\u001b[0m\u001b[1;32m     81\u001b[0m \u001b[0;34m\u001b[0m\u001b[0m\n\u001b[1;32m     82\u001b[0m     \u001b[0;32mdef\u001b[0m \u001b[0msubmit\u001b[0m\u001b[0;34m(\u001b[0m\u001b[0mself\u001b[0m\u001b[0;34m)\u001b[0m\u001b[0;34m:\u001b[0m\u001b[0;34m\u001b[0m\u001b[0m\n",
      "\u001b[0;32m~/anaconda3/lib/python3.6/site-packages/selenium/webdriver/remote/webelement.py\u001b[0m in \u001b[0;36m_execute\u001b[0;34m(self, command, params)\u001b[0m\n\u001b[1;32m    631\u001b[0m             \u001b[0mparams\u001b[0m \u001b[0;34m=\u001b[0m \u001b[0;34m{\u001b[0m\u001b[0;34m}\u001b[0m\u001b[0;34m\u001b[0m\u001b[0m\n\u001b[1;32m    632\u001b[0m         \u001b[0mparams\u001b[0m\u001b[0;34m[\u001b[0m\u001b[0;34m'id'\u001b[0m\u001b[0;34m]\u001b[0m \u001b[0;34m=\u001b[0m \u001b[0mself\u001b[0m\u001b[0;34m.\u001b[0m\u001b[0m_id\u001b[0m\u001b[0;34m\u001b[0m\u001b[0m\n\u001b[0;32m--> 633\u001b[0;31m         \u001b[0;32mreturn\u001b[0m \u001b[0mself\u001b[0m\u001b[0;34m.\u001b[0m\u001b[0m_parent\u001b[0m\u001b[0;34m.\u001b[0m\u001b[0mexecute\u001b[0m\u001b[0;34m(\u001b[0m\u001b[0mcommand\u001b[0m\u001b[0;34m,\u001b[0m \u001b[0mparams\u001b[0m\u001b[0;34m)\u001b[0m\u001b[0;34m\u001b[0m\u001b[0m\n\u001b[0m\u001b[1;32m    634\u001b[0m \u001b[0;34m\u001b[0m\u001b[0m\n\u001b[1;32m    635\u001b[0m     \u001b[0;32mdef\u001b[0m \u001b[0mfind_element\u001b[0m\u001b[0;34m(\u001b[0m\u001b[0mself\u001b[0m\u001b[0;34m,\u001b[0m \u001b[0mby\u001b[0m\u001b[0;34m=\u001b[0m\u001b[0mBy\u001b[0m\u001b[0;34m.\u001b[0m\u001b[0mID\u001b[0m\u001b[0;34m,\u001b[0m \u001b[0mvalue\u001b[0m\u001b[0;34m=\u001b[0m\u001b[0;32mNone\u001b[0m\u001b[0;34m)\u001b[0m\u001b[0;34m:\u001b[0m\u001b[0;34m\u001b[0m\u001b[0m\n",
      "\u001b[0;32m~/anaconda3/lib/python3.6/site-packages/selenium/webdriver/remote/webdriver.py\u001b[0m in \u001b[0;36mexecute\u001b[0;34m(self, driver_command, params)\u001b[0m\n\u001b[1;32m    319\u001b[0m         \u001b[0mresponse\u001b[0m \u001b[0;34m=\u001b[0m \u001b[0mself\u001b[0m\u001b[0;34m.\u001b[0m\u001b[0mcommand_executor\u001b[0m\u001b[0;34m.\u001b[0m\u001b[0mexecute\u001b[0m\u001b[0;34m(\u001b[0m\u001b[0mdriver_command\u001b[0m\u001b[0;34m,\u001b[0m \u001b[0mparams\u001b[0m\u001b[0;34m)\u001b[0m\u001b[0;34m\u001b[0m\u001b[0m\n\u001b[1;32m    320\u001b[0m         \u001b[0;32mif\u001b[0m \u001b[0mresponse\u001b[0m\u001b[0;34m:\u001b[0m\u001b[0;34m\u001b[0m\u001b[0m\n\u001b[0;32m--> 321\u001b[0;31m             \u001b[0mself\u001b[0m\u001b[0;34m.\u001b[0m\u001b[0merror_handler\u001b[0m\u001b[0;34m.\u001b[0m\u001b[0mcheck_response\u001b[0m\u001b[0;34m(\u001b[0m\u001b[0mresponse\u001b[0m\u001b[0;34m)\u001b[0m\u001b[0;34m\u001b[0m\u001b[0m\n\u001b[0m\u001b[1;32m    322\u001b[0m             response['value'] = self._unwrap_value(\n\u001b[1;32m    323\u001b[0m                 response.get('value', None))\n",
      "\u001b[0;32m~/anaconda3/lib/python3.6/site-packages/selenium/webdriver/remote/errorhandler.py\u001b[0m in \u001b[0;36mcheck_response\u001b[0;34m(self, response)\u001b[0m\n\u001b[1;32m    240\u001b[0m                 \u001b[0malert_text\u001b[0m \u001b[0;34m=\u001b[0m \u001b[0mvalue\u001b[0m\u001b[0;34m[\u001b[0m\u001b[0;34m'alert'\u001b[0m\u001b[0;34m]\u001b[0m\u001b[0;34m.\u001b[0m\u001b[0mget\u001b[0m\u001b[0;34m(\u001b[0m\u001b[0;34m'text'\u001b[0m\u001b[0;34m)\u001b[0m\u001b[0;34m\u001b[0m\u001b[0m\n\u001b[1;32m    241\u001b[0m             \u001b[0;32mraise\u001b[0m \u001b[0mexception_class\u001b[0m\u001b[0;34m(\u001b[0m\u001b[0mmessage\u001b[0m\u001b[0;34m,\u001b[0m \u001b[0mscreen\u001b[0m\u001b[0;34m,\u001b[0m \u001b[0mstacktrace\u001b[0m\u001b[0;34m,\u001b[0m \u001b[0malert_text\u001b[0m\u001b[0;34m)\u001b[0m\u001b[0;34m\u001b[0m\u001b[0m\n\u001b[0;32m--> 242\u001b[0;31m         \u001b[0;32mraise\u001b[0m \u001b[0mexception_class\u001b[0m\u001b[0;34m(\u001b[0m\u001b[0mmessage\u001b[0m\u001b[0;34m,\u001b[0m \u001b[0mscreen\u001b[0m\u001b[0;34m,\u001b[0m \u001b[0mstacktrace\u001b[0m\u001b[0;34m)\u001b[0m\u001b[0;34m\u001b[0m\u001b[0m\n\u001b[0m\u001b[1;32m    243\u001b[0m \u001b[0;34m\u001b[0m\u001b[0m\n\u001b[1;32m    244\u001b[0m     \u001b[0;32mdef\u001b[0m \u001b[0m_value_or_default\u001b[0m\u001b[0;34m(\u001b[0m\u001b[0mself\u001b[0m\u001b[0;34m,\u001b[0m \u001b[0mobj\u001b[0m\u001b[0;34m,\u001b[0m \u001b[0mkey\u001b[0m\u001b[0;34m,\u001b[0m \u001b[0mdefault\u001b[0m\u001b[0;34m)\u001b[0m\u001b[0;34m:\u001b[0m\u001b[0;34m\u001b[0m\u001b[0m\n",
      "\u001b[0;31mStaleElementReferenceException\u001b[0m: Message: The element reference of [object String] \"1825a7b6-3bb0-2c4e-945a-5b2870eaa01e\" is stale; either the element is no longer attached to the DOM, it is not in the current frame context, or the document has been refreshed\n"
     ]
    }
   ],
   "source": [
    "for link in seemores:\n",
    "    sleep()\n",
    "    link.click()\n",
    "    sleep()"
   ]
  },
  {
   "cell_type": "code",
   "execution_count": 429,
   "metadata": {},
   "outputs": [],
   "source": [
    "position_entities = soup.select('.pv-position-entity')"
   ]
  },
  {
   "cell_type": "code",
   "execution_count": 431,
   "metadata": {},
   "outputs": [
    {
     "data": {
      "text/plain": [
       "' \\n\\n\\n\\n\\n\\nCompany Name\\nE Source\\n\\n\\nTotal Duration\\n4 yrs 5 mos\\n\\n\\n\\n \\n\\n\\n \\n\\n\\n\\nTitle\\nChief Operating Officer\\n\\n\\n\\nDates Employed\\nApr 2015 – Oct 2018\\n\\n\\nEmployment Duration\\n3 yrs 7 mos\\n\\n\\n\\nLocation\\nBoulder\\n\\n\\n   \\uf0a7\\tDrove a diverse set of stakeholders across the company to rely more heavily on data analytics, customer feedback, and truly objective metrics to define product creation and delivery.\\uf0a7\\tDefined and enforced rigid data and process governance to assure accuracy, currency, and value of all data sources.\\uf0a7\\tContinued to provide leadership and real-time direction to all project work across Software Development, Business Technology, and Facilities.\\uf0a7\\tConsistently built and nurtured highly successful teams across multiple disciplines.\\uf0a7\\tCoordinated with all department leaders to build efficient, cross-team efforts around product creation, delivery, and maintenance.\\uf0a7\\tLed seven disparate teams and coordinated with all other departments.\\uf0a7\\tMaintained an Agile-focused environment across all company initiatives.\\uf0a7\\tPlaced employee growth, challenge, and success ahead of all other considerations. Our people are our product.\\uf0a7\\tRemained ever willing to change, adapt, and grow in our engagement, product development, and culture.\\uf0a7\\tInteracted daily with Finance, Sales, Marketing, Market Research, and Consulting groups in addition to my teams to maintain a consistent direction company-wide.\\uf0a7\\tApproved and supported budgets for the entire $20 million-dollar operation. This included direct responsibility for seven operational expense budgets totaling nearly $8 million. \\uf0a7\\tOversaw the cultural, professional, and collaborative growth of 93 full and part-time employees, ten of them remote.\\nSee less\\n... See more\\n\\n\\n\\n\\n\\n\\n\\n \\n\\n\\n\\nTitle\\nChief Technology Officer\\n\\n\\n\\nDates Employed\\nJun 2014 – Oct 2018\\n\\n\\nEmployment Duration\\n4 yrs 5 mos\\n\\n\\n \\n  \\uf0a7\\tMaintained highly trained technical teams across Business Technology, Software\\nDevelopment, Business Intelligence, and Project Management.\\n\\n\\uf0a7\\tCreated and operated from detailed project plans for both internal and external endeavors.\\n\\n      No project proceeded without strong ROI and resource availability confirmed....\\n            See more\\n\\n... See more\\n\\n\\n\\n\\n\\n\\n'"
      ]
     },
     "execution_count": 431,
     "metadata": {},
     "output_type": "execute_result"
    }
   ],
   "source": [
    "position_entities[0].text"
   ]
  },
  {
   "cell_type": "code",
   "execution_count": 414,
   "metadata": {},
   "outputs": [],
   "source": [
    "experience_elements = []"
   ]
  },
  {
   "cell_type": "code",
   "execution_count": null,
   "metadata": {},
   "outputs": [],
   "source": [
    "def get_experience(title_css, body_css):\n",
    "    title = scrape_element(css)\n",
    "    \n",
    "    "
   ]
  },
  {
   "cell_type": "code",
   "execution_count": 415,
   "metadata": {},
   "outputs": [],
   "source": [
    "title_css = '#ember1798'"
   ]
  },
  {
   "cell_type": "code",
   "execution_count": 416,
   "metadata": {},
   "outputs": [],
   "source": [
    "title = scrape_element(title_css)"
   ]
  },
  {
   "cell_type": "code",
   "execution_count": 417,
   "metadata": {},
   "outputs": [
    {
     "data": {
      "text/plain": [
       "['Company Name\\nE Source\\nTotal Duration\\n4 yrs 5 mos']"
      ]
     },
     "execution_count": 417,
     "metadata": {},
     "output_type": "execute_result"
    }
   ],
   "source": [
    "title"
   ]
  },
  {
   "cell_type": "code",
   "execution_count": null,
   "metadata": {},
   "outputs": [],
   "source": []
  },
  {
   "cell_type": "code",
   "execution_count": 421,
   "metadata": {},
   "outputs": [],
   "source": [
    "element_showmore_css = '#ember'"
   ]
  },
  {
   "cell_type": "code",
   "execution_count": 422,
   "metadata": {},
   "outputs": [],
   "source": [
    "click(element_showmore_css)"
   ]
  },
  {
   "cell_type": "code",
   "execution_count": 423,
   "metadata": {},
   "outputs": [],
   "source": [
    "body_css = 'li.pv-entity__position-group-role-item:nth-child(1)'"
   ]
  },
  {
   "cell_type": "code",
   "execution_count": 424,
   "metadata": {},
   "outputs": [],
   "source": [
    "body = scrape_element(body_css)"
   ]
  },
  {
   "cell_type": "code",
   "execution_count": 425,
   "metadata": {},
   "outputs": [
    {
     "data": {
      "text/plain": [
       "['Title\\nChief Operating Officer\\nDates Employed\\nApr 2015 – Oct 2018\\nEmployment Duration\\n3 yrs 7 mos\\nLocation\\nBoulder\\n\\uf0a7 Drove a diverse set of stakeholders across the company to rely more heavily on data analytics, customer feedback, and truly objective metrics to define product creation and delivery.\\n\\uf0a7 Defined and enforced rigid data and process governance to assure accuracy, currency, and value of all data sources.\\n\\uf0a7 Continued to provide leadership and real-time direction to all project work across Software Development, Business Technology, and Facilities.\\n\\uf0a7 Consistently built and nurtured highly successful teams across multiple disciplines.\\n\\uf0a7 Coordinated with all department leaders to build efficient, cross-team efforts around product creation, delivery, and maintenance.\\n\\uf0a7 Led seven disparate teams and coordinated with all other departments.\\n\\uf0a7 Maintained an Agile-focused environment across all company initiatives.\\n\\uf0a7 Placed employee growth, challenge, and success ahead of all other considerations. Our people are our product.\\n\\uf0a7 Remained ever willing to change, adapt, and grow in our engagement, product development, and culture.\\n\\uf0a7 Interacted daily with Finance, Sales, Marketing, Market Research, and Consulting groups in addition to my teams to maintain a consistent direction company-wide.\\n\\uf0a7 Approved and supported budgets for the entire $20 million-dollar operation. This included direct responsibility for seven operational expense budgets totaling nearly $8 million.\\n\\uf0a7 Oversaw the cultural, professional, and collaborative growth of 93 full and part-time employees, ten of them remote.\\nSee less']"
      ]
     },
     "execution_count": 425,
     "metadata": {},
     "output_type": "execute_result"
    }
   ],
   "source": [
    "body"
   ]
  },
  {
   "cell_type": "code",
   "execution_count": null,
   "metadata": {},
   "outputs": [],
   "source": []
  },
  {
   "cell_type": "code",
   "execution_count": 317,
   "metadata": {},
   "outputs": [],
   "source": [
    "linked_in_css = '#nav-settings__dropdown-trigger > div:nth-child(2) > span:nth-child(2)'"
   ]
  },
  {
   "cell_type": "code",
   "execution_count": 318,
   "metadata": {},
   "outputs": [],
   "source": [
    "button = browser.find_element_by_css_selector(linked_in_css)"
   ]
  },
  {
   "cell_type": "code",
   "execution_count": 319,
   "metadata": {},
   "outputs": [],
   "source": [
    "button.click()"
   ]
  },
  {
   "cell_type": "code",
   "execution_count": 320,
   "metadata": {},
   "outputs": [],
   "source": [
    "profile_css = '.nav-settings__linkcard-link'"
   ]
  },
  {
   "cell_type": "code",
   "execution_count": 321,
   "metadata": {},
   "outputs": [],
   "source": [
    "profile_button = browser.find_element_by_css_selector(profile_css)"
   ]
  },
  {
   "cell_type": "code",
   "execution_count": 322,
   "metadata": {},
   "outputs": [],
   "source": [
    "profile_button.click()"
   ]
  },
  {
   "cell_type": "code",
   "execution_count": null,
   "metadata": {},
   "outputs": [],
   "source": [
    "ethan_df = pd.read_csv()"
   ]
  }
 ],
 "metadata": {
  "kernelspec": {
   "display_name": "Python 3",
   "language": "python",
   "name": "python3"
  },
  "language_info": {
   "codemirror_mode": {
    "name": "ipython",
    "version": 3
   },
   "file_extension": ".py",
   "mimetype": "text/x-python",
   "name": "python",
   "nbconvert_exporter": "python",
   "pygments_lexer": "ipython3",
   "version": "3.6.6"
  }
 },
 "nbformat": 4,
 "nbformat_minor": 2
}
