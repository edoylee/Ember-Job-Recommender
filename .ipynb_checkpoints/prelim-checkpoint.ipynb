{
 "cells": [
  {
   "cell_type": "code",
   "execution_count": 3,
   "metadata": {},
   "outputs": [],
   "source": [
    "from selenium.webdriver import Firefox\n",
    "from bs4 import BeautifulSoup\n",
    "import random\n",
    "import time"
   ]
  },
  {
   "cell_type": "code",
   "execution_count": 4,
   "metadata": {},
   "outputs": [],
   "source": [
    "# browser = Firefox()"
   ]
  },
  {
   "cell_type": "code",
   "execution_count": 5,
   "metadata": {},
   "outputs": [],
   "source": [
    "# sleep()\n",
    "# browser.get('https://www.glassdoor.com/index.htm')\n",
    "# sleep()\n",
    "# css_selector = '#KeywordSearch'\n",
    "# sleep()\n",
    "# keyword_search = browser.find_element_by_css_selector(css_selector)\n",
    "# sleep()\n",
    "# keyword_search.click()\n",
    "# keyword_search.send_keys('Data Scientist')\n",
    "# search_css = '#HeroSearchButton'\n",
    "# start_search = browser.find_element_by_css_selector(search_css)\n",
    "# start_search.click()\n"
   ]
  },
  {
   "cell_type": "code",
   "execution_count": 6,
   "metadata": {},
   "outputs": [],
   "source": [
    "# def sleep(start=5, end=15):\n",
    "#     return time.sleep(random.randint(5, 15))"
   ]
  },
  {
   "cell_type": "code",
   "execution_count": 10,
   "metadata": {},
   "outputs": [],
   "source": [
    "# html = browser.page_source\n",
    "# job_listing_css = 'li.jl'\n",
    "# soup = BeautifulSoup(html, 'html.parser')"
   ]
  },
  {
   "cell_type": "code",
   "execution_count": 11,
   "metadata": {},
   "outputs": [],
   "source": [
    "# job_listings = soup.select(job_listing_css)"
   ]
  },
  {
   "cell_type": "code",
   "execution_count": 68,
   "metadata": {},
   "outputs": [
    {
     "data": {
      "text/plain": [
       "30"
      ]
     },
     "execution_count": 68,
     "metadata": {},
     "output_type": "execute_result"
    }
   ],
   "source": [
    "# len(job_listings)"
   ]
  },
  {
   "cell_type": "code",
   "execution_count": 54,
   "metadata": {},
   "outputs": [],
   "source": [
    "# first_posting = browser.find_element_by_css_selector('li.jl:nth-child(1)')\n",
    "\n",
    "# first_posting.click()\n",
    "\n",
    "# first_description = browser.find_element_by_css_selector(content)\n",
    "\n",
    "# #first_description.text\n",
    "\n",
    "# second_posting = browser.find_element_by_css_selector('li.jl:nth-child(2)')\n",
    "\n",
    "# second_posting.click()\n",
    "\n",
    "# content = '.jobDescriptionContent'\n",
    "\n",
    "# second_description = browser.find_element_by_css_selector(content)\n",
    "\n",
    "# #second_description.text\n",
    "\n",
    "# posting_list = ['li.jl:nth-child(1)', 'li.jl:nth-child(2)']\n",
    "# content_list = []"
   ]
  },
  {
   "cell_type": "code",
   "execution_count": 58,
   "metadata": {},
   "outputs": [],
   "source": [
    "# for i in range(2):\n",
    "#     posting = browser.find_element_by_css_selector(posting_list[i])\n",
    "#     posting.click()\n",
    "#     content = '.jobDescriptionContent'\n",
    "#     description = browser.find_element_by_css_selector(content)\n",
    "#     content_list.append(description.text)\n",
    "#     sleep()"
   ]
  },
  {
   "cell_type": "code",
   "execution_count": 63,
   "metadata": {},
   "outputs": [],
   "source": [
    "#content_list[2]"
   ]
  },
  {
   "cell_type": "code",
   "execution_count": 78,
   "metadata": {},
   "outputs": [],
   "source": [
    "# posting_css_list = []\n",
    "# for i in range(1, 31):\n",
    "#     posting_css_list.append('li.jl:nth-child(%d)' % i)"
   ]
  },
  {
   "cell_type": "code",
   "execution_count": 81,
   "metadata": {},
   "outputs": [],
   "source": [
    "url = 'https://www.glassdoor.com/index.htm'"
   ]
  },
  {
   "cell_type": "code",
   "execution_count": 105,
   "metadata": {},
   "outputs": [],
   "source": [
    "class get_job_descriptions():\n",
    "    def __init__(self, param=None):\n",
    "        self.param = param\n",
    "    \n",
    "    def fit(self, X, y):\n",
    "        return self\n",
    "    \n",
    "    def transform(self, X):\n",
    "        pass\n",
    "    \n",
    "    def sleep(self, start=5, end=15):\n",
    "        return time.sleep(random.randint(5, 15))\n",
    "    \n",
    "    def get_posting_css(self, n_postings=1):\n",
    "        posting_css_list = []\n",
    "        for i in range(1, n_postings):\n",
    "            posting_css_list.append('li.jl:nth-child(%d)' % i)\n",
    "        return posting_css_list\n",
    "    "
   ]
  },
  {
   "cell_type": "code",
   "execution_count": 118,
   "metadata": {},
   "outputs": [],
   "source": [
    "test_description = get_job_descriptions()"
   ]
  },
  {
   "cell_type": "code",
   "execution_count": 119,
   "metadata": {},
   "outputs": [],
   "source": [
    "list_of_pcss = test_description.get_posting_css(5)"
   ]
  },
  {
   "cell_type": "code",
   "execution_count": 120,
   "metadata": {},
   "outputs": [],
   "source": [
    "browser = Firefox()\n",
    "browser.get(url)\n",
    "test_description.sleep()\n",
    "keyword_css = '#KeywordSearch'\n",
    "keyword_search = browser.find_element_by_css_selector(keyword_css)\n",
    "keyword_search.click()\n",
    "test_description.sleep()\n",
    "keyword_search.send_keys('Data Scientist')\n",
    "search_css = '#HeroSearchButton'\n",
    "start_search = browser.find_element_by_css_selector(search_css)\n",
    "start_search.click()\n",
    "test_description.sleep()"
   ]
  },
  {
   "cell_type": "code",
   "execution_count": 121,
   "metadata": {},
   "outputs": [],
   "source": [
    "list_of_descriptions = []\n",
    "for i in range(len(list_of_pcss)):\n",
    "    posting = browser.find_element_by_css_selector(list_of_pcss[i])\n",
    "    posting.click()\n",
    "    content = '.jobDescriptionContent'\n",
    "    description = browser.find_element_by_css_selector(content)\n",
    "    list_of_descriptions.append(description.text)\n",
    "    sleep()"
   ]
  },
  {
   "cell_type": "code",
   "execution_count": 125,
   "metadata": {},
   "outputs": [
    {
     "data": {
      "text/plain": [
       "\"Expedia\\n\\nWho we are\\n\\neCP Expedia eCommerce Platform. The eCP organization was built to power the Expedia, Inc.s travel revolution with a premier platform of eCommerce technologies and services operating at global scale. We bring product, technology, and operations together to enable our business to grow and drive innovation.\\n\\nPI Platform Intelligence. Within eCP, PI is a new team set to deliver Artificial Intelligence (AI) / Machine Learning (ML) Platform, advanced automation and intelligent solutions. We work in start-up fashion, think deep, and code fast. We innovate incrementally, yet relentlessly. PI collaborates with many teams to automate and build intelligence into our travel platforms, through Standards, Open Source, and expandable technology solutions. Our goal is to improve eCommerce platform availability, and provide the best travel experience through using AI/ML.\\n\\nJob description\\n\\nAre you passionate about the technology needed to drive a multi-billion dollar business? Do you love building creative, highly-scalable and expansible AI frameworks and solutions? Is working on the next gen intelligent travel platforms to revolutionize the travel experience using AI/ML challenging and attractive to you?\\n\\nAs a Data Scientist within PI, you will work with a dynamic teams of product managers and engineers across multiple organizations to deliver sophisticated, next-gen AI Machine Learning solutions. Your vigorous STEM training and problem-solving skills are particularly important for this job function. You will contribute and make our young team become the industry-leading center of excellence for eCommerce AI and Automation.\\n\\nTogether, we will forge our culture, based on respect, inclusion, and transparency, and we will achieve technical excellence in support of our business.\\n\\nResponsibilities\\nYou will apply solid coding skills, strong analytical and innovative thinking, AI/ML experience, quickly learn and turn new ideas into working solutions, drive proof of concepts and pilots to accelerate the on boarding of new technologies and solutions.\\nYou will partner with multi-teams for end-to-end transactions, booking, payment, security, operation, data services engineering teams to implement platform intelligence; provide the smart experience for our global travelers; and AI powered supply/demand engine.\\nYou will grow professionally; expand your skills and curiosity; be creative; also help others become their best.\\nSkills/requirements\\nPh.D. in Computer Science or a related quantitative science and engineering fields, such as Artificial Intelligence, Mathematics, Operation Research, Statistics, Electrical Engineering, Engineering Science, System Engineering, Physics, Bioengineering and Biomedical Science.\\nUnderstand the concepts and steps involved when working real world big data, from domain specific problem understanding, data preparation, travel related data processing, data integration, data structures for machine learning, data pipelining, data modeling, and AI/ML algorithms; strong software engineering and data science knowledge and skills.\\nStrong knowledge and experience in database technologies, including SQL and other relational database, non-SQL, and Time Series database.\\nKnowledge on hands on practice in Java, Python, R, XML/JSON.\\nSolid knowledge of Machine Learning techniques such as Bayesian methods, clustering, decision trees, random forests, NLP, etc., excellent grasp of statistical concepts and methods.\\nUnderstanding of distributed file systems, scalable datastores, distributed computing and related technologies (Spark, Hadoop, etc.); implementation experience of MapReduce techniques, in-memory data processing, etc.\\nPassion in solving problems and finding patterns and insights within structured and unstructured data.\\nPluses\\nKnowledge and hands-on practice with Neural Networks.\\nGood industrial internship or academic experience in Data Science.\\n*LI-PP1\\n\\nExpedia is committed to creating an inclusive work environment with a diverse workforce. All qualified applicants will receive consideration for employment without regard to race, color, religion, gender, gender identity or expression, sexual orientation, national origin, genetics, disability, age, or veteran status. This employer participates in E-Verify. The employer will provide the Social Security Administration (SSA) and, if necessary, the Department of Homeland Security (DHS) with information from each new employee's I-9 to confirm work authorization.\""
      ]
     },
     "execution_count": 125,
     "metadata": {},
     "output_type": "execute_result"
    }
   ],
   "source": [
    "list_of_descriptions[3]"
   ]
  },
  {
   "cell_type": "code",
   "execution_count": 90,
   "metadata": {},
   "outputs": [],
   "source": [
    "# list_of_posting_css = test_description.get_posting_css(3)"
   ]
  },
  {
   "cell_type": "code",
   "execution_count": 107,
   "metadata": {},
   "outputs": [],
   "source": [
    "# browser.find_element_by_css_selector(list_of_posting_css[0])"
   ]
  },
  {
   "cell_type": "code",
   "execution_count": 108,
   "metadata": {},
   "outputs": [],
   "source": [
    "# test_description.descriptions(list_of_posting_css)"
   ]
  },
  {
   "cell_type": "code",
   "execution_count": null,
   "metadata": {},
   "outputs": [],
   "source": []
  }
 ],
 "metadata": {
  "kernelspec": {
   "display_name": "Python 3",
   "language": "python",
   "name": "python3"
  },
  "language_info": {
   "codemirror_mode": {
    "name": "ipython",
    "version": 3
   },
   "file_extension": ".py",
   "mimetype": "text/x-python",
   "name": "python",
   "nbconvert_exporter": "python",
   "pygments_lexer": "ipython3",
   "version": "3.6.6"
  }
 },
 "nbformat": 4,
 "nbformat_minor": 2
}
