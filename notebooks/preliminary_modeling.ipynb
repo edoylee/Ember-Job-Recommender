{
 "cells": [
  {
   "cell_type": "code",
   "execution_count": 17,
   "metadata": {},
   "outputs": [],
   "source": [
    "import pandas as pd\n",
    "import numpy as np\n",
    "from sklearn.feature_extraction.text import TfidfVectorizer"
   ]
  },
  {
   "cell_type": "code",
   "execution_count": 12,
   "metadata": {},
   "outputs": [],
   "source": [
    "df = pd.read_csv('../data/dsjobs_training_culled.csv', index_col=0)"
   ]
  },
  {
   "cell_type": "code",
   "execution_count": 20,
   "metadata": {},
   "outputs": [],
   "source": [
    "df = df.dropna()"
   ]
  },
  {
   "cell_type": "code",
   "execution_count": 21,
   "metadata": {},
   "outputs": [
    {
     "data": {
      "text/plain": [
       "(119, 1)"
      ]
     },
     "execution_count": 21,
     "metadata": {},
     "output_type": "execute_result"
    }
   ],
   "source": [
    "df.shape"
   ]
  },
  {
   "cell_type": "code",
   "execution_count": 10,
   "metadata": {},
   "outputs": [],
   "source": [
    "vocab = pd.read_csv('../data/vocabulary.csv', index_col=0)"
   ]
  },
  {
   "cell_type": "code",
   "execution_count": 15,
   "metadata": {},
   "outputs": [
    {
     "data": {
      "text/html": [
       "<div>\n",
       "<style scoped>\n",
       "    .dataframe tbody tr th:only-of-type {\n",
       "        vertical-align: middle;\n",
       "    }\n",
       "\n",
       "    .dataframe tbody tr th {\n",
       "        vertical-align: top;\n",
       "    }\n",
       "\n",
       "    .dataframe thead th {\n",
       "        text-align: right;\n",
       "    }\n",
       "</style>\n",
       "<table border=\"1\" class=\"dataframe\">\n",
       "  <thead>\n",
       "    <tr style=\"text-align: right;\">\n",
       "      <th></th>\n",
       "      <th>words</th>\n",
       "    </tr>\n",
       "  </thead>\n",
       "  <tbody>\n",
       "    <tr>\n",
       "      <th>0</th>\n",
       "      <td>efficiency</td>\n",
       "    </tr>\n",
       "    <tr>\n",
       "      <th>1</th>\n",
       "      <td>web</td>\n",
       "    </tr>\n",
       "    <tr>\n",
       "      <th>2</th>\n",
       "      <td>groups</td>\n",
       "    </tr>\n",
       "    <tr>\n",
       "      <th>3</th>\n",
       "      <td>quality</td>\n",
       "    </tr>\n",
       "    <tr>\n",
       "      <th>4</th>\n",
       "      <td>regression</td>\n",
       "    </tr>\n",
       "  </tbody>\n",
       "</table>\n",
       "</div>"
      ],
      "text/plain": [
       "        words\n",
       "0  efficiency\n",
       "1         web\n",
       "2      groups\n",
       "3     quality\n",
       "4  regression"
      ]
     },
     "execution_count": 15,
     "metadata": {},
     "output_type": "execute_result"
    }
   ],
   "source": [
    "vocab.head()"
   ]
  },
  {
   "cell_type": "code",
   "execution_count": 16,
   "metadata": {},
   "outputs": [
    {
     "data": {
      "text/plain": [
       "(100, 1)"
      ]
     },
     "execution_count": 16,
     "metadata": {},
     "output_type": "execute_result"
    }
   ],
   "source": [
    "vocab.shape"
   ]
  },
  {
   "cell_type": "code",
   "execution_count": 18,
   "metadata": {},
   "outputs": [],
   "source": [
    "vectorizer = TfidfVectorizer(stop_words='english', vocabulary=vocab['words'])"
   ]
  },
  {
   "cell_type": "code",
   "execution_count": 22,
   "metadata": {},
   "outputs": [
    {
     "data": {
      "text/plain": [
       "TfidfVectorizer(analyzer='word', binary=False, decode_error='strict',\n",
       "        dtype=<class 'numpy.int64'>, encoding='utf-8', input='content',\n",
       "        lowercase=True, max_df=1.0, max_features=None, min_df=1,\n",
       "        ngram_range=(1, 1), norm='l2', preprocessor=None, smooth_idf=True,\n",
       "        stop_words='english', strip_accents=None, sublinear_tf=False,\n",
       "        token_pattern='(?u)\\\\b\\\\w\\\\w+\\\\b', tokenizer=None, use_idf=True,\n",
       "        vocabulary=0       efficiency\n",
       "1              web\n",
       "2           groups\n",
       "3          quality\n",
       "4       regression\n",
       "5           Proven\n",
       "6              inc\n",
       "7            small\n",
       "8      improvement\n",
       "9         language\n",
       "10      matplotlib\n",
       "11               ’\n",
       "12          united\n",
       "13       knowledge\n",
       "14           scipy\n",
       "15  ...tle\n",
       "97        selenium\n",
       "98    econometrics\n",
       "99      experience\n",
       "Name: words, Length: 100, dtype: object)"
      ]
     },
     "execution_count": 22,
     "metadata": {},
     "output_type": "execute_result"
    }
   ],
   "source": [
    "vectorizer.fit(df['jobs'])"
   ]
  },
  {
   "cell_type": "code",
   "execution_count": 23,
   "metadata": {},
   "outputs": [],
   "source": [
    "transformed_model = vectorizer.transform(df['jobs'])"
   ]
  },
  {
   "cell_type": "code",
   "execution_count": 25,
   "metadata": {},
   "outputs": [],
   "source": [
    "tfidf_matrix = transformed_model.toarray()"
   ]
  },
  {
   "cell_type": "code",
   "execution_count": 26,
   "metadata": {},
   "outputs": [],
   "source": [
    "tfidf_df = pd.DataFrame(tfidf_matrix)"
   ]
  },
  {
   "cell_type": "code",
   "execution_count": 29,
   "metadata": {},
   "outputs": [
    {
     "data": {
      "text/html": [
       "<div>\n",
       "<style scoped>\n",
       "    .dataframe tbody tr th:only-of-type {\n",
       "        vertical-align: middle;\n",
       "    }\n",
       "\n",
       "    .dataframe tbody tr th {\n",
       "        vertical-align: top;\n",
       "    }\n",
       "\n",
       "    .dataframe thead th {\n",
       "        text-align: right;\n",
       "    }\n",
       "</style>\n",
       "<table border=\"1\" class=\"dataframe\">\n",
       "  <thead>\n",
       "    <tr style=\"text-align: right;\">\n",
       "      <th></th>\n",
       "      <th>0</th>\n",
       "      <th>1</th>\n",
       "      <th>2</th>\n",
       "      <th>3</th>\n",
       "      <th>4</th>\n",
       "      <th>5</th>\n",
       "      <th>6</th>\n",
       "      <th>7</th>\n",
       "      <th>8</th>\n",
       "      <th>9</th>\n",
       "      <th>...</th>\n",
       "      <th>90</th>\n",
       "      <th>91</th>\n",
       "      <th>92</th>\n",
       "      <th>93</th>\n",
       "      <th>94</th>\n",
       "      <th>95</th>\n",
       "      <th>96</th>\n",
       "      <th>97</th>\n",
       "      <th>98</th>\n",
       "      <th>99</th>\n",
       "    </tr>\n",
       "  </thead>\n",
       "  <tbody>\n",
       "    <tr>\n",
       "      <th>0</th>\n",
       "      <td>0.0</td>\n",
       "      <td>0.0</td>\n",
       "      <td>0.136653</td>\n",
       "      <td>0.0</td>\n",
       "      <td>0.0</td>\n",
       "      <td>0.0</td>\n",
       "      <td>0.0</td>\n",
       "      <td>0.0</td>\n",
       "      <td>0.0</td>\n",
       "      <td>0.094252</td>\n",
       "      <td>...</td>\n",
       "      <td>0.0</td>\n",
       "      <td>0.108557</td>\n",
       "      <td>0.0</td>\n",
       "      <td>0.131657</td>\n",
       "      <td>0.070238</td>\n",
       "      <td>0.0</td>\n",
       "      <td>0.000000</td>\n",
       "      <td>0.0</td>\n",
       "      <td>0.0</td>\n",
       "      <td>0.185059</td>\n",
       "    </tr>\n",
       "    <tr>\n",
       "      <th>1</th>\n",
       "      <td>0.0</td>\n",
       "      <td>0.0</td>\n",
       "      <td>0.000000</td>\n",
       "      <td>0.0</td>\n",
       "      <td>0.0</td>\n",
       "      <td>0.0</td>\n",
       "      <td>0.0</td>\n",
       "      <td>0.0</td>\n",
       "      <td>0.0</td>\n",
       "      <td>0.000000</td>\n",
       "      <td>...</td>\n",
       "      <td>0.0</td>\n",
       "      <td>0.065850</td>\n",
       "      <td>0.0</td>\n",
       "      <td>0.000000</td>\n",
       "      <td>0.000000</td>\n",
       "      <td>0.0</td>\n",
       "      <td>0.240341</td>\n",
       "      <td>0.0</td>\n",
       "      <td>0.0</td>\n",
       "      <td>0.056128</td>\n",
       "    </tr>\n",
       "    <tr>\n",
       "      <th>2</th>\n",
       "      <td>0.0</td>\n",
       "      <td>0.0</td>\n",
       "      <td>0.000000</td>\n",
       "      <td>0.0</td>\n",
       "      <td>0.0</td>\n",
       "      <td>0.0</td>\n",
       "      <td>0.0</td>\n",
       "      <td>0.0</td>\n",
       "      <td>0.0</td>\n",
       "      <td>0.171771</td>\n",
       "      <td>...</td>\n",
       "      <td>0.0</td>\n",
       "      <td>0.296761</td>\n",
       "      <td>0.0</td>\n",
       "      <td>0.239941</td>\n",
       "      <td>0.128007</td>\n",
       "      <td>0.0</td>\n",
       "      <td>0.000000</td>\n",
       "      <td>0.0</td>\n",
       "      <td>0.0</td>\n",
       "      <td>0.337264</td>\n",
       "    </tr>\n",
       "    <tr>\n",
       "      <th>3</th>\n",
       "      <td>0.0</td>\n",
       "      <td>0.0</td>\n",
       "      <td>0.000000</td>\n",
       "      <td>0.0</td>\n",
       "      <td>0.0</td>\n",
       "      <td>0.0</td>\n",
       "      <td>0.0</td>\n",
       "      <td>0.0</td>\n",
       "      <td>0.0</td>\n",
       "      <td>0.000000</td>\n",
       "      <td>...</td>\n",
       "      <td>0.0</td>\n",
       "      <td>0.000000</td>\n",
       "      <td>0.0</td>\n",
       "      <td>0.000000</td>\n",
       "      <td>0.000000</td>\n",
       "      <td>0.0</td>\n",
       "      <td>0.000000</td>\n",
       "      <td>0.0</td>\n",
       "      <td>0.0</td>\n",
       "      <td>0.000000</td>\n",
       "    </tr>\n",
       "    <tr>\n",
       "      <th>4</th>\n",
       "      <td>0.0</td>\n",
       "      <td>0.0</td>\n",
       "      <td>0.000000</td>\n",
       "      <td>0.0</td>\n",
       "      <td>0.0</td>\n",
       "      <td>0.0</td>\n",
       "      <td>0.0</td>\n",
       "      <td>0.0</td>\n",
       "      <td>0.0</td>\n",
       "      <td>0.000000</td>\n",
       "      <td>...</td>\n",
       "      <td>0.0</td>\n",
       "      <td>0.051084</td>\n",
       "      <td>0.0</td>\n",
       "      <td>0.247819</td>\n",
       "      <td>0.000000</td>\n",
       "      <td>0.0</td>\n",
       "      <td>0.000000</td>\n",
       "      <td>0.0</td>\n",
       "      <td>0.0</td>\n",
       "      <td>0.304795</td>\n",
       "    </tr>\n",
       "  </tbody>\n",
       "</table>\n",
       "<p>5 rows × 100 columns</p>\n",
       "</div>"
      ],
      "text/plain": [
       "    0    1         2    3    4    5    6    7    8         9     ...      90  \\\n",
       "0  0.0  0.0  0.136653  0.0  0.0  0.0  0.0  0.0  0.0  0.094252    ...     0.0   \n",
       "1  0.0  0.0  0.000000  0.0  0.0  0.0  0.0  0.0  0.0  0.000000    ...     0.0   \n",
       "2  0.0  0.0  0.000000  0.0  0.0  0.0  0.0  0.0  0.0  0.171771    ...     0.0   \n",
       "3  0.0  0.0  0.000000  0.0  0.0  0.0  0.0  0.0  0.0  0.000000    ...     0.0   \n",
       "4  0.0  0.0  0.000000  0.0  0.0  0.0  0.0  0.0  0.0  0.000000    ...     0.0   \n",
       "\n",
       "         91   92        93        94   95        96   97   98        99  \n",
       "0  0.108557  0.0  0.131657  0.070238  0.0  0.000000  0.0  0.0  0.185059  \n",
       "1  0.065850  0.0  0.000000  0.000000  0.0  0.240341  0.0  0.0  0.056128  \n",
       "2  0.296761  0.0  0.239941  0.128007  0.0  0.000000  0.0  0.0  0.337264  \n",
       "3  0.000000  0.0  0.000000  0.000000  0.0  0.000000  0.0  0.0  0.000000  \n",
       "4  0.051084  0.0  0.247819  0.000000  0.0  0.000000  0.0  0.0  0.304795  \n",
       "\n",
       "[5 rows x 100 columns]"
      ]
     },
     "execution_count": 29,
     "metadata": {},
     "output_type": "execute_result"
    }
   ],
   "source": [
    "tfidf_df.head()"
   ]
  },
  {
   "cell_type": "code",
   "execution_count": 33,
   "metadata": {},
   "outputs": [
    {
     "data": {
      "text/plain": [
       "0    29\n",
       "1    78\n",
       "2    25\n",
       "3    77\n",
       "4    75\n",
       "dtype: int64"
      ]
     },
     "execution_count": 33,
     "metadata": {},
     "output_type": "execute_result"
    }
   ],
   "source": [
    "np.argsort(tfidf_df.sum(axis=0))[:5]"
   ]
  },
  {
   "cell_type": "code",
   "execution_count": 36,
   "metadata": {},
   "outputs": [
    {
     "data": {
      "text/plain": [
       "'Senior Scientist, Medicinal Chemistry\\nOmeros is seeking a Senior Scientist to join our Medicinal Chemistry team. In this role, you’ll be supporting the research project team with medicinal chemistry for drug discovery products, including performing synthetic organic chemistry and molecular chemistry, and aiding in the design of organic molecules to be used in drug discovery.\\nGood things are happening at Omeros!\\nCome join our Medicinal Chemistry Team!\\n\\nWho is Omeros?\\nOmeros is a commercial-stage biopharmaceutical company committed to discovering, developing and commercializing small-molecule and protein therapeutics for large-market as well as orphan indications targeting inflammation, complement-mediated diseases and disorders of the central nervous system.\\n\\nThe company’s drug product OMIDRIA® (phenylephrine and ketorolac injection) 1% / 0.3% is marketed in the U.S. for use during cataract surgery or intraocular lens (IOL) replacement to maintain pupil size by preventing intraoperative miosis (pupil constriction) and to reduce postoperative ocular pain. In the European Union, the European Commission has approved OMIDRIA for use in cataract surgery and other IOL replacement procedures to maintain mydriasis (pupil dilation), prevent miosis (pupil constriction), and to reduce postoperative eye pain.\\n\\nOmeros has multiple Phase 3 and Phase 2 clinical-stage development programs focused on: complement-associated thrombotic microangiopathies; complement-mediated glomerulonephropathies; Huntington’s disease and cognitive impairment; and addictive and compulsive disorders. In addition, Omeros has a diverse group of preclinical programs and a proprietary G protein-coupled receptor (GPCR) platform through which it controls 54 new GPCR drug targets and corresponding compounds, a number of which are in preclinical development. The company also exclusively possesses a novel antibody-generating platform.\\nWhat are your job responsibilities?\\nDesigning and synthesizing potential drug candidate molecules\\nConducting complex air- and moisture-sensitive organic reactions\\nAnalytically characterizing organic compounds using routine methods (NMR, HPLC/MS, etc.)\\nUnderstanding and applying DMPK and biological principals toward the design of small molecules; discusses and maintains structure activity relationships of compounds\\nAnalyzing, preparing and presenting data\\nEffectively using the chemical literature\\nUsing chemistry related software\\nEnsuring safety standards are maintained\\nManaging and archiving data\\nPresenting scientific results effectively in both a technical and informational fashion\\nMaintaining a safe work environment\\nAttending project meetings\\nMay supervise or manage Research Associates\\nWhat experience and education do you need?\\nYou’ll need to have a Ph.D. in Organic Chemistry with a minimum 5+ years of industry experience. Other experience we are seeking includes:\\nIndustry experience in organic synthesis and proven ability to design and synthesize novel compounds through multi-step synthetic routes is required\\nExperience with purification methods and characterization of compounds such as NMR and LCMS is required\\nCNS experience is a plus\\nWhat skills and knowledge does our ideal candidate have?\\nAs our ideal candidate, you’ll need the following skills and knowledge:\\nDemonstrated proficiency in using MS Office applications\\nThe ability to work effectively under pressure, handling multiple priorities simultaneously, is essential\\nExcellent written and verbal communication skills\\nExcellent interpersonal skills\\nTime management skills\\nTeam oriented and highly motivated demeanor\\nThe ability to build and maintain positive relationships with management, peers and subordinates is essential\\nStrong analytical and problem-solving skills, attention to detail\\nIf you have the skills, knowledge and experience we are looking for, we’d love to hear from you!\\nOmeros is an Equal Opportunity Employer. All qualified applicants will receive consideration for employment without regard to status as a protected veteran or a qualified individual with a disability, or other protected status such as race, religion, color, national origin, sex, age, marital status, or any other factor determined to be unlawful by federal, state, or local statutes.\\nIt is our policy to provide reasonable accommodation to anyone with a disability who needs assistance completing the job application process. If you need assistance, you can either send an e-mail to hr@omeros.com or contact Omeros, asking for Human Resources, at (206) 676-5000.'"
      ]
     },
     "execution_count": 36,
     "metadata": {},
     "output_type": "execute_result"
    }
   ],
   "source": [
    "df.iloc[29][0]"
   ]
  },
  {
   "cell_type": "code",
   "execution_count": null,
   "metadata": {},
   "outputs": [],
   "source": []
  }
 ],
 "metadata": {
  "kernelspec": {
   "display_name": "Python 3",
   "language": "python",
   "name": "python3"
  },
  "language_info": {
   "codemirror_mode": {
    "name": "ipython",
    "version": 3
   },
   "file_extension": ".py",
   "mimetype": "text/x-python",
   "name": "python",
   "nbconvert_exporter": "python",
   "pygments_lexer": "ipython3",
   "version": "3.6.6"
  }
 },
 "nbformat": 4,
 "nbformat_minor": 2
}
