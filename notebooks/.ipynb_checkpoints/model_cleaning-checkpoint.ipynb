{
 "cells": [
  {
   "cell_type": "code",
   "execution_count": 1,
   "metadata": {},
   "outputs": [],
   "source": [
    "import pandas as pd\n",
    "import numpy as np\n",
    "from sklearn.feature_extraction.text import TfidfVectorizer\n",
    "from scipy import spatial"
   ]
  },
  {
   "cell_type": "markdown",
   "metadata": {},
   "source": [
    "\n",
    "Read in job descriptions from glassdoor and profile from linkedin. Removing missing values.\n"
   ]
  },
  {
   "cell_type": "code",
   "execution_count": 2,
   "metadata": {},
   "outputs": [],
   "source": [
    "df = pd.read_csv('../data/dsjobs_training_culled.csv', index_col=0)\n",
    "df = df.dropna()"
   ]
  },
  {
   "cell_type": "code",
   "execution_count": 3,
   "metadata": {},
   "outputs": [],
   "source": [
    "profile_vector = pd.read_csv('../data/profile_vector.csv', index_col=0)"
   ]
  },
  {
   "cell_type": "markdown",
   "metadata": {},
   "source": [
    "\n",
    "Creating a Full dataframe that includes the profile as the first observation.\n"
   ]
  },
  {
   "cell_type": "code",
   "execution_count": 4,
   "metadata": {},
   "outputs": [],
   "source": [
    "full_df = profile_vector['profile'].append(df['jobs'])"
   ]
  },
  {
   "cell_type": "markdown",
   "metadata": {},
   "source": [
    "Fitting TfidfVectorizer on the whole corpus and creating a dataframe with the results."
   ]
  },
  {
   "cell_type": "code",
   "execution_count": 5,
   "metadata": {},
   "outputs": [],
   "source": [
    "vectorizer = TfidfVectorizer(stop_words='english')\n",
    "vectorizer.fit(full_df)\n",
    "transformed_model = vectorizer.transform(full_df)\n",
    "tfidf_df = pd.DataFrame(transformed_model.toarray())"
   ]
  },
  {
   "cell_type": "code",
   "execution_count": 7,
   "metadata": {},
   "outputs": [],
   "source": [
    "profile = tfidf_df.iloc[0, :]"
   ]
  },
  {
   "cell_type": "markdown",
   "metadata": {},
   "source": [
    "Calculating the Cosine distance between the linkedin profile and each job posting."
   ]
  },
  {
   "cell_type": "code",
   "execution_count": 19,
   "metadata": {},
   "outputs": [],
   "source": [
    "distances = []\n",
    "for i in range(len(tfidf_df.index)):\n",
    "    distances.append(spatial.distance.cosine(profile, tfidf_df.iloc[i,:]))"
   ]
  },
  {
   "cell_type": "markdown",
   "metadata": {},
   "source": [
    "Sort distances by closest to furthest "
   ]
  },
  {
   "cell_type": "code",
   "execution_count": 20,
   "metadata": {},
   "outputs": [],
   "source": [
    "sorted_distances = np.sort(distances)"
   ]
  },
  {
   "cell_type": "code",
   "execution_count": 24,
   "metadata": {},
   "outputs": [
    {
     "data": {
      "text/plain": [
       "array([0.        , 0.80989248, 0.84734903, 0.8862868 , 0.89611812,\n",
       "       0.89793871])"
      ]
     },
     "execution_count": 24,
     "metadata": {},
     "output_type": "execute_result"
    }
   ],
   "source": [
    "sorted_distances[:6]"
   ]
  },
  {
   "cell_type": "markdown",
   "metadata": {},
   "source": [
    "Argsort distances to get indices of a sorted list"
   ]
  },
  {
   "cell_type": "code",
   "execution_count": 21,
   "metadata": {},
   "outputs": [],
   "source": [
    "indices = np.argsort(distances)"
   ]
  },
  {
   "cell_type": "code",
   "execution_count": 23,
   "metadata": {},
   "outputs": [
    {
     "data": {
      "text/plain": [
       "array([  0,  14,  98, 113, 103,  89])"
      ]
     },
     "execution_count": 23,
     "metadata": {},
     "output_type": "execute_result"
    }
   ],
   "source": [
    "indices[:6]"
   ]
  },
  {
   "cell_type": "code",
   "execution_count": 64,
   "metadata": {},
   "outputs": [],
   "source": [
    "indices_df = pd.DataFrame({'indices': indices})"
   ]
  },
  {
   "cell_type": "code",
   "execution_count": 75,
   "metadata": {},
   "outputs": [],
   "source": [
    "sorted_distances_df = pd.DataFrame({'distances': sorted_distances})"
   ]
  },
  {
   "cell_type": "markdown",
   "metadata": {},
   "source": [
    "Sort the full dataframe by the sorted indices to get descriptions in order of most similar to least similar"
   ]
  },
  {
   "cell_type": "code",
   "execution_count": 25,
   "metadata": {},
   "outputs": [],
   "source": [
    "sorted_df = pd.DataFrame({'jobs': full_df.iloc[indices]}).set_index(np.arange(0,120))"
   ]
  },
  {
   "cell_type": "markdown",
   "metadata": {},
   "source": [
    "Create column 'Labels' of zeros to be filled in with either a True, or a False"
   ]
  },
  {
   "cell_type": "code",
   "execution_count": 27,
   "metadata": {},
   "outputs": [],
   "source": [
    "sorted_df['labels'] = np.zeros(120)"
   ]
  },
  {
   "cell_type": "markdown",
   "metadata": {},
   "source": [
    "Create test dataframe to experiment with user issued labels"
   ]
  },
  {
   "cell_type": "code",
   "execution_count": 46,
   "metadata": {},
   "outputs": [],
   "source": [
    "sorted_tfidf = pd.DataFrame(tfidf_df.iloc[indices]).set_index(np.arange(0,120))"
   ]
  },
  {
   "cell_type": "code",
   "execution_count": 113,
   "metadata": {},
   "outputs": [],
   "source": [
    "total_df = pd.concat([indices_df, sorted_df, sorted_distances_df, sorted_tfidf], axis=1)"
   ]
  },
  {
   "cell_type": "code",
   "execution_count": 114,
   "metadata": {},
   "outputs": [],
   "source": [
    "total_df.iat[0,2] = 10.0"
   ]
  },
  {
   "cell_type": "code",
   "execution_count": 814,
   "metadata": {},
   "outputs": [],
   "source": [
    "test_df = total_df.copy()"
   ]
  },
  {
   "cell_type": "code",
   "execution_count": 815,
   "metadata": {},
   "outputs": [
    {
     "data": {
      "text/html": [
       "<div>\n",
       "<style scoped>\n",
       "    .dataframe tbody tr th:only-of-type {\n",
       "        vertical-align: middle;\n",
       "    }\n",
       "\n",
       "    .dataframe tbody tr th {\n",
       "        vertical-align: top;\n",
       "    }\n",
       "\n",
       "    .dataframe thead th {\n",
       "        text-align: right;\n",
       "    }\n",
       "</style>\n",
       "<table border=\"1\" class=\"dataframe\">\n",
       "  <thead>\n",
       "    <tr style=\"text-align: right;\">\n",
       "      <th></th>\n",
       "      <th>indices</th>\n",
       "      <th>jobs</th>\n",
       "      <th>labels</th>\n",
       "      <th>distances</th>\n",
       "      <th>0</th>\n",
       "      <th>1</th>\n",
       "      <th>2</th>\n",
       "      <th>3</th>\n",
       "      <th>4</th>\n",
       "      <th>5</th>\n",
       "      <th>...</th>\n",
       "      <th>4684</th>\n",
       "      <th>4685</th>\n",
       "      <th>4686</th>\n",
       "      <th>4687</th>\n",
       "      <th>4688</th>\n",
       "      <th>4689</th>\n",
       "      <th>4690</th>\n",
       "      <th>4691</th>\n",
       "      <th>4692</th>\n",
       "      <th>4693</th>\n",
       "    </tr>\n",
       "  </thead>\n",
       "  <tbody>\n",
       "    <tr>\n",
       "      <th>0</th>\n",
       "      <td>0</td>\n",
       "      <td>Data Scientist Greater Seattle Area Data Scien...</td>\n",
       "      <td>10.0</td>\n",
       "      <td>0.000000</td>\n",
       "      <td>0.0</td>\n",
       "      <td>0.0</td>\n",
       "      <td>0.0</td>\n",
       "      <td>0.0</td>\n",
       "      <td>0.0</td>\n",
       "      <td>0.0</td>\n",
       "      <td>...</td>\n",
       "      <td>0.0</td>\n",
       "      <td>0.0</td>\n",
       "      <td>0.0</td>\n",
       "      <td>0.0</td>\n",
       "      <td>0.0</td>\n",
       "      <td>0.0</td>\n",
       "      <td>0.117186</td>\n",
       "      <td>0.0</td>\n",
       "      <td>0.0</td>\n",
       "      <td>0.0</td>\n",
       "    </tr>\n",
       "    <tr>\n",
       "      <th>1</th>\n",
       "      <td>14</td>\n",
       "      <td>Are you interested in working for one of the m...</td>\n",
       "      <td>0.0</td>\n",
       "      <td>0.809892</td>\n",
       "      <td>0.0</td>\n",
       "      <td>0.0</td>\n",
       "      <td>0.0</td>\n",
       "      <td>0.0</td>\n",
       "      <td>0.0</td>\n",
       "      <td>0.0</td>\n",
       "      <td>...</td>\n",
       "      <td>0.0</td>\n",
       "      <td>0.0</td>\n",
       "      <td>0.0</td>\n",
       "      <td>0.0</td>\n",
       "      <td>0.0</td>\n",
       "      <td>0.0</td>\n",
       "      <td>0.000000</td>\n",
       "      <td>0.0</td>\n",
       "      <td>0.0</td>\n",
       "      <td>0.0</td>\n",
       "    </tr>\n",
       "    <tr>\n",
       "      <th>2</th>\n",
       "      <td>98</td>\n",
       "      <td>The Microsoft Cloud+AI Design team is looking ...</td>\n",
       "      <td>0.0</td>\n",
       "      <td>0.847349</td>\n",
       "      <td>0.0</td>\n",
       "      <td>0.0</td>\n",
       "      <td>0.0</td>\n",
       "      <td>0.0</td>\n",
       "      <td>0.0</td>\n",
       "      <td>0.0</td>\n",
       "      <td>...</td>\n",
       "      <td>0.0</td>\n",
       "      <td>0.0</td>\n",
       "      <td>0.0</td>\n",
       "      <td>0.0</td>\n",
       "      <td>0.0</td>\n",
       "      <td>0.0</td>\n",
       "      <td>0.000000</td>\n",
       "      <td>0.0</td>\n",
       "      <td>0.0</td>\n",
       "      <td>0.0</td>\n",
       "    </tr>\n",
       "    <tr>\n",
       "      <th>3</th>\n",
       "      <td>113</td>\n",
       "      <td>Lead Data Scientist\\n\\nSeattle, WA\\n\\nJob Desc...</td>\n",
       "      <td>0.0</td>\n",
       "      <td>0.886287</td>\n",
       "      <td>0.0</td>\n",
       "      <td>0.0</td>\n",
       "      <td>0.0</td>\n",
       "      <td>0.0</td>\n",
       "      <td>0.0</td>\n",
       "      <td>0.0</td>\n",
       "      <td>...</td>\n",
       "      <td>0.0</td>\n",
       "      <td>0.0</td>\n",
       "      <td>0.0</td>\n",
       "      <td>0.0</td>\n",
       "      <td>0.0</td>\n",
       "      <td>0.0</td>\n",
       "      <td>0.000000</td>\n",
       "      <td>0.0</td>\n",
       "      <td>0.0</td>\n",
       "      <td>0.0</td>\n",
       "    </tr>\n",
       "    <tr>\n",
       "      <th>4</th>\n",
       "      <td>103</td>\n",
       "      <td>Overall Job Purpose:\\n\\nThis role will be loca...</td>\n",
       "      <td>0.0</td>\n",
       "      <td>0.896118</td>\n",
       "      <td>0.0</td>\n",
       "      <td>0.0</td>\n",
       "      <td>0.0</td>\n",
       "      <td>0.0</td>\n",
       "      <td>0.0</td>\n",
       "      <td>0.0</td>\n",
       "      <td>...</td>\n",
       "      <td>0.0</td>\n",
       "      <td>0.0</td>\n",
       "      <td>0.0</td>\n",
       "      <td>0.0</td>\n",
       "      <td>0.0</td>\n",
       "      <td>0.0</td>\n",
       "      <td>0.000000</td>\n",
       "      <td>0.0</td>\n",
       "      <td>0.0</td>\n",
       "      <td>0.0</td>\n",
       "    </tr>\n",
       "  </tbody>\n",
       "</table>\n",
       "<p>5 rows × 4698 columns</p>\n",
       "</div>"
      ],
      "text/plain": [
       "   indices                                               jobs  labels  \\\n",
       "0        0  Data Scientist Greater Seattle Area Data Scien...    10.0   \n",
       "1       14  Are you interested in working for one of the m...     0.0   \n",
       "2       98  The Microsoft Cloud+AI Design team is looking ...     0.0   \n",
       "3      113  Lead Data Scientist\\n\\nSeattle, WA\\n\\nJob Desc...     0.0   \n",
       "4      103  Overall Job Purpose:\\n\\nThis role will be loca...     0.0   \n",
       "\n",
       "   distances    0    1    2    3    4    5  ...   4684  4685  4686  4687  \\\n",
       "0   0.000000  0.0  0.0  0.0  0.0  0.0  0.0  ...    0.0   0.0   0.0   0.0   \n",
       "1   0.809892  0.0  0.0  0.0  0.0  0.0  0.0  ...    0.0   0.0   0.0   0.0   \n",
       "2   0.847349  0.0  0.0  0.0  0.0  0.0  0.0  ...    0.0   0.0   0.0   0.0   \n",
       "3   0.886287  0.0  0.0  0.0  0.0  0.0  0.0  ...    0.0   0.0   0.0   0.0   \n",
       "4   0.896118  0.0  0.0  0.0  0.0  0.0  0.0  ...    0.0   0.0   0.0   0.0   \n",
       "\n",
       "   4688  4689      4690  4691  4692  4693  \n",
       "0   0.0   0.0  0.117186   0.0   0.0   0.0  \n",
       "1   0.0   0.0  0.000000   0.0   0.0   0.0  \n",
       "2   0.0   0.0  0.000000   0.0   0.0   0.0  \n",
       "3   0.0   0.0  0.000000   0.0   0.0   0.0  \n",
       "4   0.0   0.0  0.000000   0.0   0.0   0.0  \n",
       "\n",
       "[5 rows x 4698 columns]"
      ]
     },
     "execution_count": 815,
     "metadata": {},
     "output_type": "execute_result"
    }
   ],
   "source": [
    "test_df.head()"
   ]
  },
  {
   "cell_type": "code",
   "execution_count": 816,
   "metadata": {},
   "outputs": [],
   "source": [
    "class yes():\n",
    "    def __init__(self, df):\n",
    "        self.df = df\n",
    "    \n",
    "    def prompt_user(self, df, index):\n",
    "        recommended_posting = pd.DataFrame(df.iloc[index, :]).T\n",
    "        original_index = int(recommended_posting['indices'])\n",
    "        label_index = self.df[self.df['indices'] == original_index].index[0]\n",
    "        print(recommended_posting.iloc[0,1])\n",
    "        label = input(\"\\nyes/no (quit)\")\n",
    "        if label == 'quit':\n",
    "            return \"Done\"\n",
    "        if label == 'yes':\n",
    "            self.df.iat[label_index,2] = 1.0\n",
    "        if label == 'no':\n",
    "            self.df.iat[label_index,2] = -1.0\n",
    "        return self.df\n",
    "    \n",
    "    def improve_yes(self, df):\n",
    "        yes_df = pd.DataFrame(df[df['labels'] == 1.0])\n",
    "        yes_remains = pd.DataFrame(df[df['labels'] == 0.0])\n",
    "        yes_remains = yes_remains.set_index(np.arange(0, yes_remains.shape[0]))\n",
    "        distances_from_yes = np.zeros((yes_remains.shape[0], yes_df.shape[0]))\n",
    "        for i in range(yes_df.shape[0]):\n",
    "            for j in range(yes_remains.shape[0]):\n",
    "                distances_from_yes[j,i] = (spatial.distance.cosine(yes_df.iloc[0,4:], yes_remains.iloc[j,4:]))\n",
    "        yes_remains['distances_from_yes'] = np.sum(distances_from_yes, axis=1)\n",
    "        return yes_remains\n",
    "    \n",
    "    def improve_no(self, df):\n",
    "        no_df = pd.DataFrame(df[df['labels'] == -1.0])\n",
    "        no_remains = pd.DataFrame(df[df['labels'] == 0.0])\n",
    "        no_remains = no_remains.set_index(np.arange(0, no_remains.shape[0]))\n",
    "        distances_from_no = np.zeros((no_remains.shape[0], no_df.shape[0]))\n",
    "        for i in range(no_df.shape[0]):\n",
    "            for j in range(no_remains.shape[0]):\n",
    "                distances_from_no[j,i] = (spatial.distance.cosine(no_df.iloc[0,4:], no_remains.iloc[j,4:]))\n",
    "        no_remains['distances_from_no'] = np.sum(distances_from_no, axis=1)\n",
    "        return no_remains\n",
    "    \n",
    "    def find_next_best(self, df, index):\n",
    "        adjusted_df = self.prompt_user(df, index)\n",
    "        try:\n",
    "            yes_remains = self.improve_yes(adjusted_df)\n",
    "            no_remains = self.improve_no(adjusted_df)\n",
    "        except TypeError:\n",
    "            return self.df\n",
    "        total_distance = yes_remains.distances + yes_remains.distances_from_yes - no_remains.distances_from_no\n",
    "        remains = yes_remains.copy()\n",
    "        remains['total_distance'] = total_distance\n",
    "        next_best_index = remains.total_distance.idxmin()\n",
    "        return self.find_next_best(remains, next_best_index)\n",
    "    "
   ]
  },
  {
   "cell_type": "code",
   "execution_count": 817,
   "metadata": {},
   "outputs": [],
   "source": [
    "test = yes(test_df)"
   ]
  },
  {
   "cell_type": "code",
   "execution_count": 818,
   "metadata": {},
   "outputs": [
    {
     "name": "stdout",
     "output_type": "stream",
     "text": [
      "Are you interested in working for one of the most exciting products in Microsoft, passionate about exceeding customer expectations and advancing Microsoft's cloud first strategy? Are you interested in a start-up like environment, excited about cloud computing technology and driving growth in one of Microsoft's core businesses? If so, then look no further than the Azure Customer Experience (CXP) Team!\n",
      "\n",
      "Microsoft Azure provides customers with an on-demand and infinitely scalable infrastructure and platform for customers to build, host, and scale service applications on the Internet through Microsoft’s global data centers. As part of the Azure Engineering organization, Azure CXP is a rapidly growing team committed to driving Azure growth through our relentless pursuit of satisfied Azure customers, by leading world-class customer reliability engagements, engineering modern customer-first experiences for scale, and by driving deep customer insights and empathy into the broader Azure Engineering organization.\n",
      "\n",
      "We are looking for a strong Data Scientist with a proven track record of solving large, complex data analysis and machine learning problems in a real-world customer focused setting. The ideal candidate should be able to identify a business or engineering problem, translate it to a data science project, determine sources of data, conduct the analysis that will reveal actionable insights, and develop/operationalize models that enable new capabilities and scenarios for our customers and partner teams.\n",
      "\n",
      "Responsibilities\n",
      "\n",
      "Core Skills:\n",
      "Work with management and stakeholders, identify opportunities for data science to make an impact, and formulate these opportunities to data science projects.\n",
      "Identifies data sources, integrates multiple sources or types of data, and applies expertise within a data source to develop methods to compensate for limitations and extend the applicability of the data\n",
      "Applies (and develops if necessary) tools and pipelines to efficiently collect, clean, and prepare massive volumes of data for analysis\n",
      "Transforms formulated problems into implementation plans for experiments by applying (and creating when necessary) the appropriate data science methods, algorithms, and tools, and then statistically validating the results against biases and errors\n",
      "Interprets results and develops insights into formulated problems within the business/customer context and provides guidance on risks and limitations\n",
      "Acquires and uses broad knowledge of innovative methods, algorithms, and tools from within Microsoft and from the larger scientific community, and applies his or her own analysis of scalability and applicability to the formulated problem\n",
      "Validates, monitors, and drives continuous improvement to methods, and proposes enhancements to data sources that improve usability and results\n",
      "Qualifications\n",
      "\n",
      "Requirements:\n",
      "\n",
      "· B.S. and/or M.S. (Ph.D. Preferred) in Computer Science, Statistics, Operations Research or similar quantitative field\n",
      "\n",
      "· Solid foundation of machine learning algorithms (classification, regression, clustering, time series forecasting, recommender system, text analytics). Experience with deep learning is a plus.\n",
      "\n",
      "· Working experience in applying machine learning to one or more of the following fields (forecasting, text analytics, customer CRM, transactional analytics, etc).\n",
      "\n",
      "· Deep understanding of big data systems, including Spark, Hadoop, Azure Data Lake, Cosmos, Azure SQL, etc.\n",
      "\n",
      "· Expert in one or more machine learning platforms, such as R, Python, Azure ML\n",
      "\n",
      "· Expert in one or more scripting languages, such as R, Python, SQL, C++, etc\n",
      "\n",
      "· Experience building data pipelines to operationalize end-to-end solutions\n",
      "\n",
      "· 2+ years of applying statistical modeling and machine learning algorithms to real world problems\n",
      "\n",
      "Ability to meet Microsoft, customer and/or government security screening requirements are required for this role. These requirements include, but are not limited to the following specialized security screenings:\n",
      "\n",
      "Microsoft Cloud Background Check: This position will be required to pass the Microsoft Cloud background check upon hire/transfer and every two years thereafter.\n",
      "\n",
      "Microsoft is an equal opportunity employer. All qualified applicants will receive consideration for employment without regard to age, ancestry, color, family or medical care leave, gender identity or expression, genetic information, marital status, medical condition, national origin, physical or mental disability, political affiliation, protected veteran status, race, religion, sex (including pregnancy), sexual orientation, or any other characteristic protected by applicable laws, regulations and ordinances. We also consider qualified applicants regardless of criminal histories, consistent with legal requirements. If you need assistance and/or a reasonable accommodation due to a disability during the application or the recruiting process, please send a request via the Accommodation request form.\n",
      "\n",
      "Benefits/perks listed below may vary depending on the nature of your employment with Microsoft and the country where you work.\n"
     ]
    },
    {
     "name": "stdin",
     "output_type": "stream",
     "text": [
      "\n",
      "yes/no (quit) yes\n"
     ]
    },
    {
     "name": "stdout",
     "output_type": "stream",
     "text": [
      "The Microsoft Cloud+AI Design team is looking for a Senior Data Scientist to join our Experience Analytics team ? we work hard, have fun, and value collaboration and individuality in each other. As a team, we?re passionate about maximizing the impact of Data Science work on Design and Product decisions, and we are leading discussions in this area within Microsoft and beyond.\n",
      "\n",
      "Join us if you want to impact how millions of users use the cloud and all the services it enables. Our customers range from people with highly technical skills to information workers working with cloud enabled devices and services. Our product portfolio includes Dynamics, Azure, Power BI, PowerApps, Flow, and more.\n",
      "\n",
      "The mission of the Experience Analytics team is to leverage product telemetry to unpack the nuance behind our customers? end-to-end journeys and drive design decisions. As a Data Scientist on the Experience Analytics team, you?ll answer key questions about users, their in-product workflow, and the quality of the user experience for your product. You will partner with Design Researchers to build a deep understanding of users, competition and market, and conduct analyses in a fast-paced, agile environment. You?ll have experience conducting a variety of analyses in different situations, from exploratory analyses to generate hypotheses, to building statistical models that quantify the impact of particular design changes. You?ll inspire change at all stages of product development by delivering exciting oral, written and visual presentations about your findings. Your primary job as an advocate for our users is to help the product team understand what would make a user?s experiences natural, useful and delightful.\n",
      "*Responsibilities**\n",
      "*Responsibilities**\n",
      "+ Work closely with product teams to identify research questions, and partner with Engineering to ensure that the right data is being collected to answer those questions\n",
      "\n",
      "+ Conduct analyses that can help product teams explain the context behind their business metrics results, through a detailed breakdown of the behaviors and characteristics that users exhibit while using the product\n",
      "\n",
      "+ Set the standard for data and analysis excellence across multiple product areas; serve as a mentor for other Data Scientists working on these products to maximize the team?s impact\n",
      "\n",
      "+ Communicate your findings in a clear, concise, and visual (when appropriate) manner to our key stakeholders on the product and design teams, and drive meaningful action based on those findings\n",
      "\n",
      "+ Proactively engage in a culture of peer review, both as a reviewer and a reviewee. We pride ourselves on a data-driven culture, and as such, value transparency, cross-sharing, and respectful critiques to put forward our best analysis for each and every research question\n",
      "\n",
      "+ Work cross-functionally with Design Researchers, Visual / Interaction / Content Designers, Program Managers and Software Engineers in a fast-moving Agile environment\n",
      "*Qualifications for the role**\n",
      "+ A Master?s Degree or PhD in Data Science, Cognitive Science, Information Science, Human-Computer Interaction, Statistics, or a similar relevant field. We know that there are many paths that may have led you to the intersection of Design and Data Science, so we are flexible on the specific area of study so long as there is a strong educational foundation to your career\n",
      "\n",
      "+ A strong background in statistics and machine learning ? you should be self-directed when it comes to choosing an analysis approach given a research question and a dataset\n",
      "\n",
      "+ Excellent working knowledge of experiment design (A/B tests)\n",
      "\n",
      "+ Experience with a statistical programming language / package like R (preferred) or Python\n",
      "\n",
      "+ A strong interest (bordering on obsession) with Design and User Experience. A key part of this role will be partnering with Design Researchers, so you should have a deep understanding and appreciation of the value they bring to the table, and an excitement to partner with them to tell more complete stories rooted in data\n",
      "\n",
      "+ 5+ years of work experience in an applied research or data science setting\n",
      "\n",
      "+ Excellent interpersonal, communication, negotiation and collaboration skills\n",
      "*Qualifications**\n",
      "Ability to meet Microsoft, customer and/or government security screening requirements are required for this role. These requirements include, but are not limited to the following specialized security screenings: Microsoft Cloud Background Check: This position will be required to pass the Microsoft Cloud Background Check upon hire/transfer and every two years thereafter.\n",
      "\n",
      "Microsoft is an equal opportunity employer. All qualified applicants will receive consideration for employment without regard to age, ancestry, color, family or medical care leave, gender identity or expression, genetic information, marital status, medical condition, national origin, physical or mental disability, political affiliation, protected veteran status, race, religion, sex (including pregnancy), sexual orientation, or any other characteristic protected by applicable laws, regulations and ordinances.\n",
      "\n",
      "Benefits/perks listed below may vary depending on the nature of your employment with Microsoft and the country where you work.\n"
     ]
    },
    {
     "name": "stdin",
     "output_type": "stream",
     "text": [
      "\n",
      "yes/no (quit) no\n"
     ]
    },
    {
     "name": "stdout",
     "output_type": "stream",
     "text": [
      "Minimum of 5 years of working experience.\n",
      "Experience in a technical/international organization is an advantage.\n",
      "You are fluent in both written and spoken English.\n",
      "You have knowledge of SQL Server databases and SQL.\n",
      "You master programming in R or Python.\n",
      "You have broad experience in applied statistics.\n",
      "Knowledge of C# is an advantage.\n",
      "Knowledge of Microsoft Azure is an advantage (Azure Machine Learning, Stream Analytics, Azure functions)\n",
      "You have experience with reporting tools like PowerBI.\n",
      "IoT knowledge is an advantage.\n",
      "Experis is an Equal Opportunity Employer (EOE/AA) - provided by Dice\n",
      "\n",
      "machine learning,Azure,Python,R,Iot,C#,data science\n"
     ]
    },
    {
     "name": "stdin",
     "output_type": "stream",
     "text": [
      "\n",
      "yes/no (quit) yes\n"
     ]
    },
    {
     "name": "stdout",
     "output_type": "stream",
     "text": [
      "Principal Data Scientist\n",
      "\n",
      "Customer Success and Support | Seattle, Washington\n",
      "\n",
      "Position Summary\n",
      "\n",
      "The Principal Data Scientist - Customer Success Analytics is responsible designing and building models & algorithms that power the next generation of actionable insights for the Customer Success organization at DocuSign.\n",
      "\n",
      "The ideal candidate has a rich experience across the domains of Customer Success, Professional Services, Customer Support and Sales Lifecycle as a data scientist / decision scientist. You will leverage big data, statistical analysis, machine learning, AI and other advanced techniques to help DocuSign drive customer success, retention, upsell and cross-sell. You will partner closely with other data scientists and analysts in product engineering, marketing, sales and finance. This role will influence and shape the design, architecture and roadmap for advanced predictive and prescriptive analytics while collaborating & partnering with customer success teams on business & customer requirements to improve customer journeys and drive targeted customer outcomes with tangible ROI. You have a track record of driving successful data science initiatives while balancing the diagnosis and fixing of urgent problems with a calm assertive approach\n",
      "\n",
      "This role requires the ability to deliver in matrixed organization at global scale. The candidate is deeply analytical with keen understanding of business process and programs and the ability to translate data and insights into operational readouts.\n",
      "\n",
      "This position is an individual contributor position and reports to the Senior Manager, Customer Success Analytics, Services Management\n",
      "\n",
      "Responsibilities\n",
      "Design and build models / algorithms to drive predictive & prescriptive analytics across the customer journey understand, track and predict sequences of events and interactions - evolve Customer Adoption Index to a holistic Customer Health Index\n",
      "Drive prediction model and account targeting for Customer Success Managers and Account Managers across North America, EMEA and APAC, to improve the customer journey and positively impact MRR/ARR while improving the customer experience along the journey\n",
      "Deliver on insights and analytics to help business leaders answer critical questions related to customer journey mapping, customer experience, adoption and health\n",
      "Combine analytics, exploratory skills and data intuition to deliver customer insights on Customer Adoption Index, Customer Health Index, churn causalities and upsell opportunities\n",
      "Report on key metrics and KPIs to all key business partners, including Sr. Leadership, across Customer Success Enablement, Professional Services, field CSM roles, and regional CSM organizations in EMEA and APAC\n",
      "Determine opportunities for improvement across process, tooling and data automation to optimize costs and decrease turnaround time for analytics consumers\n",
      "Travel: Ability to travel periodically within US\n",
      "\n",
      "Basic Qualifications\n",
      "10-12 Years of experience in solving complex business problems using data science, statistical techniques & machine learning to build predictive & prescriptive solutions across the customer journey\n",
      "Demonstrated experience in executing on complex projects, extracting, cleansing, and manipulating large, diverse structured and unstructured data sets on relational SQL, NOSQL databases\n",
      "Experience working in an agile environment with iterative development & business feedback\n",
      "Experience providing insights to support strategic decisions, including preparing and delivering insights and recommendations\n",
      "3-4 years of experience with Python/R/SCALA, extensive knowledge and hand-on experience in statistical programming SAS/SPSS/MATLAB and data science toolkits Pandas/Jupyter/SCIKIT/Tensorflow\n",
      "3-4 years of experience applying machine learning solving real business and customer problems\n",
      "4-6 years of experience across Customer Success, Professional Services, Customer Support in account targeting, propensity analysis, customer health index, adoption, churn, customer journeys, lifetime value, upsell, cross-sell\n",
      "3-4 years of experience in Enterprise Visualization Tools: Tableau, QlikView, PowerBI, MS Office Suite, Excel skills - pivot tables, macros, PowerPivots, statistical functions\n",
      "A Bachelor's or Master's degree in Computer Science, Analytics, Applied Mathematics or Statistics, Econometrics, or closely related field\n",
      "Preferred Qualifications\n",
      "Comfortable with loosely defined requirements where you exercise your analytical skills to collaborate with the rest of the team to build solutions\n",
      "Excellent problem-solving skills with ability to synthesize & communicate complex results to senior leaders\n",
      "Attention to detail with focus on data quality, data consistency and criticality\n",
      "Ability to shape ambiguity, govern & prioritize in a matrixed environment across organizational boundaries\n",
      "Strong desire to stay ahead of industry trends & technologies with a commitment to continuous learning\n",
      "Preferred experience using machine learning to build recommender systems\n",
      "Exposure to AI, Deep Learning, Neural Networks, NLP\n",
      "Exposure to big data platforms Snowflake, Redshift, Azure, Matillion, Hadoop\n",
      "Masters or PhD in statistics, econometrics, operations research, computer science, applied mathematics\n",
      "Customer Success & Support @ DocuSign\n",
      "At DocuSign, we measure our success by our customers' success. We collaborate with our customers to help them leverage their use of our products for maximum impact. Our global Customer Success and Support team provides consulting services and technical support on-site and over the phone support. We ensure that all our customers are satisfied and are DocuAdvocates. You are the eyes and ears of our company and provide insightful customer feedback to the rest of the organization, so we can improve the user experience and make it one that consistently exceeds expectations.\n",
      "\n",
      "About DocuSign\n",
      "DocuSign® is changing how business gets done by empowering hundreds of thousands of customers and tens of millions of users in most countries around the world to sign, send and manage documents anytime, anywhere, on any device with confidence. DocuSign replaces printing, faxing, scanning and overnighting documents with the easiest, fastest, most trusted way to make every approval and decision digital. Organizations of all sizes and industries are accelerating contracts, approvals and workflows with DocuSign's Digital Transaction Management (DTM) platform and eSignature solution. DocuSign keeps life and business moving forward.\n",
      "\n",
      "DocuSign is an Equal Opportunity Employer. Individuals seeking employment at DocuSign are considered without regards to race, ethnicity, color, age, sex, religion, national origin, ancestry, pregnancy, sexual orientation, gender identity, gender expression, genetic information, physical or mental disability, registered domestic partner status, caregiver status, marital status, veteran or military status, citizenship status, or any other legally protected category.\n",
      "\n",
      "#LI-DS1\n"
     ]
    },
    {
     "name": "stdin",
     "output_type": "stream",
     "text": [
      "\n",
      "yes/no (quit) no\n"
     ]
    },
    {
     "name": "stdout",
     "output_type": "stream",
     "text": [
      "Senior Data Scientist or Data Scientist #88345\n",
      "JOB SUMMARY: Puget Sound Energys Strategic Customer Insights Group is looking for a Data Scientist to join our team. This role works in a team that is designed to attain the companys strategic goals via the extensive use of data and analysis to drive decisions and actions. The ideal candidate will be responsible for the continuous improvement of PSEs competitiveness as an energy partner in the northwest through an analytical focus on customer experience.\n",
      "\n",
      "At the discretion of the hiring team, this position may be filled as a senior data scientist or data scientist depending on the qualifications of the selected candidate.\n",
      "\n",
      "Families and businesses depend on PSE to provide the energy they need to pursue their dreams. Our steadfast commitment to serving Washington communities with safe, dependable and efficient energy started in 1886. Today were building the Northwests energy future through efforts like our award winning energy efficiency programs and our leadership in renewable energy.\n",
      "\n",
      "At PSE all employees are valued, respected and provided with the opportunity to excel professionally. We offer an expansive pay package that includes competitive compensation, annual goals-based incentive bonuses, comprehensive cafeteria-style benefits, 401(K), a company paid retirement pension plan, and an employee assistance and wellness program.\n",
      "JOB REQUIREMENT:\n",
      "JOB RESPONSIBILTY: • Perform deep data analysis to identify opportunities to improve customer experience\n",
      "Acquire data and conduct research to evaluate and analyze evolving priorities\n",
      "Employ advanced statistical methods to support management decision-making\n",
      "Perform customer survey analytics/modeling and participate in survey design\n",
      "Develop regression models, classification models, customer segmentation schemas, etc. to improve customer experience and increase customer engagement\n",
      "Analyze data to create performance metrics that align with company goals\n",
      "Provide leadership for cross-functional projects\n",
      "Effectively communicate and collaborate across groups to provide customer intelligence to the organization\n",
      "Proactively research industry trends, opportunities, and risks\n",
      "Analyze and report on web data\n",
      "Perform other duties as assigned\n"
     ]
    },
    {
     "name": "stdin",
     "output_type": "stream",
     "text": [
      "\n",
      "yes/no (quit) yes\n"
     ]
    },
    {
     "name": "stdout",
     "output_type": "stream",
     "text": [
      "Job Description\n",
      "The Amazon Demand Forecasting team seeks a Data Scientist with strong analytical and communication skills to join our team. We develop sophisticated algorithms that involve learning from large amounts of data, such as prices, promotions, similar products, and a product’s attributes, in order to forecast the demand of over 190 million products world-wide. These forecasts are used to automatically order more than $200 million worth of inventory weekly, establish labor plans for tens of thousands of employees, and predict the company’s financial performance. The work is complex and important to Amazon. With better forecasts we drive down supply chain costs, enabling the offer of lower prices and better in-stock selection for our customers.\n",
      "\n",
      "In a typical day, you will work closely with talented machine learning scientists, statisticians, software engineers, and business groups. Your work will include cutting edge technologies that enable implementation of sophisticated models on big data. As a successful data scientist in our Demand Forecasting team, you are an analytical problem solver who enjoys diving into data, is excited about investigations and algorithms, can multi-task, and can credibly interface between technical teams and business stakeholders. Your analytical abilities, business understanding, and technical savvy will be used to identify specific and actionable opportunities to solve existing business problems in Demand Forecasting, through collaboration with engineering, research, and business teams. Your expertise in synthesizing and communicating insights and recommendations to audiences of varying levels of technical sophistication will enable you to answer specific business questions and innovate for the future.\n",
      "Major responsibilities include:\n",
      "\n",
      "· Translating Demand Forecasting business questions and concerns into specific analytical questions that can be answered with available data using statistical and machine learning methods; working with engineers to produce the required data when it is not available\n",
      "\n",
      "· Providing feedback to our science and engineering teams on the applicability of technical solutions from the business perspective\n",
      "\n",
      "· Presenting critical data in a format that is immediately useful to answer questions about the inputs and outputs of Demand Forecasting systems and improving their performance\n",
      "\n",
      "· Communicating verbally and in writing to business customers with various levels of technical knowledge, educating them about our systems, as well as sharing insights and recommendations\n",
      "\n",
      "· Improving upon existing Demand Forecasting statistical or machine learning methodologies by developing new data sources, testing model enhancements, running computational experiments, and fine-tuning model parameters for new forecasting models\n",
      "\n",
      "· Supporting decision making by providing requirements to develop analytic capabilities, platforms, pipelines and metrics then using them to analyze trends and find root causes of forecast inaccuracy\n",
      "\n",
      "· Formalizing assumptions about how demand forecasts are expected to behave, creating definitions of outliers, developing methods to systematically identify these outliers, and explaining why they are reasonable or identifying fixes for them\n",
      "\n",
      "· Utilizing code (Python, R, Scala, etc.) for analyzing data and building statistical and machine learning models and algorithms\n",
      "\n",
      "Amazon.com is an Equal Opportunity-Affirmative Action Employer – Minority / Female / Disability / Veteran / Gender Identity / Sexual Orientation\n",
      "\n",
      "\n",
      "Basic Qualifications\n",
      "· Bachelor’s or Master’s degree in a quantitative field such as Statistics, Applied Mathematics, Physics, Engineering, Computer Science, or Economics\n",
      "\n",
      "· 2+ years of relevant working experience in an analytical role involving data extraction, analysis, and communication\n",
      "\n",
      "· 2+ years of experience with data querying languages (e.g. SQL, Hadoop/Hive) and statistical/mathematical software (e.g. R, Weka, Matlab, Stata)\n",
      "Preferred Qualifications\n",
      "· Experience processing, filtering, and presenting large quantities (Millions to Billions of rows) of data\n",
      "\n",
      "· Superior verbal and written communication skills with the ability to effectively advocate technical solutions to scientists, engineering teams and business audiences\n",
      "\n",
      "· Proven ability to convey rigorous technical concepts and considerations to non-experts\n",
      "\n",
      "· Natural curiosity and desire to learn\n",
      "\n",
      "· Fluency in a scripting or computing language (e.g. Python, Scala, C++, Java, etc.)\n",
      "\n",
      "· Depth and breadth in quantitative knowledge. Excellent quantitative modeling, statistical analysis skills and problem-solving skills. Sophisticated user of statistical tools.\n",
      "\n",
      "· Combination of deep technical skills and business savvy to interface with all levels and disciplines within our and our customer’s organizations\n",
      "\n",
      "· Demonstrable track record of dealing well with ambiguity, prioritizing needs, and delivering results in a dynamic environment\n",
      "\n",
      "· Experience in forecasting and time series is a plus\n",
      "\n",
      "\n",
      "Apply Now at Amazon\n"
     ]
    },
    {
     "name": "stdin",
     "output_type": "stream",
     "text": [
      "\n",
      "yes/no (quit) quit\n"
     ]
    }
   ],
   "source": [
    "final_df = test.find_next_best(test_df, 1)"
   ]
  },
  {
   "cell_type": "code",
   "execution_count": 820,
   "metadata": {},
   "outputs": [
    {
     "data": {
      "text/plain": [
       "(120, 4698)"
      ]
     },
     "execution_count": 820,
     "metadata": {},
     "output_type": "execute_result"
    }
   ],
   "source": [
    "final_df.shape"
   ]
  },
  {
   "cell_type": "code",
   "execution_count": null,
   "metadata": {},
   "outputs": [],
   "source": []
  }
 ],
 "metadata": {
  "kernelspec": {
   "display_name": "Python 3",
   "language": "python",
   "name": "python3"
  },
  "language_info": {
   "codemirror_mode": {
    "name": "ipython",
    "version": 3
   },
   "file_extension": ".py",
   "mimetype": "text/x-python",
   "name": "python",
   "nbconvert_exporter": "python",
   "pygments_lexer": "ipython3",
   "version": "3.6.6"
  }
 },
 "nbformat": 4,
 "nbformat_minor": 2
}
