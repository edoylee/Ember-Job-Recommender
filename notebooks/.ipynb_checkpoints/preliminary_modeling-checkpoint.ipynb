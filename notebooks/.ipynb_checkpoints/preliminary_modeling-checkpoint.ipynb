{
 "cells": [
  {
   "cell_type": "code",
   "execution_count": 17,
   "metadata": {},
   "outputs": [],
   "source": [
    "import pandas as pd\n",
    "import numpy as np\n",
    "from sklearn.feature_extraction.text import TfidfVectorizer"
   ]
  },
  {
   "cell_type": "code",
   "execution_count": 12,
   "metadata": {},
   "outputs": [],
   "source": [
    "df = pd.read_csv('../data/dsjobs_training_culled.csv', index_col=0)"
   ]
  },
  {
   "cell_type": "code",
   "execution_count": 20,
   "metadata": {},
   "outputs": [],
   "source": [
    "df = df.dropna()"
   ]
  },
  {
   "cell_type": "code",
   "execution_count": 21,
   "metadata": {},
   "outputs": [
    {
     "data": {
      "text/plain": [
       "(119, 1)"
      ]
     },
     "execution_count": 21,
     "metadata": {},
     "output_type": "execute_result"
    }
   ],
   "source": [
    "df.shape"
   ]
  },
  {
   "cell_type": "code",
   "execution_count": 49,
   "metadata": {},
   "outputs": [],
   "source": [
    "profile_vector = pd.read_csv('../data/profile_vector.csv', index_col=0)"
   ]
  },
  {
   "cell_type": "code",
   "execution_count": 50,
   "metadata": {},
   "outputs": [
    {
     "data": {
      "text/html": [
       "<div>\n",
       "<style scoped>\n",
       "    .dataframe tbody tr th:only-of-type {\n",
       "        vertical-align: middle;\n",
       "    }\n",
       "\n",
       "    .dataframe tbody tr th {\n",
       "        vertical-align: top;\n",
       "    }\n",
       "\n",
       "    .dataframe thead th {\n",
       "        text-align: right;\n",
       "    }\n",
       "</style>\n",
       "<table border=\"1\" class=\"dataframe\">\n",
       "  <thead>\n",
       "    <tr style=\"text-align: right;\">\n",
       "      <th></th>\n",
       "      <th>profile</th>\n",
       "    </tr>\n",
       "  </thead>\n",
       "  <tbody>\n",
       "    <tr>\n",
       "      <th>0</th>\n",
       "      <td>Data Scientist Greater Seattle Area Data Scien...</td>\n",
       "    </tr>\n",
       "  </tbody>\n",
       "</table>\n",
       "</div>"
      ],
      "text/plain": [
       "                                             profile\n",
       "0  Data Scientist Greater Seattle Area Data Scien..."
      ]
     },
     "execution_count": 50,
     "metadata": {},
     "output_type": "execute_result"
    }
   ],
   "source": [
    "profile_vector.head()"
   ]
  },
  {
   "cell_type": "code",
   "execution_count": 52,
   "metadata": {},
   "outputs": [
    {
     "data": {
      "text/plain": [
       "(1, 1)"
      ]
     },
     "execution_count": 52,
     "metadata": {},
     "output_type": "execute_result"
    }
   ],
   "source": [
    "profile_vector.shape"
   ]
  },
  {
   "cell_type": "code",
   "execution_count": 83,
   "metadata": {},
   "outputs": [],
   "source": [
    "full_df = profile_vector['profile'].append(df['jobs'])"
   ]
  },
  {
   "cell_type": "code",
   "execution_count": 85,
   "metadata": {},
   "outputs": [
    {
     "data": {
      "text/plain": [
       "(120,)"
      ]
     },
     "execution_count": 85,
     "metadata": {},
     "output_type": "execute_result"
    }
   ],
   "source": [
    "full_df.shape"
   ]
  },
  {
   "cell_type": "code",
   "execution_count": 97,
   "metadata": {},
   "outputs": [
    {
     "data": {
      "text/plain": [
       "'Data Scientist Greater Seattle Area Data Scientist with an economics background from Colorado with experience in machine learning, data analysis, and regression analysis. Proven leader of small groups focused on efficiency and continuous improvement. student galvanize inc sep 2018 – present 3 mos greater seattle area logwork master blue ridge log works aug 2016 – aug 2018 2 yrs 1 mo united states • built custom log furniture for a high-end reclaimed wood furniture company. • managed people within my department in order to achieve efficiency without sacrificing quality. • continuously improved processes to increase productivity. • acquired new skills and techniques in order to increase the quality of the company’s econometrics regression analysis microsoft office industry knowledge data analysis tools & technologies microsoft powerpoint microsoft excel python (programming language) pandas (software) sql postgresql mongodb amazon web services (aws) selenium public speaking numpy scikit-learn scipy matplotlib apache spark flask '"
      ]
     },
     "execution_count": 97,
     "metadata": {},
     "output_type": "execute_result"
    }
   ],
   "source": [
    "full_df.iloc[0]"
   ]
  },
  {
   "cell_type": "code",
   "execution_count": 87,
   "metadata": {},
   "outputs": [],
   "source": [
    "vectorizer = TfidfVectorizer(stop_words='english')"
   ]
  },
  {
   "cell_type": "code",
   "execution_count": 88,
   "metadata": {},
   "outputs": [
    {
     "data": {
      "text/plain": [
       "TfidfVectorizer(analyzer='word', binary=False, decode_error='strict',\n",
       "        dtype=<class 'numpy.int64'>, encoding='utf-8', input='content',\n",
       "        lowercase=True, max_df=1.0, max_features=None, min_df=1,\n",
       "        ngram_range=(1, 1), norm='l2', preprocessor=None, smooth_idf=True,\n",
       "        stop_words='english', strip_accents=None, sublinear_tf=False,\n",
       "        token_pattern='(?u)\\\\b\\\\w\\\\w+\\\\b', tokenizer=None, use_idf=True,\n",
       "        vocabulary=None)"
      ]
     },
     "execution_count": 88,
     "metadata": {},
     "output_type": "execute_result"
    }
   ],
   "source": [
    "vectorizer.fit(full_df)"
   ]
  },
  {
   "cell_type": "code",
   "execution_count": 89,
   "metadata": {},
   "outputs": [],
   "source": [
    "transformed_model = vectorizer.transform(full_df)"
   ]
  },
  {
   "cell_type": "code",
   "execution_count": 90,
   "metadata": {},
   "outputs": [],
   "source": [
    "tfidf_df = pd.DataFrame(transformed_model.toarray())"
   ]
  },
  {
   "cell_type": "code",
   "execution_count": 91,
   "metadata": {},
   "outputs": [
    {
     "data": {
      "text/plain": [
       "(120, 4694)"
      ]
     },
     "execution_count": 91,
     "metadata": {},
     "output_type": "execute_result"
    }
   ],
   "source": [
    "tfidf_df.shape"
   ]
  },
  {
   "cell_type": "code",
   "execution_count": 104,
   "metadata": {},
   "outputs": [],
   "source": [
    "y = tfidf_df.iloc[0, :]"
   ]
  },
  {
   "cell_type": "code",
   "execution_count": 106,
   "metadata": {},
   "outputs": [
    {
     "data": {
      "text/plain": [
       "120"
      ]
     },
     "execution_count": 106,
     "metadata": {},
     "output_type": "execute_result"
    }
   ],
   "source": [
    "len(tfidf_df.index)"
   ]
  },
  {
   "cell_type": "code",
   "execution_count": 108,
   "metadata": {},
   "outputs": [],
   "source": [
    "from scipy import spatial"
   ]
  },
  {
   "cell_type": "code",
   "execution_count": 114,
   "metadata": {},
   "outputs": [],
   "source": [
    "distances = []\n",
    "for i in range(len(tfidf_df.index)):\n",
    "    distances.append(spatial.distance.cosine(y, tfidf_df.iloc[i,:]))"
   ]
  },
  {
   "cell_type": "code",
   "execution_count": 124,
   "metadata": {},
   "outputs": [],
   "source": [
    "indices = np.argsort(distances)"
   ]
  },
  {
   "cell_type": "code",
   "execution_count": 125,
   "metadata": {},
   "outputs": [
    {
     "data": {
      "text/plain": [
       "array([  0,  14,  98, 113, 103,  89,  25, 116,  20,  76,  13,  11, 112,\n",
       "        62,  64,  65,  43,   9,  88,  60,  97,  82,  10, 107,  36,  18,\n",
       "       108,  40, 117,  21,  27,  54,  46,  17,  32,  96,  85, 106,  47,\n",
       "        53,  50,  33,  26,  37,   4,  87,  72,  81,  59,   1,  86,  51,\n",
       "        41, 104,  94,  24,  45,  12,  52, 118,  77,  90,  42, 101,  83,\n",
       "       105,  79, 100,  57,  95,  34,  92, 111,  93,   5,  19,   6, 102,\n",
       "         2,  49,  61,  75,  63,  69, 109,  39,  80,  74,  84,  71, 115,\n",
       "       114,  23,  78,  15,   7,  31,  68,   3,  73,  55,  44,  67,  48,\n",
       "        99, 119,  58,  35,  70,  66,  38,   8, 110,  30,  91,  28,  22,\n",
       "        56,  29,  16])"
      ]
     },
     "execution_count": 125,
     "metadata": {},
     "output_type": "execute_result"
    }
   ],
   "source": [
    "indices"
   ]
  },
  {
   "cell_type": "code",
   "execution_count": 162,
   "metadata": {},
   "outputs": [],
   "source": [
    "sorted_distances = np.sort(distances)"
   ]
  },
  {
   "cell_type": "code",
   "execution_count": 319,
   "metadata": {},
   "outputs": [
    {
     "data": {
      "text/plain": [
       "array([0.        , 0.80989248, 0.84734903, 0.8862868 , 0.89611812,\n",
       "       0.89793871, 0.9008809 , 0.90178122, 0.90493865, 0.90655569,\n",
       "       0.90761834, 0.91067788, 0.91128463, 0.91205141, 0.91908636,\n",
       "       0.91909473, 0.9191591 , 0.92042956, 0.92065424, 0.92113992,\n",
       "       0.92121793, 0.92231139, 0.92287179, 0.92354406, 0.92400288,\n",
       "       0.92733007, 0.92739521, 0.92775441, 0.92782718, 0.92799351,\n",
       "       0.92965427, 0.93021093, 0.9303712 , 0.93046182, 0.93120322,\n",
       "       0.93305513, 0.93311973, 0.93375587, 0.93381259, 0.93384384,\n",
       "       0.93401396, 0.93422951, 0.93425764, 0.93440461, 0.93442192,\n",
       "       0.93448378, 0.93461325, 0.93468624, 0.93500178, 0.93509595,\n",
       "       0.93515891, 0.93573583, 0.93582138, 0.93592947, 0.93608376,\n",
       "       0.93645875, 0.93693853, 0.93708662, 0.93709875, 0.93714463,\n",
       "       0.93829452, 0.93873704, 0.9399703 , 0.94024111, 0.94083554,\n",
       "       0.94114805, 0.94122072, 0.94151301, 0.94153812, 0.94195045,\n",
       "       0.94238216, 0.94269655, 0.94324229, 0.94334655, 0.94380484,\n",
       "       0.943866  , 0.94406054, 0.94429685, 0.94431841, 0.9443673 ,\n",
       "       0.94445364, 0.94546576, 0.94573941, 0.94600273, 0.94679304,\n",
       "       0.94837131, 0.94850738, 0.95053077, 0.9505701 , 0.95069553,\n",
       "       0.9507686 , 0.95089409, 0.95212163, 0.95277849, 0.95278891,\n",
       "       0.95383214, 0.95431964, 0.95465422, 0.95621577, 0.95725877,\n",
       "       0.95729054, 0.9581826 , 0.95849498, 0.96057261, 0.96127203,\n",
       "       0.96230686, 0.96328586, 0.96719058, 0.96881451, 0.96881451,\n",
       "       0.96979715, 0.97139573, 0.97441592, 0.97623549, 0.97691926,\n",
       "       0.97813865, 0.97910515, 0.9793223 , 0.97938683, 0.98122666])"
      ]
     },
     "execution_count": 319,
     "metadata": {},
     "output_type": "execute_result"
    }
   ],
   "source": [
    "sorted_distances"
   ]
  },
  {
   "cell_type": "code",
   "execution_count": 207,
   "metadata": {},
   "outputs": [],
   "source": [
    "# full_df.iloc[14].split('\\n')"
   ]
  },
  {
   "cell_type": "code",
   "execution_count": 208,
   "metadata": {},
   "outputs": [],
   "source": [
    "# full_df.iloc[98].split('\\n')"
   ]
  },
  {
   "cell_type": "code",
   "execution_count": 197,
   "metadata": {},
   "outputs": [],
   "source": [
    "sorted_df = pd.DataFrame({'jobs': full_df.iloc[indices]}).set_index(np.arange(0,120))"
   ]
  },
  {
   "cell_type": "code",
   "execution_count": 198,
   "metadata": {},
   "outputs": [
    {
     "data": {
      "text/html": [
       "<div>\n",
       "<style scoped>\n",
       "    .dataframe tbody tr th:only-of-type {\n",
       "        vertical-align: middle;\n",
       "    }\n",
       "\n",
       "    .dataframe tbody tr th {\n",
       "        vertical-align: top;\n",
       "    }\n",
       "\n",
       "    .dataframe thead th {\n",
       "        text-align: right;\n",
       "    }\n",
       "</style>\n",
       "<table border=\"1\" class=\"dataframe\">\n",
       "  <thead>\n",
       "    <tr style=\"text-align: right;\">\n",
       "      <th></th>\n",
       "      <th>jobs</th>\n",
       "    </tr>\n",
       "  </thead>\n",
       "  <tbody>\n",
       "    <tr>\n",
       "      <th>0</th>\n",
       "      <td>Data Scientist Greater Seattle Area Data Scien...</td>\n",
       "    </tr>\n",
       "    <tr>\n",
       "      <th>1</th>\n",
       "      <td>Are you interested in working for one of the m...</td>\n",
       "    </tr>\n",
       "    <tr>\n",
       "      <th>2</th>\n",
       "      <td>The Microsoft Cloud+AI Design team is looking ...</td>\n",
       "    </tr>\n",
       "    <tr>\n",
       "      <th>3</th>\n",
       "      <td>Lead Data Scientist\\n\\nSeattle, WA\\n\\nJob Desc...</td>\n",
       "    </tr>\n",
       "    <tr>\n",
       "      <th>4</th>\n",
       "      <td>Overall Job Purpose:\\n\\nThis role will be loca...</td>\n",
       "    </tr>\n",
       "  </tbody>\n",
       "</table>\n",
       "</div>"
      ],
      "text/plain": [
       "                                                jobs\n",
       "0  Data Scientist Greater Seattle Area Data Scien...\n",
       "1  Are you interested in working for one of the m...\n",
       "2  The Microsoft Cloud+AI Design team is looking ...\n",
       "3  Lead Data Scientist\\n\\nSeattle, WA\\n\\nJob Desc...\n",
       "4  Overall Job Purpose:\\n\\nThis role will be loca..."
      ]
     },
     "execution_count": 198,
     "metadata": {},
     "output_type": "execute_result"
    }
   ],
   "source": [
    "sorted_df.head()"
   ]
  },
  {
   "cell_type": "code",
   "execution_count": 199,
   "metadata": {},
   "outputs": [
    {
     "data": {
      "text/plain": [
       "(120, 1)"
      ]
     },
     "execution_count": 199,
     "metadata": {},
     "output_type": "execute_result"
    }
   ],
   "source": [
    "sorted_df.shape"
   ]
  },
  {
   "cell_type": "code",
   "execution_count": 200,
   "metadata": {},
   "outputs": [],
   "source": [
    "sorted_df['labels'] = np.zeros(120)"
   ]
  },
  {
   "cell_type": "code",
   "execution_count": 201,
   "metadata": {},
   "outputs": [],
   "source": [
    "sorted_df.iat[1,1] = 1.0"
   ]
  },
  {
   "cell_type": "code",
   "execution_count": 356,
   "metadata": {},
   "outputs": [],
   "source": [
    "sorted_df.iat[3,1] = -1.0"
   ]
  },
  {
   "cell_type": "code",
   "execution_count": 357,
   "metadata": {},
   "outputs": [
    {
     "data": {
      "text/html": [
       "<div>\n",
       "<style scoped>\n",
       "    .dataframe tbody tr th:only-of-type {\n",
       "        vertical-align: middle;\n",
       "    }\n",
       "\n",
       "    .dataframe tbody tr th {\n",
       "        vertical-align: top;\n",
       "    }\n",
       "\n",
       "    .dataframe thead th {\n",
       "        text-align: right;\n",
       "    }\n",
       "</style>\n",
       "<table border=\"1\" class=\"dataframe\">\n",
       "  <thead>\n",
       "    <tr style=\"text-align: right;\">\n",
       "      <th></th>\n",
       "      <th>jobs</th>\n",
       "      <th>labels</th>\n",
       "    </tr>\n",
       "  </thead>\n",
       "  <tbody>\n",
       "    <tr>\n",
       "      <th>0</th>\n",
       "      <td>Data Scientist Greater Seattle Area Data Scien...</td>\n",
       "      <td>0.0</td>\n",
       "    </tr>\n",
       "    <tr>\n",
       "      <th>1</th>\n",
       "      <td>Are you interested in working for one of the m...</td>\n",
       "      <td>1.0</td>\n",
       "    </tr>\n",
       "    <tr>\n",
       "      <th>2</th>\n",
       "      <td>The Microsoft Cloud+AI Design team is looking ...</td>\n",
       "      <td>0.0</td>\n",
       "    </tr>\n",
       "    <tr>\n",
       "      <th>3</th>\n",
       "      <td>Lead Data Scientist\\n\\nSeattle, WA\\n\\nJob Desc...</td>\n",
       "      <td>-1.0</td>\n",
       "    </tr>\n",
       "    <tr>\n",
       "      <th>4</th>\n",
       "      <td>Overall Job Purpose:\\n\\nThis role will be loca...</td>\n",
       "      <td>0.0</td>\n",
       "    </tr>\n",
       "    <tr>\n",
       "      <th>5</th>\n",
       "      <td>Lead Data Scientist\\nIf you are a Lead Data Sc...</td>\n",
       "      <td>0.0</td>\n",
       "    </tr>\n",
       "  </tbody>\n",
       "</table>\n",
       "</div>"
      ],
      "text/plain": [
       "                                                jobs  labels\n",
       "0  Data Scientist Greater Seattle Area Data Scien...     0.0\n",
       "1  Are you interested in working for one of the m...     1.0\n",
       "2  The Microsoft Cloud+AI Design team is looking ...     0.0\n",
       "3  Lead Data Scientist\\n\\nSeattle, WA\\n\\nJob Desc...    -1.0\n",
       "4  Overall Job Purpose:\\n\\nThis role will be loca...     0.0\n",
       "5  Lead Data Scientist\\nIf you are a Lead Data Sc...     0.0"
      ]
     },
     "execution_count": 357,
     "metadata": {},
     "output_type": "execute_result"
    }
   ],
   "source": [
    "sorted_df.head(6)"
   ]
  },
  {
   "cell_type": "code",
   "execution_count": 203,
   "metadata": {},
   "outputs": [
    {
     "data": {
      "text/plain": [
       "(120, 2)"
      ]
     },
     "execution_count": 203,
     "metadata": {},
     "output_type": "execute_result"
    }
   ],
   "source": [
    "sorted_df.shape"
   ]
  },
  {
   "cell_type": "code",
   "execution_count": 213,
   "metadata": {},
   "outputs": [],
   "source": [
    "sorted_tfidf = pd.DataFrame(tfidf_df.iloc[indices]).set_index(np.arange(0,120))"
   ]
  },
  {
   "cell_type": "code",
   "execution_count": 218,
   "metadata": {},
   "outputs": [
    {
     "data": {
      "text/plain": [
       "(120, 4694)"
      ]
     },
     "execution_count": 218,
     "metadata": {},
     "output_type": "execute_result"
    }
   ],
   "source": [
    "sorted_tfidf.shape"
   ]
  },
  {
   "cell_type": "code",
   "execution_count": 215,
   "metadata": {},
   "outputs": [],
   "source": [
    "total_df = pd.concat([sorted_df, sorted_tfidf], axis=1)"
   ]
  },
  {
   "cell_type": "code",
   "execution_count": 219,
   "metadata": {},
   "outputs": [
    {
     "data": {
      "text/html": [
       "<div>\n",
       "<style scoped>\n",
       "    .dataframe tbody tr th:only-of-type {\n",
       "        vertical-align: middle;\n",
       "    }\n",
       "\n",
       "    .dataframe tbody tr th {\n",
       "        vertical-align: top;\n",
       "    }\n",
       "\n",
       "    .dataframe thead th {\n",
       "        text-align: right;\n",
       "    }\n",
       "</style>\n",
       "<table border=\"1\" class=\"dataframe\">\n",
       "  <thead>\n",
       "    <tr style=\"text-align: right;\">\n",
       "      <th></th>\n",
       "      <th>jobs</th>\n",
       "      <th>labels</th>\n",
       "      <th>0</th>\n",
       "      <th>1</th>\n",
       "      <th>2</th>\n",
       "      <th>3</th>\n",
       "      <th>4</th>\n",
       "      <th>5</th>\n",
       "      <th>6</th>\n",
       "      <th>7</th>\n",
       "      <th>...</th>\n",
       "      <th>4684</th>\n",
       "      <th>4685</th>\n",
       "      <th>4686</th>\n",
       "      <th>4687</th>\n",
       "      <th>4688</th>\n",
       "      <th>4689</th>\n",
       "      <th>4690</th>\n",
       "      <th>4691</th>\n",
       "      <th>4692</th>\n",
       "      <th>4693</th>\n",
       "    </tr>\n",
       "  </thead>\n",
       "  <tbody>\n",
       "    <tr>\n",
       "      <th>0</th>\n",
       "      <td>Data Scientist Greater Seattle Area Data Scien...</td>\n",
       "      <td>0.0</td>\n",
       "      <td>0.0</td>\n",
       "      <td>0.0</td>\n",
       "      <td>0.0</td>\n",
       "      <td>0.0</td>\n",
       "      <td>0.0</td>\n",
       "      <td>0.0</td>\n",
       "      <td>0.0</td>\n",
       "      <td>0.0</td>\n",
       "      <td>...</td>\n",
       "      <td>0.0</td>\n",
       "      <td>0.0</td>\n",
       "      <td>0.0</td>\n",
       "      <td>0.0</td>\n",
       "      <td>0.0</td>\n",
       "      <td>0.0</td>\n",
       "      <td>0.117186</td>\n",
       "      <td>0.0</td>\n",
       "      <td>0.0</td>\n",
       "      <td>0.0</td>\n",
       "    </tr>\n",
       "    <tr>\n",
       "      <th>1</th>\n",
       "      <td>Are you interested in working for one of the m...</td>\n",
       "      <td>1.0</td>\n",
       "      <td>0.0</td>\n",
       "      <td>0.0</td>\n",
       "      <td>0.0</td>\n",
       "      <td>0.0</td>\n",
       "      <td>0.0</td>\n",
       "      <td>0.0</td>\n",
       "      <td>0.0</td>\n",
       "      <td>0.0</td>\n",
       "      <td>...</td>\n",
       "      <td>0.0</td>\n",
       "      <td>0.0</td>\n",
       "      <td>0.0</td>\n",
       "      <td>0.0</td>\n",
       "      <td>0.0</td>\n",
       "      <td>0.0</td>\n",
       "      <td>0.000000</td>\n",
       "      <td>0.0</td>\n",
       "      <td>0.0</td>\n",
       "      <td>0.0</td>\n",
       "    </tr>\n",
       "    <tr>\n",
       "      <th>2</th>\n",
       "      <td>The Microsoft Cloud+AI Design team is looking ...</td>\n",
       "      <td>0.0</td>\n",
       "      <td>0.0</td>\n",
       "      <td>0.0</td>\n",
       "      <td>0.0</td>\n",
       "      <td>0.0</td>\n",
       "      <td>0.0</td>\n",
       "      <td>0.0</td>\n",
       "      <td>0.0</td>\n",
       "      <td>0.0</td>\n",
       "      <td>...</td>\n",
       "      <td>0.0</td>\n",
       "      <td>0.0</td>\n",
       "      <td>0.0</td>\n",
       "      <td>0.0</td>\n",
       "      <td>0.0</td>\n",
       "      <td>0.0</td>\n",
       "      <td>0.000000</td>\n",
       "      <td>0.0</td>\n",
       "      <td>0.0</td>\n",
       "      <td>0.0</td>\n",
       "    </tr>\n",
       "    <tr>\n",
       "      <th>3</th>\n",
       "      <td>Lead Data Scientist\\n\\nSeattle, WA\\n\\nJob Desc...</td>\n",
       "      <td>0.0</td>\n",
       "      <td>0.0</td>\n",
       "      <td>0.0</td>\n",
       "      <td>0.0</td>\n",
       "      <td>0.0</td>\n",
       "      <td>0.0</td>\n",
       "      <td>0.0</td>\n",
       "      <td>0.0</td>\n",
       "      <td>0.0</td>\n",
       "      <td>...</td>\n",
       "      <td>0.0</td>\n",
       "      <td>0.0</td>\n",
       "      <td>0.0</td>\n",
       "      <td>0.0</td>\n",
       "      <td>0.0</td>\n",
       "      <td>0.0</td>\n",
       "      <td>0.000000</td>\n",
       "      <td>0.0</td>\n",
       "      <td>0.0</td>\n",
       "      <td>0.0</td>\n",
       "    </tr>\n",
       "    <tr>\n",
       "      <th>4</th>\n",
       "      <td>Overall Job Purpose:\\n\\nThis role will be loca...</td>\n",
       "      <td>0.0</td>\n",
       "      <td>0.0</td>\n",
       "      <td>0.0</td>\n",
       "      <td>0.0</td>\n",
       "      <td>0.0</td>\n",
       "      <td>0.0</td>\n",
       "      <td>0.0</td>\n",
       "      <td>0.0</td>\n",
       "      <td>0.0</td>\n",
       "      <td>...</td>\n",
       "      <td>0.0</td>\n",
       "      <td>0.0</td>\n",
       "      <td>0.0</td>\n",
       "      <td>0.0</td>\n",
       "      <td>0.0</td>\n",
       "      <td>0.0</td>\n",
       "      <td>0.000000</td>\n",
       "      <td>0.0</td>\n",
       "      <td>0.0</td>\n",
       "      <td>0.0</td>\n",
       "    </tr>\n",
       "  </tbody>\n",
       "</table>\n",
       "<p>5 rows × 4696 columns</p>\n",
       "</div>"
      ],
      "text/plain": [
       "                                                jobs  labels    0    1    2  \\\n",
       "0  Data Scientist Greater Seattle Area Data Scien...     0.0  0.0  0.0  0.0   \n",
       "1  Are you interested in working for one of the m...     1.0  0.0  0.0  0.0   \n",
       "2  The Microsoft Cloud+AI Design team is looking ...     0.0  0.0  0.0  0.0   \n",
       "3  Lead Data Scientist\\n\\nSeattle, WA\\n\\nJob Desc...     0.0  0.0  0.0  0.0   \n",
       "4  Overall Job Purpose:\\n\\nThis role will be loca...     0.0  0.0  0.0  0.0   \n",
       "\n",
       "     3    4    5    6    7  ...   4684  4685  4686  4687  4688  4689  \\\n",
       "0  0.0  0.0  0.0  0.0  0.0  ...    0.0   0.0   0.0   0.0   0.0   0.0   \n",
       "1  0.0  0.0  0.0  0.0  0.0  ...    0.0   0.0   0.0   0.0   0.0   0.0   \n",
       "2  0.0  0.0  0.0  0.0  0.0  ...    0.0   0.0   0.0   0.0   0.0   0.0   \n",
       "3  0.0  0.0  0.0  0.0  0.0  ...    0.0   0.0   0.0   0.0   0.0   0.0   \n",
       "4  0.0  0.0  0.0  0.0  0.0  ...    0.0   0.0   0.0   0.0   0.0   0.0   \n",
       "\n",
       "       4690  4691  4692  4693  \n",
       "0  0.117186   0.0   0.0   0.0  \n",
       "1  0.000000   0.0   0.0   0.0  \n",
       "2  0.000000   0.0   0.0   0.0  \n",
       "3  0.000000   0.0   0.0   0.0  \n",
       "4  0.000000   0.0   0.0   0.0  \n",
       "\n",
       "[5 rows x 4696 columns]"
      ]
     },
     "execution_count": 219,
     "metadata": {},
     "output_type": "execute_result"
    }
   ],
   "source": [
    "total_df.head()"
   ]
  },
  {
   "cell_type": "code",
   "execution_count": 220,
   "metadata": {},
   "outputs": [],
   "source": [
    "full_X = total_df.iloc[1:,:]"
   ]
  },
  {
   "cell_type": "code",
   "execution_count": 221,
   "metadata": {},
   "outputs": [],
   "source": [
    "full_y = total_df.iloc[0,:]"
   ]
  },
  {
   "cell_type": "code",
   "execution_count": 291,
   "metadata": {},
   "outputs": [],
   "source": [
    "#temp_df = full_X.drop?"
   ]
  },
  {
   "cell_type": "code",
   "execution_count": 300,
   "metadata": {},
   "outputs": [],
   "source": [
    "temp_df = full_X.drop(index=[1])"
   ]
  },
  {
   "cell_type": "code",
   "execution_count": 301,
   "metadata": {},
   "outputs": [
    {
     "data": {
      "text/html": [
       "<div>\n",
       "<style scoped>\n",
       "    .dataframe tbody tr th:only-of-type {\n",
       "        vertical-align: middle;\n",
       "    }\n",
       "\n",
       "    .dataframe tbody tr th {\n",
       "        vertical-align: top;\n",
       "    }\n",
       "\n",
       "    .dataframe thead th {\n",
       "        text-align: right;\n",
       "    }\n",
       "</style>\n",
       "<table border=\"1\" class=\"dataframe\">\n",
       "  <thead>\n",
       "    <tr style=\"text-align: right;\">\n",
       "      <th></th>\n",
       "      <th>jobs</th>\n",
       "      <th>labels</th>\n",
       "      <th>0</th>\n",
       "      <th>1</th>\n",
       "      <th>2</th>\n",
       "      <th>3</th>\n",
       "      <th>4</th>\n",
       "      <th>5</th>\n",
       "      <th>6</th>\n",
       "      <th>7</th>\n",
       "      <th>...</th>\n",
       "      <th>4684</th>\n",
       "      <th>4685</th>\n",
       "      <th>4686</th>\n",
       "      <th>4687</th>\n",
       "      <th>4688</th>\n",
       "      <th>4689</th>\n",
       "      <th>4690</th>\n",
       "      <th>4691</th>\n",
       "      <th>4692</th>\n",
       "      <th>4693</th>\n",
       "    </tr>\n",
       "  </thead>\n",
       "  <tbody>\n",
       "    <tr>\n",
       "      <th>2</th>\n",
       "      <td>The Microsoft Cloud+AI Design team is looking ...</td>\n",
       "      <td>0.0</td>\n",
       "      <td>0.000000</td>\n",
       "      <td>0.0</td>\n",
       "      <td>0.0</td>\n",
       "      <td>0.0</td>\n",
       "      <td>0.0</td>\n",
       "      <td>0.0</td>\n",
       "      <td>0.0</td>\n",
       "      <td>0.0</td>\n",
       "      <td>...</td>\n",
       "      <td>0.0</td>\n",
       "      <td>0.0</td>\n",
       "      <td>0.0</td>\n",
       "      <td>0.0</td>\n",
       "      <td>0.0</td>\n",
       "      <td>0.0</td>\n",
       "      <td>0.0</td>\n",
       "      <td>0.0</td>\n",
       "      <td>0.0</td>\n",
       "      <td>0.0</td>\n",
       "    </tr>\n",
       "    <tr>\n",
       "      <th>3</th>\n",
       "      <td>Lead Data Scientist\\n\\nSeattle, WA\\n\\nJob Desc...</td>\n",
       "      <td>0.0</td>\n",
       "      <td>0.000000</td>\n",
       "      <td>0.0</td>\n",
       "      <td>0.0</td>\n",
       "      <td>0.0</td>\n",
       "      <td>0.0</td>\n",
       "      <td>0.0</td>\n",
       "      <td>0.0</td>\n",
       "      <td>0.0</td>\n",
       "      <td>...</td>\n",
       "      <td>0.0</td>\n",
       "      <td>0.0</td>\n",
       "      <td>0.0</td>\n",
       "      <td>0.0</td>\n",
       "      <td>0.0</td>\n",
       "      <td>0.0</td>\n",
       "      <td>0.0</td>\n",
       "      <td>0.0</td>\n",
       "      <td>0.0</td>\n",
       "      <td>0.0</td>\n",
       "    </tr>\n",
       "    <tr>\n",
       "      <th>4</th>\n",
       "      <td>Overall Job Purpose:\\n\\nThis role will be loca...</td>\n",
       "      <td>0.0</td>\n",
       "      <td>0.000000</td>\n",
       "      <td>0.0</td>\n",
       "      <td>0.0</td>\n",
       "      <td>0.0</td>\n",
       "      <td>0.0</td>\n",
       "      <td>0.0</td>\n",
       "      <td>0.0</td>\n",
       "      <td>0.0</td>\n",
       "      <td>...</td>\n",
       "      <td>0.0</td>\n",
       "      <td>0.0</td>\n",
       "      <td>0.0</td>\n",
       "      <td>0.0</td>\n",
       "      <td>0.0</td>\n",
       "      <td>0.0</td>\n",
       "      <td>0.0</td>\n",
       "      <td>0.0</td>\n",
       "      <td>0.0</td>\n",
       "      <td>0.0</td>\n",
       "    </tr>\n",
       "    <tr>\n",
       "      <th>5</th>\n",
       "      <td>Lead Data Scientist\\nIf you are a Lead Data Sc...</td>\n",
       "      <td>0.0</td>\n",
       "      <td>0.000000</td>\n",
       "      <td>0.0</td>\n",
       "      <td>0.0</td>\n",
       "      <td>0.0</td>\n",
       "      <td>0.0</td>\n",
       "      <td>0.0</td>\n",
       "      <td>0.0</td>\n",
       "      <td>0.0</td>\n",
       "      <td>...</td>\n",
       "      <td>0.0</td>\n",
       "      <td>0.0</td>\n",
       "      <td>0.0</td>\n",
       "      <td>0.0</td>\n",
       "      <td>0.0</td>\n",
       "      <td>0.0</td>\n",
       "      <td>0.0</td>\n",
       "      <td>0.0</td>\n",
       "      <td>0.0</td>\n",
       "      <td>0.0</td>\n",
       "    </tr>\n",
       "    <tr>\n",
       "      <th>6</th>\n",
       "      <td>Blue Nile was created in 1999 by a man in love...</td>\n",
       "      <td>0.0</td>\n",
       "      <td>0.037139</td>\n",
       "      <td>0.0</td>\n",
       "      <td>0.0</td>\n",
       "      <td>0.0</td>\n",
       "      <td>0.0</td>\n",
       "      <td>0.0</td>\n",
       "      <td>0.0</td>\n",
       "      <td>0.0</td>\n",
       "      <td>...</td>\n",
       "      <td>0.0</td>\n",
       "      <td>0.0</td>\n",
       "      <td>0.0</td>\n",
       "      <td>0.0</td>\n",
       "      <td>0.0</td>\n",
       "      <td>0.0</td>\n",
       "      <td>0.0</td>\n",
       "      <td>0.0</td>\n",
       "      <td>0.0</td>\n",
       "      <td>0.0</td>\n",
       "    </tr>\n",
       "  </tbody>\n",
       "</table>\n",
       "<p>5 rows × 4696 columns</p>\n",
       "</div>"
      ],
      "text/plain": [
       "                                                jobs  labels         0    1  \\\n",
       "2  The Microsoft Cloud+AI Design team is looking ...     0.0  0.000000  0.0   \n",
       "3  Lead Data Scientist\\n\\nSeattle, WA\\n\\nJob Desc...     0.0  0.000000  0.0   \n",
       "4  Overall Job Purpose:\\n\\nThis role will be loca...     0.0  0.000000  0.0   \n",
       "5  Lead Data Scientist\\nIf you are a Lead Data Sc...     0.0  0.000000  0.0   \n",
       "6  Blue Nile was created in 1999 by a man in love...     0.0  0.037139  0.0   \n",
       "\n",
       "     2    3    4    5    6    7  ...   4684  4685  4686  4687  4688  4689  \\\n",
       "2  0.0  0.0  0.0  0.0  0.0  0.0  ...    0.0   0.0   0.0   0.0   0.0   0.0   \n",
       "3  0.0  0.0  0.0  0.0  0.0  0.0  ...    0.0   0.0   0.0   0.0   0.0   0.0   \n",
       "4  0.0  0.0  0.0  0.0  0.0  0.0  ...    0.0   0.0   0.0   0.0   0.0   0.0   \n",
       "5  0.0  0.0  0.0  0.0  0.0  0.0  ...    0.0   0.0   0.0   0.0   0.0   0.0   \n",
       "6  0.0  0.0  0.0  0.0  0.0  0.0  ...    0.0   0.0   0.0   0.0   0.0   0.0   \n",
       "\n",
       "   4690  4691  4692  4693  \n",
       "2   0.0   0.0   0.0   0.0  \n",
       "3   0.0   0.0   0.0   0.0  \n",
       "4   0.0   0.0   0.0   0.0  \n",
       "5   0.0   0.0   0.0   0.0  \n",
       "6   0.0   0.0   0.0   0.0  \n",
       "\n",
       "[5 rows x 4696 columns]"
      ]
     },
     "execution_count": 301,
     "metadata": {},
     "output_type": "execute_result"
    }
   ],
   "source": [
    "temp_df.head()"
   ]
  },
  {
   "cell_type": "code",
   "execution_count": 302,
   "metadata": {},
   "outputs": [
    {
     "data": {
      "text/plain": [
       "118"
      ]
     },
     "execution_count": 302,
     "metadata": {},
     "output_type": "execute_result"
    }
   ],
   "source": [
    "temp_df.shape[0]"
   ]
  },
  {
   "cell_type": "code",
   "execution_count": 266,
   "metadata": {},
   "outputs": [],
   "source": [
    "#full_X.iloc[0,2:]"
   ]
  },
  {
   "cell_type": "code",
   "execution_count": 303,
   "metadata": {},
   "outputs": [],
   "source": [
    "# labeled_array = full_X.iloc[0,2:]\n",
    "\n",
    "# row = tfidf_df.iloc[1,:]\n",
    "\n",
    "# row.shape\n",
    "\n",
    "# spatial.distance.cosine(labeled_array, row)"
   ]
  },
  {
   "cell_type": "code",
   "execution_count": 383,
   "metadata": {},
   "outputs": [],
   "source": [
    "yes_temp_tfidf = tfidf_df.drop(index=[0,1])"
   ]
  },
  {
   "cell_type": "code",
   "execution_count": 393,
   "metadata": {},
   "outputs": [
    {
     "data": {
      "text/plain": [
       "(118, 4694)"
      ]
     },
     "execution_count": 393,
     "metadata": {},
     "output_type": "execute_result"
    }
   ],
   "source": [
    "yes_temp_tfidf.shape"
   ]
  },
  {
   "cell_type": "code",
   "execution_count": 384,
   "metadata": {},
   "outputs": [],
   "source": [
    "distance_from_yes = []\n",
    "for i in range(temp_df.shape[0]):\n",
    "    distance_from_yes.append(spatial.distance.cosine(full_X.iloc[0,2:],\n",
    "                                                 yes_temp_tfidf.iloc[i,:]))"
   ]
  },
  {
   "cell_type": "code",
   "execution_count": 385,
   "metadata": {},
   "outputs": [
    {
     "data": {
      "text/plain": [
       "118"
      ]
     },
     "execution_count": 385,
     "metadata": {},
     "output_type": "execute_result"
    }
   ],
   "source": [
    "len(distance_from_yes)"
   ]
  },
  {
   "cell_type": "code",
   "execution_count": 386,
   "metadata": {},
   "outputs": [],
   "source": [
    "yes_df = pd.DataFrame([indices[2:], distance_from_yes, sorted_distances[2:]]).T"
   ]
  },
  {
   "cell_type": "code",
   "execution_count": 387,
   "metadata": {},
   "outputs": [],
   "source": [
    "yes_df['summed_distances'] = yes_df.iloc[:,1] + yes_df.iloc[:,2]"
   ]
  },
  {
   "cell_type": "code",
   "execution_count": 388,
   "metadata": {},
   "outputs": [],
   "source": [
    "yes_df.iloc[:,0] = yes_df.iloc[:,0].astype('int')"
   ]
  },
  {
   "cell_type": "code",
   "execution_count": 389,
   "metadata": {},
   "outputs": [
    {
     "data": {
      "text/html": [
       "<div>\n",
       "<style scoped>\n",
       "    .dataframe tbody tr th:only-of-type {\n",
       "        vertical-align: middle;\n",
       "    }\n",
       "\n",
       "    .dataframe tbody tr th {\n",
       "        vertical-align: top;\n",
       "    }\n",
       "\n",
       "    .dataframe thead th {\n",
       "        text-align: right;\n",
       "    }\n",
       "</style>\n",
       "<table border=\"1\" class=\"dataframe\">\n",
       "  <thead>\n",
       "    <tr style=\"text-align: right;\">\n",
       "      <th></th>\n",
       "      <th>0</th>\n",
       "      <th>1</th>\n",
       "      <th>2</th>\n",
       "      <th>summed_distances</th>\n",
       "    </tr>\n",
       "  </thead>\n",
       "  <tbody>\n",
       "    <tr>\n",
       "      <th>0</th>\n",
       "      <td>98</td>\n",
       "      <td>8.440106e-01</td>\n",
       "      <td>0.847349</td>\n",
       "      <td>1.691360</td>\n",
       "    </tr>\n",
       "    <tr>\n",
       "      <th>1</th>\n",
       "      <td>113</td>\n",
       "      <td>8.710644e-01</td>\n",
       "      <td>0.886287</td>\n",
       "      <td>1.757351</td>\n",
       "    </tr>\n",
       "    <tr>\n",
       "      <th>2</th>\n",
       "      <td>103</td>\n",
       "      <td>8.920524e-01</td>\n",
       "      <td>0.896118</td>\n",
       "      <td>1.788170</td>\n",
       "    </tr>\n",
       "    <tr>\n",
       "      <th>3</th>\n",
       "      <td>89</td>\n",
       "      <td>8.406554e-01</td>\n",
       "      <td>0.897939</td>\n",
       "      <td>1.738594</td>\n",
       "    </tr>\n",
       "    <tr>\n",
       "      <th>4</th>\n",
       "      <td>25</td>\n",
       "      <td>9.026731e-01</td>\n",
       "      <td>0.900881</td>\n",
       "      <td>1.803554</td>\n",
       "    </tr>\n",
       "    <tr>\n",
       "      <th>5</th>\n",
       "      <td>116</td>\n",
       "      <td>9.059197e-01</td>\n",
       "      <td>0.901781</td>\n",
       "      <td>1.807701</td>\n",
       "    </tr>\n",
       "    <tr>\n",
       "      <th>6</th>\n",
       "      <td>20</td>\n",
       "      <td>9.273303e-01</td>\n",
       "      <td>0.904939</td>\n",
       "      <td>1.832269</td>\n",
       "    </tr>\n",
       "    <tr>\n",
       "      <th>7</th>\n",
       "      <td>76</td>\n",
       "      <td>7.746030e-01</td>\n",
       "      <td>0.906556</td>\n",
       "      <td>1.681159</td>\n",
       "    </tr>\n",
       "    <tr>\n",
       "      <th>8</th>\n",
       "      <td>13</td>\n",
       "      <td>8.294036e-01</td>\n",
       "      <td>0.907618</td>\n",
       "      <td>1.737022</td>\n",
       "    </tr>\n",
       "    <tr>\n",
       "      <th>9</th>\n",
       "      <td>11</td>\n",
       "      <td>8.474044e-01</td>\n",
       "      <td>0.910678</td>\n",
       "      <td>1.758082</td>\n",
       "    </tr>\n",
       "    <tr>\n",
       "      <th>10</th>\n",
       "      <td>112</td>\n",
       "      <td>8.714053e-01</td>\n",
       "      <td>0.911285</td>\n",
       "      <td>1.782690</td>\n",
       "    </tr>\n",
       "    <tr>\n",
       "      <th>11</th>\n",
       "      <td>62</td>\n",
       "      <td>8.541495e-01</td>\n",
       "      <td>0.912051</td>\n",
       "      <td>1.766201</td>\n",
       "    </tr>\n",
       "    <tr>\n",
       "      <th>12</th>\n",
       "      <td>64</td>\n",
       "      <td>-4.440892e-16</td>\n",
       "      <td>0.919086</td>\n",
       "      <td>0.919086</td>\n",
       "    </tr>\n",
       "    <tr>\n",
       "      <th>13</th>\n",
       "      <td>65</td>\n",
       "      <td>9.057357e-01</td>\n",
       "      <td>0.919095</td>\n",
       "      <td>1.824830</td>\n",
       "    </tr>\n",
       "    <tr>\n",
       "      <th>14</th>\n",
       "      <td>43</td>\n",
       "      <td>9.293929e-01</td>\n",
       "      <td>0.919159</td>\n",
       "      <td>1.848552</td>\n",
       "    </tr>\n",
       "    <tr>\n",
       "      <th>15</th>\n",
       "      <td>9</td>\n",
       "      <td>8.884484e-01</td>\n",
       "      <td>0.920430</td>\n",
       "      <td>1.808878</td>\n",
       "    </tr>\n",
       "    <tr>\n",
       "      <th>16</th>\n",
       "      <td>88</td>\n",
       "      <td>8.133478e-01</td>\n",
       "      <td>0.920654</td>\n",
       "      <td>1.734002</td>\n",
       "    </tr>\n",
       "    <tr>\n",
       "      <th>17</th>\n",
       "      <td>60</td>\n",
       "      <td>9.058687e-01</td>\n",
       "      <td>0.921140</td>\n",
       "      <td>1.827009</td>\n",
       "    </tr>\n",
       "    <tr>\n",
       "      <th>18</th>\n",
       "      <td>97</td>\n",
       "      <td>8.465068e-01</td>\n",
       "      <td>0.921218</td>\n",
       "      <td>1.767725</td>\n",
       "    </tr>\n",
       "    <tr>\n",
       "      <th>19</th>\n",
       "      <td>82</td>\n",
       "      <td>8.790584e-01</td>\n",
       "      <td>0.922311</td>\n",
       "      <td>1.801370</td>\n",
       "    </tr>\n",
       "    <tr>\n",
       "      <th>20</th>\n",
       "      <td>10</td>\n",
       "      <td>9.241393e-01</td>\n",
       "      <td>0.922872</td>\n",
       "      <td>1.847011</td>\n",
       "    </tr>\n",
       "    <tr>\n",
       "      <th>21</th>\n",
       "      <td>107</td>\n",
       "      <td>8.912429e-01</td>\n",
       "      <td>0.923544</td>\n",
       "      <td>1.814787</td>\n",
       "    </tr>\n",
       "    <tr>\n",
       "      <th>22</th>\n",
       "      <td>36</td>\n",
       "      <td>8.908173e-01</td>\n",
       "      <td>0.924003</td>\n",
       "      <td>1.814820</td>\n",
       "    </tr>\n",
       "    <tr>\n",
       "      <th>23</th>\n",
       "      <td>18</td>\n",
       "      <td>8.848817e-01</td>\n",
       "      <td>0.927330</td>\n",
       "      <td>1.812212</td>\n",
       "    </tr>\n",
       "    <tr>\n",
       "      <th>24</th>\n",
       "      <td>108</td>\n",
       "      <td>8.469210e-01</td>\n",
       "      <td>0.927395</td>\n",
       "      <td>1.774316</td>\n",
       "    </tr>\n",
       "    <tr>\n",
       "      <th>25</th>\n",
       "      <td>40</td>\n",
       "      <td>8.577549e-01</td>\n",
       "      <td>0.927754</td>\n",
       "      <td>1.785509</td>\n",
       "    </tr>\n",
       "    <tr>\n",
       "      <th>26</th>\n",
       "      <td>117</td>\n",
       "      <td>9.334164e-01</td>\n",
       "      <td>0.927827</td>\n",
       "      <td>1.861244</td>\n",
       "    </tr>\n",
       "    <tr>\n",
       "      <th>27</th>\n",
       "      <td>21</td>\n",
       "      <td>9.439184e-01</td>\n",
       "      <td>0.927994</td>\n",
       "      <td>1.871912</td>\n",
       "    </tr>\n",
       "    <tr>\n",
       "      <th>28</th>\n",
       "      <td>27</td>\n",
       "      <td>9.294970e-01</td>\n",
       "      <td>0.929654</td>\n",
       "      <td>1.859151</td>\n",
       "    </tr>\n",
       "    <tr>\n",
       "      <th>29</th>\n",
       "      <td>54</td>\n",
       "      <td>9.248653e-01</td>\n",
       "      <td>0.930211</td>\n",
       "      <td>1.855076</td>\n",
       "    </tr>\n",
       "    <tr>\n",
       "      <th>...</th>\n",
       "      <td>...</td>\n",
       "      <td>...</td>\n",
       "      <td>...</td>\n",
       "      <td>...</td>\n",
       "    </tr>\n",
       "    <tr>\n",
       "      <th>88</th>\n",
       "      <td>115</td>\n",
       "      <td>8.513624e-01</td>\n",
       "      <td>0.950769</td>\n",
       "      <td>1.802131</td>\n",
       "    </tr>\n",
       "    <tr>\n",
       "      <th>89</th>\n",
       "      <td>114</td>\n",
       "      <td>9.054657e-01</td>\n",
       "      <td>0.950894</td>\n",
       "      <td>1.856360</td>\n",
       "    </tr>\n",
       "    <tr>\n",
       "      <th>90</th>\n",
       "      <td>23</td>\n",
       "      <td>8.337518e-01</td>\n",
       "      <td>0.952122</td>\n",
       "      <td>1.785873</td>\n",
       "    </tr>\n",
       "    <tr>\n",
       "      <th>91</th>\n",
       "      <td>78</td>\n",
       "      <td>8.525216e-01</td>\n",
       "      <td>0.952778</td>\n",
       "      <td>1.805300</td>\n",
       "    </tr>\n",
       "    <tr>\n",
       "      <th>92</th>\n",
       "      <td>15</td>\n",
       "      <td>8.408595e-01</td>\n",
       "      <td>0.952789</td>\n",
       "      <td>1.793648</td>\n",
       "    </tr>\n",
       "    <tr>\n",
       "      <th>93</th>\n",
       "      <td>7</td>\n",
       "      <td>8.194471e-01</td>\n",
       "      <td>0.953832</td>\n",
       "      <td>1.773279</td>\n",
       "    </tr>\n",
       "    <tr>\n",
       "      <th>94</th>\n",
       "      <td>31</td>\n",
       "      <td>8.296625e-01</td>\n",
       "      <td>0.954320</td>\n",
       "      <td>1.783982</td>\n",
       "    </tr>\n",
       "    <tr>\n",
       "      <th>95</th>\n",
       "      <td>68</td>\n",
       "      <td>8.734145e-01</td>\n",
       "      <td>0.954654</td>\n",
       "      <td>1.828069</td>\n",
       "    </tr>\n",
       "    <tr>\n",
       "      <th>96</th>\n",
       "      <td>3</td>\n",
       "      <td>5.935057e-01</td>\n",
       "      <td>0.956216</td>\n",
       "      <td>1.549721</td>\n",
       "    </tr>\n",
       "    <tr>\n",
       "      <th>97</th>\n",
       "      <td>73</td>\n",
       "      <td>8.730520e-01</td>\n",
       "      <td>0.957259</td>\n",
       "      <td>1.830311</td>\n",
       "    </tr>\n",
       "    <tr>\n",
       "      <th>98</th>\n",
       "      <td>55</td>\n",
       "      <td>8.812764e-01</td>\n",
       "      <td>0.957291</td>\n",
       "      <td>1.838567</td>\n",
       "    </tr>\n",
       "    <tr>\n",
       "      <th>99</th>\n",
       "      <td>44</td>\n",
       "      <td>8.633175e-01</td>\n",
       "      <td>0.958183</td>\n",
       "      <td>1.821500</td>\n",
       "    </tr>\n",
       "    <tr>\n",
       "      <th>100</th>\n",
       "      <td>67</td>\n",
       "      <td>8.930656e-01</td>\n",
       "      <td>0.958495</td>\n",
       "      <td>1.851561</td>\n",
       "    </tr>\n",
       "    <tr>\n",
       "      <th>101</th>\n",
       "      <td>48</td>\n",
       "      <td>7.965187e-01</td>\n",
       "      <td>0.960573</td>\n",
       "      <td>1.757091</td>\n",
       "    </tr>\n",
       "    <tr>\n",
       "      <th>102</th>\n",
       "      <td>99</td>\n",
       "      <td>8.616803e-01</td>\n",
       "      <td>0.961272</td>\n",
       "      <td>1.822952</td>\n",
       "    </tr>\n",
       "    <tr>\n",
       "      <th>103</th>\n",
       "      <td>119</td>\n",
       "      <td>8.573426e-01</td>\n",
       "      <td>0.962307</td>\n",
       "      <td>1.819650</td>\n",
       "    </tr>\n",
       "    <tr>\n",
       "      <th>104</th>\n",
       "      <td>58</td>\n",
       "      <td>8.247329e-01</td>\n",
       "      <td>0.963286</td>\n",
       "      <td>1.788019</td>\n",
       "    </tr>\n",
       "    <tr>\n",
       "      <th>105</th>\n",
       "      <td>35</td>\n",
       "      <td>8.712068e-01</td>\n",
       "      <td>0.967191</td>\n",
       "      <td>1.838397</td>\n",
       "    </tr>\n",
       "    <tr>\n",
       "      <th>106</th>\n",
       "      <td>70</td>\n",
       "      <td>8.632719e-01</td>\n",
       "      <td>0.968815</td>\n",
       "      <td>1.832086</td>\n",
       "    </tr>\n",
       "    <tr>\n",
       "      <th>107</th>\n",
       "      <td>66</td>\n",
       "      <td>8.985107e-01</td>\n",
       "      <td>0.968815</td>\n",
       "      <td>1.867325</td>\n",
       "    </tr>\n",
       "    <tr>\n",
       "      <th>108</th>\n",
       "      <td>38</td>\n",
       "      <td>9.180684e-01</td>\n",
       "      <td>0.969797</td>\n",
       "      <td>1.887866</td>\n",
       "    </tr>\n",
       "    <tr>\n",
       "      <th>109</th>\n",
       "      <td>8</td>\n",
       "      <td>8.977950e-01</td>\n",
       "      <td>0.971396</td>\n",
       "      <td>1.869191</td>\n",
       "    </tr>\n",
       "    <tr>\n",
       "      <th>110</th>\n",
       "      <td>110</td>\n",
       "      <td>8.848629e-01</td>\n",
       "      <td>0.974416</td>\n",
       "      <td>1.859279</td>\n",
       "    </tr>\n",
       "    <tr>\n",
       "      <th>111</th>\n",
       "      <td>30</td>\n",
       "      <td>8.489137e-01</td>\n",
       "      <td>0.976235</td>\n",
       "      <td>1.825149</td>\n",
       "    </tr>\n",
       "    <tr>\n",
       "      <th>112</th>\n",
       "      <td>91</td>\n",
       "      <td>8.835761e-01</td>\n",
       "      <td>0.976919</td>\n",
       "      <td>1.860495</td>\n",
       "    </tr>\n",
       "    <tr>\n",
       "      <th>113</th>\n",
       "      <td>28</td>\n",
       "      <td>8.749613e-01</td>\n",
       "      <td>0.978139</td>\n",
       "      <td>1.853100</td>\n",
       "    </tr>\n",
       "    <tr>\n",
       "      <th>114</th>\n",
       "      <td>22</td>\n",
       "      <td>8.882476e-01</td>\n",
       "      <td>0.979105</td>\n",
       "      <td>1.867353</td>\n",
       "    </tr>\n",
       "    <tr>\n",
       "      <th>115</th>\n",
       "      <td>56</td>\n",
       "      <td>8.215730e-01</td>\n",
       "      <td>0.979322</td>\n",
       "      <td>1.800895</td>\n",
       "    </tr>\n",
       "    <tr>\n",
       "      <th>116</th>\n",
       "      <td>29</td>\n",
       "      <td>8.794890e-01</td>\n",
       "      <td>0.979387</td>\n",
       "      <td>1.858876</td>\n",
       "    </tr>\n",
       "    <tr>\n",
       "      <th>117</th>\n",
       "      <td>16</td>\n",
       "      <td>8.775597e-01</td>\n",
       "      <td>0.981227</td>\n",
       "      <td>1.858786</td>\n",
       "    </tr>\n",
       "  </tbody>\n",
       "</table>\n",
       "<p>118 rows × 4 columns</p>\n",
       "</div>"
      ],
      "text/plain": [
       "       0             1         2  summed_distances\n",
       "0     98  8.440106e-01  0.847349          1.691360\n",
       "1    113  8.710644e-01  0.886287          1.757351\n",
       "2    103  8.920524e-01  0.896118          1.788170\n",
       "3     89  8.406554e-01  0.897939          1.738594\n",
       "4     25  9.026731e-01  0.900881          1.803554\n",
       "5    116  9.059197e-01  0.901781          1.807701\n",
       "6     20  9.273303e-01  0.904939          1.832269\n",
       "7     76  7.746030e-01  0.906556          1.681159\n",
       "8     13  8.294036e-01  0.907618          1.737022\n",
       "9     11  8.474044e-01  0.910678          1.758082\n",
       "10   112  8.714053e-01  0.911285          1.782690\n",
       "11    62  8.541495e-01  0.912051          1.766201\n",
       "12    64 -4.440892e-16  0.919086          0.919086\n",
       "13    65  9.057357e-01  0.919095          1.824830\n",
       "14    43  9.293929e-01  0.919159          1.848552\n",
       "15     9  8.884484e-01  0.920430          1.808878\n",
       "16    88  8.133478e-01  0.920654          1.734002\n",
       "17    60  9.058687e-01  0.921140          1.827009\n",
       "18    97  8.465068e-01  0.921218          1.767725\n",
       "19    82  8.790584e-01  0.922311          1.801370\n",
       "20    10  9.241393e-01  0.922872          1.847011\n",
       "21   107  8.912429e-01  0.923544          1.814787\n",
       "22    36  8.908173e-01  0.924003          1.814820\n",
       "23    18  8.848817e-01  0.927330          1.812212\n",
       "24   108  8.469210e-01  0.927395          1.774316\n",
       "25    40  8.577549e-01  0.927754          1.785509\n",
       "26   117  9.334164e-01  0.927827          1.861244\n",
       "27    21  9.439184e-01  0.927994          1.871912\n",
       "28    27  9.294970e-01  0.929654          1.859151\n",
       "29    54  9.248653e-01  0.930211          1.855076\n",
       "..   ...           ...       ...               ...\n",
       "88   115  8.513624e-01  0.950769          1.802131\n",
       "89   114  9.054657e-01  0.950894          1.856360\n",
       "90    23  8.337518e-01  0.952122          1.785873\n",
       "91    78  8.525216e-01  0.952778          1.805300\n",
       "92    15  8.408595e-01  0.952789          1.793648\n",
       "93     7  8.194471e-01  0.953832          1.773279\n",
       "94    31  8.296625e-01  0.954320          1.783982\n",
       "95    68  8.734145e-01  0.954654          1.828069\n",
       "96     3  5.935057e-01  0.956216          1.549721\n",
       "97    73  8.730520e-01  0.957259          1.830311\n",
       "98    55  8.812764e-01  0.957291          1.838567\n",
       "99    44  8.633175e-01  0.958183          1.821500\n",
       "100   67  8.930656e-01  0.958495          1.851561\n",
       "101   48  7.965187e-01  0.960573          1.757091\n",
       "102   99  8.616803e-01  0.961272          1.822952\n",
       "103  119  8.573426e-01  0.962307          1.819650\n",
       "104   58  8.247329e-01  0.963286          1.788019\n",
       "105   35  8.712068e-01  0.967191          1.838397\n",
       "106   70  8.632719e-01  0.968815          1.832086\n",
       "107   66  8.985107e-01  0.968815          1.867325\n",
       "108   38  9.180684e-01  0.969797          1.887866\n",
       "109    8  8.977950e-01  0.971396          1.869191\n",
       "110  110  8.848629e-01  0.974416          1.859279\n",
       "111   30  8.489137e-01  0.976235          1.825149\n",
       "112   91  8.835761e-01  0.976919          1.860495\n",
       "113   28  8.749613e-01  0.978139          1.853100\n",
       "114   22  8.882476e-01  0.979105          1.867353\n",
       "115   56  8.215730e-01  0.979322          1.800895\n",
       "116   29  8.794890e-01  0.979387          1.858876\n",
       "117   16  8.775597e-01  0.981227          1.858786\n",
       "\n",
       "[118 rows x 4 columns]"
      ]
     },
     "execution_count": 389,
     "metadata": {},
     "output_type": "execute_result"
    }
   ],
   "source": [
    "yes_df"
   ]
  },
  {
   "cell_type": "code",
   "execution_count": 390,
   "metadata": {},
   "outputs": [
    {
     "data": {
      "text/plain": [
       "64"
      ]
     },
     "execution_count": 390,
     "metadata": {},
     "output_type": "execute_result"
    }
   ],
   "source": [
    "yes_df.iloc[yes_df.summed_distances.idxmin(),0]"
   ]
  },
  {
   "cell_type": "code",
   "execution_count": 391,
   "metadata": {},
   "outputs": [
    {
     "data": {
      "text/plain": [
       "12"
      ]
     },
     "execution_count": 391,
     "metadata": {},
     "output_type": "execute_result"
    }
   ],
   "source": [
    "yes_df.summed_distances.idxmin()"
   ]
  },
  {
   "cell_type": "code",
   "execution_count": 392,
   "metadata": {},
   "outputs": [
    {
     "data": {
      "text/plain": [
       "['Stackline is a retail intelligence and software company based in Seattle, WA that was founded by a group of Amazon veterans. Our technology activates data, automates execution, and optimizes e-commerce marketing performance for hundreds of the world’s largest companies.',\n",
       " '',\n",
       " 'Data Scientist (Applied Math)',\n",
       " '',\n",
       " 'Join our team as an Applied Scientist and you will help leading consumer brands use data and technology to discover insights, improve decision-making and transform their businesses.',\n",
       " '',\n",
       " 'Basic Qualifications',\n",
       " 'Bachelors or Master’s Degree in Engineering, Mathematics, Statistics, Computer Science',\n",
       " 'Strong knowledge of one relevant/appropriate programming languages like R, Python or C#.',\n",
       " 'Strong knowledge of SQL.',\n",
       " '2 to 3 years of related work experience (data science, bi, data analytics, or data engineering).',\n",
       " 'Mastery of statistics and probability I.E.r application in systems analysis and operations research.',\n",
       " 'Strong problem solving, data analysis and communication skills.',\n",
       " 'Preferred Qualifications',\n",
       " 'Experience handling large data sets using SQL in a business environment.',\n",
       " 'Strong knowledge of one relevant/appropriate programming languages like R, Python and C#.',\n",
       " 'Experience on processing data on relational databases like Oracle/SQL Server/ Redshift/Tera data.',\n",
       " 'Experience working in a fast-paced, high tech environment.',\n",
       " 'Experience in e-commerce or a related field.',\n",
       " 'Demonstrated experience designing and building new ideas, working closely with technical teams from concept generation through implementation.',\n",
       " 'Why Stackline',\n",
       " 'Work in a high growth industry in a role that allows you to make an immediate impact',\n",
       " 'Client facing application, our customers are some of the biggest brands in the world.',\n",
       " 'Extremely competitive salaries',\n",
       " '100% of Employee Premiums covered for Medical, Dental, Vision',\n",
       " '100% employee owned company; bootstrapped, cash positive startup.',\n",
       " 'Catered lunches',\n",
       " 'Fun downtown location']"
      ]
     },
     "execution_count": 392,
     "metadata": {},
     "output_type": "execute_result"
    }
   ],
   "source": [
    "full_df.iloc[64].split('\\n')"
   ]
  },
  {
   "cell_type": "code",
   "execution_count": 427,
   "metadata": {},
   "outputs": [],
   "source": [
    "undecided_df = yes_df.drop(index=[1])"
   ]
  },
  {
   "cell_type": "code",
   "execution_count": 434,
   "metadata": {},
   "outputs": [],
   "source": [
    "undecided_df['distance_from_no'] = distance_from_firstNo"
   ]
  },
  {
   "cell_type": "code",
   "execution_count": 435,
   "metadata": {},
   "outputs": [
    {
     "data": {
      "text/html": [
       "<div>\n",
       "<style scoped>\n",
       "    .dataframe tbody tr th:only-of-type {\n",
       "        vertical-align: middle;\n",
       "    }\n",
       "\n",
       "    .dataframe tbody tr th {\n",
       "        vertical-align: top;\n",
       "    }\n",
       "\n",
       "    .dataframe thead th {\n",
       "        text-align: right;\n",
       "    }\n",
       "</style>\n",
       "<table border=\"1\" class=\"dataframe\">\n",
       "  <thead>\n",
       "    <tr style=\"text-align: right;\">\n",
       "      <th></th>\n",
       "      <th>0</th>\n",
       "      <th>1</th>\n",
       "      <th>2</th>\n",
       "      <th>summed_distances</th>\n",
       "      <th>distance_from_no</th>\n",
       "    </tr>\n",
       "  </thead>\n",
       "  <tbody>\n",
       "    <tr>\n",
       "      <th>0</th>\n",
       "      <td>98</td>\n",
       "      <td>0.844011</td>\n",
       "      <td>0.847349</td>\n",
       "      <td>1.691360</td>\n",
       "      <td>0.796444</td>\n",
       "    </tr>\n",
       "    <tr>\n",
       "      <th>2</th>\n",
       "      <td>103</td>\n",
       "      <td>0.892052</td>\n",
       "      <td>0.896118</td>\n",
       "      <td>1.788170</td>\n",
       "      <td>0.859028</td>\n",
       "    </tr>\n",
       "    <tr>\n",
       "      <th>3</th>\n",
       "      <td>89</td>\n",
       "      <td>0.840655</td>\n",
       "      <td>0.897939</td>\n",
       "      <td>1.738594</td>\n",
       "      <td>0.852439</td>\n",
       "    </tr>\n",
       "    <tr>\n",
       "      <th>4</th>\n",
       "      <td>25</td>\n",
       "      <td>0.902673</td>\n",
       "      <td>0.900881</td>\n",
       "      <td>1.803554</td>\n",
       "      <td>0.841059</td>\n",
       "    </tr>\n",
       "    <tr>\n",
       "      <th>5</th>\n",
       "      <td>116</td>\n",
       "      <td>0.905920</td>\n",
       "      <td>0.901781</td>\n",
       "      <td>1.807701</td>\n",
       "      <td>0.876078</td>\n",
       "    </tr>\n",
       "  </tbody>\n",
       "</table>\n",
       "</div>"
      ],
      "text/plain": [
       "     0         1         2  summed_distances  distance_from_no\n",
       "0   98  0.844011  0.847349          1.691360          0.796444\n",
       "2  103  0.892052  0.896118          1.788170          0.859028\n",
       "3   89  0.840655  0.897939          1.738594          0.852439\n",
       "4   25  0.902673  0.900881          1.803554          0.841059\n",
       "5  116  0.905920  0.901781          1.807701          0.876078"
      ]
     },
     "execution_count": 435,
     "metadata": {},
     "output_type": "execute_result"
    }
   ],
   "source": [
    "undecided_df.head()"
   ]
  },
  {
   "cell_type": "code",
   "execution_count": 436,
   "metadata": {},
   "outputs": [],
   "source": [
    "undecided_df['total_distance'] = undecided_df.summed_distances - undecided_df.distance_from_no"
   ]
  },
  {
   "cell_type": "code",
   "execution_count": 437,
   "metadata": {},
   "outputs": [
    {
     "data": {
      "text/html": [
       "<div>\n",
       "<style scoped>\n",
       "    .dataframe tbody tr th:only-of-type {\n",
       "        vertical-align: middle;\n",
       "    }\n",
       "\n",
       "    .dataframe tbody tr th {\n",
       "        vertical-align: top;\n",
       "    }\n",
       "\n",
       "    .dataframe thead th {\n",
       "        text-align: right;\n",
       "    }\n",
       "</style>\n",
       "<table border=\"1\" class=\"dataframe\">\n",
       "  <thead>\n",
       "    <tr style=\"text-align: right;\">\n",
       "      <th></th>\n",
       "      <th>0</th>\n",
       "      <th>1</th>\n",
       "      <th>2</th>\n",
       "      <th>summed_distances</th>\n",
       "      <th>distance_from_no</th>\n",
       "      <th>total_distance</th>\n",
       "    </tr>\n",
       "  </thead>\n",
       "  <tbody>\n",
       "    <tr>\n",
       "      <th>0</th>\n",
       "      <td>98</td>\n",
       "      <td>0.844011</td>\n",
       "      <td>0.847349</td>\n",
       "      <td>1.691360</td>\n",
       "      <td>0.796444</td>\n",
       "      <td>0.894915</td>\n",
       "    </tr>\n",
       "    <tr>\n",
       "      <th>2</th>\n",
       "      <td>103</td>\n",
       "      <td>0.892052</td>\n",
       "      <td>0.896118</td>\n",
       "      <td>1.788170</td>\n",
       "      <td>0.859028</td>\n",
       "      <td>0.929143</td>\n",
       "    </tr>\n",
       "    <tr>\n",
       "      <th>3</th>\n",
       "      <td>89</td>\n",
       "      <td>0.840655</td>\n",
       "      <td>0.897939</td>\n",
       "      <td>1.738594</td>\n",
       "      <td>0.852439</td>\n",
       "      <td>0.886155</td>\n",
       "    </tr>\n",
       "    <tr>\n",
       "      <th>4</th>\n",
       "      <td>25</td>\n",
       "      <td>0.902673</td>\n",
       "      <td>0.900881</td>\n",
       "      <td>1.803554</td>\n",
       "      <td>0.841059</td>\n",
       "      <td>0.962495</td>\n",
       "    </tr>\n",
       "    <tr>\n",
       "      <th>5</th>\n",
       "      <td>116</td>\n",
       "      <td>0.905920</td>\n",
       "      <td>0.901781</td>\n",
       "      <td>1.807701</td>\n",
       "      <td>0.876078</td>\n",
       "      <td>0.931623</td>\n",
       "    </tr>\n",
       "  </tbody>\n",
       "</table>\n",
       "</div>"
      ],
      "text/plain": [
       "     0         1         2  summed_distances  distance_from_no  total_distance\n",
       "0   98  0.844011  0.847349          1.691360          0.796444        0.894915\n",
       "2  103  0.892052  0.896118          1.788170          0.859028        0.929143\n",
       "3   89  0.840655  0.897939          1.738594          0.852439        0.886155\n",
       "4   25  0.902673  0.900881          1.803554          0.841059        0.962495\n",
       "5  116  0.905920  0.901781          1.807701          0.876078        0.931623"
      ]
     },
     "execution_count": 437,
     "metadata": {},
     "output_type": "execute_result"
    }
   ],
   "source": [
    "undecided_df.head()"
   ]
  },
  {
   "cell_type": "code",
   "execution_count": 438,
   "metadata": {},
   "outputs": [
    {
     "data": {
      "text/plain": [
       "65"
      ]
     },
     "execution_count": 438,
     "metadata": {},
     "output_type": "execute_result"
    }
   ],
   "source": [
    "undecided_df.iloc[undecided_df.total_distance.idxmin(),0]"
   ]
  },
  {
   "cell_type": "code",
   "execution_count": 443,
   "metadata": {},
   "outputs": [
    {
     "data": {
      "text/plain": [
       "['The Data Scientist is a key member of our Pharmacy Automation Software Analytics team and will lead development of intelligent solutions for new analytics product offerings, as well as guide the establishment of our next generation data ingestion, transformation, and analysis capabilities, transforming our current practices to take advantage of these capabilities.',\n",
       " '',\n",
       " 'Your Responsibilities',\n",
       " 'Identify important and interesting questions and challenges related to product capabilities and business operations and translate those questions into concrete analytical tasks and data systems',\n",
       " 'Recommend strategies for design and implementation of scalable, intelligent systems, setting customer or team expectations regarding project timelines and algorithm development',\n",
       " 'Provide thought-leadership in the area of analytics/data science for analytics product and future applications',\n",
       " 'Develop and support external and internal data analysis and visualization/dashboarding in Tableau',\n",
       " 'Develop the mapping, extraction, and unification (ETL) pipeline of data from numerous structured and unstructured healthcare sources into AWS for visualization and mining in novel applications',\n",
       " 'Design and implement complex queries utilizing SQL Commands, Views, Stored Procedures',\n",
       " 'Work closely with product management to plan and codify product capabilities and requirements',\n",
       " 'Assist with critical analysis of test results and deliver solutions to problem areas',\n",
       " 'Identify and research data structures and challenges with minimum documentation',\n",
       " 'Analyze process challenges and make suggestions for the prevention of future problems',\n",
       " 'Perform other duties, as assigned.',\n",
       " 'Your Profile',\n",
       " 'Proven ability to assess business problems and create, investigate, and deploy new statistical and machine learning-based approaches to improve business outcomes, defining the necessary pipelines, creating required analytical datasets, and developing clear, well-documented solutions',\n",
       " 'Expertise in statistical tools like Python/R with knowledge of scientific/analytics libraries (pandas, scikit-learn, numpy, scipy, TensorFlow, Spark)',\n",
       " 'Experience visually exploring data and creating production ready dashboards in Tableau',\n",
       " 'Experience working with SQL (MSSQL, PostGreSQL, data warehousing concepts) and ability to write complex SQL queries',\n",
       " 'Migration and ETL experience with moving on-premise data in/out of AWS cloud services including S3, RDS, and Redshift',\n",
       " 'Excellent interpersonal and communications skills (both verbally and written), can effectively convey logical rationale for decisions and explain the results and implications of experiments',\n",
       " 'Advanced Degree in related quantitative fields or clear demonstration of 2-5 years of relevant experience',\n",
       " 'Desirable but not essential:',\n",
       " 'Experience with inventory and supply chain management is a major plus',\n",
       " 'Experience in the Healthcare industry a plus',\n",
       " 'Experience developing intelligent, prescriptive analytics applications',\n",
       " 'Experience in C#, Java, and JavaScript',\n",
       " 'We Offer',\n",
       " 'Swisslog offers challenging work in a globally networked environment as well as competitive base salary, comprehensive benefits including health/dental and above-market 401K!',\n",
       " '',\n",
       " 'OUR SOLUTIONS DELIVER RESULTS. OUR EMPLOYEES DELIVER SOLUTIONS.',\n",
       " '',\n",
       " 'Swisslog is an EEO Employer, Females/Minority/Veterans/Disabled/Sexual Orientation/Gender Identity',\n",
       " '',\n",
       " 'Swisslog’s FMLA policy can be found at: http://www.dol.gov/whd/regs/compliance/posters/fmlaen.pdf',\n",
       " '',\n",
       " 'Federal law requires employers to provide reasonable accommodation to qualified individuals with disabilities. If you require reasonable accommodation to complete the application or to perform your job, please contact Human Resources at jobs.healthcare.us@swisslog.com',\n",
       " 'Contact',\n",
       " 'Andy Levine',\n",
       " 'Talent Acquisition Manager']"
      ]
     },
     "execution_count": 443,
     "metadata": {},
     "output_type": "execute_result"
    }
   ],
   "source": [
    "full_df.iloc[65].split('\\n')"
   ]
  },
  {
   "cell_type": "code",
   "execution_count": 431,
   "metadata": {},
   "outputs": [],
   "source": [
    "distance_from_firstNo = []\n",
    "for i in range(undecided_df.shape[0]):\n",
    "    distance_from_firstNo.append(spatial.distance.cosine(full_X.iloc[2,2:],\n",
    "                                                 no_temp_tfidf.iloc[i,:]))"
   ]
  },
  {
   "cell_type": "code",
   "execution_count": 433,
   "metadata": {},
   "outputs": [
    {
     "data": {
      "text/plain": [
       "117"
      ]
     },
     "execution_count": 433,
     "metadata": {},
     "output_type": "execute_result"
    }
   ],
   "source": [
    "len(distance_from_firstNo)"
   ]
  },
  {
   "cell_type": "code",
   "execution_count": 429,
   "metadata": {},
   "outputs": [],
   "source": [
    "no_temp_df = full_X.drop(index=[1,3])"
   ]
  },
  {
   "cell_type": "code",
   "execution_count": 430,
   "metadata": {},
   "outputs": [
    {
     "data": {
      "text/html": [
       "<div>\n",
       "<style scoped>\n",
       "    .dataframe tbody tr th:only-of-type {\n",
       "        vertical-align: middle;\n",
       "    }\n",
       "\n",
       "    .dataframe tbody tr th {\n",
       "        vertical-align: top;\n",
       "    }\n",
       "\n",
       "    .dataframe thead th {\n",
       "        text-align: right;\n",
       "    }\n",
       "</style>\n",
       "<table border=\"1\" class=\"dataframe\">\n",
       "  <thead>\n",
       "    <tr style=\"text-align: right;\">\n",
       "      <th></th>\n",
       "      <th>jobs</th>\n",
       "      <th>labels</th>\n",
       "      <th>0</th>\n",
       "      <th>1</th>\n",
       "      <th>2</th>\n",
       "      <th>3</th>\n",
       "      <th>4</th>\n",
       "      <th>5</th>\n",
       "      <th>6</th>\n",
       "      <th>7</th>\n",
       "      <th>...</th>\n",
       "      <th>4684</th>\n",
       "      <th>4685</th>\n",
       "      <th>4686</th>\n",
       "      <th>4687</th>\n",
       "      <th>4688</th>\n",
       "      <th>4689</th>\n",
       "      <th>4690</th>\n",
       "      <th>4691</th>\n",
       "      <th>4692</th>\n",
       "      <th>4693</th>\n",
       "    </tr>\n",
       "  </thead>\n",
       "  <tbody>\n",
       "    <tr>\n",
       "      <th>2</th>\n",
       "      <td>The Microsoft Cloud+AI Design team is looking ...</td>\n",
       "      <td>0.0</td>\n",
       "      <td>0.000000</td>\n",
       "      <td>0.0</td>\n",
       "      <td>0.0</td>\n",
       "      <td>0.0</td>\n",
       "      <td>0.0</td>\n",
       "      <td>0.0</td>\n",
       "      <td>0.0</td>\n",
       "      <td>0.0</td>\n",
       "      <td>...</td>\n",
       "      <td>0.0</td>\n",
       "      <td>0.0</td>\n",
       "      <td>0.0</td>\n",
       "      <td>0.0</td>\n",
       "      <td>0.0</td>\n",
       "      <td>0.0</td>\n",
       "      <td>0.0</td>\n",
       "      <td>0.0</td>\n",
       "      <td>0.0</td>\n",
       "      <td>0.0</td>\n",
       "    </tr>\n",
       "    <tr>\n",
       "      <th>4</th>\n",
       "      <td>Overall Job Purpose:\\n\\nThis role will be loca...</td>\n",
       "      <td>0.0</td>\n",
       "      <td>0.000000</td>\n",
       "      <td>0.0</td>\n",
       "      <td>0.0</td>\n",
       "      <td>0.0</td>\n",
       "      <td>0.0</td>\n",
       "      <td>0.0</td>\n",
       "      <td>0.0</td>\n",
       "      <td>0.0</td>\n",
       "      <td>...</td>\n",
       "      <td>0.0</td>\n",
       "      <td>0.0</td>\n",
       "      <td>0.0</td>\n",
       "      <td>0.0</td>\n",
       "      <td>0.0</td>\n",
       "      <td>0.0</td>\n",
       "      <td>0.0</td>\n",
       "      <td>0.0</td>\n",
       "      <td>0.0</td>\n",
       "      <td>0.0</td>\n",
       "    </tr>\n",
       "    <tr>\n",
       "      <th>5</th>\n",
       "      <td>Lead Data Scientist\\nIf you are a Lead Data Sc...</td>\n",
       "      <td>0.0</td>\n",
       "      <td>0.000000</td>\n",
       "      <td>0.0</td>\n",
       "      <td>0.0</td>\n",
       "      <td>0.0</td>\n",
       "      <td>0.0</td>\n",
       "      <td>0.0</td>\n",
       "      <td>0.0</td>\n",
       "      <td>0.0</td>\n",
       "      <td>...</td>\n",
       "      <td>0.0</td>\n",
       "      <td>0.0</td>\n",
       "      <td>0.0</td>\n",
       "      <td>0.0</td>\n",
       "      <td>0.0</td>\n",
       "      <td>0.0</td>\n",
       "      <td>0.0</td>\n",
       "      <td>0.0</td>\n",
       "      <td>0.0</td>\n",
       "      <td>0.0</td>\n",
       "    </tr>\n",
       "    <tr>\n",
       "      <th>6</th>\n",
       "      <td>Blue Nile was created in 1999 by a man in love...</td>\n",
       "      <td>0.0</td>\n",
       "      <td>0.037139</td>\n",
       "      <td>0.0</td>\n",
       "      <td>0.0</td>\n",
       "      <td>0.0</td>\n",
       "      <td>0.0</td>\n",
       "      <td>0.0</td>\n",
       "      <td>0.0</td>\n",
       "      <td>0.0</td>\n",
       "      <td>...</td>\n",
       "      <td>0.0</td>\n",
       "      <td>0.0</td>\n",
       "      <td>0.0</td>\n",
       "      <td>0.0</td>\n",
       "      <td>0.0</td>\n",
       "      <td>0.0</td>\n",
       "      <td>0.0</td>\n",
       "      <td>0.0</td>\n",
       "      <td>0.0</td>\n",
       "      <td>0.0</td>\n",
       "    </tr>\n",
       "    <tr>\n",
       "      <th>7</th>\n",
       "      <td>Back to search results\\n\\nSearch by Job Title ...</td>\n",
       "      <td>0.0</td>\n",
       "      <td>0.016726</td>\n",
       "      <td>0.0</td>\n",
       "      <td>0.0</td>\n",
       "      <td>0.0</td>\n",
       "      <td>0.0</td>\n",
       "      <td>0.0</td>\n",
       "      <td>0.0</td>\n",
       "      <td>0.0</td>\n",
       "      <td>...</td>\n",
       "      <td>0.0</td>\n",
       "      <td>0.0</td>\n",
       "      <td>0.0</td>\n",
       "      <td>0.0</td>\n",
       "      <td>0.0</td>\n",
       "      <td>0.0</td>\n",
       "      <td>0.0</td>\n",
       "      <td>0.0</td>\n",
       "      <td>0.0</td>\n",
       "      <td>0.0</td>\n",
       "    </tr>\n",
       "  </tbody>\n",
       "</table>\n",
       "<p>5 rows × 4696 columns</p>\n",
       "</div>"
      ],
      "text/plain": [
       "                                                jobs  labels         0    1  \\\n",
       "2  The Microsoft Cloud+AI Design team is looking ...     0.0  0.000000  0.0   \n",
       "4  Overall Job Purpose:\\n\\nThis role will be loca...     0.0  0.000000  0.0   \n",
       "5  Lead Data Scientist\\nIf you are a Lead Data Sc...     0.0  0.000000  0.0   \n",
       "6  Blue Nile was created in 1999 by a man in love...     0.0  0.037139  0.0   \n",
       "7  Back to search results\\n\\nSearch by Job Title ...     0.0  0.016726  0.0   \n",
       "\n",
       "     2    3    4    5    6    7  ...   4684  4685  4686  4687  4688  4689  \\\n",
       "2  0.0  0.0  0.0  0.0  0.0  0.0  ...    0.0   0.0   0.0   0.0   0.0   0.0   \n",
       "4  0.0  0.0  0.0  0.0  0.0  0.0  ...    0.0   0.0   0.0   0.0   0.0   0.0   \n",
       "5  0.0  0.0  0.0  0.0  0.0  0.0  ...    0.0   0.0   0.0   0.0   0.0   0.0   \n",
       "6  0.0  0.0  0.0  0.0  0.0  0.0  ...    0.0   0.0   0.0   0.0   0.0   0.0   \n",
       "7  0.0  0.0  0.0  0.0  0.0  0.0  ...    0.0   0.0   0.0   0.0   0.0   0.0   \n",
       "\n",
       "   4690  4691  4692  4693  \n",
       "2   0.0   0.0   0.0   0.0  \n",
       "4   0.0   0.0   0.0   0.0  \n",
       "5   0.0   0.0   0.0   0.0  \n",
       "6   0.0   0.0   0.0   0.0  \n",
       "7   0.0   0.0   0.0   0.0  \n",
       "\n",
       "[5 rows x 4696 columns]"
      ]
     },
     "execution_count": 430,
     "metadata": {},
     "output_type": "execute_result"
    }
   ],
   "source": [
    "no_temp_df.head()"
   ]
  },
  {
   "cell_type": "code",
   "execution_count": 360,
   "metadata": {},
   "outputs": [
    {
     "data": {
      "text/plain": [
       "(118, 4696)"
      ]
     },
     "execution_count": 360,
     "metadata": {},
     "output_type": "execute_result"
    }
   ],
   "source": [
    "no_temp_df.shape"
   ]
  },
  {
   "cell_type": "code",
   "execution_count": 364,
   "metadata": {},
   "outputs": [],
   "source": [
    "# full_X.iloc[2,:]"
   ]
  },
  {
   "cell_type": "code",
   "execution_count": 367,
   "metadata": {},
   "outputs": [
    {
     "data": {
      "text/plain": [
       "(120, 4694)"
      ]
     },
     "execution_count": 367,
     "metadata": {},
     "output_type": "execute_result"
    }
   ],
   "source": [
    "tfidf_df.shape"
   ]
  },
  {
   "cell_type": "code",
   "execution_count": 394,
   "metadata": {},
   "outputs": [],
   "source": [
    "no_temp_tfidf = tfidf_df.drop(index=[0,2])"
   ]
  },
  {
   "cell_type": "code",
   "execution_count": 395,
   "metadata": {},
   "outputs": [
    {
     "data": {
      "text/plain": [
       "(118, 4694)"
      ]
     },
     "execution_count": 395,
     "metadata": {},
     "output_type": "execute_result"
    }
   ],
   "source": [
    "no_temp_tfidf.shape"
   ]
  },
  {
   "cell_type": "code",
   "execution_count": 397,
   "metadata": {},
   "outputs": [
    {
     "data": {
      "text/plain": [
       "0.09943944731137913"
      ]
     },
     "execution_count": 397,
     "metadata": {},
     "output_type": "execute_result"
    }
   ],
   "source": [
    "no_temp_tfidf.iloc[1,80]"
   ]
  },
  {
   "cell_type": "code",
   "execution_count": 396,
   "metadata": {},
   "outputs": [
    {
     "data": {
      "text/plain": [
       "0.09943944731137913"
      ]
     },
     "execution_count": 396,
     "metadata": {},
     "output_type": "execute_result"
    }
   ],
   "source": [
    "tfidf_df.iloc[3, 80]"
   ]
  },
  {
   "cell_type": "code",
   "execution_count": 399,
   "metadata": {},
   "outputs": [],
   "source": [
    "distance_from_no = []\n",
    "for i in range(no_temp_df.shape[0]):\n",
    "    distance_from_no.append(spatial.distance.cosine(full_X.iloc[2,2:],\n",
    "                                                 no_temp_tfidf.iloc[i,:]))"
   ]
  },
  {
   "cell_type": "code",
   "execution_count": 414,
   "metadata": {},
   "outputs": [
    {
     "data": {
      "text/plain": [
       "(118,)"
      ]
     },
     "execution_count": 414,
     "metadata": {},
     "output_type": "execute_result"
    }
   ],
   "source": [
    "np.array(distance_from_no).shape"
   ]
  },
  {
   "cell_type": "code",
   "execution_count": 403,
   "metadata": {},
   "outputs": [],
   "source": [
    "no_indices = np.delete(indices, [0,3])"
   ]
  },
  {
   "cell_type": "code",
   "execution_count": 413,
   "metadata": {},
   "outputs": [
    {
     "data": {
      "text/plain": [
       "(118,)"
      ]
     },
     "execution_count": 413,
     "metadata": {},
     "output_type": "execute_result"
    }
   ],
   "source": [
    "no_indices.shape"
   ]
  },
  {
   "cell_type": "code",
   "execution_count": 406,
   "metadata": {},
   "outputs": [],
   "source": [
    "no_sorted_distances = np.delete(sorted_distances, [0,3])"
   ]
  },
  {
   "cell_type": "code",
   "execution_count": 412,
   "metadata": {},
   "outputs": [
    {
     "data": {
      "text/plain": [
       "(118,)"
      ]
     },
     "execution_count": 412,
     "metadata": {},
     "output_type": "execute_result"
    }
   ],
   "source": [
    "no_sorted_distances.shape"
   ]
  },
  {
   "cell_type": "code",
   "execution_count": 419,
   "metadata": {},
   "outputs": [],
   "source": [
    "no_df = pd.DataFrame([no_indices, distance_from_no, no_sorted_distances]).T"
   ]
  },
  {
   "cell_type": "code",
   "execution_count": 420,
   "metadata": {},
   "outputs": [
    {
     "data": {
      "text/html": [
       "<div>\n",
       "<style scoped>\n",
       "    .dataframe tbody tr th:only-of-type {\n",
       "        vertical-align: middle;\n",
       "    }\n",
       "\n",
       "    .dataframe tbody tr th {\n",
       "        vertical-align: top;\n",
       "    }\n",
       "\n",
       "    .dataframe thead th {\n",
       "        text-align: right;\n",
       "    }\n",
       "</style>\n",
       "<table border=\"1\" class=\"dataframe\">\n",
       "  <thead>\n",
       "    <tr style=\"text-align: right;\">\n",
       "      <th></th>\n",
       "      <th>0</th>\n",
       "      <th>1</th>\n",
       "      <th>2</th>\n",
       "    </tr>\n",
       "  </thead>\n",
       "  <tbody>\n",
       "    <tr>\n",
       "      <th>0</th>\n",
       "      <td>14.0</td>\n",
       "      <td>0.796444</td>\n",
       "      <td>0.809892</td>\n",
       "    </tr>\n",
       "    <tr>\n",
       "      <th>1</th>\n",
       "      <td>98.0</td>\n",
       "      <td>0.859028</td>\n",
       "      <td>0.847349</td>\n",
       "    </tr>\n",
       "    <tr>\n",
       "      <th>2</th>\n",
       "      <td>103.0</td>\n",
       "      <td>0.852439</td>\n",
       "      <td>0.896118</td>\n",
       "    </tr>\n",
       "    <tr>\n",
       "      <th>3</th>\n",
       "      <td>89.0</td>\n",
       "      <td>0.841059</td>\n",
       "      <td>0.897939</td>\n",
       "    </tr>\n",
       "    <tr>\n",
       "      <th>4</th>\n",
       "      <td>25.0</td>\n",
       "      <td>0.876078</td>\n",
       "      <td>0.900881</td>\n",
       "    </tr>\n",
       "  </tbody>\n",
       "</table>\n",
       "</div>"
      ],
      "text/plain": [
       "       0         1         2\n",
       "0   14.0  0.796444  0.809892\n",
       "1   98.0  0.859028  0.847349\n",
       "2  103.0  0.852439  0.896118\n",
       "3   89.0  0.841059  0.897939\n",
       "4   25.0  0.876078  0.900881"
      ]
     },
     "execution_count": 420,
     "metadata": {},
     "output_type": "execute_result"
    }
   ],
   "source": [
    "no_df.head()"
   ]
  },
  {
   "cell_type": "code",
   "execution_count": 421,
   "metadata": {},
   "outputs": [],
   "source": [
    "no_df['difference_distances'] = no_df.iloc[:,2] - no_df.iloc[:,1]"
   ]
  },
  {
   "cell_type": "code",
   "execution_count": 422,
   "metadata": {},
   "outputs": [
    {
     "data": {
      "text/html": [
       "<div>\n",
       "<style scoped>\n",
       "    .dataframe tbody tr th:only-of-type {\n",
       "        vertical-align: middle;\n",
       "    }\n",
       "\n",
       "    .dataframe tbody tr th {\n",
       "        vertical-align: top;\n",
       "    }\n",
       "\n",
       "    .dataframe thead th {\n",
       "        text-align: right;\n",
       "    }\n",
       "</style>\n",
       "<table border=\"1\" class=\"dataframe\">\n",
       "  <thead>\n",
       "    <tr style=\"text-align: right;\">\n",
       "      <th></th>\n",
       "      <th>0</th>\n",
       "      <th>1</th>\n",
       "      <th>2</th>\n",
       "      <th>difference_distances</th>\n",
       "    </tr>\n",
       "  </thead>\n",
       "  <tbody>\n",
       "    <tr>\n",
       "      <th>0</th>\n",
       "      <td>14.0</td>\n",
       "      <td>0.796444</td>\n",
       "      <td>0.809892</td>\n",
       "      <td>0.013448</td>\n",
       "    </tr>\n",
       "    <tr>\n",
       "      <th>1</th>\n",
       "      <td>98.0</td>\n",
       "      <td>0.859028</td>\n",
       "      <td>0.847349</td>\n",
       "      <td>-0.011679</td>\n",
       "    </tr>\n",
       "    <tr>\n",
       "      <th>2</th>\n",
       "      <td>103.0</td>\n",
       "      <td>0.852439</td>\n",
       "      <td>0.896118</td>\n",
       "      <td>0.043679</td>\n",
       "    </tr>\n",
       "    <tr>\n",
       "      <th>3</th>\n",
       "      <td>89.0</td>\n",
       "      <td>0.841059</td>\n",
       "      <td>0.897939</td>\n",
       "      <td>0.056880</td>\n",
       "    </tr>\n",
       "    <tr>\n",
       "      <th>4</th>\n",
       "      <td>25.0</td>\n",
       "      <td>0.876078</td>\n",
       "      <td>0.900881</td>\n",
       "      <td>0.024803</td>\n",
       "    </tr>\n",
       "  </tbody>\n",
       "</table>\n",
       "</div>"
      ],
      "text/plain": [
       "       0         1         2  difference_distances\n",
       "0   14.0  0.796444  0.809892              0.013448\n",
       "1   98.0  0.859028  0.847349             -0.011679\n",
       "2  103.0  0.852439  0.896118              0.043679\n",
       "3   89.0  0.841059  0.897939              0.056880\n",
       "4   25.0  0.876078  0.900881              0.024803"
      ]
     },
     "execution_count": 422,
     "metadata": {},
     "output_type": "execute_result"
    }
   ],
   "source": [
    "no_df.head()"
   ]
  },
  {
   "cell_type": "code",
   "execution_count": 423,
   "metadata": {},
   "outputs": [],
   "source": [
    "no_df.iloc[:,0] = no_df.iloc[:,0].astype('int')"
   ]
  },
  {
   "cell_type": "code",
   "execution_count": 424,
   "metadata": {},
   "outputs": [
    {
     "data": {
      "text/html": [
       "<div>\n",
       "<style scoped>\n",
       "    .dataframe tbody tr th:only-of-type {\n",
       "        vertical-align: middle;\n",
       "    }\n",
       "\n",
       "    .dataframe tbody tr th {\n",
       "        vertical-align: top;\n",
       "    }\n",
       "\n",
       "    .dataframe thead th {\n",
       "        text-align: right;\n",
       "    }\n",
       "</style>\n",
       "<table border=\"1\" class=\"dataframe\">\n",
       "  <thead>\n",
       "    <tr style=\"text-align: right;\">\n",
       "      <th></th>\n",
       "      <th>0</th>\n",
       "      <th>1</th>\n",
       "      <th>2</th>\n",
       "      <th>difference_distances</th>\n",
       "    </tr>\n",
       "  </thead>\n",
       "  <tbody>\n",
       "    <tr>\n",
       "      <th>0</th>\n",
       "      <td>14</td>\n",
       "      <td>0.796444</td>\n",
       "      <td>0.809892</td>\n",
       "      <td>0.013448</td>\n",
       "    </tr>\n",
       "    <tr>\n",
       "      <th>1</th>\n",
       "      <td>98</td>\n",
       "      <td>0.859028</td>\n",
       "      <td>0.847349</td>\n",
       "      <td>-0.011679</td>\n",
       "    </tr>\n",
       "    <tr>\n",
       "      <th>2</th>\n",
       "      <td>103</td>\n",
       "      <td>0.852439</td>\n",
       "      <td>0.896118</td>\n",
       "      <td>0.043679</td>\n",
       "    </tr>\n",
       "    <tr>\n",
       "      <th>3</th>\n",
       "      <td>89</td>\n",
       "      <td>0.841059</td>\n",
       "      <td>0.897939</td>\n",
       "      <td>0.056880</td>\n",
       "    </tr>\n",
       "    <tr>\n",
       "      <th>4</th>\n",
       "      <td>25</td>\n",
       "      <td>0.876078</td>\n",
       "      <td>0.900881</td>\n",
       "      <td>0.024803</td>\n",
       "    </tr>\n",
       "  </tbody>\n",
       "</table>\n",
       "</div>"
      ],
      "text/plain": [
       "     0         1         2  difference_distances\n",
       "0   14  0.796444  0.809892              0.013448\n",
       "1   98  0.859028  0.847349             -0.011679\n",
       "2  103  0.852439  0.896118              0.043679\n",
       "3   89  0.841059  0.897939              0.056880\n",
       "4   25  0.876078  0.900881              0.024803"
      ]
     },
     "execution_count": 424,
     "metadata": {},
     "output_type": "execute_result"
    }
   ],
   "source": [
    "no_df.head()"
   ]
  },
  {
   "cell_type": "code",
   "execution_count": 425,
   "metadata": {},
   "outputs": [
    {
     "data": {
      "text/plain": [
       "30"
      ]
     },
     "execution_count": 425,
     "metadata": {},
     "output_type": "execute_result"
    }
   ],
   "source": [
    "no_df.iloc[no_df.difference_distances.idxmax(),0]"
   ]
  },
  {
   "cell_type": "code",
   "execution_count": 426,
   "metadata": {},
   "outputs": [
    {
     "data": {
      "text/plain": [
       "['Senior Scientist, Medicinal Chemistry',\n",
       " 'Omeros is seeking a Senior Scientist to join our Medicinal Chemistry team. In this role, you’ll be supporting the research project team with medicinal chemistry for drug discovery products, including performing synthetic organic chemistry and molecular chemistry, and aiding in the design of organic molecules to be used in drug discovery.',\n",
       " 'Good things are happening at Omeros!',\n",
       " 'Come join our Medicinal Chemistry Team!',\n",
       " '',\n",
       " 'Who is Omeros?',\n",
       " 'Omeros is a commercial-stage biopharmaceutical company committed to discovering, developing and commercializing small-molecule and protein therapeutics for large-market as well as orphan indications targeting inflammation, complement-mediated diseases and disorders of the central nervous system.',\n",
       " '',\n",
       " 'The company’s drug product OMIDRIA® (phenylephrine and ketorolac injection) 1% / 0.3% is marketed in the U.S. for use during cataract surgery or intraocular lens (IOL) replacement to maintain pupil size by preventing intraoperative miosis (pupil constriction) and to reduce postoperative ocular pain. In the European Union, the European Commission has approved OMIDRIA for use in cataract surgery and other IOL replacement procedures to maintain mydriasis (pupil dilation), prevent miosis (pupil constriction), and to reduce postoperative eye pain.',\n",
       " '',\n",
       " 'Omeros has multiple Phase 3 and Phase 2 clinical-stage development programs focused on: complement-associated thrombotic microangiopathies; complement-mediated glomerulonephropathies; Huntington’s disease and cognitive impairment; and addictive and compulsive disorders. In addition, Omeros has a diverse group of preclinical programs and a proprietary G protein-coupled receptor (GPCR) platform through which it controls 54 new GPCR drug targets and corresponding compounds, a number of which are in preclinical development. The company also exclusively possesses a novel antibody-generating platform.',\n",
       " 'What are your job responsibilities?',\n",
       " 'Designing and synthesizing potential drug candidate molecules',\n",
       " 'Conducting complex air- and moisture-sensitive organic reactions',\n",
       " 'Analytically characterizing organic compounds using routine methods (NMR, HPLC/MS, etc.)',\n",
       " 'Understanding and applying DMPK and biological principals toward the design of small molecules; discusses and maintains structure activity relationships of compounds',\n",
       " 'Analyzing, preparing and presenting data',\n",
       " 'Effectively using the chemical literature',\n",
       " 'Using chemistry related software',\n",
       " 'Ensuring safety standards are maintained',\n",
       " 'Managing and archiving data',\n",
       " 'Presenting scientific results effectively in both a technical and informational fashion',\n",
       " 'Maintaining a safe work environment',\n",
       " 'Attending project meetings',\n",
       " 'May supervise or manage Research Associates',\n",
       " 'What experience and education do you need?',\n",
       " 'You’ll need to have a Ph.D. in Organic Chemistry with a minimum 5+ years of industry experience. Other experience we are seeking includes:',\n",
       " 'Industry experience in organic synthesis and proven ability to design and synthesize novel compounds through multi-step synthetic routes is required',\n",
       " 'Experience with purification methods and characterization of compounds such as NMR and LCMS is required',\n",
       " 'CNS experience is a plus',\n",
       " 'What skills and knowledge does our ideal candidate have?',\n",
       " 'As our ideal candidate, you’ll need the following skills and knowledge:',\n",
       " 'Demonstrated proficiency in using MS Office applications',\n",
       " 'The ability to work effectively under pressure, handling multiple priorities simultaneously, is essential',\n",
       " 'Excellent written and verbal communication skills',\n",
       " 'Excellent interpersonal skills',\n",
       " 'Time management skills',\n",
       " 'Team oriented and highly motivated demeanor',\n",
       " 'The ability to build and maintain positive relationships with management, peers and subordinates is essential',\n",
       " 'Strong analytical and problem-solving skills, attention to detail',\n",
       " 'If you have the skills, knowledge and experience we are looking for, we’d love to hear from you!',\n",
       " 'Omeros is an Equal Opportunity Employer. All qualified applicants will receive consideration for employment without regard to status as a protected veteran or a qualified individual with a disability, or other protected status such as race, religion, color, national origin, sex, age, marital status, or any other factor determined to be unlawful by federal, state, or local statutes.',\n",
       " 'It is our policy to provide reasonable accommodation to anyone with a disability who needs assistance completing the job application process. If you need assistance, you can either send an e-mail to hr@omeros.com or contact Omeros, asking for Human Resources, at (206) 676-5000.']"
      ]
     },
     "execution_count": 426,
     "metadata": {},
     "output_type": "execute_result"
    }
   ],
   "source": [
    "full_df.iloc[30].split('\\n')"
   ]
  },
  {
   "cell_type": "code",
   "execution_count": 294,
   "metadata": {},
   "outputs": [],
   "source": [
    "yes_distances = []\n",
    "for i in range(full_X.shape[0]):\n",
    "    temp_df = full_X.drop(index=[i+1])\n",
    "    for j in range(temp_df.shape[0]):\n",
    "        yes_distances.append(spatial.distance.cosine(full_X.iloc[i,2:],\n",
    "                                                     tfidf_df.iloc[j,:]))"
   ]
  },
  {
   "cell_type": "code",
   "execution_count": null,
   "metadata": {},
   "outputs": [],
   "source": []
  },
  {
   "cell_type": "code",
   "execution_count": 61,
   "metadata": {},
   "outputs": [],
   "source": [
    "vocab = pd.read_csv('../data/vocabulary.csv', index_col=0)"
   ]
  },
  {
   "cell_type": "code",
   "execution_count": 63,
   "metadata": {},
   "outputs": [],
   "source": [
    "culled_vectorizer = TfidfVectorizer(stop_words='english', vocabulary=vocab['words'])"
   ]
  },
  {
   "cell_type": "code",
   "execution_count": 64,
   "metadata": {},
   "outputs": [
    {
     "data": {
      "text/plain": [
       "TfidfVectorizer(analyzer='word', binary=False, decode_error='strict',\n",
       "        dtype=<class 'numpy.int64'>, encoding='utf-8', input='content',\n",
       "        lowercase=True, max_df=1.0, max_features=None, min_df=1,\n",
       "        ngram_range=(1, 1), norm='l2', preprocessor=None, smooth_idf=True,\n",
       "        stop_words='english', strip_accents=None, sublinear_tf=False,\n",
       "        token_pattern='(?u)\\\\b\\\\w\\\\w+\\\\b', tokenizer=None, use_idf=True,\n",
       "        vocabulary=0       efficiency\n",
       "1              web\n",
       "2           groups\n",
       "3          quality\n",
       "4       regression\n",
       "5           Proven\n",
       "6              inc\n",
       "7            small\n",
       "8      improvement\n",
       "9         language\n",
       "10      matplotlib\n",
       "11               ’\n",
       "12          united\n",
       "13       knowledge\n",
       "14           scipy\n",
       "15  ...tle\n",
       "97        selenium\n",
       "98    econometrics\n",
       "99      experience\n",
       "Name: words, Length: 100, dtype: object)"
      ]
     },
     "execution_count": 64,
     "metadata": {},
     "output_type": "execute_result"
    }
   ],
   "source": [
    "culled_vectorizer.fit(df['jobs'])"
   ]
  },
  {
   "cell_type": "code",
   "execution_count": 65,
   "metadata": {},
   "outputs": [],
   "source": [
    "culled_transformed = culled_vectorizer.transform(df['jobs'])"
   ]
  },
  {
   "cell_type": "code",
   "execution_count": 66,
   "metadata": {},
   "outputs": [],
   "source": [
    "culled_df = pd.DataFrame(culled_transformed.toarray())"
   ]
  },
  {
   "cell_type": "code",
   "execution_count": 70,
   "metadata": {},
   "outputs": [
    {
     "data": {
      "text/plain": [
       "118     20\n",
       "117    110\n",
       "116     10\n",
       "115     67\n",
       "114     92\n",
       "113     91\n",
       "112     80\n",
       "111     19\n",
       "110     72\n",
       "109     53\n",
       "108     64\n",
       "107    107\n",
       "106     79\n",
       "105     26\n",
       "104      5\n",
       "103     81\n",
       "102     47\n",
       "101      2\n",
       "100     30\n",
       "99      14\n",
       "98       6\n",
       "97       4\n",
       "96       0\n",
       "95      76\n",
       "94      42\n",
       "93      52\n",
       "92      74\n",
       "91      89\n",
       "90      54\n",
       "89     116\n",
       "      ... \n",
       "29      87\n",
       "28      95\n",
       "27      21\n",
       "26      65\n",
       "25      69\n",
       "24      27\n",
       "23      24\n",
       "22      56\n",
       "21      43\n",
       "20      61\n",
       "19      35\n",
       "18      36\n",
       "17      75\n",
       "16     106\n",
       "15      50\n",
       "14      22\n",
       "13      97\n",
       "12      66\n",
       "11      28\n",
       "10      45\n",
       "9       41\n",
       "8       13\n",
       "7       62\n",
       "6       55\n",
       "5       83\n",
       "4      114\n",
       "3       51\n",
       "2       77\n",
       "1      109\n",
       "0       37\n",
       "Length: 119, dtype: int64"
      ]
     },
     "execution_count": 70,
     "metadata": {},
     "output_type": "execute_result"
    }
   ],
   "source": [
    "np.argsort(culled_df.sum(axis=1))[::-1]"
   ]
  },
  {
   "cell_type": "code",
   "execution_count": 121,
   "metadata": {},
   "outputs": [
    {
     "data": {
      "text/plain": [
       "['About Cadeo',\n",
       " '',\n",
       " 'Cadeo works at the intersection of policy, markets, and technology. We support utilities, public agencies, and private industry in their efforts to advance energy efficiency and create a cleaner, more sustainable future. To this end, we characterize markets, analyze distribution channels, assess emerging technologies, and analyze policy impacts. Through these services, we provide our clients with actionable recommendations and the ongoing guidance to implement them. Our approach is simple. We listen first, ask next, and answer last.',\n",
       " '',\n",
       " 'Our Culture',\n",
       " '',\n",
       " 'Each of us at Cadeo helps shape the culture we want to share. Our work is our craftsomething we want to get better at every day. So we take it seriously. To us, that doesnt mean formality; it means a commitment to continual development, both individually and collectively; it means having the desire to know what works better and the humility to recognize something probably does.',\n",
       " '',\n",
       " 'As we continue to grow, our culture will no doubt evolve, but the following core principles will not:',\n",
       " 'We start with the premise that we dont know. That way, we listen better.',\n",
       " 'We value candor, curiosity, and clarity.',\n",
       " 'We seek feedback. Really.',\n",
       " 'We share knowledge. Relentlessly.',\n",
       " 'We guard against the creep of bureaucracy.',\n",
       " 'And, oh yeah, if you want a standing desk, we dont ask for a doctors note.',\n",
       " '',\n",
       " 'Who Were Looking For:',\n",
       " '',\n",
       " 'This position may be located in Cadeos Portland, OR, Seattle, WA, or Washington, DC office.',\n",
       " 'Were looking for an experienced consultant who balances strong technical, project management, and communication skills and who can work both independently and collaboratively. The ideal candidate is a problem solver who is comfortable engaging subject matter experts to ask the right questions, and who is skilled at compiling information into a logical framework. Experience working in the utility/energy industry with a background in data science is critical. This position will support our market research and evaluation projects for utilities and government agencies by developing creative, data-driven solutions to complex analytical problems.',\n",
       " 'Duties for this position include:',\n",
       " 'Acquiring, combining, and analyzing data from a wide variety of sources (public databases, client management information systems, 3rd party vendors, web-scraping)',\n",
       " 'Developing mathematical models that help our clients quantify energy consumption, energy savings, and/or customer behaviors',\n",
       " 'Communicating analytical activities and findings as part of a compelling narrative that relates to key research questions.',\n",
       " 'Working independently with minimal supervision',\n",
       " 'Mentoring junior staff and managing project tasks, as needed',\n",
       " '',\n",
       " 'The following qualifications are required:',\n",
       " 'At least 3 years of progressive experience in the utility industry or consulting',\n",
       " 'Demonstrable experience in supporting research activities with data and analysis',\n",
       " 'Strong verbal and written communication skills',\n",
       " 'Strong aptitude for learning new technologies and analytics techniques',\n",
       " 'At least 3 years of database and data manipulation experience. Relevant platforms include SQL, HiveQL, SAS, Python, and R',\n",
       " 'Masters degree in economics, math, statistics, or equivalent',\n",
       " 'The following qualifications are also preferred:',\n",
       " 'Experience with visualization tools such as Tableau and Power BI.',\n",
       " 'Experience with GIS tools such as ArcGIS.',\n",
       " 'Knowledge of cloud platform architecture and administration, i.e. AWS, Azure.',\n",
       " 'Personnel and project management experience.',\n",
       " 'All qualified applicants will receive consideration for employment without regard to race, color, religion, sex, sexual orientation, gender identity or national origin.',\n",
       " '',\n",
       " 'In compliance with federal law, all persons hired will be required to verify identity and eligibility to work in the United States and to complete the required employment eligibility verification form upon hire.',\n",
       " '',\n",
       " 'Please DO NOT contact our consultants or team members directly regarding the position. Review the job application and submit your résumé and cover letter in PDF format only via the Cadeo website career page']"
      ]
     },
     "execution_count": 121,
     "metadata": {},
     "output_type": "execute_result"
    }
   ],
   "source": [
    "df.iloc[20][0].split('\\n')"
   ]
  },
  {
   "cell_type": "code",
   "execution_count": null,
   "metadata": {},
   "outputs": [],
   "source": []
  }
 ],
 "metadata": {
  "kernelspec": {
   "display_name": "Python 3",
   "language": "python",
   "name": "python3"
  },
  "language_info": {
   "codemirror_mode": {
    "name": "ipython",
    "version": 3
   },
   "file_extension": ".py",
   "mimetype": "text/x-python",
   "name": "python",
   "nbconvert_exporter": "python",
   "pygments_lexer": "ipython3",
   "version": "3.6.6"
  }
 },
 "nbformat": 4,
 "nbformat_minor": 2
}
