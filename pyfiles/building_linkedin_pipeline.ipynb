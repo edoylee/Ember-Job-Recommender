{
 "cells": [
  {
   "cell_type": "code",
   "execution_count": 427,
   "metadata": {},
   "outputs": [],
   "source": [
    "from selenium.webdriver import Firefox\n",
    "from bs4 import BeautifulSoup\n",
    "import random\n",
    "import time\n",
    "import pandas as pd\n",
    "from sklearn.feature_extraction.text import TfidfVectorizer"
   ]
  },
  {
   "cell_type": "code",
   "execution_count": 108,
   "metadata": {},
   "outputs": [],
   "source": [
    "def sleep(start=5, end=15):\n",
    "    return time.sleep(random.randint(5, 15))"
   ]
  },
  {
   "cell_type": "code",
   "execution_count": 396,
   "metadata": {},
   "outputs": [],
   "source": [
    "browser = Firefox()"
   ]
  },
  {
   "cell_type": "code",
   "execution_count": 397,
   "metadata": {},
   "outputs": [],
   "source": [
    "browser.get('https://www.linkedin.com')"
   ]
  },
  {
   "cell_type": "code",
   "execution_count": 464,
   "metadata": {},
   "outputs": [],
   "source": [
    "class linkedin_scraper():\n",
    "    def __init__(self, param=None):\n",
    "        self.param = param\n",
    "    \n",
    "    def sleep(start=5, end=15):\n",
    "        return time.sleep(random.randint(5, 15))\n",
    "    \n",
    "    def find_profile(self, name):\n",
    "        search_bar = browser.find_element_by_css_selector('#ember41 > input:nth-child(1)')\n",
    "        search_bar.click()\n",
    "        self.sleep()\n",
    "        search_bar.send_keys(name)\n",
    "        search_button = browser.find_element_by_css_selector('.search-typeahead-v2__button > span:nth-child(1) > li-icon:nth-child(2) > svg:nth-child(1)')\n",
    "        search_button.click()\n",
    "        self.sleep()\n",
    "        search_results = browser.find_elements_by_class_name('name')\n",
    "        search_results[0].click()\n",
    "        \n",
    "    def scroll(self):\n",
    "        sections = browser.find_elements_by_class_name('pv-profile-section')\n",
    "        for section in sections:\n",
    "            section.location_once_scrolled_into_view\n",
    "            sleep()\n",
    "        \n",
    "    def expand_page(self):\n",
    "        rec = browser.find_elements_by_class_name('pv-profile-section__see-more-inline')\n",
    "        rec[1].location_once_scrolled_into_view\n",
    "        rec[1].click()\n",
    "        self.sleep()\n",
    "        summary_section = browser.find_element_by_class_name('pv-top-card-section__summary')\n",
    "        summary_section.location_once_scrolled_into_view\n",
    "        showmores = browser.find_elements_by_class_name('pv-profile-section__card-action-bar')\n",
    "        showmores[0].click()\n",
    "        self.sleep()\n",
    "        skills_section = browser.find_element_by_class_name('pv-skill-categories-section')\n",
    "        skills_section.location_once_scrolled_into_view\n",
    "        showmores[1].click()\n",
    "        self.sleep()\n",
    "        experience_section = browser.find_element_by_class_name('experience-section')\n",
    "        experience_section.location_once_scrolled_into_view\n",
    "        experience_seemores = browser.find_elements_by_link_text('See more')\n",
    "        for seemore in experience_seemores:\n",
    "            seemore.click()\n",
    "            sleep()\n",
    "    \n",
    "    def scrape_page(self):\n",
    "        summary = []\n",
    "        find_summary = browser.find_element_by_class_name('pv-top-card-section__summary-text')\n",
    "        summary.append(find_summary.text)\n",
    "        experience = []\n",
    "        find_experience = browser.find_element_by_id('oc-background-section')\n",
    "        experience.append(find_experience.text)\n",
    "        skills = []\n",
    "        find_skills = browser.find_element_by_class_name('pv-skill-categories-section')\n",
    "        skills.append(find_skills.text)\n",
    "        recommendations = []\n",
    "        find_recommendations = browser.find_element_by_class_name('pv-recommendations-section')\n",
    "        recommendations.append(find_recommendations.text)\n",
    "        profile_df = pd.DataFrame({'summary': summary, 'experience': experience, 'skills': skills, 'recommendations': recommendations})\n",
    "        return profile_df\n",
    "    \n",
    "    def concat_strings(self, word_list):\n",
    "        total_cleaned = ''\n",
    "        for word in word_list:\n",
    "            total_cleaned += (word + ' ')\n",
    "        return total_cleaned\n",
    "    \n",
    "    def get_consolidated_profile(self, columns):\n",
    "        total_string = ''\n",
    "        for column in columns:\n",
    "            total_string += concat_strings(chris_profile_df[column])\n",
    "        return [total_string]\n",
    "    \n",
    "    def transform(self, name):\n",
    "        self.find_profile(name)\n",
    "        self.scroll()\n",
    "        self.expand_page()\n",
    "        profile_df = self.scrape_page()\n",
    "        consolidated_df = self.get_consolidated_profile(profile_df)\n",
    "        final_df = pd.DataFrame({'profile': consolidated_df})\n",
    "        return final_df"
   ]
  },
  {
   "cell_type": "code",
   "execution_count": 398,
   "metadata": {},
   "outputs": [],
   "source": [
    "test = linkedin_scraper()"
   ]
  },
  {
   "cell_type": "code",
   "execution_count": 399,
   "metadata": {},
   "outputs": [],
   "source": [
    "test.find_profile('Chris Doyle')"
   ]
  },
  {
   "cell_type": "code",
   "execution_count": 400,
   "metadata": {},
   "outputs": [],
   "source": [
    "test.scroll()"
   ]
  },
  {
   "cell_type": "code",
   "execution_count": 401,
   "metadata": {},
   "outputs": [],
   "source": [
    "test.expand_page()"
   ]
  },
  {
   "cell_type": "code",
   "execution_count": 402,
   "metadata": {},
   "outputs": [],
   "source": [
    "chris_profile_df = test.scrape_page()"
   ]
  },
  {
   "cell_type": "code",
   "execution_count": 392,
   "metadata": {},
   "outputs": [],
   "source": [
    "second_test = linkedin_scraper()"
   ]
  },
  {
   "cell_type": "code",
   "execution_count": 303,
   "metadata": {},
   "outputs": [],
   "source": [
    "second_test.find_profile('Carolyn Doyle')"
   ]
  },
  {
   "cell_type": "code",
   "execution_count": 390,
   "metadata": {},
   "outputs": [],
   "source": [
    "second_test.scroll()"
   ]
  },
  {
   "cell_type": "code",
   "execution_count": 393,
   "metadata": {},
   "outputs": [],
   "source": [
    "second_test.expand_page()"
   ]
  },
  {
   "cell_type": "code",
   "execution_count": 394,
   "metadata": {},
   "outputs": [],
   "source": [
    "carolyn_profile_df = second_test.scrape_page()"
   ]
  },
  {
   "cell_type": "code",
   "execution_count": 438,
   "metadata": {},
   "outputs": [],
   "source": [
    "def concat_strings(word_list):\n",
    "    total_cleaned = ''\n",
    "    for word in word_list:\n",
    "        total_cleaned += (word + ' ')\n",
    "    return total_cleaned"
   ]
  },
  {
   "cell_type": "code",
   "execution_count": 445,
   "metadata": {},
   "outputs": [],
   "source": [
    "def get_consolidated_profile(columns):\n",
    "    total_string = ''\n",
    "    for column in columns:\n",
    "        total_string += concat_strings(chris_profile_df[column])\n",
    "    return [total_string]"
   ]
  },
  {
   "cell_type": "code",
   "execution_count": 446,
   "metadata": {},
   "outputs": [],
   "source": [
    "chris_final = get_consolidated_profile(chris_profile_df)"
   ]
  },
  {
   "cell_type": "code",
   "execution_count": 461,
   "metadata": {},
   "outputs": [],
   "source": [
    "carolyn_final = get_consolidated_profile(carolyn_profile_df)"
   ]
  },
  {
   "cell_type": "code",
   "execution_count": 458,
   "metadata": {},
   "outputs": [],
   "source": [
    "chris_profile = pd.DataFrame({'profile': chris_final})"
   ]
  },
  {
   "cell_type": "code",
   "execution_count": 462,
   "metadata": {},
   "outputs": [],
   "source": [
    "carolyn_profile = pd.DataFrame({'profile': carolyn_final})"
   ]
  },
  {
   "cell_type": "code",
   "execution_count": 460,
   "metadata": {},
   "outputs": [],
   "source": [
    "chris_profile.to_csv('../data/chris_profile.csv')"
   ]
  },
  {
   "cell_type": "code",
   "execution_count": 463,
   "metadata": {},
   "outputs": [],
   "source": [
    "carolyn_profile.to_csv('../data/carolyn_profile.csv')"
   ]
  },
  {
   "cell_type": "code",
   "execution_count": 428,
   "metadata": {},
   "outputs": [],
   "source": [
    "custom_stop = [\n",
    "    \"a\", \"about\", \"above\", \"across\", \"after\", \"afterwards\", \"again\", \"against\",\n",
    "    \"all\", \"almost\", \"alone\", \"along\", \"already\", \"also\", \"although\", \"always\",\n",
    "    \"am\", \"among\", \"amongst\", \"amoungst\", \"amount\", \"an\", \"and\", \"another\",\n",
    "    \"any\", \"anyhow\", \"anyone\", \"anything\", \"anyway\", \"anywhere\", \"are\",\n",
    "    \"around\", \"as\", \"at\", \"back\", \"be\", \"became\", \"because\", \"become\",\n",
    "    \"becomes\", \"becoming\", \"been\", \"before\", \"beforehand\", \"behind\", \"being\",\n",
    "    \"below\", \"beside\", \"besides\", \"between\", \"beyond\", \"bill\", \"both\",\n",
    "    \"bottom\", \"but\", \"by\", \"call\", \"can\", \"cannot\", \"cant\", \"co\", \"con\",\n",
    "    \"could\", \"couldnt\", \"cry\", \"de\", \"describe\", \"detail\", \"do\", \"done\",\n",
    "    \"down\", \"due\", \"during\", \"each\", \"eg\", \"eight\", \"either\", \"eleven\", \"else\",\n",
    "    \"elsewhere\", \"empty\", \"enough\", \"etc\", \"even\", \"ever\", \"every\", \"everyone\",\n",
    "    \"everything\", \"everywhere\", \"except\", \"few\", \"fifteen\", \"fifty\", \"fill\",\n",
    "    \"find\", \"fire\", \"first\", \"five\", \"for\", \"former\", \"formerly\", \"forty\",\n",
    "    \"found\", \"four\", \"from\", \"front\", \"full\", \"further\", \"get\", \"give\", \"go\",\n",
    "    \"had\", \"has\", \"hasnt\", \"have\", \"he\", \"hence\", \"her\", \"here\", \"hereafter\",\n",
    "    \"hereby\", \"herein\", \"hereupon\", \"hers\", \"herself\", \"him\", \"himself\", \"his\",\n",
    "    \"how\", \"however\", \"hundred\", \"i\", \"ie\", \"if\", \"in\", \"inc\", \"indeed\",\n",
    "    \"interest\", \"into\", \"is\", \"it\", \"its\", \"itself\", \"keep\", \"last\", \"latter\",\n",
    "    \"latterly\", \"least\", \"less\", \"ltd\", \"made\", \"many\", \"may\", \"me\",\n",
    "    \"meanwhile\", \"might\", \"mill\", \"mine\", \"more\", \"moreover\", \"most\", \"mostly\",\n",
    "    \"move\", \"much\", \"must\", \"my\", \"myself\", \"name\", \"namely\", \"neither\",\n",
    "    \"never\", \"nevertheless\", \"next\", \"nine\", \"no\", \"nobody\", \"none\", \"noone\",\n",
    "    \"nor\", \"not\", \"nothing\", \"now\", \"nowhere\", \"of\", \"off\", \"often\", \"on\",\n",
    "    \"once\", \"one\", \"only\", \"onto\", \"or\", \"other\", \"others\", \"otherwise\", \"our\",\n",
    "    \"ours\", \"ourselves\", \"out\", \"over\", \"own\", \"part\", \"per\", \"perhaps\",\n",
    "    \"please\", \"put\", \"rather\", \"re\", \"same\", \"see\", \"seem\", \"seemed\",\n",
    "    \"seeming\", \"seems\", \"serious\", \"several\", \"she\", \"should\", \"show\", \"side\",\n",
    "    \"since\", \"sincere\", \"six\", \"sixty\", \"so\", \"some\", \"somehow\", \"someone\",\n",
    "    \"something\", \"sometime\", \"sometimes\", \"somewhere\", \"still\", \"such\",\n",
    "    \"system\", \"take\", \"ten\", \"than\", \"that\", \"the\", \"their\", \"them\",\n",
    "    \"themselves\", \"then\", \"thence\", \"there\", \"thereafter\", \"thereby\",\n",
    "    \"therefore\", \"therein\", \"thereupon\", \"these\", \"they\", \"thick\", \"thin\",\n",
    "    \"third\", \"this\", \"those\", \"though\", \"three\", \"through\", \"throughout\",\n",
    "    \"thru\", \"thus\", \"to\", \"together\", \"too\", \"top\", \"toward\", \"towards\",\n",
    "    \"twelve\", \"twenty\", \"two\", \"un\", \"under\", \"until\", \"up\", \"upon\", \"us\",\n",
    "    \"very\", \"via\", \"was\", \"we\", \"well\", \"were\", \"what\", \"whatever\", \"when\",\n",
    "    \"whence\", \"whenever\", \"where\", \"whereafter\", \"whereas\", \"whereby\",\n",
    "    \"wherein\", \"whereupon\", \"wherever\", \"whether\", \"which\", \"while\", \"whither\",\n",
    "    \"who\", \"whoever\", \"whole\", \"whom\", \"whose\", \"why\", \"will\", \"with\",\n",
    "    \"within\", \"without\", \"would\", \"yet\", \"you\", \"your\", \"yours\", \"yourself\",\n",
    "    \"yourselves\", \"jan\", \"feb\", \"mar\", \"apr\", \"may\", \"jun\", \"jul\", \"aug\", \"sep\",\n",
    "    \"oct\", \"nov\", \"dec\"]"
   ]
  },
  {
   "cell_type": "code",
   "execution_count": 450,
   "metadata": {},
   "outputs": [],
   "source": [
    "vectorizer = TfidfVectorizer(stop_words=custom_stop)"
   ]
  },
  {
   "cell_type": "code",
   "execution_count": 451,
   "metadata": {},
   "outputs": [],
   "source": [
    "chris_fitted_model = vectorizer.fit(chris_final)"
   ]
  },
  {
   "cell_type": "code",
   "execution_count": 452,
   "metadata": {},
   "outputs": [],
   "source": [
    "carolyn_fitted_model = vectorizer.fit(carolyn_final)"
   ]
  },
  {
   "cell_type": "code",
   "execution_count": null,
   "metadata": {},
   "outputs": [],
   "source": []
  }
 ],
 "metadata": {
  "kernelspec": {
   "display_name": "Python 3",
   "language": "python",
   "name": "python3"
  },
  "language_info": {
   "codemirror_mode": {
    "name": "ipython",
    "version": 3
   },
   "file_extension": ".py",
   "mimetype": "text/x-python",
   "name": "python",
   "nbconvert_exporter": "python",
   "pygments_lexer": "ipython3",
   "version": "3.6.6"
  }
 },
 "nbformat": 4,
 "nbformat_minor": 2
}
