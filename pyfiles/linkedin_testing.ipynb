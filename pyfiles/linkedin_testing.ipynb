{
 "cells": [
  {
   "cell_type": "code",
   "execution_count": 4,
   "metadata": {},
   "outputs": [],
   "source": [
    "import pandas as pd\n",
    "import numpy as np\n",
    "from scipy import spatial\n",
    "from sklearn.feature_extraction.text import TfidfVectorizer\n",
    "from selenium.webdriver import Firefox\n",
    "import time\n",
    "import random\n",
    "from predictNew import LinkedinScraper"
   ]
  },
  {
   "cell_type": "code",
   "execution_count": 16,
   "metadata": {},
   "outputs": [],
   "source": [
    "browser = Firefox()"
   ]
  },
  {
   "cell_type": "code",
   "execution_count": 17,
   "metadata": {},
   "outputs": [],
   "source": [
    "browser.get('https://www.linkedin.com')"
   ]
  },
  {
   "cell_type": "code",
   "execution_count": 18,
   "metadata": {},
   "outputs": [],
   "source": [
    "def sleep(start=5, end=15):\n",
    "    return time.sleep(random.randint(5, 15))"
   ]
  },
  {
   "cell_type": "code",
   "execution_count": 19,
   "metadata": {},
   "outputs": [],
   "source": [
    "summary_section = browser.find_element_by_class_name('pv-top-card-section__summary')\n",
    "summary_section.location_once_scrolled_into_view\n",
    "showmores = browser.find_elements_by_class_name('pv-profile-section__card-action-bar')\n",
    "showmores[0].click()\n",
    "sleep()\n",
    "experience_section = browser.find_element_by_class_name('experience-section')\n",
    "experience_section.location_once_scrolled_into_view\n",
    "experience_listings = browser.find_elements_by_class_name('pv-profile-section__list-item')\n",
    "sleep()\n",
    "for listing in experience_listings:\n",
    "    listing.location_once_scrolled_into_view\n",
    "    sleep()\n",
    "experience_seemores = browser.find_elements_by_link_text('See more')\n",
    "sleep()\n",
    "for seemore in experience_seemores:\n",
    "    seemore.click()\n",
    "    sleep()\n",
    "skills_section = browser.find_element_by_class_name('pv-skill-categories-section')\n",
    "skills_section.location_once_scrolled_into_view\n",
    "sleep()\n",
    "showmores = browser.find_elements_by_class_name('pv-profile-section__card-action-bar')\n",
    "showmores[1].click()\n",
    "sleep()\n",
    "rec = browser.find_elements_by_class_name('pv-profile-section__see-more-inline')\n",
    "rec[1].click()"
   ]
  },
  {
   "cell_type": "code",
   "execution_count": null,
   "metadata": {},
   "outputs": [],
   "source": []
  }
 ],
 "metadata": {
  "kernelspec": {
   "display_name": "Python 3",
   "language": "python",
   "name": "python3"
  },
  "language_info": {
   "codemirror_mode": {
    "name": "ipython",
    "version": 3
   },
   "file_extension": ".py",
   "mimetype": "text/x-python",
   "name": "python",
   "nbconvert_exporter": "python",
   "pygments_lexer": "ipython3",
   "version": "3.6.6"
  }
 },
 "nbformat": 4,
 "nbformat_minor": 2
}
