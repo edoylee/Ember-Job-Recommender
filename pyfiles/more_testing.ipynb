{
 "cells": [
  {
   "cell_type": "code",
   "execution_count": 29,
   "metadata": {},
   "outputs": [],
   "source": [
    "from predictNew import ScrapeGlass\n",
    "from BuildTraining import ConvertData, TrainX"
   ]
  },
  {
   "cell_type": "code",
   "execution_count": 30,
   "metadata": {},
   "outputs": [],
   "source": [
    "import pandas as pd"
   ]
  },
  {
   "cell_type": "code",
   "execution_count": 31,
   "metadata": {},
   "outputs": [],
   "source": [
    "url = 'https://www.glassdoor.com'"
   ]
  },
  {
   "cell_type": "code",
   "execution_count": 32,
   "metadata": {},
   "outputs": [],
   "source": [
    "query = 'Senior Software Development Leader'"
   ]
  },
  {
   "cell_type": "code",
   "execution_count": 33,
   "metadata": {},
   "outputs": [],
   "source": [
    "test = ScrapeGlass()"
   ]
  },
  {
   "cell_type": "code",
   "execution_count": 34,
   "metadata": {},
   "outputs": [
    {
     "name": "stdout",
     "output_type": "stream",
     "text": [
      "10\n"
     ]
    },
    {
     "name": "stdin",
     "output_type": "stream",
     "text": [
      "\n",
      "Proceed? (yes / no)  yes\n",
      "Enter name of data TEST\n"
     ]
    }
   ],
   "source": [
    "test.transform(url, query)"
   ]
  },
  {
   "cell_type": "code",
   "execution_count": 35,
   "metadata": {},
   "outputs": [],
   "source": [
    "test_convert = ConvertData()"
   ]
  },
  {
   "cell_type": "code",
   "execution_count": 37,
   "metadata": {},
   "outputs": [],
   "source": [
    "data = '../data/TEST.csv'"
   ]
  },
  {
   "cell_type": "code",
   "execution_count": 38,
   "metadata": {},
   "outputs": [],
   "source": [
    "df = test_convert.preprocess_data(data)"
   ]
  },
  {
   "cell_type": "code",
   "execution_count": 39,
   "metadata": {},
   "outputs": [],
   "source": [
    "test_assign = TrainX(df)"
   ]
  },
  {
   "cell_type": "code",
   "execution_count": 40,
   "metadata": {},
   "outputs": [
    {
     "name": "stdout",
     "output_type": "stream",
     "text": [
      "Job Description\n",
      "\n",
      "The AWS Credential & Secrets Management team is responsible for managing and distributing credentials and secrets across millions of hosts deployed for internal Amazon use and AWS. This team owns the 'IAM Roles for EC2' feature and AWS Secrets Manager service. This team runs some of the highest scale, performant and available services in AWS. We are making innovative bets to improve customer experience in managing and protecting their credentials and secrets. As such, we are looking for a strong engineering leader to oversee design, development and operations of these tier-0 foundational systems.\n",
      "\n",
      "\n",
      "\n",
      "Key Responsibilities:\n",
      "\n",
      "\n",
      "\n",
      "Apply Now at Amazon\n"
     ]
    },
    {
     "name": "stdin",
     "output_type": "stream",
     "text": [
      "\n",
      "yes / no (quit)  yes\n"
     ]
    },
    {
     "name": "stdout",
     "output_type": "stream",
     "text": [
      "\n",
      "\n",
      " ---------------------------------------------------------------------------------------------------- \n",
      "\n",
      "Job Description\n",
      "AWS Identity and Access Management (IAM) enables customers to secure their workloads in the cloud by providing authentication and authorization mechanisms. With the growth of AWS, the types of workloads and the access management frameworks needed to secure them keep evolving. We are looking for a senior engineering leader to build the next generation functionality in this area. Individuals interested in this position should have experience in software engineering leadership position, building high-performing, reliable systems in a complex, multi-tiered, and distributed environment in a fast paced environment.\n",
      "\n",
      "Key responsibilities include:\n",
      "\n",
      "As a leader of leaders, lead an organization that consists of SDMs, TPMs and software development engineers.\n",
      "\n",
      "Manage and develop the team, including hiring, retention, performance management, mentoring and capability/skill development.\n",
      "\n",
      "Lead architecture, design, implementation, and operational support of tools and services.\n",
      "\n",
      "Evaluate complex business and technical requirements, and communicate inherent risks and solutions to technical and non-technical business owners.\n",
      "\n",
      "Act as point of contact for communications dealing with project deliverables, setting the expectation, managing priorities, technologies, human factors and management issues.\n",
      "\n",
      "Establish high bar for processes and standards in the execution of all projects.\n",
      "Basic Qualifications\n",
      "Bachelor degree in Computer Science or related fields\n",
      "Experience in managing multiple software development teams\n",
      "Passionate about designing and developing simple solutions to complex, ambiguous problems\n",
      "Strong written and verbal communication skills\n",
      "Experience running and maintaining a 24x7 production environment\n",
      "Deep understanding of large distributed and online systems.\n",
      "Strong business and technical acumen\n",
      "Ability to define technical long term roadmap\n",
      "Preferred Qualifications\n",
      "Master's degree in Computer Science or related fields\n",
      "Experience with very large distributed systems such as large scale distributed database systems, storage farms, and/or horizontally scaled request processing fleets\n",
      "Development Expertise in OOP, Java, UNIX, Perl, C++, XML, Web services, and UNIX tools\n",
      "Experience with systems management or monitoring software\n",
      "Experience in systems and network administration is also ideal\n",
      "\n",
      "\n",
      "\n",
      "1. Meets/exceeds Amazon’s leadership principles requirements for this role\n",
      "2. Meets/exceeds Amazon’s functional/technical depth and complexity for this role\n",
      "\n",
      "**Amazon and its subsidiaries (\"Amazon\") are equal opportunity employers, and do not discriminate on the basis of race, religion, creed, color, national origin, citizenship, marital status, sex, age, sexual orientation, gender identity, veteran status, political ideology, ancestry, the presence of any physical, sensory or mental disabilities, or other legally protected status.**\n",
      "\n",
      "\n",
      "\n",
      "Apply Now at Amazon\n"
     ]
    },
    {
     "name": "stdin",
     "output_type": "stream",
     "text": [
      "\n",
      "yes / no (quit)  no\n"
     ]
    },
    {
     "name": "stdout",
     "output_type": "stream",
     "text": [
      "\n",
      "\n",
      " ---------------------------------------------------------------------------------------------------- \n",
      "\n",
      "InVision is the digital product design platform used to make the world's best customer experiences. We provide design tools and educational resources for teams to navigate every stage of the product design process, from ideation to development. Today, more 4 million people use InVision to create a repeatable and streamlined design workflow; rapidly design and prototype products before writing code, and collaborate across their entire organization. That includes more than 80 percent of the Fortune 100, and organizations like Airbnb, Amazon, HBO, Netflix, Slack, Starbucks and Uber, who are now able to design better products, faster.\n",
      "\n",
      "Our team is in search of a Senior Associate of Corporate Development to help us change the way digital products are designed.\n",
      "\n",
      "About the Team:\n",
      "\n",
      "InVision's Corporate Development team works closely with senior leadership and product teams to guide company strategy; we identify, evaluate, and execute M&A transactions; we lead integration efforts; and we direct a fund that invests in the future of design. Reporting to the Head of Corporate Development, this position will support InVision's inorganic growth efforts throughout the entire M&A lifecycle. We expect this Corporate Development team member to be excited about cementing InVision as the operating system for digital product design.\n",
      "\n",
      "What you'll do:\n",
      "\n",
      "Internally:\n",
      "Work with Product, Engineering, and Design teams to identify areas in the roadmap that might be accelerated through M&A and develop build/partner/buy analysis\n",
      "Assist in all aspects of transactions, from developing the initial strategy to constructing business cases to get executive buy in, to deal negotiation, execution, and integration\n",
      "Plan and direct the work of other cross-functional professionals, including engineering, product design, infrastructure IT, security and privacy systems, and finance and accounting\n",
      "Recommend high-potential investments\n",
      "Externally:\n",
      "Build close relationships with leaders at emerging and established companies in the startup community as well as with investment banking and venture capital firms\n",
      "Source & assess potential acquisition or investment targets\n",
      "Monitor M&A landscape and key announcements to develop view on industry activities and overall market trends\n",
      "What you'll bring:\n",
      "A Bachelor's degree and 4 years experience; Must have completed a 2-year post-graduate investment banking analyst or consulting program and must have at least some experience working within or covering the Tech sector, specifically internet and/or software\n",
      "Strong analytical skills, fluency in performing rigorous financial, valuation, and broad quantitative analyses and familiarity with operations; ability to develop financial models including valuation models\n",
      "Clear written and spoken communication skills with the ability to interact with all functions of a company, including the executive level\n",
      "Demonstrated success of working cross-functionally and influencing others to drive long-term strategic initiatives and acquisitions\n",
      "Ability to context-switch quickly and balance multiple projects at once\n",
      "Curiosity to understand software and recognize areas of product integration, discuss product roadmaps, and engage with engineers and product managers\n",
      "About InVision:\n",
      "\n",
      "InVision offers an incredibly unique work environment. The company employs a diverse team all over the world. Each InVision team member is given the freedom and tools to do their best work from wherever they choose.\n",
      "\n",
      "The benefits we offer in the United States and Canada include competitive health plans and a retirement plans. Some InVision-wide benefits offered to all employees across the globe include a flexible vacation policy, monthly coffee shop stipends, annual allowances for books related to your profession, and home office setup & wellness reimbursements. InVision is an international employer so some benefit offerings will vary from country to country.\n",
      "\n",
      "InVision is proud to be an equal opportunity workplace. We are committed to equal employment opportunity regardless of race, color, ancestry, religion, sex, national origin, sexual orientation, age, citizenship, marital status, disability, gender identity or Veteran status. If you have a disability or special need that requires accommodation, please let us know.\n"
     ]
    },
    {
     "name": "stdin",
     "output_type": "stream",
     "text": [
      "\n",
      "yes / no (quit)  yes\n"
     ]
    },
    {
     "name": "stdout",
     "output_type": "stream",
     "text": [
      "\n",
      "\n",
      " ---------------------------------------------------------------------------------------------------- \n",
      "\n",
      "Job Description\n",
      "Do you want to fundamentally improve the everyday productivity of software developers using AWS? The AWS CodeBuild team is looking for a lead/senior engineer to transform the customer experience for developers using the entire Code suite of services to build out and model their development process. You and your team will own services that will enable customers to develop and customize their development process, along with easing their use of Continuous Integration techniques for their software. We need a leader that is experienced in delivering multi-region fault tolerant systems, is passionate about the developer tools space, is excited to have software developers as their customers, and is obsessed about creating compelling customer experiences.\n",
      "\n",
      "As the senior software development engineer of this team, you will play a pivotal role in shaping the definition, vision, design, roadmap and development of this set of CodeBuild product features from beginning to end. You will:\n",
      "Mentor and lead your team of developers\n",
      "Guide senior leadership to help drive business decisions\n",
      "Design, implement, test, deploy and maintain innovative software solutions to transform service performance, durability, cost, and security.\n",
      "Use software engineering best practices to ensure a high standard of quality for all of the team deliverables\n",
      "Write high quality distributed system software\n",
      "Work in an agile, startup-like development environment, where you are always working on the most important stuff.\n",
      "In this role you will lead a critical and highly-visible function within the AWS business. You will be given the opportunity to autonomously deliver the technical direction of the service, and the feature roadmap. You will work with extraordinary talent and have the opportunity to hire and shape the team to best execute on the product. If you’re excited to have a large impact on AWS and the cloud computing industry, you’ll find this role to be engaging, challenging, and full of opportunities to learn and grow.\n",
      "\n",
      "If this sounds interesting to you, come join us!\n",
      "Basic Qualifications\n",
      "Bachelor's degree or foreign equivalent in Computer Science, Engineering, Mathematics, or a related field.\n",
      "At least 5 years of experience in the job offered or as a Software Engineer, Software Developer, or a related occupation.\n",
      "At least 3 years of experience in the job offered or a related occupation must involve: designing and developing large-scale, distributed software applications, tools, systems and services using Java, Scala, Go, C#, or C++, and Object Oriented Design.\n",
      "Preferred Qualifications\n",
      "Experience taking a lead role developing complex software systems that have successfully been delivered to customers.\n",
      "Experience in communicating with users, other technical teams and senior management to collect requirements, describe software product features, technical designs and product strategy.\n",
      "Knowledge of professional software engineering practices & best practices for full software development life cycle, including coding standards, code reviews, source control management, continuous deployments, testing and operations\n",
      "Demonstrated ability to mentor junior software engineers in all aspects of their engineering skill-sets.\n",
      "\n",
      "Amazon is an Equal Opportunity-Affirmative Action Employer – Minority / Female / Disability / Veteran / Gender Identity / Sexual Orientation\n",
      "\n",
      "\n",
      "Apply Now at Amazon\n"
     ]
    },
    {
     "name": "stdin",
     "output_type": "stream",
     "text": [
      "\n",
      "yes / no (quit)  no\n"
     ]
    },
    {
     "name": "stdout",
     "output_type": "stream",
     "text": [
      "\n",
      "\n",
      " ---------------------------------------------------------------------------------------------------- \n",
      "\n",
      "Job Description\n",
      "Come build the future of Linux at Amazon with the Amazon Linux Team!\n",
      "\n",
      "If you are an experienced Software Development Manager who is passionate about building the platform to support the world’s premier cloud computing environment, then this is the job for you.\n",
      "\n",
      "The Kernel and Operating Systems team, part of EC2 Foundational Technologies, is responsible for the design and maintenance of all of Amazon's core compute platforms, with a special focus on EC2, the Elastic Compute Cloud that is the basis for much of Amazon Web Services (AWS). We think broadly about the experiences our customers have running their services on EC2 and continually look for ways to improve performance, quality and reliability, and address new functional needs.\n",
      "\n",
      "We're also responsible for tools associated with the performance characterization, qualification, build and deployment of our Linux platforms.\n",
      "\n",
      "Software Development Managers work with technical leaders to refine technical direction, hire and develop the skills of the teams they lead, and own the delivery of the products and programs they're tasked with. They are equally comfortable leading small, focused project teams as well as making major direct contributions to the project. They deliver features, through their teams, with minimal direct oversight. They are also adept at recruiting and developing bar-raising talent.\n",
      "\n",
      "The baseline individual for this role will be entirely comfortable with the Linux operating system and understand how to develop in languages such as C, C++, Python, and Java in a Linux environment. Experience with Linux package management, version control systems, automated build processes, and software unit testing are a must. An understanding of and experience in contributing to open source projects is a plus. Specific in depth knowledge of the use, design, and development of Linux operating system internals, including the kernel and hypervisor is required for this role.\n",
      "\n",
      "This team creates the very core of the cloud, and is directly responsible for radically changing and improving the way that people use computers - come join us to have fun, and make history!\n",
      "Basic Qualifications\n",
      "At least two years managing through others (managers or team leads)\n",
      "5+ Years of demonstrated technical leadership experience.\n",
      "Knowledge of Linux packaging tools, processes, and distribution\n",
      "At least 5 years of industry experience focused on Linux. Proficiency in using the typical Linux toolbox of open source software and management tools.\n",
      "Demonstrated ability to plan and deliver complex, high quality, software products with minimal guidance\n",
      "Demonstrated ability to deliver results with cross-organizational dependencies\n",
      "BA/BS in Computer Science or related discipline, or equivalent work experience.\n",
      "Preferred Qualifications\n",
      "Experience using the typical Linux toolbox of open source software and management tools.\n",
      "Experience with Debian / Ubuntu packaging\n",
      "Experience with RPM packaging\n",
      "Skilled in at least two of C, shell, Python or Java.\n",
      "MS or PhD in Computer Science.\n",
      "A solid understanding of Linux networking.\n",
      "Experience working with the open source community.\n",
      "Experience with distributed systems architecture and related technologies.\n",
      "\n",
      "1) “Meets/exceeds Amazon’s leadership principles requirements for this role\n",
      "2) “Meets/exceeds Amazon’s functional/technical depth and complexity for this role\n",
      "\n",
      "Amazon is an Equal Opportunity-Affirmative Action Employer – Minority / Female / Disability / Veteran / Gender Identity / Sexual Orientation.\n",
      "\n",
      "\n",
      "Apply Now at Amazon\n"
     ]
    },
    {
     "name": "stdin",
     "output_type": "stream",
     "text": [
      "\n",
      "yes / no (quit)  no\n"
     ]
    },
    {
     "name": "stdout",
     "output_type": "stream",
     "text": [
      "\n",
      "\n",
      " ---------------------------------------------------------------------------------------------------- \n",
      "\n",
      "Job Description\n",
      "Would you like to be one of the leaders of a team that is solving new business challenges through innovative technology?\n",
      "\n",
      "The Team: Amazon Books is a brick and mortar store that offers a curated selection of books and an array of Amazon devices. It is a magical experience that combines the best parts of a neighborhood bookstore with Amazon.com’s low prices and the expertise of passionate, knowledgeable staff who tailor their approach to the unique needs of each customer.\n",
      "\n",
      "We are building brand new products that will significantly enhance the customer experience in store with innovative solutions. This includes features like mobile experiences to help our customers search and discover great selections with ease. We are building both hardware and software products to drive creative in store experiences for customers and associates alike breaking the barriers between online and offline experience. We are optimizing inventory management and supply chain technologies that change how business operations work. And lastly we are doing all of this by integrating with Amazon services designed to massively scale for millions of customers.\n",
      "\n",
      "The Role: As a leader of the Customer-facing Device Management team you will investigate solutions to complex problems, design solutions and work closely with the technical team to implement them. You will play a leadership role by working closely with business teams, technical teams and operational teams alike. You'll need to work well cross functionally, have strong interpersonal and written communication skills, be able to operate successfully both strategically and tactically, and have a strong bias for action.\n",
      "You should be comfortable with a degree of ambiguity that’s higher than most projects and relish the idea of solving problems that, frankly, haven’t been solved at scale before - anywhere. You will encounter challenging, novel situations every day and given the size of this initiative, you’ll have the opportunity to work with multiple technical teams at Amazon in different locations. We’re looking for entrepreneurs who are passionate about innovating on behalf of customers, can demonstrate a high degree of ownership, and want to have fun while they make history and craft beautiful products.\n",
      "Basic Qualifications\n",
      "* Bachelor’s degree in Computer Science or related field.\n",
      "* 7+ years of technical program management experience\n",
      "* Understanding of Software Development Life Cycle (SDLC) and project planning/execution skills including estimating and scheduling.\n",
      "* Excellent analytical and interpersonal skills, with ability to work successfully across all engineering disciplines.\n",
      "* Maturity, judgment, and proven ability to lead and influence others.\n",
      "* Independently driven, resourceful, and able to deliver results with minimal direction.\n",
      "* Ability to communicate clearly and effectively with developers, business owners, and senior business leaders.\n",
      "* High sense of ownership, urgency, and drive.\n",
      "\n",
      "Preferred Qualifications\n",
      "* Master’s degree in Computer Science or related field\n",
      "* Experience driving multiple products through a complete product life cycle\n",
      "\n",
      "\n",
      "\n",
      "Apply Now at Amazon\n"
     ]
    },
    {
     "name": "stdin",
     "output_type": "stream",
     "text": [
      "\n",
      "yes / no (quit)  no\n"
     ]
    },
    {
     "name": "stdout",
     "output_type": "stream",
     "text": [
      "\n",
      "\n",
      " ---------------------------------------------------------------------------------------------------- \n",
      "\n",
      "Job Description\n",
      "We are inventing new and engaging ad experiences for customers on mobile. As a leader and engineer you will have the freedom, support and encouragement to experiment and invent on behalf of our customers. We trust you to come up with compelling new interactive mobile ad experiences. You will think big and turn vision into reality — not be constrained by resources available to you today or today’s market environments. You’ll straddle both the product perspective and engineering execution while holding the entire problem-space in your head. Paul Graham wrote an essay about the importance of this principle: http://paulgraham.com/head.html. We like to think that it’s more than the software that our engineers need to hold all at once in their heads — it’s also the customer experience, the design, and the product. This allows you to look around the corner, move efficiently, develop concrete plans, and take advantage of opportunities to solve problems with long-term thinking. We need a highly collaborative teammate, but also one-person wrecking crew — someone who gets a lot done with very little resources and lots of ambiguity.\n",
      "\n",
      "As a Development Manager, you'll build an elite team of Development Engineers to define, drive and execute on this vision. You will initiate processes that allow the team to collaborate with partner teams in Amazon with a high degree of efficiency. You'll develop your team of highly motivated and talented individuals who can collaborate with Program Managers, Product Managers and SDEs across the company on high impact initiatives. You will design, build and own beautiful new features and solutions that will delight our customers.\n",
      "\n",
      "\n",
      "Responsibilities\n",
      "• You'll lead the overall development life cycle of the solutions and manage complex projects with significant bottom line impact.\n",
      "• Work with our team's product managers to develop a strategy and road map to provide compelling customer experiences and capabilities.\n",
      "• Cooperate with our senior engineers to develop the best technical design and approach for new product development.\n",
      "• Assure that your team's designs meet requirements, and deliver high-quality work on tight schedules.\n",
      "• Project management - prioritize, plan projects and features, manage partners, and track external commitments.\n",
      "• Monitor operation of production services to ensure Operational Excellence.\n",
      "• Career management and fostering the development of your direct reports.\n",
      "Basic Qualifications\n",
      "A Bachelor’s degree in Computer Science or equivalent combination of technical education and work experience.\n",
      "7+ years of Software Development experience; 3+ years of experience in building and leading strong engineering teams.\n",
      "Solid software development background including design patterns, data structures, test driven development.\n",
      "Deep hands-on technical expertise in building web services and highly scalable applications.\n",
      "Excellent interpersonal and written communication skills.\n",
      "Experience leading a team of 7+ engineers.\n",
      "Preferred Qualifications\n",
      "Master’s degree in Computer Science, Computer Engineering or related technical discipline.\n",
      "Familiarity with professional software engineering practices & standard practices for the full software life cycle, including coding standards, code reviews, source control management, build processes, testing, and operations.\n",
      "\n",
      "\n",
      "Apply Now at Amazon\n"
     ]
    },
    {
     "name": "stdin",
     "output_type": "stream",
     "text": [
      "\n",
      "yes / no (quit)  no\n"
     ]
    },
    {
     "name": "stdout",
     "output_type": "stream",
     "text": [
      "\n",
      "\n",
      " ---------------------------------------------------------------------------------------------------- \n",
      "\n",
      "Amazon Web Services (AWS) is the world leader in providing a highly reliable, scalable, low-cost infrastructure platform in the cloud that powers hundreds of thousands of businesses in hundreds of countries around the world.\n",
      "Come join a brand new team, EC2 Health Analytics, under EC2 Foundational Tech., to solve complex cutting-edge problems to power a faster, more robust and performant EC2 of tomorrow. The charter of our team is to improve customer experience on the EC2 fleet by analyzing hundreds of signals and driving next-generation detection and remediation tools across the cloud using Machine Learning and Data Analytics.\n",
      "\n",
      "As a Sr. Software Development Engineer in the EC2 Health Analytics team, you will join as a leader of an industry-leading engineering team solving challenging problems at massive scale.\n",
      "\n",
      "We are busy building our team from scratch (no legacy systems to own) and have multiple positions available.\n",
      "\n",
      "Responsibilities\n",
      "· Design, implement and deploy mission-critical systems that work at the scale of the EC2 fleet\n",
      "· Develop algorithms that analyze failures across different dimensions in EC2\n",
      "· Develop systems that improve the customer experience on EC2\n",
      "· Ensure the smooth and stable operation of the teams new services\n"
     ]
    },
    {
     "name": "stdin",
     "output_type": "stream",
     "text": [
      "\n",
      "yes / no (quit)  yes\n"
     ]
    },
    {
     "name": "stdout",
     "output_type": "stream",
     "text": [
      "\n",
      "\n",
      " ---------------------------------------------------------------------------------------------------- \n",
      "\n",
      "You are a strong software development leader with a passion for building and innovating customer facing applications and systems at scale. As a Sr. Manager of Software Development in the Amazon Last Mile Technology team, you will recruit and lead a high quality, creative, visionary software development team to build and innovate the technology platform that powers the payments systems that support all delivery partners that support Amazon Logistics across multiple marketplaces. Your team will drive and own innovations for multiple international locales. You will closely work with international business and software development teams based in multiple America, Europe, and Asia locations. You will make a huge, measurable impact to the Amazon Last Mile, and build and innovate solutions that are simple and easy to maintain and scale. You are great at hiring, growing, and mentoring engineers, and cultivating leadership capabilities. Previous experience in collaborating with remote teams is a big plus.\n",
      "\n",
      "Amazon aims to exceed the expectations of our customers by ensuring that their orders, no matter how large or small, are delivered as quickly, accurately, and cost effectively as possible. To meet this goal, Amazon has invested in Amazon Logistics, a world class last mile operation. We are looking for a dynamic, resourceful, and organized Senior Manager that can develop the right team to drive innovation and execute new strategies across the key technology pieces that support the most critical components of this rapidly scaling operation.\n",
      "\n",
      "Amazon Last Mile Technology employs a wide range of technologies. From website and mobile apps based front-end to AWS based back-end, we provide great opportunities for talented software engineers to apply cutting edge technologies while solving challenging real world issues. If you are interested in big data analysis, machine learning, highly scalable services, Cloud based data storage, distributed system design, supply chain algorithm improvement, voice driven user interfaces or mobile user experience, Amazon Last Mile Technology has applications which impact millions of customers.\n"
     ]
    },
    {
     "name": "stdin",
     "output_type": "stream",
     "text": [
      "\n",
      "yes / no (quit)  yes\n"
     ]
    },
    {
     "name": "stdout",
     "output_type": "stream",
     "text": [
      "\n",
      "\n",
      " ---------------------------------------------------------------------------------------------------- \n",
      "\n",
      "Job Description\n",
      "The video entertainment industry is at an exciting crossroads. Billions have been invested, market-leaders are emerging, and cutting-edge digital video services are delivering award-winning original programming. There’s never been a better time play a major role in this disruptive revolution. Prime Video would like to offer every film and TV show to every customer to watch instantly anywhere in the world. Would you like to join us to help shape a future where that's possible?\n",
      "\n",
      "The Prime Video Commerce Experience organization owns the Prime Video customer experience in purchasing and subscribing to video content, from surfacing the most relevant offers and ensuring transactions succeed to managing the lifecycle of everything they have bought. The projects that we deliver are some of the most important and impactful in the business and you will get the opportunity to provide innovative solutions to millions of Amazon customers worldwide.\n",
      "\n",
      "The Revenue And Payments team is seeking a Software Development Manager to build world-class bespoke financial and payment solutions to support our expanding global video business. As an Amazon Software Manager, you will be responsible for leading a team of software engineers responsible for the design, development, testing, and operations of Prime Video financial systems and services.\n",
      "A successful candidate will have an established background in developing full-stack n-tier systems, a strong technical ability, excellent project management skills, great communication skills, a motivation to achieve results in a fast-paced environment, high creativity, great analytical reasoning skills, and, of course, a passion for TV and film.\n",
      "\n",
      "An interest in how we account for and manage the financials for a multi-billion dollar business would also be beneficial.\n",
      "Basic Qualifications\n",
      "Degree in Computer Science or related field\n",
      "Experience managing a team of high caliber software engineers developing complex, world-class, scalable software systems\n",
      "A proven track record of software delivery through all phases of development and developing long-term development and business technology strategies\n",
      "Demonstrable knowledge of professional software engineering best practices for the full software development life cycle, including coding standards, code reviews, source control management, build processes, testing, and operations\n",
      "Experience in recruiting, hiring, mentoring/coaching and managing teams of Software Engineers to improve their skills, and make them more effective, product software engineers\n",
      "Significant technical experience as a Software Engineer, developing distributed/scalable systems and high-volume transaction applications\n",
      "Experience in communicating with users, other technical teams, and senior management to collect requirements, describe software product features, technical designs, and product strategy\n",
      "Preferred Qualifications\n",
      "Experience developing financial or accounting software\n",
      "Experience influencing software engineering best practices within your team\n",
      "Hands-on expertise in many disparate technologies, typically ranging from front-end user interfaces through to back-end systems and all points in between\n",
      "Experience developing in at least one of Java, C, C++, or Perl\n",
      "\n",
      "\n",
      "Apply Now at Amazon\n"
     ]
    },
    {
     "name": "stdin",
     "output_type": "stream",
     "text": [
      "\n",
      "yes / no (quit)  quit\n"
     ]
    },
    {
     "name": "stdout",
     "output_type": "stream",
     "text": [
      "\n",
      "\n",
      " ---------------------------------------------------------------------------------------------------- \n",
      "\n"
     ]
    }
   ],
   "source": [
    "complete_df = test_assign.transform()"
   ]
  },
  {
   "cell_type": "code",
   "execution_count": null,
   "metadata": {},
   "outputs": [],
   "source": []
  }
 ],
 "metadata": {
  "kernelspec": {
   "display_name": "Python 3",
   "language": "python",
   "name": "python3"
  },
  "language_info": {
   "codemirror_mode": {
    "name": "ipython",
    "version": 3
   },
   "file_extension": ".py",
   "mimetype": "text/x-python",
   "name": "python",
   "nbconvert_exporter": "python",
   "pygments_lexer": "ipython3",
   "version": "3.6.6"
  }
 },
 "nbformat": 4,
 "nbformat_minor": 2
}
