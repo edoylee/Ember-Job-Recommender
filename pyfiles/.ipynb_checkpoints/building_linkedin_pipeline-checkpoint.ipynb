{
 "cells": [
  {
   "cell_type": "code",
   "execution_count": 107,
   "metadata": {},
   "outputs": [],
   "source": [
    "from selenium.webdriver import Firefox\n",
    "from bs4 import BeautifulSoup\n",
    "import random\n",
    "import time\n",
    "import pandas as pd"
   ]
  },
  {
   "cell_type": "code",
   "execution_count": 108,
   "metadata": {},
   "outputs": [],
   "source": [
    "def sleep(start=5, end=15):\n",
    "    return time.sleep(random.randint(5, 15))"
   ]
  },
  {
   "cell_type": "code",
   "execution_count": 300,
   "metadata": {},
   "outputs": [],
   "source": [
    "browser = Firefox()"
   ]
  },
  {
   "cell_type": "code",
   "execution_count": 301,
   "metadata": {},
   "outputs": [],
   "source": [
    "browser.get('https://www.linkedin.com')"
   ]
  },
  {
   "cell_type": "code",
   "execution_count": 389,
   "metadata": {},
   "outputs": [],
   "source": [
    "class linkedin_scraper():\n",
    "    def __init__(self, param=None):\n",
    "        self.param = param\n",
    "    \n",
    "    def sleep(start=5, end=15):\n",
    "        return time.sleep(random.randint(5, 15))\n",
    "    \n",
    "    def find_profile(self, name):\n",
    "        search_bar = browser.find_element_by_css_selector('#ember41 > input:nth-child(1)')\n",
    "        search_bar.click()\n",
    "        self.sleep()\n",
    "        search_bar.send_keys(name)\n",
    "        search_button = browser.find_element_by_css_selector('.search-typeahead-v2__button > span:nth-child(1) > li-icon:nth-child(2) > svg:nth-child(1)')\n",
    "        search_button.click()\n",
    "        self.sleep()\n",
    "        search_results = browser.find_elements_by_class_name('name')\n",
    "        search_results[0].click()\n",
    "        \n",
    "    def scroll(self):\n",
    "        sections = browser.find_elements_by_class_name('pv-profile-section')\n",
    "        for section in sections:\n",
    "            section.location_once_scrolled_into_view\n",
    "            sleep()\n",
    "        \n",
    "    def expand_page(self):\n",
    "        rec = browser.find_elements_by_class_name('pv-profile-section__see-more-inline')\n",
    "        rec[1].location_once_scrolled_into_view\n",
    "        rec[1].click()\n",
    "        showmores = browser.find_elements_by_class_name('pv-profile-section__card-action-bar')\n",
    "        for i in range(len(showmores)-1):\n",
    "            self.sleep()\n",
    "            showmores[i].click()\n",
    "            self.sleep()\n",
    "        experience_button = browser.find_element_by_class_name('pv-profile-section__see-more-inline')\n",
    "        experience_button.click()\n",
    "        self.sleep()\n",
    "        seemores = browser.find_elements_by_link_text('See more')\n",
    "        for link in seemores:\n",
    "            self.sleep()\n",
    "            link.click()\n",
    "            self.sleep()\n",
    "    def second_expand_page(self):\n",
    "        rec = browser.find_elements_by_class_name('pv-profile-section__see-more-inline')\n",
    "        rec[1].location_once_scrolled_into_view\n",
    "        rec[1].click()\n",
    "        self.sleep()\n",
    "        summary_section = browser.find_element_by_class_name('pv-top-card-section__summary')\n",
    "        summary_section.location_once_scrolled_into_view\n",
    "        showmores = browser.find_elements_by_class_name('pv-profile-section__card-action-bar')\n",
    "        showmores[0].click()\n",
    "        self.sleep()\n",
    "        skills_section = browser.find_element_by_class_name('pv-skill-categories-section')\n",
    "        skills_section.location_once_scrolled_into_view\n",
    "        showmores[1].click()\n",
    "        self.sleep()\n",
    "        experience_section = browser.find_element_by_class_name('experience-section')\n",
    "        experience_section.location_once_scrolled_into_view\n",
    "        experience_seemores = browser.find_elements_by_link_text('See more')\n",
    "        for seemore in experience_seemores:\n",
    "            seemore.click()\n",
    "            sleep()\n",
    "    \n",
    "    def scrape_page(self):\n",
    "        summary = []\n",
    "        find_summary = browser.find_element_by_class_name('pv-top-card-section__summary-text')\n",
    "        summary.append(find_summary.text)\n",
    "        experience = []\n",
    "        find_experience = browser.find_element_by_id('oc-background-section')\n",
    "        experience.append(find_experience.text)\n",
    "        skills = []\n",
    "        find_skills = browser.find_element_by_class_name('pv-skill-categories-section')\n",
    "        skills.append(find_skills.text)\n",
    "        recommendations = []\n",
    "        find_recommendations = browser.find_element_by_class_name('pv-recommendations-section')\n",
    "        recommendations.append(find_recommendations.text)\n",
    "        profile_df = pd.DataFrame({'summary': summary, 'experience': experience, 'skills': skills, 'recommendations': recommendations})\n",
    "        return profile_df"
   ]
  },
  {
   "cell_type": "code",
   "execution_count": 297,
   "metadata": {},
   "outputs": [],
   "source": [
    "test = linkedin_scraper()"
   ]
  },
  {
   "cell_type": "code",
   "execution_count": 248,
   "metadata": {},
   "outputs": [],
   "source": [
    "test.find_profile('Chris Doyle')"
   ]
  },
  {
   "cell_type": "code",
   "execution_count": 298,
   "metadata": {},
   "outputs": [],
   "source": [
    "test.scroll()"
   ]
  },
  {
   "cell_type": "code",
   "execution_count": 299,
   "metadata": {},
   "outputs": [],
   "source": [
    "test.expand_page()"
   ]
  },
  {
   "cell_type": "code",
   "execution_count": 221,
   "metadata": {},
   "outputs": [],
   "source": [
    "profile_df = test.scrape_page()"
   ]
  },
  {
   "cell_type": "code",
   "execution_count": 223,
   "metadata": {},
   "outputs": [
    {
     "data": {
      "text/html": [
       "<div>\n",
       "<style scoped>\n",
       "    .dataframe tbody tr th:only-of-type {\n",
       "        vertical-align: middle;\n",
       "    }\n",
       "\n",
       "    .dataframe tbody tr th {\n",
       "        vertical-align: top;\n",
       "    }\n",
       "\n",
       "    .dataframe thead th {\n",
       "        text-align: right;\n",
       "    }\n",
       "</style>\n",
       "<table border=\"1\" class=\"dataframe\">\n",
       "  <thead>\n",
       "    <tr style=\"text-align: right;\">\n",
       "      <th></th>\n",
       "      <th>summary</th>\n",
       "      <th>experience</th>\n",
       "      <th>skills</th>\n",
       "      <th>recommendations</th>\n",
       "    </tr>\n",
       "  </thead>\n",
       "  <tbody>\n",
       "    <tr>\n",
       "      <th>0</th>\n",
       "      <td>At any level, in any company, my motivation is...</td>\n",
       "      <td>Experience\\nCompany Name\\nE Source\\nTotal Dura...</td>\n",
       "      <td>Skills &amp; Endorsements\\nProject Management\\nSee...</td>\n",
       "      <td>Ask for a recommendation\\nRecommend Chris\\nRec...</td>\n",
       "    </tr>\n",
       "  </tbody>\n",
       "</table>\n",
       "</div>"
      ],
      "text/plain": [
       "                                             summary  \\\n",
       "0  At any level, in any company, my motivation is...   \n",
       "\n",
       "                                          experience  \\\n",
       "0  Experience\\nCompany Name\\nE Source\\nTotal Dura...   \n",
       "\n",
       "                                              skills  \\\n",
       "0  Skills & Endorsements\\nProject Management\\nSee...   \n",
       "\n",
       "                                     recommendations  \n",
       "0  Ask for a recommendation\\nRecommend Chris\\nRec...  "
      ]
     },
     "execution_count": 223,
     "metadata": {},
     "output_type": "execute_result"
    }
   ],
   "source": [
    "profile_df.head()"
   ]
  },
  {
   "cell_type": "code",
   "execution_count": 392,
   "metadata": {},
   "outputs": [],
   "source": [
    "second_test = linkedin_scraper()"
   ]
  },
  {
   "cell_type": "code",
   "execution_count": 303,
   "metadata": {},
   "outputs": [],
   "source": [
    "second_test.find_profile('Carolyn Doyle')"
   ]
  },
  {
   "cell_type": "code",
   "execution_count": 390,
   "metadata": {},
   "outputs": [],
   "source": [
    "second_test.scroll()"
   ]
  },
  {
   "cell_type": "code",
   "execution_count": 393,
   "metadata": {},
   "outputs": [],
   "source": [
    "second_test.second_expand_page()"
   ]
  },
  {
   "cell_type": "code",
   "execution_count": 394,
   "metadata": {},
   "outputs": [],
   "source": [
    "carolyn_profile_df = second_test.scrape_page()"
   ]
  },
  {
   "cell_type": "code",
   "execution_count": 395,
   "metadata": {},
   "outputs": [
    {
     "data": {
      "text/html": [
       "<div>\n",
       "<style scoped>\n",
       "    .dataframe tbody tr th:only-of-type {\n",
       "        vertical-align: middle;\n",
       "    }\n",
       "\n",
       "    .dataframe tbody tr th {\n",
       "        vertical-align: top;\n",
       "    }\n",
       "\n",
       "    .dataframe thead th {\n",
       "        text-align: right;\n",
       "    }\n",
       "</style>\n",
       "<table border=\"1\" class=\"dataframe\">\n",
       "  <thead>\n",
       "    <tr style=\"text-align: right;\">\n",
       "      <th></th>\n",
       "      <th>summary</th>\n",
       "      <th>experience</th>\n",
       "      <th>skills</th>\n",
       "      <th>recommendations</th>\n",
       "    </tr>\n",
       "  </thead>\n",
       "  <tbody>\n",
       "    <tr>\n",
       "      <th>0</th>\n",
       "      <td>I’ve concentrated my career on developing exce...</td>\n",
       "      <td>Experience\\nLicensed Realtor\\nCompany Name\\nFo...</td>\n",
       "      <td>Skills &amp; Endorsements\\nSales\\nSee 16 endorseme...</td>\n",
       "      <td>Ask for a recommendation\\nRecommend Carolyn\\nR...</td>\n",
       "    </tr>\n",
       "  </tbody>\n",
       "</table>\n",
       "</div>"
      ],
      "text/plain": [
       "                                             summary  \\\n",
       "0  I’ve concentrated my career on developing exce...   \n",
       "\n",
       "                                          experience  \\\n",
       "0  Experience\\nLicensed Realtor\\nCompany Name\\nFo...   \n",
       "\n",
       "                                              skills  \\\n",
       "0  Skills & Endorsements\\nSales\\nSee 16 endorseme...   \n",
       "\n",
       "                                     recommendations  \n",
       "0  Ask for a recommendation\\nRecommend Carolyn\\nR...  "
      ]
     },
     "execution_count": 395,
     "metadata": {},
     "output_type": "execute_result"
    }
   ],
   "source": [
    "carolyn_profile_df.head()"
   ]
  },
  {
   "cell_type": "code",
   "execution_count": 353,
   "metadata": {},
   "outputs": [],
   "source": [
    "rec = browser.find_elements_by_class_name('pv-profile-section__see-more-inline')\n",
    "rec[1].location_once_scrolled_into_view\n",
    "rec[1].click()\n",
    "summary_section = browser.find_element_by_class_name('pv-top-card-section__summary')\n",
    "summary_section.location_once_scrolled_into_view\n",
    "showmores = browser.find_elements_by_class_name('pv-profile-section__card-action-bar')\n",
    "len(showmores)\n",
    "showmores[0].click()\n",
    "skills_section = browser.find_element_by_class_name('pv-skill-categories-section')\n",
    "skills_section.location_once_scrolled_into_view\n",
    "showmores[1].click()\n",
    "experience_section = browser.find_element_by_class_name('experience-section')\n",
    "experience_section.location_once_scrolled_into_view\n",
    "experience_seemores = browser.find_elements_by_link_text('See more')\n",
    "len(experience_seemores)\n",
    "for seemore in experience_seemores:\n",
    "    seemore.click()\n",
    "    sleep()"
   ]
  },
  {
   "cell_type": "code",
   "execution_count": null,
   "metadata": {},
   "outputs": [],
   "source": []
  },
  {
   "cell_type": "code",
   "execution_count": null,
   "metadata": {},
   "outputs": [],
   "source": [
    "rec = browser.find_elements_by_class_name('pv-profile-section__see-more-inline')\n",
    "rec[1].location_once_scrolled_into_view\n",
    "rec[1].click()\n",
    "showmores = browser.find_elements_by_class_name('pv-profile-section__card-action-bar')\n",
    "for i in range(len(showmores)-1):\n",
    "    self.sleep()\n",
    "    showmores[i].click()\n",
    "    self.sleep()\n",
    "experience_button = browser.find_element_by_class_name('pv-profile-section__see-more-inline')\n",
    "experience_button.click()\n",
    "self.sleep()\n",
    "seemores = browser.find_elements_by_link_text('See more')\n",
    "for link in seemores:\n",
    "    self.sleep()\n",
    "    link.click()\n",
    "    self.sleep()"
   ]
  },
  {
   "cell_type": "code",
   "execution_count": null,
   "metadata": {},
   "outputs": [],
   "source": []
  },
  {
   "cell_type": "code",
   "execution_count": null,
   "metadata": {},
   "outputs": [],
   "source": []
  },
  {
   "cell_type": "code",
   "execution_count": null,
   "metadata": {},
   "outputs": [],
   "source": []
  },
  {
   "cell_type": "code",
   "execution_count": null,
   "metadata": {},
   "outputs": [],
   "source": []
  },
  {
   "cell_type": "code",
   "execution_count": null,
   "metadata": {},
   "outputs": [],
   "source": [
    "        experience_section = browser.find_element_by_class_name('pv-profile-section__section-info')\n",
    "        experience_section.location_once_scrolled_into_view\n",
    "        self.sleep()\n",
    "        skills_section = browser.find_element_by_class_name('pv-skill-categories-section')\n",
    "        skills_section.location_once_scrolled_into_view\n",
    "        self.sleep()\n",
    "        recommendations_section = browser.find_element_by_class_name('pv-recommendations-section')\n",
    "        recommendations_section.location_once_scrolled_into_view\n",
    "        self.sleep()\n",
    "        interest_section = browser.find_element_by_class_name('pv-interests-section')\n",
    "        interest_section.location_once_scrolled_into_view"
   ]
  }
 ],
 "metadata": {
  "kernelspec": {
   "display_name": "Python 3",
   "language": "python",
   "name": "python3"
  },
  "language_info": {
   "codemirror_mode": {
    "name": "ipython",
    "version": 3
   },
   "file_extension": ".py",
   "mimetype": "text/x-python",
   "name": "python",
   "nbconvert_exporter": "python",
   "pygments_lexer": "ipython3",
   "version": "3.6.6"
  }
 },
 "nbformat": 4,
 "nbformat_minor": 2
}
