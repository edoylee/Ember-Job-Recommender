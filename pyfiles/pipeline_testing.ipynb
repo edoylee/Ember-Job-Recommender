{
 "cells": [
  {
   "cell_type": "code",
   "execution_count": 14,
   "metadata": {},
   "outputs": [],
   "source": [
    "import pandas as pd\n",
    "import numpy as np\n",
    "from sklearn.model_selection import StratifiedShuffleSplit\n",
    "from sklearn.ensemble import RandomForestClassifier, GradientBoostingClassifier\n",
    "from sklearn.feature_extraction.text import TfidfVectorizer\n",
    "from predictNew import CUSTOM_STOP\n",
    "from sklearn.metrics import log_loss\n",
    "from sklearn.pipeline import Pipeline\n",
    "from sklearn.base import BaseEstimator, TransformerMixin"
   ]
  },
  {
   "cell_type": "code",
   "execution_count": 2,
   "metadata": {},
   "outputs": [],
   "source": [
    "chris_complete = pd.read_csv('../data/chris_complete_training.csv', index_col=0)"
   ]
  },
  {
   "cell_type": "code",
   "execution_count": 3,
   "metadata": {},
   "outputs": [],
   "source": [
    "chris_sample = pd.read_csv('../data/chris_training.csv', index_col=0)"
   ]
  },
  {
   "cell_type": "code",
   "execution_count": 4,
   "metadata": {},
   "outputs": [],
   "source": [
    "sample_df = pd.DataFrame(chris_sample.iloc[:48,:])"
   ]
  },
  {
   "cell_type": "code",
   "execution_count": 5,
   "metadata": {},
   "outputs": [],
   "source": [
    "sample_df.to_csv('../data/chris_model_eval.csv')"
   ]
  },
  {
   "cell_type": "code",
   "execution_count": 6,
   "metadata": {},
   "outputs": [],
   "source": [
    "sample_complete = pd.DataFrame(chris_complete.iloc[:48,:])"
   ]
  },
  {
   "cell_type": "code",
   "execution_count": 7,
   "metadata": {},
   "outputs": [],
   "source": [
    "X = sample_df.jobs"
   ]
  },
  {
   "cell_type": "code",
   "execution_count": 8,
   "metadata": {},
   "outputs": [],
   "source": [
    "y = sample_complete.labels"
   ]
  },
  {
   "cell_type": "code",
   "execution_count": 30,
   "metadata": {},
   "outputs": [],
   "source": [
    "class PruneForest():\n",
    "    def __init__(self, param=None):\n",
    "        self.param = param\n",
    "\n",
    "    def get_feature_importances(self, model):\n",
    "        feature_importances = model.feature_importances_\n",
    "        idxs = np.nonzero(feature_importances)[0]\n",
    "        return idxs\n",
    "    \n",
    "    def get_reverse_term_dict(self, vectorizer):\n",
    "        word_dict = vectorizer.vocabulary_\n",
    "        reverse_dict = {value: key for key, value in word_dict.items()}\n",
    "        return reverse_dict\n",
    "    \n",
    "    def get_word_list(self, reverse_dict, idxs):\n",
    "        word_list = [reverse_dict[key] for key in list(idxs)]\n",
    "        return word_list\n",
    "    \n",
    "    def get_vocabulary(self, model, vectorizer):\n",
    "        indices = self.get_feature_importances(model)\n",
    "        reverse_dict = self.get_reverse_term_dict(vectorizer)\n",
    "        word_list = self.get_word_list(reverse_dict, indices)\n",
    "        return word_list"
   ]
  },
  {
   "cell_type": "code",
   "execution_count": 10,
   "metadata": {},
   "outputs": [],
   "source": [
    "sss = StratifiedShuffleSplit(n_splits=10, test_size=0.3)"
   ]
  },
  {
   "cell_type": "code",
   "execution_count": 11,
   "metadata": {},
   "outputs": [],
   "source": [
    "forest_loss = []\n",
    "for train_index, test_index in sss.split(X, y):\n",
    "    X_train, X_test = X[train_index], X[test_index]\n",
    "    y_train, y_test = y[train_index], y[test_index]\n",
    "    i = 0\n",
    "    \n",
    "    vectorizer = TfidfVectorizer(stop_words=CUSTOM_STOP)\n",
    "    vectorizer.fit(X_train)\n",
    "    transformed_matrix = vectorizer.transform(X_train)\n",
    "    tfidf_df = pd.DataFrame(transformed_matrix.toarray())\n",
    "    \n",
    "    forest = RandomForestClassifier(n_estimators=2000, criterion='entropy', n_jobs=-1)\n",
    "    forest.fit(tfidf_df, y_train)\n",
    "    \n",
    "    pruned_forest = PruneForest()\n",
    "    vocabulary = pruned_forest.get_vocabulary(forest, vectorizer)\n",
    "    \n",
    "    improved_vectorizer = TfidfVectorizer(stop_words=CUSTOM_STOP, vocabulary=vocabulary)\n",
    "    improved_vectorizer.fit(X_train)\n",
    "    improved_transformed_matrix = improved_vectorizer.transform(X_train)\n",
    "    improved_tfidf_df = pd.DataFrame(improved_transformed_matrix.toarray())\n",
    "    \n",
    "    grad_boost = GradientBoostingClassifier(learning_rate=0.001, n_estimators=500, subsample=0.5)\n",
    "    grad_boost.fit(improved_tfidf_df, y_train)\n",
    "    tfidf_X_test = improved_vectorizer.transform(X_test)\n",
    "    y_pred = grad_boost.predict_proba(tfidf_X_test)\n",
    "    forest_loss.append(log_loss(y_test, y_pred))\n",
    "    i += 1"
   ]
  },
  {
   "cell_type": "code",
   "execution_count": 69,
   "metadata": {},
   "outputs": [],
   "source": [
    "class FitModel():\n",
    "    def __init__(self):\n",
    "        self.vectorizer = TfidfVectorizer(stop_words=CUSTOM_STOP)\n",
    "        self.forest = RandomForestClassifier(n_estimators=2000, criterion='entropy', n_jobs=-1)\n",
    "        self.grad_boost = GradientBoostingClassifier(learning_rate=0.001, n_estimators=500, subsample=0.5)\n",
    "        self.pruned_forest = PruneForest()\n",
    "    \n",
    "    def get_Xy(self, name):\n",
    "        df = pd.read_csv(name, index_col=0)\n",
    "        culled_df = df[df.labels != 0.0]\n",
    "        X = culled_df.iloc[1:, 1]\n",
    "        y = culled_df.iloc[1:, 2]\n",
    "        return X, y\n",
    "    \n",
    "    def fit_primary(self, X, y):\n",
    "        self.vectorizer.fit(X)\n",
    "        transformed_matrix = self.vectorizer.transform(X)\n",
    "        tfidf_df = pd.DataFrame(transformed_matrix.toarray())\n",
    "        self.forest.fit(tfidf_df, y)\n",
    "        return self.forest, self.vectorizer \n",
    "    \n",
    "    def prune_forest(self, forest, vectorizer):\n",
    "        vocabulary = self.pruned_forest.get_vocabulary(forest, vectorizer)\n",
    "        return vocabulary\n",
    "    \n",
    "    def improve(self, X, vocabulary):\n",
    "        imp_vectorizer = TfidfVectorizer(stop_words=CUSTOM_STOP, vocabulary=vocabulary)\n",
    "        imp_vectorizer.fit(X)\n",
    "        transformed_matrix = imp_vectorizer.transform(X)\n",
    "        tfidf_df = pd.DataFrame(transformed_matrix.toarray())\n",
    "        return tfidf_df\n",
    "    \n",
    "    def fit_secondary(self, X, y):\n",
    "        return self.grad_boost.fit(X, y)\n",
    "        \n",
    "    def transform(self, name):\n",
    "        X, y = self.get_Xy(name)\n",
    "        forest, vectorizer = self.fit_primary(X, y)\n",
    "        vocabulary = self.prune_forest(forest, vectorizer)\n",
    "        tfidf_df = self.improve(X, vocabulary)\n",
    "        return self.fit_secondary(tfidf_df, y)\n"
   ]
  },
  {
   "cell_type": "code",
   "execution_count": 81,
   "metadata": {},
   "outputs": [],
   "source": [
    "test = FitModel()"
   ]
  },
  {
   "cell_type": "code",
   "execution_count": 82,
   "metadata": {},
   "outputs": [],
   "source": [
    "model = test.transform('../data/LABELEDTEST.csv')"
   ]
  },
  {
   "cell_type": "code",
   "execution_count": null,
   "metadata": {},
   "outputs": [],
   "source": []
  }
 ],
 "metadata": {
  "kernelspec": {
   "display_name": "Python 3",
   "language": "python",
   "name": "python3"
  },
  "language_info": {
   "codemirror_mode": {
    "name": "ipython",
    "version": 3
   },
   "file_extension": ".py",
   "mimetype": "text/x-python",
   "name": "python",
   "nbconvert_exporter": "python",
   "pygments_lexer": "ipython3",
   "version": "3.6.6"
  }
 },
 "nbformat": 4,
 "nbformat_minor": 2
}
