{
 "cells": [
  {
   "cell_type": "code",
   "execution_count": 274,
   "metadata": {},
   "outputs": [],
   "source": [
    "import pandas as pd\n",
    "import numpy as np\n",
    "from sklearn.model_selection import StratifiedShuffleSplit\n",
    "from sklearn.ensemble import RandomForestClassifier, GradientBoostingClassifier\n",
    "from sklearn.feature_extraction.text import TfidfVectorizer\n",
    "from predictNew import CUSTOM_STOP\n",
    "from sklearn.metrics import log_loss\n",
    "from sklearn.pipeline import Pipeline\n",
    "from sklearn.base import BaseEstimator, TransformerMixin"
   ]
  },
  {
   "cell_type": "code",
   "execution_count": 44,
   "metadata": {},
   "outputs": [],
   "source": [
    "chris_complete = pd.read_csv('../data/chris_complete_training.csv', index_col=0)"
   ]
  },
  {
   "cell_type": "code",
   "execution_count": 35,
   "metadata": {},
   "outputs": [],
   "source": [
    "chris_sample = pd.read_csv('../data/chris_training.csv', index_col=0)"
   ]
  },
  {
   "cell_type": "code",
   "execution_count": 41,
   "metadata": {},
   "outputs": [],
   "source": [
    "sample_df = pd.DataFrame(chris_sample.iloc[:48,:])"
   ]
  },
  {
   "cell_type": "code",
   "execution_count": 43,
   "metadata": {},
   "outputs": [],
   "source": [
    "sample_df.to_csv('../data/chris_model_eval.csv')"
   ]
  },
  {
   "cell_type": "code",
   "execution_count": 58,
   "metadata": {},
   "outputs": [],
   "source": [
    "sample_complete = pd.DataFrame(chris_complete.iloc[:48,:])"
   ]
  },
  {
   "cell_type": "code",
   "execution_count": 183,
   "metadata": {},
   "outputs": [],
   "source": [
    "X = sample_df.jobs"
   ]
  },
  {
   "cell_type": "code",
   "execution_count": 185,
   "metadata": {},
   "outputs": [],
   "source": [
    "y = sample_complete.labels"
   ]
  },
  {
   "cell_type": "code",
   "execution_count": 187,
   "metadata": {},
   "outputs": [],
   "source": [
    "clean_y = y.replace(-1, 0)"
   ]
  },
  {
   "cell_type": "code",
   "execution_count": 312,
   "metadata": {},
   "outputs": [],
   "source": [
    "vectorizer = TfidfVectorizer(stop_words=CUSTOM_STOP)\n",
    "vectorizer.fit(X)\n",
    "transformed_matrix = vectorizer.transform(X)\n",
    "tfidf_df = pd.DataFrame(transformed_matrix.toarray())"
   ]
  },
  {
   "cell_type": "code",
   "execution_count": 313,
   "metadata": {},
   "outputs": [
    {
     "data": {
      "text/plain": [
       "RandomForestClassifier(bootstrap=True, class_weight=None, criterion='entropy',\n",
       "            max_depth=None, max_features='auto', max_leaf_nodes=None,\n",
       "            min_impurity_decrease=0.0, min_impurity_split=None,\n",
       "            min_samples_leaf=1, min_samples_split=2,\n",
       "            min_weight_fraction_leaf=0.0, n_estimators=1000, n_jobs=-1,\n",
       "            oob_score=False, random_state=None, verbose=0,\n",
       "            warm_start=False)"
      ]
     },
     "execution_count": 313,
     "metadata": {},
     "output_type": "execute_result"
    }
   ],
   "source": [
    "forest = RandomForestClassifier(n_estimators=1000, criterion='entropy', n_jobs=-1)\n",
    "forest.fit(tfidf_df, clean_y)"
   ]
  },
  {
   "cell_type": "code",
   "execution_count": 320,
   "metadata": {},
   "outputs": [],
   "source": [
    "class PruneForest():\n",
    "    def __init__(self, param=None):\n",
    "        self.param = param\n",
    "\n",
    "    def get_feature_importances(self, model):\n",
    "        feature_importances = model.feature_importances_\n",
    "        idxs = np.nonzero(feature_importances)[0]\n",
    "        return idxs\n",
    "    \n",
    "    def get_reverse_term_dict(self, vectorizer):\n",
    "        word_dict = vectorizer.vocabulary_\n",
    "        reverse_dict = {value: key for key, value in word_dict.items()}\n",
    "        return reverse_dict\n",
    "    \n",
    "    def get_word_list(self, reverse_dict, idxs):\n",
    "        word_list = [reverse_dict[key] for key in list(idxs)]\n",
    "        return word_list\n",
    "    \n",
    "    def get_vocabulary(self, model, vectorizer):\n",
    "        indices = self.get_feature_importances(model)\n",
    "        reverse_dict = self.get_reverse_term_dict(vectorizer)\n",
    "        word_list = self.get_word_list(reverse_dict, indices)\n",
    "        return word_list"
   ]
  },
  {
   "cell_type": "code",
   "execution_count": 315,
   "metadata": {},
   "outputs": [],
   "source": [
    "pruned_forest = PruneForest()"
   ]
  },
  {
   "cell_type": "code",
   "execution_count": 316,
   "metadata": {},
   "outputs": [],
   "source": [
    "vocabulary = pruned_forest.get_vocabulary(forest, vectorizer)"
   ]
  },
  {
   "cell_type": "code",
   "execution_count": 336,
   "metadata": {},
   "outputs": [],
   "source": [
    "sss = StratifiedShuffleSplit(n_splits=10, test_size=0.3)"
   ]
  },
  {
   "cell_type": "code",
   "execution_count": 406,
   "metadata": {},
   "outputs": [],
   "source": [
    "forest_loss = []\n",
    "for train_index, test_index in sss.split(X, clean_y):\n",
    "    X_train, X_test = X[train_index], X[test_index]\n",
    "    y_train, y_test = y[train_index], y[test_index]\n",
    "    i = 0\n",
    "    \n",
    "    vectorizer = TfidfVectorizer(stop_words=CUSTOM_STOP)\n",
    "    vectorizer.fit(X_train)\n",
    "    transformed_matrix = vectorizer.transform(X_train)\n",
    "    tfidf_df = pd.DataFrame(transformed_matrix.toarray())\n",
    "    \n",
    "    forest = RandomForestClassifier(n_estimators=2000, criterion='entropy', n_jobs=-1)\n",
    "    forest.fit(tfidf_df, y_train)\n",
    "    \n",
    "    pruned_forest = PruneForest()\n",
    "    vocabulary = pruned_forest.get_vocabulary(forest, vectorizer)\n",
    "    \n",
    "    improved_vectorizer = TfidfVectorizer(stop_words=CUSTOM_STOP, vocabulary=vocabulary)\n",
    "    improved_vectorizer.fit(X_train)\n",
    "    improved_transformed_matrix = improved_vectorizer.transform(X_train)\n",
    "    improved_tfidf_df = pd.DataFrame(improved_transformed_matrix.toarray())\n",
    "    \n",
    "    grad_boost = GradientBoostingClassifier(learning_rate=0.001, n_estimators=500, subsample=0.5)\n",
    "    grad_boost.fit(improved_tfidf_df, y_train)\n",
    "    tfidf_X_test = improved_vectorizer.transform(X_test)\n",
    "    y_pred = grad_boost.predict_proba(tfidf_X_test)\n",
    "    forest_loss.append(log_loss(y_test, y_pred))\n",
    "    i += 1"
   ]
  },
  {
   "cell_type": "code",
   "execution_count": 407,
   "metadata": {},
   "outputs": [
    {
     "data": {
      "text/plain": [
       "[0.42413966297658345,\n",
       " 0.43003535914764146,\n",
       " 0.4198280033421206,\n",
       " 0.3848275526302786,\n",
       " 0.47633649805361106,\n",
       " 0.43278766568051336,\n",
       " 0.42712084243306486,\n",
       " 0.4678194142783675,\n",
       " 0.4303735543764162,\n",
       " 0.39113662811166006]"
      ]
     },
     "execution_count": 407,
     "metadata": {},
     "output_type": "execute_result"
    }
   ],
   "source": [
    "forest_loss"
   ]
  },
  {
   "cell_type": "code",
   "execution_count": 408,
   "metadata": {},
   "outputs": [
    {
     "data": {
      "text/plain": [
       "0.4284405181030257"
      ]
     },
     "execution_count": 408,
     "metadata": {},
     "output_type": "execute_result"
    }
   ],
   "source": [
    "np.mean(forest_loss)"
   ]
  },
  {
   "cell_type": "code",
   "execution_count": null,
   "metadata": {},
   "outputs": [],
   "source": []
  },
  {
   "cell_type": "code",
   "execution_count": null,
   "metadata": {},
   "outputs": [],
   "source": []
  },
  {
   "cell_type": "code",
   "execution_count": 270,
   "metadata": {},
   "outputs": [],
   "source": [
    "grad_loss = []\n",
    "for train_index, test_index in sss.split(X, clean_y):\n",
    "    X_train, X_test = X[train_index], X[test_index]\n",
    "    y_train, y_test = clean_y[train_index], clean_y[test_index]\n",
    "    i = 0\n",
    "    vectorizer = TfidfVectorizer(stop_words=CUSTOM_STOP)\n",
    "    model = GradientBoostingClassifier(learning_rate=0.001, n_estimators=500, subsample=0.5)\n",
    "    vectorizer.fit(X_train)\n",
    "    transformed_matrix = vectorizer.transform(X_train)\n",
    "    tfidf_df = pd.DataFrame(transformed_matrix.toarray())\n",
    "    model.fit(tfidf_df, y_train)\n",
    "    tfidf_X_test = vectorizer.transform(X_test)\n",
    "    y_pred = model.predict_proba(tfidf_X_test)\n",
    "    grad_loss.append(log_loss(y_test, y_pred))\n",
    "    i += 1"
   ]
  },
  {
   "cell_type": "code",
   "execution_count": 271,
   "metadata": {},
   "outputs": [
    {
     "data": {
      "text/plain": [
       "0.47205696292003446"
      ]
     },
     "execution_count": 271,
     "metadata": {},
     "output_type": "execute_result"
    }
   ],
   "source": [
    "np.mean(grad_loss)"
   ]
  },
  {
   "cell_type": "code",
   "execution_count": null,
   "metadata": {},
   "outputs": [],
   "source": []
  }
 ],
 "metadata": {
  "kernelspec": {
   "display_name": "Python 3",
   "language": "python",
   "name": "python3"
  },
  "language_info": {
   "codemirror_mode": {
    "name": "ipython",
    "version": 3
   },
   "file_extension": ".py",
   "mimetype": "text/x-python",
   "name": "python",
   "nbconvert_exporter": "python",
   "pygments_lexer": "ipython3",
   "version": "3.6.6"
  }
 },
 "nbformat": 4,
 "nbformat_minor": 2
}
