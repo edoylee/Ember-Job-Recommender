{
 "cells": [
  {
   "cell_type": "code",
   "execution_count": 35,
   "metadata": {},
   "outputs": [],
   "source": [
    "import pandas as pd\n",
    "import numpy as np"
   ]
  },
  {
   "cell_type": "code",
   "execution_count": 23,
   "metadata": {},
   "outputs": [],
   "source": [
    "from predictNew import ScrapeGlass"
   ]
  },
  {
   "cell_type": "code",
   "execution_count": 24,
   "metadata": {},
   "outputs": [],
   "source": [
    "url = 'https://www.glassdoor.com'"
   ]
  },
  {
   "cell_type": "code",
   "execution_count": 25,
   "metadata": {},
   "outputs": [],
   "source": [
    "query = 'Customer Success Specialist'"
   ]
  },
  {
   "cell_type": "code",
   "execution_count": 26,
   "metadata": {},
   "outputs": [],
   "source": [
    "test = ScrapeGlass()"
   ]
  },
  {
   "cell_type": "code",
   "execution_count": 27,
   "metadata": {},
   "outputs": [],
   "source": [
    "#final_content = test.transform(url, query)"
   ]
  },
  {
   "cell_type": "code",
   "execution_count": 55,
   "metadata": {},
   "outputs": [
    {
     "data": {
      "text/plain": [
       "270"
      ]
     },
     "execution_count": 55,
     "metadata": {},
     "output_type": "execute_result"
    }
   ],
   "source": [
    "len(final_content)"
   ]
  },
  {
   "cell_type": "code",
   "execution_count": 126,
   "metadata": {},
   "outputs": [],
   "source": [
    "final_txdf = pd.DataFrame({'jobs': final_content})\n",
    "final_txdf['labels'] = np.zeros(final_txdf.shape[0])\n",
    "final_txdf.to_csv('../data/carolyn_training.csv')"
   ]
  },
  {
   "cell_type": "code",
   "execution_count": 56,
   "metadata": {},
   "outputs": [],
   "source": [
    "split_jobs = [job.split('\\n') for job in final_content]"
   ]
  },
  {
   "cell_type": "code",
   "execution_count": 57,
   "metadata": {},
   "outputs": [],
   "source": [
    "text_df = pd.DataFrame({'jobs': split_jobs})"
   ]
  },
  {
   "cell_type": "code",
   "execution_count": 58,
   "metadata": {},
   "outputs": [
    {
     "data": {
      "text/plain": [
       "270"
      ]
     },
     "execution_count": 58,
     "metadata": {},
     "output_type": "execute_result"
    }
   ],
   "source": [
    "len(text_df)"
   ]
  },
  {
   "cell_type": "code",
   "execution_count": 62,
   "metadata": {},
   "outputs": [],
   "source": [
    "text_df['labels'] = np.zeros(len(split_jobs))"
   ]
  },
  {
   "cell_type": "code",
   "execution_count": 63,
   "metadata": {},
   "outputs": [
    {
     "data": {
      "text/html": [
       "<div>\n",
       "<style scoped>\n",
       "    .dataframe tbody tr th:only-of-type {\n",
       "        vertical-align: middle;\n",
       "    }\n",
       "\n",
       "    .dataframe tbody tr th {\n",
       "        vertical-align: top;\n",
       "    }\n",
       "\n",
       "    .dataframe thead th {\n",
       "        text-align: right;\n",
       "    }\n",
       "</style>\n",
       "<table border=\"1\" class=\"dataframe\">\n",
       "  <thead>\n",
       "    <tr style=\"text-align: right;\">\n",
       "      <th></th>\n",
       "      <th>jobs</th>\n",
       "      <th>labels</th>\n",
       "    </tr>\n",
       "  </thead>\n",
       "  <tbody>\n",
       "    <tr>\n",
       "      <th>0</th>\n",
       "      <td>[Glowforge is a beautiful device that sits on ...</td>\n",
       "      <td>0.0</td>\n",
       "    </tr>\n",
       "    <tr>\n",
       "      <th>1</th>\n",
       "      <td>[Collaborate with our customers and internal d...</td>\n",
       "      <td>0.0</td>\n",
       "    </tr>\n",
       "    <tr>\n",
       "      <th>2</th>\n",
       "      <td>[The Customer Success Team works cooperatively...</td>\n",
       "      <td>0.0</td>\n",
       "    </tr>\n",
       "    <tr>\n",
       "      <th>3</th>\n",
       "      <td>[Client Success Specialist, , Seattle, WA, , A...</td>\n",
       "      <td>0.0</td>\n",
       "    </tr>\n",
       "    <tr>\n",
       "      <th>4</th>\n",
       "      <td>[Job Description, Crelate, a growing technolog...</td>\n",
       "      <td>0.0</td>\n",
       "    </tr>\n",
       "  </tbody>\n",
       "</table>\n",
       "</div>"
      ],
      "text/plain": [
       "                                                jobs  labels\n",
       "0  [Glowforge is a beautiful device that sits on ...     0.0\n",
       "1  [Collaborate with our customers and internal d...     0.0\n",
       "2  [The Customer Success Team works cooperatively...     0.0\n",
       "3  [Client Success Specialist, , Seattle, WA, , A...     0.0\n",
       "4  [Job Description, Crelate, a growing technolog...     0.0"
      ]
     },
     "execution_count": 63,
     "metadata": {},
     "output_type": "execute_result"
    }
   ],
   "source": [
    "text_df.head()"
   ]
  },
  {
   "cell_type": "code",
   "execution_count": 84,
   "metadata": {},
   "outputs": [],
   "source": [
    "sample_df = pd.DataFrame({'jobs': text_df.jobs[:5], 'labels': text_df.labels[:5]})"
   ]
  },
  {
   "cell_type": "code",
   "execution_count": 118,
   "metadata": {},
   "outputs": [
    {
     "name": "stdout",
     "output_type": "stream",
     "text": [
      "<class 'pandas.core.frame.DataFrame'>\n",
      "RangeIndex: 5 entries, 0 to 4\n",
      "Data columns (total 2 columns):\n",
      "jobs      5 non-null object\n",
      "labels    5 non-null float64\n",
      "dtypes: float64(1), object(1)\n",
      "memory usage: 160.0+ bytes\n"
     ]
    }
   ],
   "source": [
    "sample_df.info()"
   ]
  },
  {
   "cell_type": "code",
   "execution_count": 99,
   "metadata": {},
   "outputs": [],
   "source": [
    "class TrainX():\n",
    "    def __init__(self, df):\n",
    "        self.filled_df = df.copy()\n",
    "    \n",
    "    def assign_labels(self):\n",
    "        for i in range(self.filled_df.shape[0]):\n",
    "            for chunk in self.filled_df.iloc[i,0]:\n",
    "                print(chunk)\n",
    "            label = input('\\nyes / no ')\n",
    "            print('\\n\\n', '-'*100, '\\n')\n",
    "            if label == 'yes':\n",
    "                self.filled_df.iat[i,1] = 1.0\n",
    "            elif label == 'no':\n",
    "                self.filled_df.iat[i,1] = -1.0\n",
    "        return self.filled_df\n",
    "    \n",
    "    def transform(self):\n",
    "        try:\n",
    "            final_df = self.assign_labels()\n",
    "        except:\n",
    "            return self.filled_df\n",
    "        return final_df"
   ]
  },
  {
   "cell_type": "code",
   "execution_count": 110,
   "metadata": {},
   "outputs": [],
   "source": [
    "test_assign = TrainX(sample_df)"
   ]
  },
  {
   "cell_type": "code",
   "execution_count": 111,
   "metadata": {},
   "outputs": [
    {
     "name": "stdout",
     "output_type": "stream",
     "text": [
      "Glowforge is a beautiful device that sits on your desk. It uses a laser to carve and engrave products from raw materials like wood, leather, acrylic – even cardboard.\n",
      "There is an incredible demand for what we’re creating. It’s not a geeky tool for the tech elite or a garage workshop; we’re crafting an iconic product that is going to change the way people think about creativity. Our customers include consumers, digital designers, crafters, engineers, teachers, artists, and more. It’s already the biggest crowdfunding campaign in history, and now that it’s available at retail, the fun is really starting.\n",
      "This is a full-time role in Seattle, and we are happy to help new employees relocate to this beautiful city.\n",
      "Why We Need You\n",
      "We have the best customers, and our company is going to succeed or fail based on the experience they have with their Glowforge. When customers are thinking about purchasing a Glowforge printer, Proofgrade Materials, or a Design, they reach out us. When they have great things to say, they let us know. When they experience a challenge, they’ll come to us expecting us to make it right. That’s where you come in. You are their hero. You’re the one who gets them through when they’re stuck, turns failures into successes, and makes our company’s passion for our customers real for each and every person who reaches out.\n",
      "Here’s what you’ll be doing\n",
      "This is a full-time role in Seattle, and we are happy to help new employees relocate to this beautiful city.\n",
      "You’re going to answer questions from before purchase through to printing success or, occasionally, warranty return. You’ll spend most of your time troubleshooting new or difficult issues for our customers. You’ll pride yourself on your empathy, patience, and creative problem-solving skills. Laser aficionados and newbies alike will be delighted to talk to you and rave to their friends about the top-notch customer service you provide.\n",
      "In between customer interactions, you’ll notice patterns and come up with ideas about what we can do to improve. You’ll help us tune our processes to make things perfect for our customers.\n",
      "Learning really, really fast. You don’t know how Glowforge hardware or software works, and that’s OK. We’ll teach you! You’ll learn, and then teach our customers.\n",
      "Troubleshooting for our customers — Why hasn’t their shipment arrived? Why didn’t their purchase go through? Why did that thing not work for them?\n",
      "Answering tickets about Glowforge software, hardware, materials and designs, shipping, account administration, how to design for the Glowforge, and more.\n",
      "Paying attention to what our customers are thrilled and bothered by, and using that help our team improve our process and our product.\n",
      "Keeping a positive disposition and level head even during the worst of times - late on a holiday when someone’s rightfully upset because something’s broken, and you’re the only one they have to talk to about it.\n",
      "You need these qualifications\n",
      "You have professional experience working closely with a variety of people helping them solve their problems.\n",
      "You’re a tenacious troubleshooter, comfortable diving into data or dialing strangers to delve into the unknown. You’re organized, insightful, and undaunted by conflicting priorities.\n",
      "You love helping people, and are fast, thoughtful, and efficient about how you do it.\n",
      "You write well, communicate clearly, and listen like a champion.\n",
      "You’re available to work late hours and holidays during peak periods.\n",
      "You love making things with your hands - 3D printing, knitting, woodworking, furniture building, doesn’t matter what.\n",
      "It would be nice if…\n",
      "You’ve supported customers in a high-performance, adaptable customer service, technical support or help desk team.\n",
      "You’re an experienced technical writer or community manager\n",
      "You’re experienced with one or more design tools like Illustrator, Photoshop, Inkscape, or CAD programs.\n",
      "You have a four-year degree or equivalent experience\n",
      "You have examples of your support experience - for example, a manual you’ve written or public posts on a support board\n",
      "You have experience at a small company like a tech startup.\n",
      "Please send us your resume, and – more importantly – a cover letter that tells us about your interest here. If you have public examples of your writing, like a blog or website, please send us a link to those too. We’re excited to meet you!\n",
      "One more, very important thing: we are an equal opportunity employer and value diversity at our company. We’re strongly committed to providing equal employment opportunity for all employees and all applicants for employment. For us, this is the only acceptable way to do business.\n"
     ]
    }
   ],
   "source": [
    "completed_df = test_assign.transform()"
   ]
  },
  {
   "cell_type": "code",
   "execution_count": 112,
   "metadata": {},
   "outputs": [
    {
     "data": {
      "text/html": [
       "<div>\n",
       "<style scoped>\n",
       "    .dataframe tbody tr th:only-of-type {\n",
       "        vertical-align: middle;\n",
       "    }\n",
       "\n",
       "    .dataframe tbody tr th {\n",
       "        vertical-align: top;\n",
       "    }\n",
       "\n",
       "    .dataframe thead th {\n",
       "        text-align: right;\n",
       "    }\n",
       "</style>\n",
       "<table border=\"1\" class=\"dataframe\">\n",
       "  <thead>\n",
       "    <tr style=\"text-align: right;\">\n",
       "      <th></th>\n",
       "      <th>jobs</th>\n",
       "      <th>labels</th>\n",
       "    </tr>\n",
       "  </thead>\n",
       "  <tbody>\n",
       "    <tr>\n",
       "      <th>0</th>\n",
       "      <td>[Glowforge is a beautiful device that sits on ...</td>\n",
       "      <td>0.0</td>\n",
       "    </tr>\n",
       "    <tr>\n",
       "      <th>1</th>\n",
       "      <td>[Collaborate with our customers and internal d...</td>\n",
       "      <td>0.0</td>\n",
       "    </tr>\n",
       "    <tr>\n",
       "      <th>2</th>\n",
       "      <td>[The Customer Success Team works cooperatively...</td>\n",
       "      <td>0.0</td>\n",
       "    </tr>\n",
       "    <tr>\n",
       "      <th>3</th>\n",
       "      <td>[Client Success Specialist, , Seattle, WA, , A...</td>\n",
       "      <td>0.0</td>\n",
       "    </tr>\n",
       "    <tr>\n",
       "      <th>4</th>\n",
       "      <td>[Job Description, Crelate, a growing technolog...</td>\n",
       "      <td>0.0</td>\n",
       "    </tr>\n",
       "  </tbody>\n",
       "</table>\n",
       "</div>"
      ],
      "text/plain": [
       "                                                jobs  labels\n",
       "0  [Glowforge is a beautiful device that sits on ...     0.0\n",
       "1  [Collaborate with our customers and internal d...     0.0\n",
       "2  [The Customer Success Team works cooperatively...     0.0\n",
       "3  [Client Success Specialist, , Seattle, WA, , A...     0.0\n",
       "4  [Job Description, Crelate, a growing technolog...     0.0"
      ]
     },
     "execution_count": 112,
     "metadata": {},
     "output_type": "execute_result"
    }
   ],
   "source": [
    "completed_df"
   ]
  },
  {
   "cell_type": "code",
   "execution_count": 108,
   "metadata": {},
   "outputs": [],
   "source": [
    "sample_df.to_csv('../data/sample_df.csv')"
   ]
  },
  {
   "cell_type": "code",
   "execution_count": null,
   "metadata": {},
   "outputs": [],
   "source": []
  }
 ],
 "metadata": {
  "kernelspec": {
   "display_name": "Python 3",
   "language": "python",
   "name": "python3"
  },
  "language_info": {
   "codemirror_mode": {
    "name": "ipython",
    "version": 3
   },
   "file_extension": ".py",
   "mimetype": "text/x-python",
   "name": "python",
   "nbconvert_exporter": "python",
   "pygments_lexer": "ipython3",
   "version": "3.6.6"
  }
 },
 "nbformat": 4,
 "nbformat_minor": 2
}
