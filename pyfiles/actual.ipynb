{
 "cells": [
  {
   "cell_type": "code",
   "execution_count": 73,
   "metadata": {},
   "outputs": [],
   "source": [
    "from predictNew import LinkedinScraper, ScrapeGlass"
   ]
  },
  {
   "cell_type": "code",
   "execution_count": 74,
   "metadata": {},
   "outputs": [],
   "source": [
    "carolyn = LinkedinScraper()"
   ]
  },
  {
   "cell_type": "code",
   "execution_count": 75,
   "metadata": {},
   "outputs": [],
   "source": [
    "final_df = carolyn.transform('Carolyn Doyle')"
   ]
  },
  {
   "cell_type": "code",
   "execution_count": 76,
   "metadata": {},
   "outputs": [
    {
     "data": {
      "text/plain": [
       "'I’ve concentrated my career on developing exceptional customer communication skills, fact-finding techniques, and behavioral analytics that create a strong base for account management and customer success. My passions: Discovering what makes people tick. Listening to their story. Creating solutions. Experience\\nLicensed Realtor\\nCompany Name\\nFour Star Realty & Property Management, Inc.\\nDates Employed\\nOct 2001 – Present\\nEmployment Duration\\n17 yrs 3 mos\\nLocation\\nBoulder, CO\\n• Crafted a business requiring excellence in many disciplines. Total annual sales volume ranged between $1 million and $6 million, with over 170 total properties sold\\n• Utilize a consultative approach that focuses on strategy, negotiation and active listening resulting in client-focused representation and advocacy\\n• Successfully manage transactions that integrate buyers and sellers, lenders, title companies, inspectors, appraisers, contractors, and attorneys\\n• Construct contracts and required supporting documentation that adhere to current regulations and codes\\n• Specialize in providing information regarding eco-friendly home design techniques that foster energy efficiency\\n• Educate, provide market data analysis, and serve as a single point of contact for customers ensuring access to resources See less\\nCustomer Success Manager\\nCompany Name\\nE Source\\nDates Employed\\nJun 2015 – Jul 2018\\nEmployment Duration\\n3 yrs 2 mos\\nLocation\\nBoulder, CO\\n• Primary account contact and customer advocate, acted as the liaison between the company and its key accounts to solve customer problems, increase business intelligence, and deepen the relationship\\n• Responsible for over $3 million in renewal targets in addition to service expansion of new database products and services, managed all contracts and required legal documents\\n• Utilized Tableau and Piwik to analyze usage metrics and led cross-functional team collaboration efforts with Sales, Research, Marketing, and IT to drive increased product adoption rates\\n• Initiated, built, and increased customer satisfaction and retention through improved working relationships, ensuring successful projects and service alignment\\n• Responsible for customer onboarding, developed and performed in-person and webinar-based online website and database training to orient new and existing members and facilitated ongoing customized, project-based working sessions for customers\\n• Customer Success senior team lead in charge of spearheading continual process improvements that streamline sales and service functions and cross-departmental integration\\n• Represented the company at industry conferences and events See less\\nSales Account Manager\\nCompany Name\\nDEUS Rescue\\nDates Employed\\nJul 2012 – Jun 2015\\nEmployment Duration\\n3 yrs\\nLocation\\nBoulder, CO\\n• Implemented and expanded sales development efforts, creating new relationships and accounts with global distributors, such as 3M, and dealer networks while managing customer-direct sales and key accounts for this startup that provided patented safety equipment for the utility, industrial, fire, police, military, and recreation markets\\n• Responsible for onboarding all distributors and key customer accounts, ensuring that proper equipment and required user training was in place\\n• Maintained contracts, legal agreements, and annual maintenance documentation\\n• Managed inside sales staff to ensure sales process effectiveness, customer satisfaction and problem resolution\\n• Orchestrated internal collaboration with outsourced marketing team regarding ideas for eCampaigns, advertising, blogs, white papers, and social media\\n• Developed internal processes that improved customer communication, and sales messaging\\n• Facilitated and attended industry trade conferences and events See less\\nAccount Development Manager\\nCompany Name\\nRESOURCE DATA INTERNATIONAL\\nDates Employed\\nJan 1997 – Jan 1999\\nEmployment Duration\\n2 yrs 1 mo\\nLocation\\nBoulder, CO\\n• Negotiated subscription database software contracts, including new sales, renewals and service upgrades\\n• Performed onsite training visits and maintained contact with clients throughout their service term regarding post startup issues, user satisfaction and technical support troubleshooting\\n• Identified new products, departments and users for expansion into new service areas See less\\nEducation\\nHamline University\\nField Of Study\\nLiberal Arts\\nDates attended or expected graduation\\n1984 – 1985\\nStudied at Hamline University.\\nAmerican Real Estate College\\nActivities and Societies: Licensed Real Estate Broker in Colorado. Skills & Endorsements\\nSales\\nSee 16 endorsements for Sales\\n16\\nEndorsed by Chris Doyle (mutual connection)\\nEndorsed by 3 of Carolyn’s colleagues at E Source\\nMarketing\\nSee 14 endorsements for Marketing\\n14\\nEndorsed by Michelle Hernandez Lane and 1 other mutual connection\\nNegotiation\\nSee 13 endorsements for Negotiation\\n13\\nJeff Wild and 12 connections have given endorsements for this skill\\nIndustry Knowledge\\nBusiness Development\\nSee 13 endorsements for Business Development\\n13\\nEndorse Carolyn for skill: Strategic Planning\\nStrategic Planning\\nSee 10 endorsements for Strategic Planning\\n10\\nProject Management\\nSee 9 endorsements for Project Management\\n9\\nEndorse Carolyn for skill: Strategy\\nStrategy\\nSee 9 endorsements for Strategy\\n9\\nCRM\\nSee 8 endorsements for CRM\\n8\\nEndorse Carolyn for skill: Account Management\\nAccount Management\\nSee 6 endorsements for Account Management\\n6\\nDirect Sales\\nSee 5 endorsements for Direct Sales\\n5\\nEndorse Carolyn for skill: Customer Relations\\nCustomer Relations\\nSee 4 endorsements for Customer Relations\\n4\\nAnalysis\\nSee 4 endorsements for Analysis\\n4\\nEndorse Carolyn for skill: Marketing Strategy\\nMarketing Strategy\\nSee 4 endorsements for Marketing Strategy\\n4\\nCompetitive Analysis\\nSee 4 endorsements for Competitive Analysis\\n4\\nEndorse Carolyn for skill: Entrepreneurship\\nEntrepreneurship\\nSee 2 endorsements for Entrepreneurship\\n2\\nProgram Management\\nSee 2 endorsements for Program Management\\n2\\nEndorse Carolyn for skill: Customer Relationship Management (CRM)\\nCustomer Relationship Management (CRM)\\nSee 2 endorsements for Customer Relationship Management (CRM)\\n2\\nConsultative Selling\\nSee 1 endorsement for Consultative Selling\\n1\\nEndorse Carolyn for skill: Social Media\\nSocial Media\\nSee 1 endorsement for Social Media\\n1\\nInterpersonal Skills\\nManagement\\nSee 12 endorsements for Management\\n12\\nEndorse Carolyn for skill: Customer Service\\nCustomer Service\\nSee 8 endorsements for Customer Service\\n8\\nContract Negotiation\\nSee 7 endorsements for Contract Negotiation\\n7\\nEndorse Carolyn for skill: Buyer Representation\\nBuyer Representation\\nSee 2 endorsements for Buyer Representation\\n2\\nEffective Communicator\\nSee 1 endorsement for Effective Communicator\\n1\\nOther Skills\\nWhat is Other category?\\nSelling\\nSee 18 endorsements for Selling\\n18\\nEndorse Carolyn for skill: New Business Development\\nNew Business Development\\nSee 6 endorsements for New Business Development\\n6\\nMS Office & Internet Proficient\\nSee 1 endorsement for MS Office & Internet Proficient\\n1\\nEndorse Carolyn for skill: Client Focused Advocate\\nClient Focused Advocate\\nShow less\\nShow only Carolyn’s featured skills Ask for a recommendation\\nRecommend Carolyn\\nRecommendations\\nReceived (1)\\nGiven (1)\\nLarry Robinson\\nRetirement Director\\nFebruary 15, 2018, Carolyn worked with Larry in the same group\\nI would highly recommend Carolyn for any position that would benefit from her strong customer interaction strategies. Carolyn is a consummate professional who can help solve such common business problems as:\\n\\n• Keeping consumers, enhancing their loyalty and satisfaction;\\n• Development of relations with employees, the employer brand management;\\n• Goodwill management;\\n• Increasing efficiency of internal business processes;\\n• Increasing volumes of repeat sales by improving experience of using the product / service.\\n\\nHer high energy and “can do” attitude make her a valuable member of any customer facing team. '"
      ]
     },
     "execution_count": 76,
     "metadata": {},
     "output_type": "execute_result"
    }
   ],
   "source": [
    "final_df.iloc[0,0]"
   ]
  },
  {
   "cell_type": "code",
   "execution_count": null,
   "metadata": {},
   "outputs": [],
   "source": []
  }
 ],
 "metadata": {
  "kernelspec": {
   "display_name": "Python 3",
   "language": "python",
   "name": "python3"
  },
  "language_info": {
   "codemirror_mode": {
    "name": "ipython",
    "version": 3
   },
   "file_extension": ".py",
   "mimetype": "text/x-python",
   "name": "python",
   "nbconvert_exporter": "python",
   "pygments_lexer": "ipython3",
   "version": "3.6.6"
  }
 },
 "nbformat": 4,
 "nbformat_minor": 2
}
