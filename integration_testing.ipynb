{
 "cells": [
  {
   "cell_type": "code",
   "execution_count": 1,
   "metadata": {},
   "outputs": [
    {
     "name": "stderr",
     "output_type": "stream",
     "text": [
      "/Users/ethandoyle/anaconda3/lib/python3.6/site-packages/sklearn/ensemble/weight_boosting.py:29: DeprecationWarning: numpy.core.umath_tests is an internal NumPy module and should not be imported. It will be removed in a future NumPy release.\n",
      "  from numpy.core.umath_tests import inner1d\n"
     ]
    }
   ],
   "source": [
    "from predictNew import PreprocessData, Predict, ScrapeGlass, LinkedinScraper\n",
    "import pandas as pd\n",
    "import numpy as np\n",
    "from sklearn.feature_extraction.text import TfidfVectorizer"
   ]
  },
  {
   "cell_type": "code",
   "execution_count": 2,
   "metadata": {},
   "outputs": [],
   "source": [
    "from selenium.webdriver import Firefox\n",
    "import time\n",
    "import random"
   ]
  },
  {
   "cell_type": "code",
   "execution_count": 7,
   "metadata": {},
   "outputs": [],
   "source": [
    "def remove_dups(train, test):\n",
    "    train_df = pd.read_csv(train, index_col=0)\n",
    "    test_df = pd.read_csv(test, index_col=0)\n",
    "    final_jobs = test_df.copy()\n",
    "    for test_job in test_df.jobs.values:\n",
    "        for train_job in train_df.jobs.values:\n",
    "            if test_job == train_job:\n",
    "                final_jobs.drop(index=final_jobs[final_jobs.jobs == test_job].index[0], inplace=True)\n",
    "    return final_jobs"
   ]
  },
  {
   "cell_type": "code",
   "execution_count": 8,
   "metadata": {},
   "outputs": [],
   "source": [
    "final_jobs = remove_dups('data/GLASSTEST.csv', 'data/HOTTEST.csv')"
   ]
  },
  {
   "cell_type": "code",
   "execution_count": 12,
   "metadata": {},
   "outputs": [
    {
     "data": {
      "text/html": [
       "<div>\n",
       "<style scoped>\n",
       "    .dataframe tbody tr th:only-of-type {\n",
       "        vertical-align: middle;\n",
       "    }\n",
       "\n",
       "    .dataframe tbody tr th {\n",
       "        vertical-align: top;\n",
       "    }\n",
       "\n",
       "    .dataframe thead th {\n",
       "        text-align: right;\n",
       "    }\n",
       "</style>\n",
       "<table border=\"1\" class=\"dataframe\">\n",
       "  <thead>\n",
       "    <tr style=\"text-align: right;\">\n",
       "      <th></th>\n",
       "      <th>titles</th>\n",
       "      <th>companies</th>\n",
       "      <th>jobs</th>\n",
       "    </tr>\n",
       "  </thead>\n",
       "  <tbody>\n",
       "    <tr>\n",
       "      <th>5</th>\n",
       "      <td>Scientist, Formulations, Viral Vector Process ...</td>\n",
       "      <td>4.0 ★Juno Therapeutics– Seattle, WA, United St...</td>\n",
       "      <td>Juno is seeking an enthusiastic, self-driven i...</td>\n",
       "    </tr>\n",
       "    <tr>\n",
       "      <th>6</th>\n",
       "      <td>Machine Learning Scientist</td>\n",
       "      <td>3.9 ★Versive– Seattle, WA</td>\n",
       "      <td>The Role:\\n\\nAt Versive, we want to cut throug...</td>\n",
       "    </tr>\n",
       "    <tr>\n",
       "      <th>7</th>\n",
       "      <td>Data Scientist I</td>\n",
       "      <td>4.5 ★PagerDuty– Seattle</td>\n",
       "      <td>At PagerDuty, we believe that people do their ...</td>\n",
       "    </tr>\n",
       "    <tr>\n",
       "      <th>8</th>\n",
       "      <td>Data Scientist</td>\n",
       "      <td>4.5 ★H10 Capital– Seattle, WA</td>\n",
       "      <td>Job Description\\nOur Telecommunications client...</td>\n",
       "    </tr>\n",
       "    <tr>\n",
       "      <th>9</th>\n",
       "      <td>Data Scientist</td>\n",
       "      <td>2.7 ★Rakuten– Seattle</td>\n",
       "      <td>We are looking for an experienced data scienti...</td>\n",
       "    </tr>\n",
       "    <tr>\n",
       "      <th>10</th>\n",
       "      <td>Siri - Data Scientist (Machine Learning &amp; Natu...</td>\n",
       "      <td>4.0 ★Apple– Seattle, Washington</td>\n",
       "      <td>Summary\\nPlay a part in the ongoing revolution...</td>\n",
       "    </tr>\n",
       "    <tr>\n",
       "      <th>11</th>\n",
       "      <td>Data Engineer</td>\n",
       "      <td>3.8 ★Amazon– Seattle, WA</td>\n",
       "      <td>Job Description\\nDo you want to build a cuttin...</td>\n",
       "    </tr>\n",
       "  </tbody>\n",
       "</table>\n",
       "</div>"
      ],
      "text/plain": [
       "                                               titles  \\\n",
       "5   Scientist, Formulations, Viral Vector Process ...   \n",
       "6                          Machine Learning Scientist   \n",
       "7                                    Data Scientist I   \n",
       "8                                      Data Scientist   \n",
       "9                                      Data Scientist   \n",
       "10  Siri - Data Scientist (Machine Learning & Natu...   \n",
       "11                                      Data Engineer   \n",
       "\n",
       "                                            companies  \\\n",
       "5   4.0 ★Juno Therapeutics– Seattle, WA, United St...   \n",
       "6                           3.9 ★Versive– Seattle, WA   \n",
       "7                             4.5 ★PagerDuty– Seattle   \n",
       "8                       4.5 ★H10 Capital– Seattle, WA   \n",
       "9                               2.7 ★Rakuten– Seattle   \n",
       "10                    4.0 ★Apple– Seattle, Washington   \n",
       "11                           3.8 ★Amazon– Seattle, WA   \n",
       "\n",
       "                                                 jobs  \n",
       "5   Juno is seeking an enthusiastic, self-driven i...  \n",
       "6   The Role:\\n\\nAt Versive, we want to cut throug...  \n",
       "7   At PagerDuty, we believe that people do their ...  \n",
       "8   Job Description\\nOur Telecommunications client...  \n",
       "9   We are looking for an experienced data scienti...  \n",
       "10  Summary\\nPlay a part in the ongoing revolution...  \n",
       "11  Job Description\\nDo you want to build a cuttin...  "
      ]
     },
     "execution_count": 12,
     "metadata": {},
     "output_type": "execute_result"
    }
   ],
   "source": [
    "final_jobs"
   ]
  },
  {
   "cell_type": "code",
   "execution_count": null,
   "metadata": {},
   "outputs": [],
   "source": []
  }
 ],
 "metadata": {
  "kernelspec": {
   "display_name": "Python 3",
   "language": "python",
   "name": "python3"
  },
  "language_info": {
   "codemirror_mode": {
    "name": "ipython",
    "version": 3
   },
   "file_extension": ".py",
   "mimetype": "text/x-python",
   "name": "python",
   "nbconvert_exporter": "python",
   "pygments_lexer": "ipython3",
   "version": "3.6.6"
  }
 },
 "nbformat": 4,
 "nbformat_minor": 2
}
