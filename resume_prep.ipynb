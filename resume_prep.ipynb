{
 "cells": [
  {
   "cell_type": "code",
   "execution_count": 163,
   "metadata": {},
   "outputs": [],
   "source": [
    "import docx\n",
    "import pandas as pd\n",
    "import numpy as np\n",
    "from sklearn.feature_extraction.text import TfidfVectorizer\n",
    "from selenium.webdriver import Firefox\n",
    "from bs4 import BeautifulSoup\n",
    "import random\n",
    "import time\n",
    "from nltk import word_tokenize, RegexpTokenizer\n",
    "from nltk.corpus import stopwords"
   ]
  },
  {
   "cell_type": "code",
   "execution_count": 3,
   "metadata": {},
   "outputs": [],
   "source": [
    "doc = docx.Document('data/ethan_test_resume.docx')"
   ]
  },
  {
   "cell_type": "code",
   "execution_count": 7,
   "metadata": {},
   "outputs": [],
   "source": [
    "def getText(doc):\n",
    "    fullText = []\n",
    "    for para in doc.paragraphs:\n",
    "        fullText.append(para.text)\n",
    "    return '\\n'.join(fullText)"
   ]
  },
  {
   "cell_type": "code",
   "execution_count": 9,
   "metadata": {},
   "outputs": [],
   "source": [
    "text = getText(doc)"
   ]
  },
  {
   "cell_type": "code",
   "execution_count": 17,
   "metadata": {},
   "outputs": [],
   "source": [
    "text_list = [text]"
   ]
  },
  {
   "cell_type": "code",
   "execution_count": 18,
   "metadata": {},
   "outputs": [
    {
     "data": {
      "text/plain": [
       "'Ethan Doyle\\n123 Broadway apt. 232, Seattle WA, 98122  •  (303)-517-9881  •  \\n\\nSummary\\nData Scientist with an economics background from Colorado with experience in machine learning, data analysis, and regression analysis. Proven leader of small groups focused on efficiency and continuous improvement.\\n\\nSkills\\nProgramming:\\nPython\\nPandas\\nNumpy\\nSklearn\\nSciPy\\nMatplotlib\\nDatabase:\\nSQL and NoSQL\\nPostgreSQL and MongoDB\\nAmazon Web Services\\n\\nEducation\\nGalvanize | Seattle, WA | September - December 2018\\nColorado State University | Fort Collins, CO | B.A. in Economics | August 2014 - May 2018\\n\\nExperience\\n\\nBlue Ridge Log Works, Fort Collins, CO\\nMaster of Logwork, August 2016 – August 2018\\nBuilt custom log furniture for a high-end reclaimed wood furniture company\\nManaged people within my department in order to achieve efficiency without sacrificing quality\\nContinuously improved processes to increase productivity\\nAcquired new skills and techniques in order to increase the quality of the company’s products \\n\\nOrganizations\\n\\nLogging Sports Team at Colorado State University\\nOfficer and President, August 2014 – May 2018\\nCoordinated and structured schedules, competitions, volunteer work, fundraisers, product sales, and traveling.\\nManaged a group 10-15 to facilitate large infrastructure projects, equipment safety, and proficiency in Lumberjack disciplines.\\n\\n\\n'"
      ]
     },
     "execution_count": 18,
     "metadata": {},
     "output_type": "execute_result"
    }
   ],
   "source": [
    "text_list[0]"
   ]
  },
  {
   "cell_type": "code",
   "execution_count": 11,
   "metadata": {},
   "outputs": [],
   "source": [
    "vectorizer = TfidfVectorizer(stop_words='english')"
   ]
  },
  {
   "cell_type": "code",
   "execution_count": 19,
   "metadata": {},
   "outputs": [
    {
     "data": {
      "text/plain": [
       "TfidfVectorizer(analyzer='word', binary=False, decode_error='strict',\n",
       "        dtype=<class 'numpy.int64'>, encoding='utf-8', input='content',\n",
       "        lowercase=True, max_df=1.0, max_features=None, min_df=1,\n",
       "        ngram_range=(1, 1), norm='l2', preprocessor=None, smooth_idf=True,\n",
       "        stop_words='english', strip_accents=None, sublinear_tf=False,\n",
       "        token_pattern='(?u)\\\\b\\\\w\\\\w+\\\\b', tokenizer=None, use_idf=True,\n",
       "        vocabulary=None)"
      ]
     },
     "execution_count": 19,
     "metadata": {},
     "output_type": "execute_result"
    }
   ],
   "source": [
    "vectorizer.fit(text_list)"
   ]
  },
  {
   "cell_type": "code",
   "execution_count": 21,
   "metadata": {},
   "outputs": [],
   "source": [
    "transformed_model = vectorizer.transform(text_list)"
   ]
  },
  {
   "cell_type": "code",
   "execution_count": 22,
   "metadata": {},
   "outputs": [],
   "source": [
    "ethan_df = pd.DataFrame(transformed_model.toarray())"
   ]
  },
  {
   "cell_type": "code",
   "execution_count": 23,
   "metadata": {},
   "outputs": [
    {
     "data": {
      "text/html": [
       "<div>\n",
       "<style scoped>\n",
       "    .dataframe tbody tr th:only-of-type {\n",
       "        vertical-align: middle;\n",
       "    }\n",
       "\n",
       "    .dataframe tbody tr th {\n",
       "        vertical-align: top;\n",
       "    }\n",
       "\n",
       "    .dataframe thead th {\n",
       "        text-align: right;\n",
       "    }\n",
       "</style>\n",
       "<table border=\"1\" class=\"dataframe\">\n",
       "  <thead>\n",
       "    <tr style=\"text-align: right;\">\n",
       "      <th></th>\n",
       "      <th>0</th>\n",
       "      <th>1</th>\n",
       "      <th>2</th>\n",
       "      <th>3</th>\n",
       "      <th>4</th>\n",
       "      <th>5</th>\n",
       "      <th>6</th>\n",
       "      <th>7</th>\n",
       "      <th>8</th>\n",
       "      <th>9</th>\n",
       "      <th>...</th>\n",
       "      <th>107</th>\n",
       "      <th>108</th>\n",
       "      <th>109</th>\n",
       "      <th>110</th>\n",
       "      <th>111</th>\n",
       "      <th>112</th>\n",
       "      <th>113</th>\n",
       "      <th>114</th>\n",
       "      <th>115</th>\n",
       "      <th>116</th>\n",
       "    </tr>\n",
       "  </thead>\n",
       "  <tbody>\n",
       "    <tr>\n",
       "      <th>0</th>\n",
       "      <td>0.068199</td>\n",
       "      <td>0.068199</td>\n",
       "      <td>0.068199</td>\n",
       "      <td>0.136399</td>\n",
       "      <td>0.068199</td>\n",
       "      <td>0.272798</td>\n",
       "      <td>0.068199</td>\n",
       "      <td>0.068199</td>\n",
       "      <td>0.068199</td>\n",
       "      <td>0.068199</td>\n",
       "      <td>...</td>\n",
       "      <td>0.068199</td>\n",
       "      <td>0.068199</td>\n",
       "      <td>0.068199</td>\n",
       "      <td>0.136399</td>\n",
       "      <td>0.068199</td>\n",
       "      <td>0.136399</td>\n",
       "      <td>0.068199</td>\n",
       "      <td>0.068199</td>\n",
       "      <td>0.068199</td>\n",
       "      <td>0.068199</td>\n",
       "    </tr>\n",
       "  </tbody>\n",
       "</table>\n",
       "<p>1 rows × 117 columns</p>\n",
       "</div>"
      ],
      "text/plain": [
       "        0         1         2         3         4         5         6    \\\n",
       "0  0.068199  0.068199  0.068199  0.136399  0.068199  0.272798  0.068199   \n",
       "\n",
       "        7         8         9      ...          107       108       109  \\\n",
       "0  0.068199  0.068199  0.068199    ...     0.068199  0.068199  0.068199   \n",
       "\n",
       "        110       111       112       113       114       115       116  \n",
       "0  0.136399  0.068199  0.136399  0.068199  0.068199  0.068199  0.068199  \n",
       "\n",
       "[1 rows x 117 columns]"
      ]
     },
     "execution_count": 23,
     "metadata": {},
     "output_type": "execute_result"
    }
   ],
   "source": [
    "ethan_df.head()"
   ]
  },
  {
   "cell_type": "code",
   "execution_count": null,
   "metadata": {},
   "outputs": [],
   "source": []
  },
  {
   "cell_type": "code",
   "execution_count": null,
   "metadata": {},
   "outputs": [],
   "source": []
  },
  {
   "cell_type": "code",
   "execution_count": 4,
   "metadata": {},
   "outputs": [],
   "source": [
    "browser = Firefox()"
   ]
  },
  {
   "cell_type": "code",
   "execution_count": 5,
   "metadata": {},
   "outputs": [],
   "source": [
    "browser.get('https://www.linkedin.com')"
   ]
  },
  {
   "cell_type": "code",
   "execution_count": 6,
   "metadata": {},
   "outputs": [],
   "source": [
    "info = []"
   ]
  },
  {
   "cell_type": "code",
   "execution_count": 7,
   "metadata": {},
   "outputs": [],
   "source": [
    "find_info = browser.find_element_by_class_name('pv-top-card-v2-section__info')\n",
    "info.append(find_info.text)"
   ]
  },
  {
   "cell_type": "code",
   "execution_count": 8,
   "metadata": {},
   "outputs": [
    {
     "data": {
      "text/plain": [
       "['Ethan Doyle\\nData Scientist\\nGreater Seattle Area\\nAdd profile section\\nMore…']"
      ]
     },
     "execution_count": 8,
     "metadata": {},
     "output_type": "execute_result"
    }
   ],
   "source": [
    "info"
   ]
  },
  {
   "cell_type": "code",
   "execution_count": 73,
   "metadata": {},
   "outputs": [],
   "source": [
    "summary = []\n",
    "find_summary = browser.find_element_by_class_name('pv-top-card-section__summary-text')\n",
    "summary.append(find_summary.text)"
   ]
  },
  {
   "cell_type": "code",
   "execution_count": 74,
   "metadata": {},
   "outputs": [
    {
     "data": {
      "text/plain": [
       "['Data Scientist with an economics background from Colorado with experience in machine learning, data analysis, and regression analysis. Proven leader of small groups focused on efficiency and continuous improvement.']"
      ]
     },
     "execution_count": 74,
     "metadata": {},
     "output_type": "execute_result"
    }
   ],
   "source": [
    "summary"
   ]
  },
  {
   "cell_type": "code",
   "execution_count": 9,
   "metadata": {},
   "outputs": [],
   "source": [
    "seemore = browser.find_element_by_link_text('See more')"
   ]
  },
  {
   "cell_type": "code",
   "execution_count": 10,
   "metadata": {},
   "outputs": [],
   "source": [
    "seemore.click()"
   ]
  },
  {
   "cell_type": "code",
   "execution_count": 11,
   "metadata": {},
   "outputs": [],
   "source": [
    "experience = []"
   ]
  },
  {
   "cell_type": "code",
   "execution_count": 12,
   "metadata": {},
   "outputs": [],
   "source": [
    "experience_section = browser.find_element_by_class_name('pv-profile-section__section-info')"
   ]
  },
  {
   "cell_type": "code",
   "execution_count": 13,
   "metadata": {},
   "outputs": [],
   "source": [
    "experience.append(experience_section.text)"
   ]
  },
  {
   "cell_type": "code",
   "execution_count": 14,
   "metadata": {},
   "outputs": [
    {
     "data": {
      "text/plain": [
       "['Edit position Student\\nStudent\\nCompany Name\\nGalvanize Inc\\nDates Employed\\nSep 2018 – Present\\nEmployment Duration\\n3 mos\\nLocation\\nGreater Seattle Area\\nLogwork Master\\nCompany Name\\nBlue Ridge Log Works\\nDates Employed\\nAug 2016 – Aug 2018\\nEmployment Duration\\n2 yrs 1 mo\\nLocation\\nUnited States\\n• Built custom log furniture for a high-end reclaimed wood furniture company.\\n• Managed people within my department in order to achieve efficiency without sacrificing\\nquality.\\n• Continuously improved processes to increase productivity.\\n• Acquired new skills and techniques in order to increase the quality of the company’s\\nproducts. See less']"
      ]
     },
     "execution_count": 14,
     "metadata": {},
     "output_type": "execute_result"
    }
   ],
   "source": [
    "experience"
   ]
  },
  {
   "cell_type": "code",
   "execution_count": 54,
   "metadata": {},
   "outputs": [
    {
     "data": {
      "text/plain": [
       "['Edit position Student',\n",
       " 'Student',\n",
       " 'Company Name',\n",
       " 'Galvanize Inc',\n",
       " 'Dates Employed',\n",
       " 'Sep 2018 – Present',\n",
       " 'Employment Duration',\n",
       " '3 mos',\n",
       " 'Location',\n",
       " 'Greater Seattle Area',\n",
       " 'Logwork Master',\n",
       " 'Company Name',\n",
       " 'Blue Ridge Log Works',\n",
       " 'Dates Employed',\n",
       " 'Aug 2016 – Aug 2018',\n",
       " 'Employment Duration',\n",
       " '2 yrs 1 mo',\n",
       " 'Location',\n",
       " 'United States',\n",
       " '• Built custom log furniture for a high-end reclaimed wood furniture company.',\n",
       " '• Managed people within my department in order to achieve efficiency without sacrificing',\n",
       " 'quality.',\n",
       " '• Continuously improved processes to increase productivity.',\n",
       " '• Acquired new skills and techniques in order to increase the quality of the company’s',\n",
       " 'products. See less']"
      ]
     },
     "execution_count": 54,
     "metadata": {},
     "output_type": "execute_result"
    }
   ],
   "source": [
    "experience[0].split('\\n')"
   ]
  },
  {
   "cell_type": "code",
   "execution_count": 15,
   "metadata": {},
   "outputs": [],
   "source": [
    "skills = []"
   ]
  },
  {
   "cell_type": "code",
   "execution_count": 16,
   "metadata": {},
   "outputs": [],
   "source": [
    "showmore = browser.find_element_by_class_name('pv-profile-section__card-action-bar')"
   ]
  },
  {
   "cell_type": "code",
   "execution_count": 17,
   "metadata": {},
   "outputs": [],
   "source": [
    "showmore.click()"
   ]
  },
  {
   "cell_type": "code",
   "execution_count": 18,
   "metadata": {},
   "outputs": [],
   "source": [
    "skills_section = browser.find_element_by_class_name('pv-skill-categories-section')"
   ]
  },
  {
   "cell_type": "code",
   "execution_count": 20,
   "metadata": {},
   "outputs": [],
   "source": [
    "skills.append(skills_section.text)"
   ]
  },
  {
   "cell_type": "code",
   "execution_count": 21,
   "metadata": {},
   "outputs": [
    {
     "data": {
      "text/plain": [
       "['Edit skills\\nAdd a new skill\\nSkills & Endorsements\\nEconometrics\\nSee 1 endorsement for Econometrics\\n1\\nCher Li has given an endorsement for this skill\\nRegression Analysis\\nSee 1 endorsement for Regression Analysis\\n1\\nCher Li has given an endorsement for this skill\\nMicrosoft Office\\nSee 1 endorsement for Microsoft Office\\n1\\nCher Li has given an endorsement for this skill\\nIndustry Knowledge\\nData Analysis\\nSee 1 endorsement for Data Analysis\\n1\\nTools & Technologies\\nMicrosoft PowerPoint\\nMicrosoft Excel\\nPython (Programming Language)\\nPandas (Software)\\nSQL\\nPostgreSQL\\nMongoDB\\nAmazon Web Services (AWS)\\nSelenium\\nInterpersonal Skills\\nPublic Speaking\\nOther Skills\\nWhat is Other category?\\nNumPy\\nScikit-Learn\\nSciPy\\nMatplotlib\\nApache Spark\\nFlask\\nShow less\\nShow only Ethan’s featured skills']"
      ]
     },
     "execution_count": 21,
     "metadata": {},
     "output_type": "execute_result"
    }
   ],
   "source": [
    "skills"
   ]
  },
  {
   "cell_type": "code",
   "execution_count": 76,
   "metadata": {},
   "outputs": [],
   "source": [
    "split_info = info[0].split('\\n')"
   ]
  },
  {
   "cell_type": "code",
   "execution_count": 77,
   "metadata": {},
   "outputs": [
    {
     "data": {
      "text/plain": [
       "['Ethan Doyle', 'Data Scientist', 'Greater Seattle Area']"
      ]
     },
     "execution_count": 77,
     "metadata": {},
     "output_type": "execute_result"
    }
   ],
   "source": [
    "split_info[:3]"
   ]
  },
  {
   "cell_type": "code",
   "execution_count": 63,
   "metadata": {},
   "outputs": [],
   "source": [
    "profile_df = pd.DataFrame({'skills': skills, 'experience': experience})"
   ]
  },
  {
   "cell_type": "code",
   "execution_count": 66,
   "metadata": {},
   "outputs": [
    {
     "data": {
      "text/plain": [
       "0    Edit position Student\\nStudent\\nCompany Name\\n...\n",
       "Name: experience, dtype: object"
      ]
     },
     "execution_count": 66,
     "metadata": {},
     "output_type": "execute_result"
    }
   ],
   "source": [
    "profile_df.iloc[:, 1]"
   ]
  },
  {
   "cell_type": "code",
   "execution_count": 94,
   "metadata": {},
   "outputs": [],
   "source": [
    "def rough(info, summary, skills, experience):\n",
    "    return pd.DataFrame({'info': info, 'summary': summary, 'experience': experience, 'skills':skills})"
   ]
  },
  {
   "cell_type": "code",
   "execution_count": 139,
   "metadata": {},
   "outputs": [],
   "source": [
    "class clean_text():\n",
    "    def __init__(self, param=None):\n",
    "        self.param = param\n",
    "    \n",
    "    def fit(self, X, y=None):\n",
    "        return self\n",
    "    \n",
    "    def split_newlines(self, list_of_string):\n",
    "        split_list = list_of_string[0].split('\\n')\n",
    "        return split_list\n",
    "    \n",
    "    def lower_words(self, split_list):\n",
    "        lower_list = []\n",
    "        for word in split_list:\n",
    "            lower_list.append(word.lower())\n",
    "        return lower_list\n",
    "    \n",
    "    def clean_skills(self, category):\n",
    "        clean_words = []\n",
    "        for word in category:\n",
    "            if \"endorse\" in word:\n",
    "                continue\n",
    "            if \"show\" in word:\n",
    "                continue\n",
    "            if \"skill\" in word:\n",
    "                continue\n",
    "            if \"category\" in word:\n",
    "                continue\n",
    "            if word.isdigit():\n",
    "                continue\n",
    "            clean_words.append(word)\n",
    "        return clean_words\n",
    "    \n",
    "    def clean_experience(self, category):\n",
    "        clean_words = []\n",
    "        for word in category:\n",
    "            if \"edit\" in word:\n",
    "                continue\n",
    "            if \"see\" in word:\n",
    "                continue\n",
    "            if \"employ\" in word:\n",
    "                continue\n",
    "            if \"company name\" in word:\n",
    "                continue\n",
    "            if \"location\" in word:\n",
    "                continue\n",
    "            if word.isdigit():\n",
    "                continue\n",
    "            clean_words.append(word)\n",
    "        return clean_words\n",
    "    \n",
    "    def transform(self, X):\n",
    "        X = X.copy()\n",
    "        info_section = X['info']\n",
    "        clean_info = info_section[0].split('\\n')[1:3]\n",
    "        \n",
    "        summary_section = X['summary']\n",
    "        clean_summary = summary_section\n",
    "        \n",
    "        experience_section = X['experience']\n",
    "        split_experience = self.split_newlines(experience_section)\n",
    "        lower_experience = self.lower_words(split_experience)\n",
    "        clean_experience = self.clean_experience(lower_experience)\n",
    "        \n",
    "        skills_section = X['skills']\n",
    "        split_skills = self.split_newlines(skills_section)\n",
    "        lower_skills = self.lower_words(split_skills)\n",
    "        clean_skills = self.clean_skills(lower_skills)\n",
    "        \n",
    "        return clean_info, clean_summary, clean_experience, clean_skills \n",
    "        \n",
    "        "
   ]
  },
  {
   "cell_type": "code",
   "execution_count": 140,
   "metadata": {},
   "outputs": [],
   "source": [
    "rough_df = rough(info, summary, skills, experience)"
   ]
  },
  {
   "cell_type": "code",
   "execution_count": 141,
   "metadata": {},
   "outputs": [],
   "source": [
    "cleaner = clean_text()"
   ]
  },
  {
   "cell_type": "code",
   "execution_count": 142,
   "metadata": {},
   "outputs": [],
   "source": [
    "clean_info, clean_summary, clean_experience, clean_skills = cleaner.transform(rough_df)"
   ]
  },
  {
   "cell_type": "code",
   "execution_count": 143,
   "metadata": {},
   "outputs": [
    {
     "data": {
      "text/plain": [
       "['econometrics',\n",
       " 'regression analysis',\n",
       " 'microsoft office',\n",
       " 'industry knowledge',\n",
       " 'data analysis',\n",
       " 'tools & technologies',\n",
       " 'microsoft powerpoint',\n",
       " 'microsoft excel',\n",
       " 'python (programming language)',\n",
       " 'pandas (software)',\n",
       " 'sql',\n",
       " 'postgresql',\n",
       " 'mongodb',\n",
       " 'amazon web services (aws)',\n",
       " 'selenium',\n",
       " 'public speaking',\n",
       " 'numpy',\n",
       " 'scikit-learn',\n",
       " 'scipy',\n",
       " 'matplotlib',\n",
       " 'apache spark',\n",
       " 'flask']"
      ]
     },
     "execution_count": 143,
     "metadata": {},
     "output_type": "execute_result"
    }
   ],
   "source": [
    "clean_skills"
   ]
  },
  {
   "cell_type": "code",
   "execution_count": 144,
   "metadata": {},
   "outputs": [],
   "source": [
    "def concat_strings(word_list):\n",
    "    total_cleaned = ''\n",
    "    for word in word_list:\n",
    "        total_cleaned += (word + ' ')\n",
    "    return total_cleaned"
   ]
  },
  {
   "cell_type": "code",
   "execution_count": 145,
   "metadata": {},
   "outputs": [],
   "source": [
    "cleaned_profile_string = ''"
   ]
  },
  {
   "cell_type": "code",
   "execution_count": 146,
   "metadata": {},
   "outputs": [],
   "source": [
    "cleaned_profile_string += concat_strings(clean_info)"
   ]
  },
  {
   "cell_type": "code",
   "execution_count": 147,
   "metadata": {},
   "outputs": [],
   "source": [
    "cleaned_profile_string += concat_strings(clean_summary)"
   ]
  },
  {
   "cell_type": "code",
   "execution_count": 148,
   "metadata": {},
   "outputs": [],
   "source": [
    "cleaned_profile_string += concat_strings(clean_experience)"
   ]
  },
  {
   "cell_type": "code",
   "execution_count": 149,
   "metadata": {},
   "outputs": [],
   "source": [
    "cleaned_profile_string += concat_strings(clean_skills)"
   ]
  },
  {
   "cell_type": "code",
   "execution_count": 150,
   "metadata": {},
   "outputs": [
    {
     "data": {
      "text/plain": [
       "'Data Scientist Greater Seattle Area Data Scientist with an economics background from Colorado with experience in machine learning, data analysis, and regression analysis. Proven leader of small groups focused on efficiency and continuous improvement. student galvanize inc sep 2018 – present 3 mos greater seattle area logwork master blue ridge log works aug 2016 – aug 2018 2 yrs 1 mo united states • built custom log furniture for a high-end reclaimed wood furniture company. • managed people within my department in order to achieve efficiency without sacrificing quality. • continuously improved processes to increase productivity. • acquired new skills and techniques in order to increase the quality of the company’s econometrics regression analysis microsoft office industry knowledge data analysis tools & technologies microsoft powerpoint microsoft excel python (programming language) pandas (software) sql postgresql mongodb amazon web services (aws) selenium public speaking numpy scikit-learn scipy matplotlib apache spark flask '"
      ]
     },
     "execution_count": 150,
     "metadata": {},
     "output_type": "execute_result"
    }
   ],
   "source": [
    "cleaned_profile_string"
   ]
  },
  {
   "cell_type": "code",
   "execution_count": 192,
   "metadata": {},
   "outputs": [],
   "source": [
    "punctuation = '!\"#$%&\\'()*+,-./:;<=>?@[\\\\]^_`{|}~•'"
   ]
  },
  {
   "cell_type": "code",
   "execution_count": 193,
   "metadata": {},
   "outputs": [],
   "source": [
    "tokens = word_tokenize(cleaned_profile_string)"
   ]
  },
  {
   "cell_type": "code",
   "execution_count": 196,
   "metadata": {},
   "outputs": [],
   "source": [
    "cleaned_tokens = [word for word in tokens if word not in punctuation]"
   ]
  },
  {
   "cell_type": "code",
   "execution_count": 198,
   "metadata": {},
   "outputs": [],
   "source": [
    "cleaner_tokens = [word for word in cleaned_tokens if word not in stopwords.words('english')]"
   ]
  },
  {
   "cell_type": "code",
   "execution_count": 201,
   "metadata": {},
   "outputs": [],
   "source": [
    "getting_there = list(set(cleaner_tokens))"
   ]
  },
  {
   "cell_type": "code",
   "execution_count": 202,
   "metadata": {},
   "outputs": [],
   "source": [
    "more_clean = [word for word in getting_there if word not in punctuation]"
   ]
  },
  {
   "cell_type": "code",
   "execution_count": 204,
   "metadata": {},
   "outputs": [],
   "source": [
    "cleanest = [word for word in more_clean if not word.isdigit()]"
   ]
  },
  {
   "cell_type": "code",
   "execution_count": 212,
   "metadata": {},
   "outputs": [],
   "source": [
    "vocabulary = pd.DataFrame({'words': cleanest})"
   ]
  },
  {
   "cell_type": "code",
   "execution_count": 214,
   "metadata": {},
   "outputs": [],
   "source": [
    "vocabulary.to_csv('data/vocabulary.csv')"
   ]
  },
  {
   "cell_type": "code",
   "execution_count": 159,
   "metadata": {},
   "outputs": [],
   "source": [
    "# stopwords.words('english')"
   ]
  },
  {
   "cell_type": "code",
   "execution_count": null,
   "metadata": {},
   "outputs": [],
   "source": []
  }
 ],
 "metadata": {
  "kernelspec": {
   "display_name": "Python 3",
   "language": "python",
   "name": "python3"
  },
  "language_info": {
   "codemirror_mode": {
    "name": "ipython",
    "version": 3
   },
   "file_extension": ".py",
   "mimetype": "text/x-python",
   "name": "python",
   "nbconvert_exporter": "python",
   "pygments_lexer": "ipython3",
   "version": "3.6.6"
  }
 },
 "nbformat": 4,
 "nbformat_minor": 2
}
