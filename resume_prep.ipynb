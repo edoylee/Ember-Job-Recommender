{
 "cells": [
  {
   "cell_type": "code",
   "execution_count": 10,
   "metadata": {},
   "outputs": [],
   "source": [
    "import docx\n",
    "import pandas as pd\n",
    "import numpy as np\n",
    "from sklearn.feature_extraction.text import TfidfVectorizer "
   ]
  },
  {
   "cell_type": "code",
   "execution_count": 3,
   "metadata": {},
   "outputs": [],
   "source": [
    "doc = docx.Document('data/ethan_test_resume.docx')"
   ]
  },
  {
   "cell_type": "code",
   "execution_count": 7,
   "metadata": {},
   "outputs": [],
   "source": [
    "def getText(doc):\n",
    "    fullText = []\n",
    "    for para in doc.paragraphs:\n",
    "        fullText.append(para.text)\n",
    "    return '\\n'.join(fullText)"
   ]
  },
  {
   "cell_type": "code",
   "execution_count": 9,
   "metadata": {},
   "outputs": [],
   "source": [
    "text = getText(doc)"
   ]
  },
  {
   "cell_type": "code",
   "execution_count": 17,
   "metadata": {},
   "outputs": [],
   "source": [
    "text_list = [text]"
   ]
  },
  {
   "cell_type": "code",
   "execution_count": 18,
   "metadata": {},
   "outputs": [
    {
     "data": {
      "text/plain": [
       "'Ethan Doyle\\n123 Broadway apt. 232, Seattle WA, 98122  •  (303)-517-9881  •  \\n\\nSummary\\nData Scientist with an economics background from Colorado with experience in machine learning, data analysis, and regression analysis. Proven leader of small groups focused on efficiency and continuous improvement.\\n\\nSkills\\nProgramming:\\nPython\\nPandas\\nNumpy\\nSklearn\\nSciPy\\nMatplotlib\\nDatabase:\\nSQL and NoSQL\\nPostgreSQL and MongoDB\\nAmazon Web Services\\n\\nEducation\\nGalvanize | Seattle, WA | September - December 2018\\nColorado State University | Fort Collins, CO | B.A. in Economics | August 2014 - May 2018\\n\\nExperience\\n\\nBlue Ridge Log Works, Fort Collins, CO\\nMaster of Logwork, August 2016 – August 2018\\nBuilt custom log furniture for a high-end reclaimed wood furniture company\\nManaged people within my department in order to achieve efficiency without sacrificing quality\\nContinuously improved processes to increase productivity\\nAcquired new skills and techniques in order to increase the quality of the company’s products \\n\\nOrganizations\\n\\nLogging Sports Team at Colorado State University\\nOfficer and President, August 2014 – May 2018\\nCoordinated and structured schedules, competitions, volunteer work, fundraisers, product sales, and traveling.\\nManaged a group 10-15 to facilitate large infrastructure projects, equipment safety, and proficiency in Lumberjack disciplines.\\n\\n\\n'"
      ]
     },
     "execution_count": 18,
     "metadata": {},
     "output_type": "execute_result"
    }
   ],
   "source": [
    "text_list[0]"
   ]
  },
  {
   "cell_type": "code",
   "execution_count": 11,
   "metadata": {},
   "outputs": [],
   "source": [
    "vectorizer = TfidfVectorizer(stop_words='english')"
   ]
  },
  {
   "cell_type": "code",
   "execution_count": 19,
   "metadata": {},
   "outputs": [
    {
     "data": {
      "text/plain": [
       "TfidfVectorizer(analyzer='word', binary=False, decode_error='strict',\n",
       "        dtype=<class 'numpy.int64'>, encoding='utf-8', input='content',\n",
       "        lowercase=True, max_df=1.0, max_features=None, min_df=1,\n",
       "        ngram_range=(1, 1), norm='l2', preprocessor=None, smooth_idf=True,\n",
       "        stop_words='english', strip_accents=None, sublinear_tf=False,\n",
       "        token_pattern='(?u)\\\\b\\\\w\\\\w+\\\\b', tokenizer=None, use_idf=True,\n",
       "        vocabulary=None)"
      ]
     },
     "execution_count": 19,
     "metadata": {},
     "output_type": "execute_result"
    }
   ],
   "source": [
    "vectorizer.fit(text_list)"
   ]
  },
  {
   "cell_type": "code",
   "execution_count": 21,
   "metadata": {},
   "outputs": [],
   "source": [
    "transformed_model = vectorizer.transform(text_list)"
   ]
  },
  {
   "cell_type": "code",
   "execution_count": 22,
   "metadata": {},
   "outputs": [],
   "source": [
    "ethan_df = pd.DataFrame(transformed_model.toarray())"
   ]
  },
  {
   "cell_type": "code",
   "execution_count": 23,
   "metadata": {},
   "outputs": [
    {
     "data": {
      "text/html": [
       "<div>\n",
       "<style scoped>\n",
       "    .dataframe tbody tr th:only-of-type {\n",
       "        vertical-align: middle;\n",
       "    }\n",
       "\n",
       "    .dataframe tbody tr th {\n",
       "        vertical-align: top;\n",
       "    }\n",
       "\n",
       "    .dataframe thead th {\n",
       "        text-align: right;\n",
       "    }\n",
       "</style>\n",
       "<table border=\"1\" class=\"dataframe\">\n",
       "  <thead>\n",
       "    <tr style=\"text-align: right;\">\n",
       "      <th></th>\n",
       "      <th>0</th>\n",
       "      <th>1</th>\n",
       "      <th>2</th>\n",
       "      <th>3</th>\n",
       "      <th>4</th>\n",
       "      <th>5</th>\n",
       "      <th>6</th>\n",
       "      <th>7</th>\n",
       "      <th>8</th>\n",
       "      <th>9</th>\n",
       "      <th>...</th>\n",
       "      <th>107</th>\n",
       "      <th>108</th>\n",
       "      <th>109</th>\n",
       "      <th>110</th>\n",
       "      <th>111</th>\n",
       "      <th>112</th>\n",
       "      <th>113</th>\n",
       "      <th>114</th>\n",
       "      <th>115</th>\n",
       "      <th>116</th>\n",
       "    </tr>\n",
       "  </thead>\n",
       "  <tbody>\n",
       "    <tr>\n",
       "      <th>0</th>\n",
       "      <td>0.068199</td>\n",
       "      <td>0.068199</td>\n",
       "      <td>0.068199</td>\n",
       "      <td>0.136399</td>\n",
       "      <td>0.068199</td>\n",
       "      <td>0.272798</td>\n",
       "      <td>0.068199</td>\n",
       "      <td>0.068199</td>\n",
       "      <td>0.068199</td>\n",
       "      <td>0.068199</td>\n",
       "      <td>...</td>\n",
       "      <td>0.068199</td>\n",
       "      <td>0.068199</td>\n",
       "      <td>0.068199</td>\n",
       "      <td>0.136399</td>\n",
       "      <td>0.068199</td>\n",
       "      <td>0.136399</td>\n",
       "      <td>0.068199</td>\n",
       "      <td>0.068199</td>\n",
       "      <td>0.068199</td>\n",
       "      <td>0.068199</td>\n",
       "    </tr>\n",
       "  </tbody>\n",
       "</table>\n",
       "<p>1 rows × 117 columns</p>\n",
       "</div>"
      ],
      "text/plain": [
       "        0         1         2         3         4         5         6    \\\n",
       "0  0.068199  0.068199  0.068199  0.136399  0.068199  0.272798  0.068199   \n",
       "\n",
       "        7         8         9      ...          107       108       109  \\\n",
       "0  0.068199  0.068199  0.068199    ...     0.068199  0.068199  0.068199   \n",
       "\n",
       "        110       111       112       113       114       115       116  \n",
       "0  0.136399  0.068199  0.136399  0.068199  0.068199  0.068199  0.068199  \n",
       "\n",
       "[1 rows x 117 columns]"
      ]
     },
     "execution_count": 23,
     "metadata": {},
     "output_type": "execute_result"
    }
   ],
   "source": [
    "ethan_df.head()"
   ]
  },
  {
   "cell_type": "code",
   "execution_count": null,
   "metadata": {},
   "outputs": [],
   "source": []
  }
 ],
 "metadata": {
  "kernelspec": {
   "display_name": "Python 3",
   "language": "python",
   "name": "python3"
  },
  "language_info": {
   "codemirror_mode": {
    "name": "ipython",
    "version": 3
   },
   "file_extension": ".py",
   "mimetype": "text/x-python",
   "name": "python",
   "nbconvert_exporter": "python",
   "pygments_lexer": "ipython3",
   "version": "3.6.6"
  }
 },
 "nbformat": 4,
 "nbformat_minor": 2
}
