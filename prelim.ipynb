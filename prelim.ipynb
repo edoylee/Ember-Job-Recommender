{
 "cells": [
  {
   "cell_type": "code",
   "execution_count": 293,
   "metadata": {},
   "outputs": [],
   "source": [
    "from selenium.webdriver import Firefox\n",
    "from bs4 import BeautifulSoup\n",
    "import random\n",
    "import time\n",
    "import pandas as pd\n",
    "from sklearn.feature_extraction.text import TfidfVectorizer\n",
    "from sklearn.ensemble import RandomForestClassifier"
   ]
  },
  {
   "cell_type": "code",
   "execution_count": 131,
   "metadata": {},
   "outputs": [],
   "source": [
    "browser = Firefox()"
   ]
  },
  {
   "cell_type": "code",
   "execution_count": 132,
   "metadata": {},
   "outputs": [],
   "source": [
    "browser.get('https://www.glassdoor.com/index.htm')\n",
    "css_selector = '#KeywordSearch'\n",
    "sleep()\n",
    "keyword_search = browser.find_element_by_css_selector(css_selector)\n",
    "sleep()\n",
    "keyword_search.click()\n",
    "keyword_search.send_keys('Data Scientist')\n",
    "search_css = '#HeroSearchButton'\n",
    "start_search = browser.find_element_by_css_selector(search_css)\n",
    "start_search.click()\n"
   ]
  },
  {
   "cell_type": "code",
   "execution_count": 133,
   "metadata": {},
   "outputs": [],
   "source": [
    "def sleep(start=5, end=15):\n",
    "    return time.sleep(random.randint(5, 15))"
   ]
  },
  {
   "cell_type": "code",
   "execution_count": 10,
   "metadata": {},
   "outputs": [],
   "source": [
    "# html = browser.page_source\n",
    "# job_listing_css = 'li.jl'\n",
    "# soup = BeautifulSoup(html, 'html.parser')"
   ]
  },
  {
   "cell_type": "code",
   "execution_count": 11,
   "metadata": {},
   "outputs": [],
   "source": [
    "# job_listings = soup.select(job_listing_css)"
   ]
  },
  {
   "cell_type": "code",
   "execution_count": 130,
   "metadata": {},
   "outputs": [
    {
     "data": {
      "text/plain": [
       "30"
      ]
     },
     "execution_count": 130,
     "metadata": {},
     "output_type": "execute_result"
    }
   ],
   "source": [
    "len(job_listings)"
   ]
  },
  {
   "cell_type": "code",
   "execution_count": 134,
   "metadata": {},
   "outputs": [],
   "source": [
    "#job_listings[0]"
   ]
  },
  {
   "cell_type": "code",
   "execution_count": 140,
   "metadata": {},
   "outputs": [],
   "source": [
    "job_description_css = '.jobDescriptionContent'"
   ]
  },
  {
   "cell_type": "code",
   "execution_count": 294,
   "metadata": {},
   "outputs": [],
   "source": [
    "# soup.select(job_description_css)"
   ]
  },
  {
   "cell_type": "code",
   "execution_count": 54,
   "metadata": {},
   "outputs": [],
   "source": [
    "# first_posting = browser.find_element_by_css_selector('li.jl:nth-child(1)')\n",
    "\n",
    "# first_posting.click()\n",
    "\n",
    "# first_description = browser.find_element_by_css_selector(content)\n",
    "\n",
    "# #first_description.text\n",
    "\n",
    "# second_posting = browser.find_element_by_css_selector('li.jl:nth-child(2)')\n",
    "\n",
    "# second_posting.click()\n",
    "\n",
    "# content = '.jobDescriptionContent'\n",
    "\n",
    "# second_description = browser.find_element_by_css_selector(content)\n",
    "\n",
    "# #second_description.text\n",
    "\n",
    "# posting_list = ['li.jl:nth-child(1)', 'li.jl:nth-child(2)']\n",
    "# content_list = []"
   ]
  },
  {
   "cell_type": "code",
   "execution_count": 58,
   "metadata": {},
   "outputs": [],
   "source": [
    "# for i in range(2):\n",
    "#     posting = browser.find_element_by_css_selector(posting_list[i])\n",
    "#     posting.click()\n",
    "#     content = '.jobDescriptionContent'\n",
    "#     description = browser.find_element_by_css_selector(content)\n",
    "#     content_list.append(description.text)\n",
    "#     sleep()"
   ]
  },
  {
   "cell_type": "code",
   "execution_count": 63,
   "metadata": {},
   "outputs": [],
   "source": [
    "#content_list[2]"
   ]
  },
  {
   "cell_type": "code",
   "execution_count": 78,
   "metadata": {},
   "outputs": [],
   "source": [
    "# posting_css_list = []\n",
    "# for i in range(1, 31):\n",
    "#     posting_css_list.append('li.jl:nth-child(%d)' % i)"
   ]
  },
  {
   "cell_type": "code",
   "execution_count": 81,
   "metadata": {},
   "outputs": [],
   "source": [
    "url = 'https://www.glassdoor.com/index.htm'"
   ]
  },
  {
   "cell_type": "code",
   "execution_count": 105,
   "metadata": {},
   "outputs": [],
   "source": [
    "class get_job_descriptions():\n",
    "    def __init__(self, param=None):\n",
    "        self.param = param\n",
    "    \n",
    "    def fit(self, X, y):\n",
    "        return self\n",
    "    \n",
    "    def transform(self, X):\n",
    "        pass\n",
    "    \n",
    "    def sleep(self, start=5, end=15):\n",
    "        return time.sleep(random.randint(5, 15))\n",
    "    \n",
    "    def get_posting_css(self, n_postings=1):\n",
    "        posting_css_list = []\n",
    "        for i in range(1, n_postings):\n",
    "            posting_css_list.append('li.jl:nth-child(%d)' % i)\n",
    "        return posting_css_list\n",
    "    "
   ]
  },
  {
   "cell_type": "code",
   "execution_count": 118,
   "metadata": {},
   "outputs": [],
   "source": [
    "test_description = get_job_descriptions()"
   ]
  },
  {
   "cell_type": "code",
   "execution_count": 223,
   "metadata": {},
   "outputs": [],
   "source": [
    "list_of_pcss = test_description.get_posting_css(len(job_listings)+1)"
   ]
  },
  {
   "cell_type": "code",
   "execution_count": 255,
   "metadata": {},
   "outputs": [],
   "source": [
    "browser = Firefox()\n",
    "browser.get(url)\n",
    "test_description.sleep()\n",
    "keyword_css = '#KeywordSearch'\n",
    "keyword_search = browser.find_element_by_css_selector(keyword_css)\n",
    "keyword_search.click()\n",
    "test_description.sleep()\n",
    "keyword_search.send_keys('Data Scientist')\n",
    "search_css = '#HeroSearchButton'\n",
    "start_search = browser.find_element_by_css_selector(search_css)\n",
    "start_search.click()"
   ]
  },
  {
   "cell_type": "code",
   "execution_count": 295,
   "metadata": {},
   "outputs": [],
   "source": [
    "# list_of_pcss"
   ]
  },
  {
   "cell_type": "code",
   "execution_count": 199,
   "metadata": {},
   "outputs": [
    {
     "data": {
      "text/plain": [
       "'li.jl:nth-child(6)'"
      ]
     },
     "execution_count": 199,
     "metadata": {},
     "output_type": "execute_result"
    }
   ],
   "source": [
    "list_of_pcss[5]"
   ]
  },
  {
   "cell_type": "code",
   "execution_count": 178,
   "metadata": {},
   "outputs": [],
   "source": [
    "# description.text"
   ]
  },
  {
   "cell_type": "code",
   "execution_count": 190,
   "metadata": {},
   "outputs": [],
   "source": [
    "list_of_descriptions = []"
   ]
  },
  {
   "cell_type": "code",
   "execution_count": 186,
   "metadata": {},
   "outputs": [],
   "source": [
    "posting = browser.find_element_by_css_selector(list_of_pcss[0])\n",
    "posting.click()\n",
    "description = browser.find_element_by_css_selector('.jobDescriptionContent')"
   ]
  },
  {
   "cell_type": "code",
   "execution_count": 257,
   "metadata": {},
   "outputs": [],
   "source": [
    "for i in range(10, len(list_of_pcss)):\n",
    "    posting = browser.find_element_by_css_selector(list_of_pcss[i])\n",
    "    posting.click()\n",
    "    sleep()\n",
    "    content_css = '.jobDescriptionContent'\n",
    "    description = browser.find_element_by_css_selector(content_css)\n",
    "    list_of_descriptions.append(description.text)\n",
    "    sleep()"
   ]
  },
  {
   "cell_type": "code",
   "execution_count": 282,
   "metadata": {},
   "outputs": [
    {
     "data": {
      "text/plain": [
       "'li.jl:nth-child(5)'"
      ]
     },
     "execution_count": 282,
     "metadata": {},
     "output_type": "execute_result"
    }
   ],
   "source": [
    "list_of_pcss[4]"
   ]
  },
  {
   "cell_type": "code",
   "execution_count": 283,
   "metadata": {},
   "outputs": [],
   "source": [
    "sleep()"
   ]
  },
  {
   "cell_type": "code",
   "execution_count": 284,
   "metadata": {},
   "outputs": [],
   "source": [
    "posting = browser.find_element_by_css_selector(list_of_pcss[4])\n",
    "posting.click()\n",
    "sleep()\n",
    "content_css = '.jobDescriptionContent'\n",
    "description = browser.find_element_by_css_selector(content_css)\n",
    "list_of_descriptions.append(description.text)\n",
    "sleep()"
   ]
  },
  {
   "cell_type": "code",
   "execution_count": 285,
   "metadata": {},
   "outputs": [
    {
     "data": {
      "text/plain": [
       "30"
      ]
     },
     "execution_count": 285,
     "metadata": {},
     "output_type": "execute_result"
    }
   ],
   "source": [
    "len(list_of_descriptions)"
   ]
  },
  {
   "cell_type": "code",
   "execution_count": 286,
   "metadata": {},
   "outputs": [
    {
     "data": {
      "text/plain": [
       "'We are looking for talented Data Scientists to join the Machine Learning & Artificial Intelligence (ML/AI) team. You are a talented data scientist that is tired of applying basic statistical tools to yet another set of KPI’s. You are passionate about deriving creative solutions from imagery using cutting edge computer vision techniques and big data pipelines. You are excited about the analytical potential and challenges associated with processing petabytes of time-series imagery. You are intrigued by being a part of a collaborative team, spearheading ML/AI applications for realizing unprecedented, scalable products.\\n\\nPRIMARY RESPONSIBLITIES\\nHelp to aggregate, clean, and organize data for machine learning applications\\nCollaborate with scientists and engineers to develop/scale Python and similar algorithms to cloud environments\\nProcess raster and vector data using Python and OpenCV-like libraries for ingestion into neural nets\\nWork with the team to develop new techniques and capabilities using machine learning and neural networks\\nResearch and experiment new technologies that can improve algorithm applications\\nPython, R or similar language\\nExperience with Amazon AWS or comparable cloud processing\\nExperience with Linux-based command line environments\\nSQL knowledge\\nExperience with Neural Networks & predictive analytics (class projects are fine)\\nAbility to work independently & excellent communication skills\\nMinimum BA or BS in computer science, engineering or related field or equivalent work experience\\nWHAT DOESN’T DESCRIBE YOU:\\nA desire to only work on things you are most familiar with\\nFear of dynamically changing, uncertain, or unestablished requirements\\nA desire for explicit tasking on a daily basis\\nEagleView® Technologies offers competitive pay and robust benefit plans along with the opportunity to grow your career in a fast-paced, fun and casual environment.\\n\\nEagleView and its subsidiaries are committed to leveraging the talent of a diverse workforce to create great opportunities for our business and our people. EOE/AA. Minority/Female/Disability/Veteran.'"
      ]
     },
     "execution_count": 286,
     "metadata": {},
     "output_type": "execute_result"
    }
   ],
   "source": [
    "list_of_descriptions[29]"
   ]
  },
  {
   "cell_type": "code",
   "execution_count": 296,
   "metadata": {},
   "outputs": [],
   "source": [
    "vectorizer = TfidfVectorizer(stop_words='english')"
   ]
  },
  {
   "cell_type": "code",
   "execution_count": 302,
   "metadata": {},
   "outputs": [],
   "source": [
    "model = vectorizer.fit_transform(list_of_descriptions)"
   ]
  },
  {
   "cell_type": "code",
   "execution_count": 304,
   "metadata": {},
   "outputs": [],
   "source": [
    "tfidf_df = pd.DataFrame(model.toarray())"
   ]
  },
  {
   "cell_type": "code",
   "execution_count": 307,
   "metadata": {},
   "outputs": [
    {
     "data": {
      "text/plain": [
       "(30, 2705)"
      ]
     },
     "execution_count": 307,
     "metadata": {},
     "output_type": "execute_result"
    }
   ],
   "source": [
    "tfidf_df.shape"
   ]
  },
  {
   "cell_type": "code",
   "execution_count": 291,
   "metadata": {},
   "outputs": [],
   "source": [
    "# page_switcher = browser.find_element_by_css_selector('li.page:nth-child(3)')"
   ]
  },
  {
   "cell_type": "code",
   "execution_count": 292,
   "metadata": {},
   "outputs": [],
   "source": [
    "# page_switcher.click()"
   ]
  },
  {
   "cell_type": "code",
   "execution_count": 324,
   "metadata": {},
   "outputs": [],
   "source": [
    "browser = Firefox()"
   ]
  },
  {
   "cell_type": "code",
   "execution_count": 325,
   "metadata": {},
   "outputs": [],
   "source": [
    "browser.get('https://www.linkedin.com')"
   ]
  },
  {
   "cell_type": "code",
   "execution_count": 366,
   "metadata": {},
   "outputs": [],
   "source": [
    "search_field_css = '#ember41 > input:nth-child(1)'"
   ]
  },
  {
   "cell_type": "code",
   "execution_count": 367,
   "metadata": {},
   "outputs": [],
   "source": [
    "search_field = browser.find_element_by_css_selector(search_field_css)"
   ]
  },
  {
   "cell_type": "code",
   "execution_count": 368,
   "metadata": {},
   "outputs": [],
   "source": [
    "search_field.click()"
   ]
  },
  {
   "cell_type": "code",
   "execution_count": 369,
   "metadata": {},
   "outputs": [],
   "source": [
    "search_field.send_keys('chris doyle')"
   ]
  },
  {
   "cell_type": "code",
   "execution_count": 373,
   "metadata": {},
   "outputs": [],
   "source": [
    "li_html = browser.page_source"
   ]
  },
  {
   "cell_type": "code",
   "execution_count": 374,
   "metadata": {},
   "outputs": [],
   "source": [
    "soup = BeautifulSoup(li_html, 'html.parser')"
   ]
  },
  {
   "cell_type": "code",
   "execution_count": null,
   "metadata": {},
   "outputs": [],
   "source": []
  },
  {
   "cell_type": "code",
   "execution_count": null,
   "metadata": {},
   "outputs": [],
   "source": []
  },
  {
   "cell_type": "code",
   "execution_count": null,
   "metadata": {},
   "outputs": [],
   "source": []
  },
  {
   "cell_type": "code",
   "execution_count": 317,
   "metadata": {},
   "outputs": [],
   "source": [
    "linked_in_css = '#nav-settings__dropdown-trigger > div:nth-child(2) > span:nth-child(2)'"
   ]
  },
  {
   "cell_type": "code",
   "execution_count": 318,
   "metadata": {},
   "outputs": [],
   "source": [
    "button = browser.find_element_by_css_selector(linked_in_css)"
   ]
  },
  {
   "cell_type": "code",
   "execution_count": 319,
   "metadata": {},
   "outputs": [],
   "source": [
    "button.click()"
   ]
  },
  {
   "cell_type": "code",
   "execution_count": 320,
   "metadata": {},
   "outputs": [],
   "source": [
    "profile_css = '.nav-settings__linkcard-link'"
   ]
  },
  {
   "cell_type": "code",
   "execution_count": 321,
   "metadata": {},
   "outputs": [],
   "source": [
    "profile_button = browser.find_element_by_css_selector(profile_css)"
   ]
  },
  {
   "cell_type": "code",
   "execution_count": 322,
   "metadata": {},
   "outputs": [],
   "source": [
    "profile_button.click()"
   ]
  },
  {
   "cell_type": "code",
   "execution_count": null,
   "metadata": {},
   "outputs": [],
   "source": [
    "ethan_df = pd.read_csv()"
   ]
  }
 ],
 "metadata": {
  "kernelspec": {
   "display_name": "Python 3",
   "language": "python",
   "name": "python3"
  },
  "language_info": {
   "codemirror_mode": {
    "name": "ipython",
    "version": 3
   },
   "file_extension": ".py",
   "mimetype": "text/x-python",
   "name": "python",
   "nbconvert_exporter": "python",
   "pygments_lexer": "ipython3",
   "version": "3.6.6"
  }
 },
 "nbformat": 4,
 "nbformat_minor": 2
}
