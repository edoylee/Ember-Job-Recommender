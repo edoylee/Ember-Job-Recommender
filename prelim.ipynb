{
 "cells": [
  {
   "cell_type": "code",
   "execution_count": 293,
   "metadata": {},
   "outputs": [],
   "source": [
    "from selenium.webdriver import Firefox\n",
    "from bs4 import BeautifulSoup\n",
    "import random\n",
    "import time\n",
    "import pandas as pd\n",
    "from sklearn.feature_extraction.text import TfidfVectorizer\n",
    "from sklearn.ensemble import RandomForestClassifier"
   ]
  },
  {
   "cell_type": "code",
   "execution_count": 131,
   "metadata": {},
   "outputs": [],
   "source": [
    "browser = Firefox()"
   ]
  },
  {
   "cell_type": "code",
   "execution_count": 132,
   "metadata": {},
   "outputs": [],
   "source": [
    "browser.get('https://www.glassdoor.com/index.htm')\n",
    "css_selector = '#KeywordSearch'\n",
    "sleep()\n",
    "keyword_search = browser.find_element_by_css_selector(css_selector)\n",
    "sleep()\n",
    "keyword_search.click()\n",
    "keyword_search.send_keys('Data Scientist')\n",
    "search_css = '#HeroSearchButton'\n",
    "start_search = browser.find_element_by_css_selector(search_css)\n",
    "start_search.click()\n"
   ]
  },
  {
   "cell_type": "code",
   "execution_count": 133,
   "metadata": {},
   "outputs": [],
   "source": [
    "def sleep(start=5, end=15):\n",
    "    return time.sleep(random.randint(5, 15))"
   ]
  },
  {
   "cell_type": "code",
   "execution_count": 10,
   "metadata": {},
   "outputs": [],
   "source": [
    "# html = browser.page_source\n",
    "# job_listing_css = 'li.jl'\n",
    "# soup = BeautifulSoup(html, 'html.parser')"
   ]
  },
  {
   "cell_type": "code",
   "execution_count": 11,
   "metadata": {},
   "outputs": [],
   "source": [
    "# job_listings = soup.select(job_listing_css)"
   ]
  },
  {
   "cell_type": "code",
   "execution_count": 130,
   "metadata": {},
   "outputs": [
    {
     "data": {
      "text/plain": [
       "30"
      ]
     },
     "execution_count": 130,
     "metadata": {},
     "output_type": "execute_result"
    }
   ],
   "source": [
    "len(job_listings)"
   ]
  },
  {
   "cell_type": "code",
   "execution_count": 134,
   "metadata": {},
   "outputs": [],
   "source": [
    "#job_listings[0]"
   ]
  },
  {
   "cell_type": "code",
   "execution_count": 140,
   "metadata": {},
   "outputs": [],
   "source": [
    "job_description_css = '.jobDescriptionContent'"
   ]
  },
  {
   "cell_type": "code",
   "execution_count": 294,
   "metadata": {},
   "outputs": [],
   "source": [
    "# soup.select(job_description_css)"
   ]
  },
  {
   "cell_type": "code",
   "execution_count": 54,
   "metadata": {},
   "outputs": [],
   "source": [
    "# first_posting = browser.find_element_by_css_selector('li.jl:nth-child(1)')\n",
    "\n",
    "# first_posting.click()\n",
    "\n",
    "# first_description = browser.find_element_by_css_selector(content)\n",
    "\n",
    "# #first_description.text\n",
    "\n",
    "# second_posting = browser.find_element_by_css_selector('li.jl:nth-child(2)')\n",
    "\n",
    "# second_posting.click()\n",
    "\n",
    "# content = '.jobDescriptionContent'\n",
    "\n",
    "# second_description = browser.find_element_by_css_selector(content)\n",
    "\n",
    "# #second_description.text\n",
    "\n",
    "# posting_list = ['li.jl:nth-child(1)', 'li.jl:nth-child(2)']\n",
    "# content_list = []"
   ]
  },
  {
   "cell_type": "code",
   "execution_count": 58,
   "metadata": {},
   "outputs": [],
   "source": [
    "# for i in range(2):\n",
    "#     posting = browser.find_element_by_css_selector(posting_list[i])\n",
    "#     posting.click()\n",
    "#     content = '.jobDescriptionContent'\n",
    "#     description = browser.find_element_by_css_selector(content)\n",
    "#     content_list.append(description.text)\n",
    "#     sleep()"
   ]
  },
  {
   "cell_type": "code",
   "execution_count": 63,
   "metadata": {},
   "outputs": [],
   "source": [
    "#content_list[2]"
   ]
  },
  {
   "cell_type": "code",
   "execution_count": 78,
   "metadata": {},
   "outputs": [],
   "source": [
    "# posting_css_list = []\n",
    "# for i in range(1, 31):\n",
    "#     posting_css_list.append('li.jl:nth-child(%d)' % i)"
   ]
  },
  {
   "cell_type": "code",
   "execution_count": 81,
   "metadata": {},
   "outputs": [],
   "source": [
    "url = 'https://www.glassdoor.com/index.htm'"
   ]
  },
  {
   "cell_type": "code",
   "execution_count": 105,
   "metadata": {},
   "outputs": [],
   "source": [
    "class get_job_descriptions():\n",
    "    def __init__(self, param=None):\n",
    "        self.param = param\n",
    "    \n",
    "    def fit(self, X, y):\n",
    "        return self\n",
    "    \n",
    "    def transform(self, X):\n",
    "        pass\n",
    "    \n",
    "    def sleep(self, start=5, end=15):\n",
    "        return time.sleep(random.randint(5, 15))\n",
    "    \n",
    "    def get_posting_css(self, n_postings=1):\n",
    "        posting_css_list = []\n",
    "        for i in range(1, n_postings):\n",
    "            posting_css_list.append('li.jl:nth-child(%d)' % i)\n",
    "        return posting_css_list\n",
    "    "
   ]
  },
  {
   "cell_type": "code",
   "execution_count": 118,
   "metadata": {},
   "outputs": [],
   "source": [
    "test_description = get_job_descriptions()"
   ]
  },
  {
   "cell_type": "code",
   "execution_count": 223,
   "metadata": {},
   "outputs": [],
   "source": [
    "list_of_pcss = test_description.get_posting_css(len(job_listings)+1)"
   ]
  },
  {
   "cell_type": "code",
   "execution_count": 255,
   "metadata": {},
   "outputs": [],
   "source": [
    "browser = Firefox()\n",
    "browser.get(url)\n",
    "test_description.sleep()\n",
    "keyword_css = '#KeywordSearch'\n",
    "keyword_search = browser.find_element_by_css_selector(keyword_css)\n",
    "keyword_search.click()\n",
    "test_description.sleep()\n",
    "keyword_search.send_keys('Data Scientist')\n",
    "search_css = '#HeroSearchButton'\n",
    "start_search = browser.find_element_by_css_selector(search_css)\n",
    "start_search.click()"
   ]
  },
  {
   "cell_type": "code",
   "execution_count": 295,
   "metadata": {},
   "outputs": [],
   "source": [
    "# list_of_pcss"
   ]
  },
  {
   "cell_type": "code",
   "execution_count": 199,
   "metadata": {},
   "outputs": [
    {
     "data": {
      "text/plain": [
       "'li.jl:nth-child(6)'"
      ]
     },
     "execution_count": 199,
     "metadata": {},
     "output_type": "execute_result"
    }
   ],
   "source": [
    "list_of_pcss[5]"
   ]
  },
  {
   "cell_type": "code",
   "execution_count": 178,
   "metadata": {},
   "outputs": [],
   "source": [
    "# description.text"
   ]
  },
  {
   "cell_type": "code",
   "execution_count": 190,
   "metadata": {},
   "outputs": [],
   "source": [
    "list_of_descriptions = []"
   ]
  },
  {
   "cell_type": "code",
   "execution_count": 186,
   "metadata": {},
   "outputs": [],
   "source": [
    "posting = browser.find_element_by_css_selector(list_of_pcss[0])\n",
    "posting.click()\n",
    "description = browser.find_element_by_css_selector('.jobDescriptionContent')"
   ]
  },
  {
   "cell_type": "code",
   "execution_count": 257,
   "metadata": {},
   "outputs": [],
   "source": [
    "for i in range(10, len(list_of_pcss)):\n",
    "    posting = browser.find_element_by_css_selector(list_of_pcss[i])\n",
    "    posting.click()\n",
    "    sleep()\n",
    "    content_css = '.jobDescriptionContent'\n",
    "    description = browser.find_element_by_css_selector(content_css)\n",
    "    list_of_descriptions.append(description.text)\n",
    "    sleep()"
   ]
  },
  {
   "cell_type": "code",
   "execution_count": 282,
   "metadata": {},
   "outputs": [
    {
     "data": {
      "text/plain": [
       "'li.jl:nth-child(5)'"
      ]
     },
     "execution_count": 282,
     "metadata": {},
     "output_type": "execute_result"
    }
   ],
   "source": [
    "list_of_pcss[4]"
   ]
  },
  {
   "cell_type": "code",
   "execution_count": 283,
   "metadata": {},
   "outputs": [],
   "source": [
    "sleep()"
   ]
  },
  {
   "cell_type": "code",
   "execution_count": 284,
   "metadata": {},
   "outputs": [],
   "source": [
    "posting = browser.find_element_by_css_selector(list_of_pcss[4])\n",
    "posting.click()\n",
    "sleep()\n",
    "content_css = '.jobDescriptionContent'\n",
    "description = browser.find_element_by_css_selector(content_css)\n",
    "list_of_descriptions.append(description.text)\n",
    "sleep()"
   ]
  },
  {
   "cell_type": "code",
   "execution_count": 285,
   "metadata": {},
   "outputs": [
    {
     "data": {
      "text/plain": [
       "30"
      ]
     },
     "execution_count": 285,
     "metadata": {},
     "output_type": "execute_result"
    }
   ],
   "source": [
    "len(list_of_descriptions)"
   ]
  },
  {
   "cell_type": "code",
   "execution_count": 286,
   "metadata": {},
   "outputs": [
    {
     "data": {
      "text/plain": [
       "'We are looking for talented Data Scientists to join the Machine Learning & Artificial Intelligence (ML/AI) team. You are a talented data scientist that is tired of applying basic statistical tools to yet another set of KPI’s. You are passionate about deriving creative solutions from imagery using cutting edge computer vision techniques and big data pipelines. You are excited about the analytical potential and challenges associated with processing petabytes of time-series imagery. You are intrigued by being a part of a collaborative team, spearheading ML/AI applications for realizing unprecedented, scalable products.\\n\\nPRIMARY RESPONSIBLITIES\\nHelp to aggregate, clean, and organize data for machine learning applications\\nCollaborate with scientists and engineers to develop/scale Python and similar algorithms to cloud environments\\nProcess raster and vector data using Python and OpenCV-like libraries for ingestion into neural nets\\nWork with the team to develop new techniques and capabilities using machine learning and neural networks\\nResearch and experiment new technologies that can improve algorithm applications\\nPython, R or similar language\\nExperience with Amazon AWS or comparable cloud processing\\nExperience with Linux-based command line environments\\nSQL knowledge\\nExperience with Neural Networks & predictive analytics (class projects are fine)\\nAbility to work independently & excellent communication skills\\nMinimum BA or BS in computer science, engineering or related field or equivalent work experience\\nWHAT DOESN’T DESCRIBE YOU:\\nA desire to only work on things you are most familiar with\\nFear of dynamically changing, uncertain, or unestablished requirements\\nA desire for explicit tasking on a daily basis\\nEagleView® Technologies offers competitive pay and robust benefit plans along with the opportunity to grow your career in a fast-paced, fun and casual environment.\\n\\nEagleView and its subsidiaries are committed to leveraging the talent of a diverse workforce to create great opportunities for our business and our people. EOE/AA. Minority/Female/Disability/Veteran.'"
      ]
     },
     "execution_count": 286,
     "metadata": {},
     "output_type": "execute_result"
    }
   ],
   "source": [
    "list_of_descriptions[29]"
   ]
  },
  {
   "cell_type": "code",
   "execution_count": 296,
   "metadata": {},
   "outputs": [],
   "source": [
    "vectorizer = TfidfVectorizer(stop_words='english')"
   ]
  },
  {
   "cell_type": "code",
   "execution_count": 302,
   "metadata": {},
   "outputs": [],
   "source": [
    "model = vectorizer.fit_transform(list_of_descriptions)"
   ]
  },
  {
   "cell_type": "code",
   "execution_count": 304,
   "metadata": {},
   "outputs": [],
   "source": [
    "tfidf_df = pd.DataFrame(model.toarray())"
   ]
  },
  {
   "cell_type": "code",
   "execution_count": 307,
   "metadata": {},
   "outputs": [
    {
     "data": {
      "text/plain": [
       "(30, 2705)"
      ]
     },
     "execution_count": 307,
     "metadata": {},
     "output_type": "execute_result"
    }
   ],
   "source": [
    "tfidf_df.shape"
   ]
  },
  {
   "cell_type": "code",
   "execution_count": 291,
   "metadata": {},
   "outputs": [],
   "source": [
    "# page_switcher = browser.find_element_by_css_selector('li.page:nth-child(3)')"
   ]
  },
  {
   "cell_type": "code",
   "execution_count": 292,
   "metadata": {},
   "outputs": [],
   "source": [
    "# page_switcher.click()"
   ]
  },
  {
   "cell_type": "code",
   "execution_count": 376,
   "metadata": {},
   "outputs": [],
   "source": [
    "browser = Firefox()"
   ]
  },
  {
   "cell_type": "code",
   "execution_count": 377,
   "metadata": {},
   "outputs": [],
   "source": [
    "browser.get('https://www.linkedin.com')"
   ]
  },
  {
   "cell_type": "code",
   "execution_count": 386,
   "metadata": {},
   "outputs": [],
   "source": [
    "search_field_css = '#ember41 > input:nth-child(1)'"
   ]
  },
  {
   "cell_type": "code",
   "execution_count": 387,
   "metadata": {},
   "outputs": [],
   "source": [
    "search_field = browser.find_element_by_css_selector(search_field_css)"
   ]
  },
  {
   "cell_type": "code",
   "execution_count": 388,
   "metadata": {},
   "outputs": [],
   "source": [
    "search_field.click()"
   ]
  },
  {
   "cell_type": "code",
   "execution_count": 389,
   "metadata": {},
   "outputs": [],
   "source": [
    "search_field.send_keys('chris doyle')"
   ]
  },
  {
   "cell_type": "code",
   "execution_count": 390,
   "metadata": {},
   "outputs": [],
   "source": [
    "search_button_css = '.search-typeahead-v2__button'"
   ]
  },
  {
   "cell_type": "code",
   "execution_count": 391,
   "metadata": {},
   "outputs": [],
   "source": [
    "search_button = browser.find_element_by_css_selector(search_button_css)"
   ]
  },
  {
   "cell_type": "code",
   "execution_count": 392,
   "metadata": {},
   "outputs": [],
   "source": [
    "search_button.click()"
   ]
  },
  {
   "cell_type": "code",
   "execution_count": 382,
   "metadata": {},
   "outputs": [],
   "source": [
    "# li_html = browser.page_source"
   ]
  },
  {
   "cell_type": "code",
   "execution_count": 374,
   "metadata": {},
   "outputs": [],
   "source": [
    "# soup = BeautifulSoup(li_html, 'html.parser')"
   ]
  },
  {
   "cell_type": "code",
   "execution_count": 393,
   "metadata": {},
   "outputs": [],
   "source": [
    "summary_showmore_css = '.pv-top-card-section__summary-toggle-button'\n",
    "experience_showmore_css = '#ember1599 > button:nth-child(1)'\n",
    "skills_showmore_css = 'button.pv-profile-section__card-action-bar:nth-child(1)'\n",
    "recommendations_css = '#ember1714'"
   ]
  },
  {
   "cell_type": "code",
   "execution_count": 396,
   "metadata": {},
   "outputs": [],
   "source": [
    "def click(css):\n",
    "    element = browser.find_element_by_css_selector(css)\n",
    "    element.click()"
   ]
  },
  {
   "cell_type": "code",
   "execution_count": 397,
   "metadata": {},
   "outputs": [],
   "source": [
    "click(summary_showmore_css)"
   ]
  },
  {
   "cell_type": "code",
   "execution_count": 405,
   "metadata": {},
   "outputs": [],
   "source": [
    "click(experience_showmore_css)"
   ]
  },
  {
   "cell_type": "code",
   "execution_count": 406,
   "metadata": {},
   "outputs": [],
   "source": [
    "click(skills_showmore_css)"
   ]
  },
  {
   "cell_type": "code",
   "execution_count": 407,
   "metadata": {},
   "outputs": [],
   "source": [
    "click(recommendations_css)"
   ]
  },
  {
   "cell_type": "code",
   "execution_count": null,
   "metadata": {},
   "outputs": [],
   "source": [
    "class scrape_profile():\n",
    "    def __init__(self, param=None):\n",
    "        self.param = param\n",
    "    \n",
    "    def expand():\n",
    "        "
   ]
  },
  {
   "cell_type": "code",
   "execution_count": 398,
   "metadata": {},
   "outputs": [],
   "source": [
    "# summary_css = '#ember1447'"
   ]
  },
  {
   "cell_type": "code",
   "execution_count": 408,
   "metadata": {},
   "outputs": [],
   "source": [
    "# experience_css = '.pv-profile-section__section-info--has-more'"
   ]
  },
  {
   "cell_type": "code",
   "execution_count": 411,
   "metadata": {},
   "outputs": [],
   "source": [
    "def scrape_element(css):\n",
    "    content = []\n",
    "    find_content = browser.find_element_by_css_selector(css)\n",
    "    content.append(find_content.text)\n",
    "    return content"
   ]
  },
  {
   "cell_type": "code",
   "execution_count": 403,
   "metadata": {},
   "outputs": [],
   "source": [
    "# summary = scrape_element(summary_css)"
   ]
  },
  {
   "cell_type": "code",
   "execution_count": 404,
   "metadata": {},
   "outputs": [
    {
     "data": {
      "text/plain": [
       "['At any level, in any company, my motivation is always the same.\\n\\nMelville said it best: \"I am tormented by an everlasting itch for things remote.\" In business I translate this as a never ending drive for change. I see disruption of the normal as the best way forward, always.\\n\\nMy teams are encouraged, cajoled, and ultimately driven to different ways of thinking. Average, standard, and usual are never words used to describe the work I participate in.\\n\\nPassionate about collaboration and agile methodologies, I refuse to believe a thing cannot be improved. I strive to keep myself surrounded by people smarter than me who are not afraid to express opinions and call me out on mine.\\n\\nI have a diverse background in leadership, software development, business technology, and project management. In all these areas I have experimented constantly. My least successful endeavors have been those where I did not question the process, but merely played along.\\n\\nI have a proven track record overseeing complex operations. I thrive on managing multiple, overlapping projects with shared resources and constrained budgets. Motivating disparate teams across both geographical and disciplinary distances pushes me to always find better, faster, more efficient ways to succeed.\\n\\nI\\'m highly motivated, immensely ethical, and never willing to give up.\\n\\nThis is me today, but change is always in the air and tomorrow I might be something different. Change is hard, but it keeps us alive and young. I can\\'t think of anything more enticing.']"
      ]
     },
     "execution_count": 404,
     "metadata": {},
     "output_type": "execute_result"
    }
   ],
   "source": [
    "# summary"
   ]
  },
  {
   "cell_type": "code",
   "execution_count": 426,
   "metadata": {},
   "outputs": [],
   "source": [
    "li_page_source = browser.page_source"
   ]
  },
  {
   "cell_type": "code",
   "execution_count": 427,
   "metadata": {},
   "outputs": [],
   "source": [
    "soup = BeautifulSoup(li_page_source, 'html.parser')"
   ]
  },
  {
   "cell_type": "code",
   "execution_count": null,
   "metadata": {},
   "outputs": [],
   "source": []
  },
  {
   "cell_type": "code",
   "execution_count": null,
   "metadata": {},
   "outputs": [],
   "source": []
  },
  {
   "cell_type": "code",
   "execution_count": 593,
   "metadata": {},
   "outputs": [
    {
     "data": {
      "text/plain": [
       "3"
      ]
     },
     "execution_count": 593,
     "metadata": {},
     "output_type": "execute_result"
    }
   ],
   "source": [
    "showmores = browser.find_elements_by_class_name('pv-profile-section__card-action-bar')\n",
    "len(showmores)"
   ]
  },
  {
   "cell_type": "code",
   "execution_count": 594,
   "metadata": {},
   "outputs": [],
   "source": [
    "sleep()\n",
    "for i in range(len(showmores)-1):\n",
    "    sleep()\n",
    "    showmores[i].click()\n",
    "    sleep()"
   ]
  },
  {
   "cell_type": "code",
   "execution_count": null,
   "metadata": {},
   "outputs": [],
   "source": []
  },
  {
   "cell_type": "code",
   "execution_count": 596,
   "metadata": {},
   "outputs": [],
   "source": [
    "sleep()\n",
    "experience_button = browser.find_element_by_class_name('pv-profile-section__see-more-inline')\n",
    "experience_button.click()\n",
    "sleep()"
   ]
  },
  {
   "cell_type": "code",
   "execution_count": null,
   "metadata": {},
   "outputs": [],
   "source": []
  },
  {
   "cell_type": "code",
   "execution_count": 597,
   "metadata": {},
   "outputs": [
    {
     "data": {
      "text/plain": [
       "10"
      ]
     },
     "execution_count": 597,
     "metadata": {},
     "output_type": "execute_result"
    }
   ],
   "source": [
    "seemores = browser.find_elements_by_link_text('See more')\n",
    "len(seemores)"
   ]
  },
  {
   "cell_type": "code",
   "execution_count": 598,
   "metadata": {},
   "outputs": [],
   "source": [
    "sleep()\n",
    "for link in seemores:\n",
    "    sleep()\n",
    "    link.click()\n",
    "    sleep()"
   ]
  },
  {
   "cell_type": "code",
   "execution_count": null,
   "metadata": {},
   "outputs": [],
   "source": []
  },
  {
   "cell_type": "code",
   "execution_count": null,
   "metadata": {},
   "outputs": [],
   "source": []
  },
  {
   "cell_type": "code",
   "execution_count": 602,
   "metadata": {},
   "outputs": [],
   "source": [
    "sleep()\n",
    "recommendation_button = browser.find_element_by_class_name('pv-profile-section__see-more-inline')\n",
    "recommendation_button.click()\n",
    "sleep()"
   ]
  },
  {
   "cell_type": "code",
   "execution_count": null,
   "metadata": {},
   "outputs": [],
   "source": []
  },
  {
   "cell_type": "code",
   "execution_count": 603,
   "metadata": {},
   "outputs": [],
   "source": [
    "summary = []"
   ]
  },
  {
   "cell_type": "code",
   "execution_count": 604,
   "metadata": {},
   "outputs": [],
   "source": [
    "find_summary = browser.find_element_by_class_name('pv-top-card-section__summary-text')"
   ]
  },
  {
   "cell_type": "code",
   "execution_count": 605,
   "metadata": {},
   "outputs": [],
   "source": [
    "summary.append(find_summary.text)"
   ]
  },
  {
   "cell_type": "code",
   "execution_count": 606,
   "metadata": {},
   "outputs": [
    {
     "data": {
      "text/plain": [
       "['At any level, in any company, my motivation is always the same.\\n\\nMelville said it best: \"I am tormented by an everlasting itch for things remote.\" In business I translate this as a never ending drive for change. I see disruption of the normal as the best way forward, always.\\n\\nMy teams are encouraged, cajoled, and ultimately driven to different ways of thinking. Average, standard, and usual are never words used to describe the work I participate in.\\n\\nPassionate about collaboration and agile methodologies, I refuse to believe a thing cannot be improved. I strive to keep myself surrounded by people smarter than me who are not afraid to express opinions and call me out on mine.\\n\\nI have a diverse background in leadership, software development, business technology, and project management. In all these areas I have experimented constantly. My least successful endeavors have been those where I did not question the process, but merely played along.\\n\\nI have a proven track record overseeing complex operations. I thrive on managing multiple, overlapping projects with shared resources and constrained budgets. Motivating disparate teams across both geographical and disciplinary distances pushes me to always find better, faster, more efficient ways to succeed.\\n\\nI\\'m highly motivated, immensely ethical, and never willing to give up.\\n\\nThis is me today, but change is always in the air and tomorrow I might be something different. Change is hard, but it keeps us alive and young. I can\\'t think of anything more enticing.']"
      ]
     },
     "execution_count": 606,
     "metadata": {},
     "output_type": "execute_result"
    }
   ],
   "source": [
    "summary"
   ]
  },
  {
   "cell_type": "code",
   "execution_count": null,
   "metadata": {},
   "outputs": [],
   "source": []
  },
  {
   "cell_type": "code",
   "execution_count": 607,
   "metadata": {},
   "outputs": [],
   "source": [
    "experience = []"
   ]
  },
  {
   "cell_type": "code",
   "execution_count": 608,
   "metadata": {},
   "outputs": [],
   "source": [
    "find_experience = browser.find_element_by_id('oc-background-section')"
   ]
  },
  {
   "cell_type": "code",
   "execution_count": 609,
   "metadata": {},
   "outputs": [],
   "source": [
    "experience.append(find_experience.text)"
   ]
  },
  {
   "cell_type": "code",
   "execution_count": 610,
   "metadata": {},
   "outputs": [
    {
     "data": {
      "text/plain": [
       "[\"Experience\\nCompany Name\\nE Source\\nTotal Duration\\n4 yrs 5 mos\\nTitle\\nChief Operating Officer\\nDates Employed\\nApr 2015 – Oct 2018\\nEmployment Duration\\n3 yrs 7 mos\\nLocation\\nBoulder\\n\\uf0a7 Drove a diverse set of stakeholders across the company to rely more heavily on data analytics, customer feedback, and truly objective metrics to define product creation and delivery.\\n\\uf0a7 Defined and enforced rigid data and process governance to assure accuracy, currency, and value of all data sources.\\n\\uf0a7 Continued to provide leadership and real-time direction to all project work across Software Development, Business Technology, and Facilities.\\n\\uf0a7 Consistently built and nurtured highly successful teams across multiple disciplines.\\n\\uf0a7 Coordinated with all department leaders to build efficient, cross-team efforts around product creation, delivery, and maintenance.\\n\\uf0a7 Led seven disparate teams and coordinated with all other departments.\\n\\uf0a7 Maintained an Agile-focused environment across all company initiatives.\\n\\uf0a7 Placed employee growth, challenge, and success ahead of all other considerations. Our people are our product.\\n\\uf0a7 Remained ever willing to change, adapt, and grow in our engagement, product development, and culture.\\n\\uf0a7 Interacted daily with Finance, Sales, Marketing, Market Research, and Consulting groups in addition to my teams to maintain a consistent direction company-wide.\\n\\uf0a7 Approved and supported budgets for the entire $20 million-dollar operation. This included direct responsibility for seven operational expense budgets totaling nearly $8 million.\\n\\uf0a7 Oversaw the cultural, professional, and collaborative growth of 93 full and part-time employees, ten of them remote.\\nSee less\\nTitle\\nChief Technology Officer\\nDates Employed\\nJun 2014 – Oct 2018\\nEmployment Duration\\n4 yrs 5 mos\\n\\uf0a7 Maintained highly trained technical teams across Business Technology, Software Development, Business Intelligence, and Project Management.\\n\\uf0a7 Created and operated from detailed project plans for both internal and external endeavors. No project proceeded without strong ROI and resource availability confirmed.\\n\\uf0a7 Drove appropriate and continuous professional development across all teams to assure currency in our technological and analytical endeavors.\\n\\uf0a7 Enforced a “data first” approach to product development and customer engagement across all company departments.\\n\\uf0a7 Built automation into every action of all departments. Never do anything manually twice.\\n\\uf0a7 Championed the use of agile methodologies even outside the technical teams.\\n\\uf0a7 Maintained a strong focus on cross-team collaboration based on technological solutions.\\nSee less\\nSoftware Development Manager\\nCompany Name\\nEnserca Engineering\\nDates Employed\\nOct 2013 – Jun 2014\\nEmployment Duration\\n9 mos\\n\\uf0a7 Reimagined the focus and functionality of the internal PM tools. Designed new features, better functionality, and more intuitive processes around business goals.\\n\\uf0a7 Engaged internal and external customers and partners in better understanding needed outcomes, costs, and schedules related to both the development and utilization of PM software.\\n\\uf0a7 Migrated the existing team from Java to Ruby and added additional resources to round out the skill sets of the team.\\n\\uf0a7 Instituted aggressive, Agile development practices involving all team members in both design and development.\\n\\uf0a7 Developed peer/stakeholder review and regularly scheduled training as integral steps in the development process.\\n\\uf0a7 Mandated test-driven development, UI experimentation, heavy AJAX integration for both improved user experience and increased performance.\\n\\uf0a7 Developed a continuous deployment process across development/staging/production servers.\\n\\uf0a7 Wrote, tested, and deployed code with the team every day.\\nSee less\\nCo-Founder\\nCompany Name\\nFunding Launchpad\\nDates Employed\\nJan 2012 – Aug 2013\\nEmployment Duration\\n1 yr 8 mos\\nLocation\\nBoulder, Colorado\\n\\uf0a7 Educated the other principals on the possibilities and constraints of various product\\napproaches.\\n\\uf0a7 Initiated TDD procedures for rapid development and deployment of products.\\n\\uf0a7 Developed the initial system with Ruby on Rails, jQuery, and PostgreSQL.\\n\\uf0a7 Acquired and mentored development resources for the entire development stack.\\n\\uf0a7 Communicated with investors and clients on technical issues.\\n\\uf0a7 Worked with the other principals on company vision and strategic planning.\\nSee less\\nDirector of Software Services\\nCompany Name\\nAscend Analytics\\nDates Employed\\nMar 2012 – Apr 2013\\nEmployment Duration\\n1 yr 2 mos\\nLocation\\nBoulder, Colorado\\n\\uf0a7 Changed management style from command and control to collaborative.\\n\\uf0a7 Altered team structure to create specialty groups that adhered to the “single\\nresponsibility” principle.\\n\\uf0a7 Improved client communications by altering the message to be less adversarial.\\n\\uf0a7 Shortened delivery schedules by involving clients more thoroughly in the\\nimplementation process.\\n\\uf0a7 Supported sales efforts through direct client communication, software demonstration,\\nand stronger project management at the beginning of projects.\\n\\uf0a7 Sat on the Senior Management Team and was active in strategic, budget, and growth\\ndecisions for the company.\\nSee less\\nPrincipal\\nCompany Name\\nRandomSPACE, LLC\\nDates Employed\\nAug 2002 – Mar 2012\\nEmployment Duration\\n9 yrs 8 mos\\nLocation\\nBoulder, CO\\n\\uf0a7 Founded the project management consultancy focused on the construction industry and grew it to over $5 million in annual revenue.\\n\\uf0a7 Specialized in process improvement through technology and efficiency engineering.\\n\\uf0a7 Created project management processes that were used to manage the entire lifecycle from design through client occupancy.\\n\\uf0a7 Maintained resources, schedules, and projects through custom online service.\\n\\uf0a7 Doubled revenue each year through 2008.\\n\\uf0a7 Managed multiple trades and suppliers across multiple concurrent projects.\\n\\uf0a7 Coordinated construction loan activities and managed bank funding on numerous projects for both homeowners and contractors.\\n\\uf0a7 Helped contractors create and deliver weekly status updates to clients including scheduling updates, budget updates, and planning for future work.\\n\\uf0a7 Developed online tools with PHP/MySQL/Linux.\\nSee less\\nChief Information Officer\\nCompany Name\\nFinancial Times Energy\\nDates Employed\\nJan 1999 – Oct 2001\\nEmployment Duration\\n2 yrs 10 mos\\nLocation\\nBoulder, CO\\n\\uf0a7 Responsible for the ongoing implementation of Oracle Business Systems including 11i\\nFinancials, Order Management, CRM and e-commerce.\\n\\uf0a7 Migrated software development efforts away from 4GL development and into n-tier\\ndistributed development utilizing pure Java, Oracle 9i, and various application\\nservers.\\n\\uf0a7 Oversaw the development of the company’s first real-time data delivery system built on\\na three-tier Java platform.\\n\\uf0a7 Managed the design and deployment of a structured project management approach\\nused to streamline product development.\\n\\uf0a7 Directed the design and deployment of a global network to provide secure connectivity between all domestic locations.\\nOrchestrated and managed the build-out of a new 30,000 square foot office space including full network implementation, wireless infrastructure, media resources, and secure server space.\\n\\uf0a7 Held budgetary responsibility for six separate departments that made up the\\nInformation Technology division. Annual budget exceeded $4 million.\\n\\uf0a7 Managed 40 employees and contract workers across these departments.\\n\\uf0a7 Implemented successful incentive plans for maintaining strong employee involvement.\\n\\uf0a7 Provided ongoing management training to direct reports and maintained an open, team\\ndriven management style across the entire division.\\nSee less\\nCompany Name\\nResource Data International\\nTotal Duration\\n7 yrs 6 mos\\nTitle\\nDirector of Software Development\\nDates Employed\\nJan 1997 – Dec 1999\\nEmployment Duration\\n3 yrs\\nLocation\\nBoulder, CO\\n\\uf0a7 Developed initial web offerings, first with static HTML and later through dynamic pages created through Microsoft’s Active Server Pages.\\n\\uf0a7 Began the migration of software development from single-vendor desktop tools to open source, distributed architecture.\\n\\uf0a7 Rebuilt the software development group, replacing stagnant resources with more experienced, innovative talent.\\n\\uf0a7 Interfaced heavily with the product development groups to determine best practices for software development going forward.\\n\\uf0a7 Introduced opportunities for desktop applications to integrate with online offerings to expand the coverage of the existing product line.\\nSee less\\nTitle\\nDirector of Network Services\\nDates Employed\\nJan 1993 – Dec 1999\\nEmployment Duration\\n7 yrs\\nLocation\\nBoulder, CO\\n\\uf0a7 Designed and deployed the company's initial Novell network and later managed the migration to Windows NT.\\n\\uf0a7 Introduced the company to email and implemented original systems.\\n\\uf0a7 Managed initial connectivity to the Internet and implemented initial web interfaces.\\n\\uf0a7 Built Network Services organization up from one person to a team of six.\\n\\uf0a7 Maintained budgetary responsibility for all capital expenditures.\\nSee less\\nTitle\\nSoftware Engineer\\nDates Employed\\nJul 1992 – Dec 1997\\nEmployment Duration\\n5 yrs 6 mos\\nLocation\\nBoulder, CO\\n\\uf0a7 Developed and implemented strategies for making desktop applications “network aware.”\\n\\uf0a7 Developed custom installation software for network applications.\\n\\uf0a7 Assisted in the design and development of two of the company’s initial product offerings.\\n\\uf0a7 Implemented network connectivity features on all commercial products.\\n\\uf0a7 Designed and developed installation and maintenance software.\\nSee less\\nShow fewer roles\\nShow fewer experiences\"]"
      ]
     },
     "execution_count": 610,
     "metadata": {},
     "output_type": "execute_result"
    }
   ],
   "source": [
    "experience"
   ]
  },
  {
   "cell_type": "code",
   "execution_count": null,
   "metadata": {},
   "outputs": [],
   "source": []
  },
  {
   "cell_type": "code",
   "execution_count": 612,
   "metadata": {},
   "outputs": [],
   "source": [
    "skills = []"
   ]
  },
  {
   "cell_type": "code",
   "execution_count": 614,
   "metadata": {},
   "outputs": [],
   "source": [
    "find_skills = browser.find_element_by_class_name('pv-skill-categories-section')"
   ]
  },
  {
   "cell_type": "code",
   "execution_count": 615,
   "metadata": {},
   "outputs": [],
   "source": [
    "skills.append(find_skills.text)"
   ]
  },
  {
   "cell_type": "code",
   "execution_count": 616,
   "metadata": {},
   "outputs": [
    {
     "data": {
      "text/plain": [
       "['Skills & Endorsements\\nProject Management\\nSee 47 endorsements for Project Management\\n47\\nEndorsed by Amy B. Doyle and 1 other mutual connection\\nEndorsed by 4 of Chris’ colleagues at E Source\\nManagement\\nSee 42 endorsements for Management\\n42\\nEndorsed by Connor Doyle (mutual connection)\\nEndorsed by 6 of Chris’ colleagues at E Source\\nSoftware Development\\nSee 39 endorsements for Software Development\\n39\\nEndorsed by Oksana Lien, who is highly skilled at this\\nEndorsed by Michelle Hernandez Lane and 3 other mutual connections\\nIndustry Knowledge\\nSoftware Project Management\\nSee 37 endorsements for Software Project Management\\n37\\nStrategy\\nSee 31 endorsements for Strategy\\n31\\nStart-ups\\nSee 23 endorsements for Start-ups\\n23\\nWeb Development\\nSee 18 endorsements for Web Development\\n18\\nCRM\\nSee 16 endorsements for CRM\\n16\\nAgile Methodologies\\nSee 15 endorsements for Agile Methodologies\\n15\\nScrum\\nSee 14 endorsements for Scrum\\n14\\nProduct Management\\nSee 10 endorsements for Product Management\\n10\\nAnalytics\\nSee 10 endorsements for Analytics\\n10\\nIT Management\\nSee 8 endorsements for IT Management\\n8\\nProfessional Services\\nSee 8 endorsements for Professional Services\\n8\\nEntrepreneurship\\nSee 7 endorsements for Entrepreneurship\\n7\\nBusiness Strategy\\nSee 6 endorsements for Business Strategy\\n6\\nAnalysis\\nSee 6 endorsements for Analysis\\n6\\nIntegration\\nSee 5 endorsements for Integration\\n5\\nStrategic Planning\\nSee 5 endorsements for Strategic Planning\\n5\\nProcess Improvement\\nSee 4 endorsements for Process Improvement\\n4\\nData Analysis\\nSee 4 endorsements for Data Analysis\\n4\\nSoftware Engineering\\nSee 3 endorsements for Software Engineering\\n3\\nProduct Development\\nSee 3 endorsements for Product Development\\n3\\nBusiness Analysis\\nSee 3 endorsements for Business Analysis\\n3\\nMobile Applications\\nSee 2 endorsements for Mobile Applications\\n2\\nTesting\\nSee 2 endorsements for Testing\\n2\\nCloud Computing\\nSee 2 endorsements for Cloud Computing\\n2\\nAgile Project Management\\nSee 1 endorsement for Agile Project Management\\n1\\nBusiness Intelligence\\nSee 1 endorsement for Business Intelligence\\n1\\nWeb Applications\\nSee 1 endorsement for Web Applications\\n1\\nMobile Devices\\nSee 1 endorsement for Mobile Devices\\n1\\nTest Driven Development\\nSoftware Design\\nTools & Technologies\\nSaaS\\nSee 9 endorsements for SaaS\\n9\\nSQL\\nSee 7 endorsements for SQL\\n7\\nEnterprise Software\\nSee 5 endorsements for Enterprise Software\\n5\\nPostgreSQL\\nSee 2 endorsements for PostgreSQL\\n2\\njQuery\\nSee 1 endorsement for jQuery\\n1\\nOpen Source\\nSee 1 endorsement for Open Source\\n1\\nAmazon Web Services (AWS)\\nSee 1 endorsement for Amazon Web Services (AWS)\\n1\\nRuby on Rails\\nInterpersonal Skills\\nLeadership\\nSee 20 endorsements for Leadership\\n20\\nTeam Leadership\\nSee 13 endorsements for Team Leadership\\n13\\nTeam Management\\nSee 2 endorsements for Team Management\\n2\\nExecutive Management\\nSee 1 endorsement for Executive Management\\n1\\nOther Skills\\nWhat is Other category?\\nNetworking\\nSee 7 endorsements for Networking\\n7\\nCoffeeScript\\nHAML\\nShow less\\nShow only Chris’ featured skills']"
      ]
     },
     "execution_count": 616,
     "metadata": {},
     "output_type": "execute_result"
    }
   ],
   "source": [
    "skills"
   ]
  },
  {
   "cell_type": "code",
   "execution_count": null,
   "metadata": {},
   "outputs": [],
   "source": []
  },
  {
   "cell_type": "code",
   "execution_count": 611,
   "metadata": {},
   "outputs": [],
   "source": [
    "recommendations = []"
   ]
  },
  {
   "cell_type": "code",
   "execution_count": 617,
   "metadata": {},
   "outputs": [],
   "source": [
    "find_recommendations = browser.find_element_by_class_name('pv-recommendations-section')"
   ]
  },
  {
   "cell_type": "code",
   "execution_count": 618,
   "metadata": {},
   "outputs": [],
   "source": [
    "recommendations.append(find_recommendations.text)"
   ]
  },
  {
   "cell_type": "code",
   "execution_count": 619,
   "metadata": {},
   "outputs": [
    {
     "data": {
      "text/plain": [
       "['Ask for a recommendation\\nRecommend Chris\\nRecommendations\\nReceived (13)\\nGiven (10)\\nKeith Aubin\\nSr. Director of Development at Ascend Analytics\\nJuly 6, 2013, Keith worked with Chris in different groups\\nChris has a keen business sense of what should and should not be done in a software company at a high level, and the technical know-how to understand the software development process and all of its complex details. Chris came in as a fresh face to both his team and the company. He was able to take a morale challenged team and turn them around quickly by assessing and addressing the relevant challenges. This accomplishment was just the first of many examples that demonstrated his ability to quickly grasp the core issues at hand and take the appropriate actions to rectify them regardless of the difficulty or popularity of those actions. Additionally, Chris was good to work with and is always a pleasure to talk to. I give him my full recommendation.\\nSimon Taranto\\n👋 Software Engineer | Product Builder\\nJune 27, 2013, Simon reported directly to Chris\\nChris was an engaged and approachable manager. From his broad industry experiences to software expertise I learned something new from every conversation I had with him. Chris excels at managing technical teams working on multiple complex projects and is a true pleasure to work with.\\nAndrew Tracy\\nSoftware Engineer at Seegrid\\nMay 16, 2013, Andrew reported directly to Chris\\nI was glad to be managed by Chris while working at Ascend Analytics. Chris excelled at managing projects, had the technical skills necessary to produce an effective software product, and inspired those around him with his own enthusiasm. At an early stage in my professional career, he was an excellent role model.\\n\\nChris was very good at collaborating with others inside the company to accomplish what needed to be done. He was equally effective at listening to others\\' ideas and expressing his own. Chris, more than anyone else at the company, took the interest of his fellow employees to mind when making decisions. He also handled client relationships very well was instrumental in maintaining a number of critical accounts.\\n\\nChris gave me the opportunity to express ideas for a number of projects that I envisioned and made sure I had the resources I needed to see them through to completion, including a time-management tool and a software testing framework.\\n\\nI would highly recommend Chris.\\nAmy Fowler Stadler\\nClient Executive/Managing Partner/Founder/Visionary Technology Executive, Transformation Leader\\nMay 3, 2013, Amy worked with Chris but at different companies\\nChris and I worked together on a large program effort for several Pacific Northwest customers. While the program had many challenges, I felt Chris worked with my team in a very professional and capable manner. Chris always tried to negotiate positive solutions and outcomes for all parties involved. Chris worked with his technology team to drive results and customer service. I would work with Chris again in a heartbeat.\\nSteve Reaser\\nFounder, Scratch Labs\\nApril 30, 2013, Chris worked with Steve in the same group\\nIt\\'s rare to find someone who can build and manage a high-performing technical team who just happens to also be able to architect and program complex software systems... but that\\'s what you get in Chris Doyle.\\n\\nIn our work at Funding Launchpad / Vim Funding we were creating a platform from scratch with little in the way of resources or pre-built design specs. Chris was able to help us organize our requirements, architect a robust system, and iterate the platform rapidly as we learned from early customers. He is an expert at planning ahead without over-engineering, and was always easy to communicate with -- not always the case with highly technical folks.\\n\\nIn a nutshell: if I were building my dream team Chris is absolutely one of the people I would want on board.\\nNatasha Whitney\\nSoftware Engineer\\nApril 21, 2013, Natasha reported directly to Chris\\nI had the pleasure of reporting directly to Chris at Ascend Analytics. Chris came on board and became effective as Director of Software Services almost immediately, quickly familiarizing himself with the particulars of each project and developing actionable and achievable directives for them and for the Services team at large. For example, Chris implemented Services Scrum activities, requiring each team-member to complete one weekly task that improved operations for the whole team. Chris also prioritized involvement and feedback, frequently touching base with each individual about their ongoing responsibilities as well as establishing a relationship with the primary contacts for each project early on. With Chris\\' feedback and direction, I was able to streamline the projects that I was working on as well as improve the overall service that I provided.\\nDave Milliken\\nI grow brands. From startup through Fortune 500 I have a track record of driving sales and brand equity growth.\\nApril 19, 2013, Dave worked with Chris in different groups\\nChris is a dynamic contributor to any technical team. Not only is he an excellent programmer and manager of technical people, he also has an exceptional mind for business. So much so I never hesitated putting Chris in front of potential clients or including him in vital strategic decisions.\\nShane Fleenor\\nAttorney at Rubicon Law\\nApril 18, 2013, Chris worked with Shane in the same group\\nI couldn\\'t have hoped for a better co-founder than Chris. He has a tireless work effort (seriously, he never seems to sleep). He is one of those rare souls who understands both the technical/code side of the business, and the \"business\" side of the business. He can manage a team of developers, or give a presentation to clients and business partners -- and absolutely excel at both. And on top of all that, he\\'s just a great guy (he helped me install some shelves at my apartment after a team meeting one day), and fun to be around/grab a beer after work with. He\\'d be an asset to any organization lucky enough to have him.\\nMichael Gadsden\\nDirector at Cornerstone Financial Advisors, LLC\\nApril 18, 2013, Michael reported directly to Chris\\nI had the pleasure of working under Chris\\'s management at Ascend Analytics. He is a charismatic and effective team leader who inspired the group to pursue creative ideas to solve complex issues. He has an entrepreneurial and pragmatic attitude, and he is not afraid to speak his mind - or even ruffle some feathers on occasion - to get the work done and impact positive change. He was a true advocate for his employees\\' well-being, and he took great care to connect with each and every person on both a professional and a personal level. On top of his strong managerial and leadership capabilities, Chris is a talented software developer and an experienced IT professional. I strongly recommend Chris Doyle as a manager and a friend.\\nGalen Brown\\nSenior Quantitative Analyst\\nApril 16, 2013, Galen reported directly to Chris\\nChris is a driven and strategic manager, whom I have enjoyed working under for the past year. Chris has always put an emphasis on communicating with me, both the immediate directives at hand, and the larger vision of projects and the company--which gives me great confidence and direction to accomplish the objectives. I can always count on him for honest and direct feedback, both positive and negative, from which I have learned how to better myself, and conduct business in general. I owe a debt of gratitude to Chris for his mentorship.\\nDavid Leevan\\nManaging Director at cQuant.io\\nApril 1, 2013, David worked with Chris in different groups\\nI had the pleasure of working with Chris at Ascend Analytics. Chris has a unique skill set that adapts easily to technical management, product development, software implementation and team leadership.\\n\\nAt Ascend, Chris was asked to stabilize a chaotic and inefficient client services team as well as take charge of important client relationships. Chris successfully improved the operation and outcomes in both areas. I highly recommend Chris for his leadership, management and software expertise.\\nBill Townsend\\nCEO Live Power\\nFebruary 13, 2012, Bill worked with Chris in different groups\\nI have worked with Chris in a number of different roles over the past 10 years. He is a intelligence, organized and tenacious guy who can manage multiple projects and teams at the same time. His enthusiasm is contagious and I always get a positive energy from working with him on building a new vision of where we want to go as well as working alongside him in the trenches. I\\'d work with Chris again in heartbeat.\\nAri Gluck\\nTechnology Consultant and Strategist\\nAugust 16, 2011, Ari reported directly to Chris\\nI worked under Chris\\' supervision during the late 1990s dot come boom, when good help was hard to find, and good technology managers were even rarer. He is still the standard I compare others to in many areas. In particular, his ability to think and act strategically to achieve long term goals, as well as his ability to delegate and motivate his team to focus on those goals was exceptional (almost freakish). His communications were clear and honest, whether in praise or critical, and it led to a very effective, and cooperative working environment. He showed excellent adaptability, as his job function, team, and the entire nature of the technology industry was going berserk around us.\\nChris showed enormous integrity and leadership throughout the time I worked with him, and I highly recommend him.']"
      ]
     },
     "execution_count": 619,
     "metadata": {},
     "output_type": "execute_result"
    }
   ],
   "source": [
    "recommendations"
   ]
  },
  {
   "cell_type": "code",
   "execution_count": 620,
   "metadata": {},
   "outputs": [],
   "source": [
    "# position_entities = soup.select('.pv-position-entity')"
   ]
  },
  {
   "cell_type": "code",
   "execution_count": 621,
   "metadata": {},
   "outputs": [],
   "source": [
    "# position_entities[0].text"
   ]
  },
  {
   "cell_type": "code",
   "execution_count": null,
   "metadata": {},
   "outputs": [],
   "source": [
    "no_words = [\"\"]"
   ]
  },
  {
   "cell_type": "code",
   "execution_count": 648,
   "metadata": {},
   "outputs": [],
   "source": [
    "skills_list = skills[0].split('\\n')"
   ]
  },
  {
   "cell_type": "code",
   "execution_count": 658,
   "metadata": {},
   "outputs": [],
   "source": [
    "lowercase_skills_list = [elem.lower() for elem in skills_list]"
   ]
  },
  {
   "cell_type": "code",
   "execution_count": 662,
   "metadata": {},
   "outputs": [],
   "source": [
    "noendorse_skills_list = [elem for elem in lowercase_skills_list if \"endorse\" not in elem]"
   ]
  },
  {
   "cell_type": "code",
   "execution_count": 663,
   "metadata": {},
   "outputs": [],
   "source": [
    "nonumbers_skills_list = [elem for elem in noendorse_skills_list if not elem.isdigit()]"
   ]
  },
  {
   "cell_type": "code",
   "execution_count": 665,
   "metadata": {},
   "outputs": [
    {
     "data": {
      "text/plain": [
       "55"
      ]
     },
     "execution_count": 665,
     "metadata": {},
     "output_type": "execute_result"
    }
   ],
   "source": [
    "len(nonumbers_skills_list)"
   ]
  },
  {
   "cell_type": "code",
   "execution_count": 670,
   "metadata": {},
   "outputs": [
    {
     "ename": "TypeError",
     "evalue": "'in <string>' requires string as left operand, not tuple",
     "output_type": "error",
     "traceback": [
      "\u001b[0;31m---------------------------------------------------------------------------\u001b[0m",
      "\u001b[0;31mTypeError\u001b[0m                                 Traceback (most recent call last)",
      "\u001b[0;32m<ipython-input-670-391f77e1fa04>\u001b[0m in \u001b[0;36m<module>\u001b[0;34m()\u001b[0m\n\u001b[0;32m----> 1\u001b[0;31m \u001b[0mclean_skills_list\u001b[0m \u001b[0;34m=\u001b[0m \u001b[0;34m[\u001b[0m\u001b[0melem\u001b[0m \u001b[0;32mfor\u001b[0m \u001b[0melem\u001b[0m \u001b[0;32min\u001b[0m \u001b[0mnonumbers_skills_list\u001b[0m \u001b[0;32mif\u001b[0m \u001b[0;34m(\u001b[0m\u001b[0;34m\"skill\"\u001b[0m\u001b[0;34m,\u001b[0m\u001b[0;34m\"show\"\u001b[0m\u001b[0;34m)\u001b[0m \u001b[0;32mnot\u001b[0m \u001b[0;32min\u001b[0m \u001b[0melem\u001b[0m\u001b[0;34m]\u001b[0m\u001b[0;34m\u001b[0m\u001b[0m\n\u001b[0m",
      "\u001b[0;32m<ipython-input-670-391f77e1fa04>\u001b[0m in \u001b[0;36m<listcomp>\u001b[0;34m(.0)\u001b[0m\n\u001b[0;32m----> 1\u001b[0;31m \u001b[0mclean_skills_list\u001b[0m \u001b[0;34m=\u001b[0m \u001b[0;34m[\u001b[0m\u001b[0melem\u001b[0m \u001b[0;32mfor\u001b[0m \u001b[0melem\u001b[0m \u001b[0;32min\u001b[0m \u001b[0mnonumbers_skills_list\u001b[0m \u001b[0;32mif\u001b[0m \u001b[0;34m(\u001b[0m\u001b[0;34m\"skill\"\u001b[0m\u001b[0;34m,\u001b[0m\u001b[0;34m\"show\"\u001b[0m\u001b[0;34m)\u001b[0m \u001b[0;32mnot\u001b[0m \u001b[0;32min\u001b[0m \u001b[0melem\u001b[0m\u001b[0;34m]\u001b[0m\u001b[0;34m\u001b[0m\u001b[0m\n\u001b[0m",
      "\u001b[0;31mTypeError\u001b[0m: 'in <string>' requires string as left operand, not tuple"
     ]
    }
   ],
   "source": [
    "clean_skills_list = [elem for elem in nonumbers_skills_list if (\"skill\",\"show\") not in elem]"
   ]
  },
  {
   "cell_type": "code",
   "execution_count": 668,
   "metadata": {},
   "outputs": [
    {
     "data": {
      "text/plain": [
       "['project management',\n",
       " 'management',\n",
       " 'software development',\n",
       " 'industry knowledge',\n",
       " 'software project management',\n",
       " 'strategy',\n",
       " 'start-ups',\n",
       " 'web development',\n",
       " 'crm',\n",
       " 'agile methodologies',\n",
       " 'scrum',\n",
       " 'product management',\n",
       " 'analytics',\n",
       " 'it management',\n",
       " 'professional services',\n",
       " 'entrepreneurship',\n",
       " 'business strategy',\n",
       " 'analysis',\n",
       " 'integration',\n",
       " 'strategic planning',\n",
       " 'process improvement',\n",
       " 'data analysis',\n",
       " 'software engineering',\n",
       " 'product development',\n",
       " 'business analysis',\n",
       " 'mobile applications',\n",
       " 'testing',\n",
       " 'cloud computing',\n",
       " 'agile project management',\n",
       " 'business intelligence',\n",
       " 'web applications',\n",
       " 'mobile devices',\n",
       " 'test driven development',\n",
       " 'software design',\n",
       " 'tools & technologies',\n",
       " 'saas',\n",
       " 'sql',\n",
       " 'enterprise software',\n",
       " 'postgresql',\n",
       " 'jquery',\n",
       " 'open source',\n",
       " 'amazon web services (aws)',\n",
       " 'ruby on rails',\n",
       " 'interpersonal skills',\n",
       " 'leadership',\n",
       " 'team leadership',\n",
       " 'team management',\n",
       " 'executive management',\n",
       " 'other skills',\n",
       " 'what is other category?',\n",
       " 'networking',\n",
       " 'coffeescript',\n",
       " 'haml',\n",
       " 'show less',\n",
       " 'show only chris’ featured skills']"
      ]
     },
     "execution_count": 668,
     "metadata": {},
     "output_type": "execute_result"
    }
   ],
   "source": [
    "clean_skills_list"
   ]
  },
  {
   "cell_type": "code",
   "execution_count": null,
   "metadata": {},
   "outputs": [],
   "source": [
    "skills[0].partition"
   ]
  },
  {
   "cell_type": "code",
   "execution_count": 628,
   "metadata": {},
   "outputs": [],
   "source": [
    "profile_data = {'summary': summary, 'experience': experience, 'skills': skills, 'recommendations': recommendations}"
   ]
  },
  {
   "cell_type": "code",
   "execution_count": 629,
   "metadata": {},
   "outputs": [],
   "source": [
    "profile_df = pd.DataFrame(profile_data)"
   ]
  },
  {
   "cell_type": "code",
   "execution_count": 639,
   "metadata": {},
   "outputs": [
    {
     "data": {
      "text/plain": [
       "array(['Skills & Endorsements\\nProject Management\\nSee 47 endorsements for Project Management\\n47\\nEndorsed by Amy B. Doyle and 1 other mutual connection\\nEndorsed by 4 of Chris’ colleagues at E Source\\nManagement\\nSee 42 endorsements for Management\\n42\\nEndorsed by Connor Doyle (mutual connection)\\nEndorsed by 6 of Chris’ colleagues at E Source\\nSoftware Development\\nSee 39 endorsements for Software Development\\n39\\nEndorsed by Oksana Lien, who is highly skilled at this\\nEndorsed by Michelle Hernandez Lane and 3 other mutual connections\\nIndustry Knowledge\\nSoftware Project Management\\nSee 37 endorsements for Software Project Management\\n37\\nStrategy\\nSee 31 endorsements for Strategy\\n31\\nStart-ups\\nSee 23 endorsements for Start-ups\\n23\\nWeb Development\\nSee 18 endorsements for Web Development\\n18\\nCRM\\nSee 16 endorsements for CRM\\n16\\nAgile Methodologies\\nSee 15 endorsements for Agile Methodologies\\n15\\nScrum\\nSee 14 endorsements for Scrum\\n14\\nProduct Management\\nSee 10 endorsements for Product Management\\n10\\nAnalytics\\nSee 10 endorsements for Analytics\\n10\\nIT Management\\nSee 8 endorsements for IT Management\\n8\\nProfessional Services\\nSee 8 endorsements for Professional Services\\n8\\nEntrepreneurship\\nSee 7 endorsements for Entrepreneurship\\n7\\nBusiness Strategy\\nSee 6 endorsements for Business Strategy\\n6\\nAnalysis\\nSee 6 endorsements for Analysis\\n6\\nIntegration\\nSee 5 endorsements for Integration\\n5\\nStrategic Planning\\nSee 5 endorsements for Strategic Planning\\n5\\nProcess Improvement\\nSee 4 endorsements for Process Improvement\\n4\\nData Analysis\\nSee 4 endorsements for Data Analysis\\n4\\nSoftware Engineering\\nSee 3 endorsements for Software Engineering\\n3\\nProduct Development\\nSee 3 endorsements for Product Development\\n3\\nBusiness Analysis\\nSee 3 endorsements for Business Analysis\\n3\\nMobile Applications\\nSee 2 endorsements for Mobile Applications\\n2\\nTesting\\nSee 2 endorsements for Testing\\n2\\nCloud Computing\\nSee 2 endorsements for Cloud Computing\\n2\\nAgile Project Management\\nSee 1 endorsement for Agile Project Management\\n1\\nBusiness Intelligence\\nSee 1 endorsement for Business Intelligence\\n1\\nWeb Applications\\nSee 1 endorsement for Web Applications\\n1\\nMobile Devices\\nSee 1 endorsement for Mobile Devices\\n1\\nTest Driven Development\\nSoftware Design\\nTools & Technologies\\nSaaS\\nSee 9 endorsements for SaaS\\n9\\nSQL\\nSee 7 endorsements for SQL\\n7\\nEnterprise Software\\nSee 5 endorsements for Enterprise Software\\n5\\nPostgreSQL\\nSee 2 endorsements for PostgreSQL\\n2\\njQuery\\nSee 1 endorsement for jQuery\\n1\\nOpen Source\\nSee 1 endorsement for Open Source\\n1\\nAmazon Web Services (AWS)\\nSee 1 endorsement for Amazon Web Services (AWS)\\n1\\nRuby on Rails\\nInterpersonal Skills\\nLeadership\\nSee 20 endorsements for Leadership\\n20\\nTeam Leadership\\nSee 13 endorsements for Team Leadership\\n13\\nTeam Management\\nSee 2 endorsements for Team Management\\n2\\nExecutive Management\\nSee 1 endorsement for Executive Management\\n1\\nOther Skills\\nWhat is Other category?\\nNetworking\\nSee 7 endorsements for Networking\\n7\\nCoffeeScript\\nHAML\\nShow less\\nShow only Chris’ featured skills'],\n",
       "      dtype=object)"
      ]
     },
     "execution_count": 639,
     "metadata": {},
     "output_type": "execute_result"
    }
   ],
   "source": [
    "profile_df.skills.values"
   ]
  },
  {
   "cell_type": "code",
   "execution_count": 414,
   "metadata": {},
   "outputs": [],
   "source": [
    "experience_elements = []"
   ]
  },
  {
   "cell_type": "code",
   "execution_count": null,
   "metadata": {},
   "outputs": [],
   "source": [
    "def get_experience(title_css, body_css):\n",
    "    title = scrape_element(css)\n",
    "    \n",
    "    "
   ]
  },
  {
   "cell_type": "code",
   "execution_count": 415,
   "metadata": {},
   "outputs": [],
   "source": [
    "title_css = '#ember1798'"
   ]
  },
  {
   "cell_type": "code",
   "execution_count": 416,
   "metadata": {},
   "outputs": [],
   "source": [
    "title = scrape_element(title_css)"
   ]
  },
  {
   "cell_type": "code",
   "execution_count": 417,
   "metadata": {},
   "outputs": [
    {
     "data": {
      "text/plain": [
       "['Company Name\\nE Source\\nTotal Duration\\n4 yrs 5 mos']"
      ]
     },
     "execution_count": 417,
     "metadata": {},
     "output_type": "execute_result"
    }
   ],
   "source": [
    "title"
   ]
  },
  {
   "cell_type": "code",
   "execution_count": null,
   "metadata": {},
   "outputs": [],
   "source": []
  },
  {
   "cell_type": "code",
   "execution_count": 421,
   "metadata": {},
   "outputs": [],
   "source": [
    "element_showmore_css = '#ember'"
   ]
  },
  {
   "cell_type": "code",
   "execution_count": 422,
   "metadata": {},
   "outputs": [],
   "source": [
    "click(element_showmore_css)"
   ]
  },
  {
   "cell_type": "code",
   "execution_count": 423,
   "metadata": {},
   "outputs": [],
   "source": [
    "body_css = 'li.pv-entity__position-group-role-item:nth-child(1)'"
   ]
  },
  {
   "cell_type": "code",
   "execution_count": 424,
   "metadata": {},
   "outputs": [],
   "source": [
    "body = scrape_element(body_css)"
   ]
  },
  {
   "cell_type": "code",
   "execution_count": 425,
   "metadata": {},
   "outputs": [
    {
     "data": {
      "text/plain": [
       "['Title\\nChief Operating Officer\\nDates Employed\\nApr 2015 – Oct 2018\\nEmployment Duration\\n3 yrs 7 mos\\nLocation\\nBoulder\\n\\uf0a7 Drove a diverse set of stakeholders across the company to rely more heavily on data analytics, customer feedback, and truly objective metrics to define product creation and delivery.\\n\\uf0a7 Defined and enforced rigid data and process governance to assure accuracy, currency, and value of all data sources.\\n\\uf0a7 Continued to provide leadership and real-time direction to all project work across Software Development, Business Technology, and Facilities.\\n\\uf0a7 Consistently built and nurtured highly successful teams across multiple disciplines.\\n\\uf0a7 Coordinated with all department leaders to build efficient, cross-team efforts around product creation, delivery, and maintenance.\\n\\uf0a7 Led seven disparate teams and coordinated with all other departments.\\n\\uf0a7 Maintained an Agile-focused environment across all company initiatives.\\n\\uf0a7 Placed employee growth, challenge, and success ahead of all other considerations. Our people are our product.\\n\\uf0a7 Remained ever willing to change, adapt, and grow in our engagement, product development, and culture.\\n\\uf0a7 Interacted daily with Finance, Sales, Marketing, Market Research, and Consulting groups in addition to my teams to maintain a consistent direction company-wide.\\n\\uf0a7 Approved and supported budgets for the entire $20 million-dollar operation. This included direct responsibility for seven operational expense budgets totaling nearly $8 million.\\n\\uf0a7 Oversaw the cultural, professional, and collaborative growth of 93 full and part-time employees, ten of them remote.\\nSee less']"
      ]
     },
     "execution_count": 425,
     "metadata": {},
     "output_type": "execute_result"
    }
   ],
   "source": [
    "body"
   ]
  },
  {
   "cell_type": "code",
   "execution_count": null,
   "metadata": {},
   "outputs": [],
   "source": []
  },
  {
   "cell_type": "code",
   "execution_count": 317,
   "metadata": {},
   "outputs": [],
   "source": [
    "linked_in_css = '#nav-settings__dropdown-trigger > div:nth-child(2) > span:nth-child(2)'"
   ]
  },
  {
   "cell_type": "code",
   "execution_count": 318,
   "metadata": {},
   "outputs": [],
   "source": [
    "button = browser.find_element_by_css_selector(linked_in_css)"
   ]
  },
  {
   "cell_type": "code",
   "execution_count": 319,
   "metadata": {},
   "outputs": [],
   "source": [
    "button.click()"
   ]
  },
  {
   "cell_type": "code",
   "execution_count": 320,
   "metadata": {},
   "outputs": [],
   "source": [
    "profile_css = '.nav-settings__linkcard-link'"
   ]
  },
  {
   "cell_type": "code",
   "execution_count": 321,
   "metadata": {},
   "outputs": [],
   "source": [
    "profile_button = browser.find_element_by_css_selector(profile_css)"
   ]
  },
  {
   "cell_type": "code",
   "execution_count": 322,
   "metadata": {},
   "outputs": [],
   "source": [
    "profile_button.click()"
   ]
  },
  {
   "cell_type": "code",
   "execution_count": null,
   "metadata": {},
   "outputs": [],
   "source": [
    "ethan_df = pd.read_csv()"
   ]
  }
 ],
 "metadata": {
  "kernelspec": {
   "display_name": "Python 3",
   "language": "python",
   "name": "python3"
  },
  "language_info": {
   "codemirror_mode": {
    "name": "ipython",
    "version": 3
   },
   "file_extension": ".py",
   "mimetype": "text/x-python",
   "name": "python",
   "nbconvert_exporter": "python",
   "pygments_lexer": "ipython3",
   "version": "3.6.6"
  }
 },
 "nbformat": 4,
 "nbformat_minor": 2
}
