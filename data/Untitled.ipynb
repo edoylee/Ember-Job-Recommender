{
 "cells": [
  {
   "cell_type": "code",
   "execution_count": 12,
   "metadata": {},
   "outputs": [],
   "source": [
    "from selenium.webdriver import Firefox\n",
    "from bs4 import BeautifulSoup\n",
    "import random\n",
    "import time\n",
    "import pandas as pd\n",
    "import numpy as np\n",
    "\n",
    "browser = Firefox()\n",
    "\n",
    "browser.get('https://www.glassdoor.com/index.htm')\n",
    "\n",
    "keyword_search = browser.find_element_by_id('KeywordSearch')\n",
    "\n",
    "keyword_search.click()\n",
    "\n",
    "keyword_search.send_keys('Data Scientist')\n",
    "\n",
    "search_button = browser.find_element_by_id('HeroSearchButton')\n",
    "\n",
    "search_button.click()\n",
    "\n",
    "html = browser.page_source\n",
    "\n",
    "# html"
   ]
  },
  {
   "cell_type": "code",
   "execution_count": null,
   "metadata": {},
   "outputs": [],
   "source": []
  }
 ],
 "metadata": {
  "kernelspec": {
   "display_name": "Python 3",
   "language": "python",
   "name": "python3"
  },
  "language_info": {
   "codemirror_mode": {
    "name": "ipython",
    "version": 3
   },
   "file_extension": ".py",
   "mimetype": "text/x-python",
   "name": "python",
   "nbconvert_exporter": "python",
   "pygments_lexer": "ipython3",
   "version": "3.6.6"
  }
 },
 "nbformat": 4,
 "nbformat_minor": 2
}
